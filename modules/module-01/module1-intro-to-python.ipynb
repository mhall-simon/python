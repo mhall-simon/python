{
 "cells": [
  {
   "cell_type": "markdown",
   "metadata": {},
   "source": [
    "# Module 1: Intro to Python, Summarized\n",
    "\n",
    "Created By: Matthew Hall from http://learningdata.io\n",
    "\n",
    "Each code block is designed to be an independent program for ease of use!\n",
    "\n",
    "---\n",
    "\n",
    "***Disclaimer***\n",
    "\n",
    "> Copyright (c) 2020 Matthew Hall\n",
    "\n",
    "> Permission is hereby granted, free of charge, to any person obtaining a copy of this software and associated documentation files (the \"Software\"), to deal in the Software without restriction, including without limitation the rights to use, copy, modify, merge, publish, distribute, sublicense, and/or sell copies of the Software, and to permit persons to whom the Software is furnished to do so, subject to the following conditions:\n",
    "\n",
    "> The above copyright notice and this permission notice shall be included in all copies or substantial portions of the Software.\n",
    "\n",
    "> THE SOFTWARE IS PROVIDED \"AS IS\", WITHOUT WARRANTY OF ANY KIND, EXPRESS OR IMPLIED, INCLUDING BUT NOT LIMITED TO THE WARRANTIES OF MERCHANTABILITY, FITNESS FOR A PARTICULAR PURPOSE AND NONINFRINGEMENT. IN NO EVENT SHALL THE AUTHORS OR COPYRIGHT HOLDERS BE LIABLE FOR ANY CLAIM, DAMAGES OR OTHER LIABILITY, WHETHER IN AN ACTION OF CONTRACT, TORT OR OTHERWISE, ARISING FROM, OUT OF OR IN CONNECTION WITH THE SOFTWARE OR THE USE OR OTHER DEALINGS IN THE SOFTWARE."
   ]
  },
  {
   "cell_type": "markdown",
   "metadata": {},
   "source": [
    "## 1.3 Core Operators"
   ]
  },
  {
   "cell_type": "markdown",
   "metadata": {},
   "source": [
    "### Python's Mathematical Operators\n",
    "\n",
    "| Operator | Description |\n",
    "| --- | --- |\n",
    "| `+` | Addition |\n",
    "| `-` | Subtraction |\n",
    "| `*` | Multiplication |\n",
    "| `/` | Division |\n",
    "| `**` | Exponentiation |\n",
    "| `//` | Floor / Integer Division |\n",
    "| `%` | Modulo / Remainder Division |\n",
    "\n",
    "### Python's Assignment Operators\n",
    "\n",
    "| Operator | Description | Shortcut For |\n",
    "| --- | --- | --- |\n",
    "| `=` | Assignment | N/A |\n",
    "| `+=` | Addition AND | `a = a + b` |\n",
    "| `-=` | Subtraction AND | `a = a - b` |\n",
    "| `*=` | Multiplication AND | `a = a * b` |\n",
    "| `/=` | Division AND | `a = a / b` |\n",
    "| `**=` | Exponentiation AND | `a = a ** b` |\n",
    "| `//=` | Floor / Integer Division AND | `a = a // b` |\n",
    "| `%=` | Modulo / Remainder Division AND | `a = a % b` |\n"
   ]
  },
  {
   "cell_type": "code",
   "execution_count": 1,
   "metadata": {},
   "outputs": [
    {
     "name": "stdout",
     "output_type": "stream",
     "text": [
      "55\n"
     ]
    }
   ],
   "source": [
    "x = 5\n",
    "y = 10\n",
    "\n",
    "z = x * y\n",
    "z+=5\n",
    "\n",
    "print(z)"
   ]
  },
  {
   "cell_type": "markdown",
   "metadata": {},
   "source": [
    "## 1.4 Output & Print\n",
    "\n",
    "We can get output from python using the `print()` function.\n",
    "\n",
    "Print outputs the current state of a variable if passed in."
   ]
  },
  {
   "cell_type": "code",
   "execution_count": 2,
   "metadata": {},
   "outputs": [
    {
     "name": "stdout",
     "output_type": "stream",
     "text": [
      "125\n",
      "12.5\n"
     ]
    }
   ],
   "source": [
    "a = 5 ** 3\n",
    "print(a)\n",
    "\n",
    "a /= 10\n",
    "print(a)"
   ]
  },
  {
   "cell_type": "markdown",
   "metadata": {},
   "source": [
    "## 1.5 Modules & Packages\n",
    "\n",
    "We can import an entire package using the import statement.\n",
    "\n",
    "In the following example, we use `np` as the shorthand for numpy (standard practice)."
   ]
  },
  {
   "cell_type": "code",
   "execution_count": 3,
   "metadata": {},
   "outputs": [
    {
     "name": "stdout",
     "output_type": "stream",
     "text": [
      "[1 2 3]\n"
     ]
    }
   ],
   "source": [
    "import numpy as np\n",
    "\n",
    "array = np.array([1,2,3])\n",
    "print(array)"
   ]
  }
 ],
 "metadata": {
  "kernelspec": {
   "display_name": "Python 3 (Spyder)",
   "language": "python3",
   "name": "python3"
  },
  "language_info": {
   "codemirror_mode": {
    "name": "ipython",
    "version": 3
   },
   "file_extension": ".py",
   "mimetype": "text/x-python",
   "name": "python",
   "nbconvert_exporter": "python",
   "pygments_lexer": "ipython3",
   "version": "3.8.3"
  }
 },
 "nbformat": 4,
 "nbformat_minor": 4
}
