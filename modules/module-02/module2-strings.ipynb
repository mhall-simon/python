{
 "cells": [
  {
   "cell_type": "markdown",
   "metadata": {},
   "source": [
    "# Module 2.2 Strings, Summarized\n",
    "\n",
    "Created By: Matthew Hall\n",
    "\n",
    "Each code block is designed to be an independent program for ease of use!\n",
    "\n",
    "---\n",
    "\n",
    "***Disclaimer***\n",
    "\n",
    "> Copyright (c) 2020 Matthew Hall\n",
    "\n",
    "> Permission is hereby granted, free of charge, to any person obtaining a copy of this software and associated documentation files (the \"Software\"), to deal in the Software without restriction, including without limitation the rights to use, copy, modify, merge, publish, distribute, sublicense, and/or sell copies of the Software, and to permit persons to whom the Software is furnished to do so, subject to the following conditions:\n",
    "\n",
    "> The above copyright notice and this permission notice shall be included in all copies or substantial portions of the Software.\n",
    "\n",
    "> THE SOFTWARE IS PROVIDED \"AS IS\", WITHOUT WARRANTY OF ANY KIND, EXPRESS OR IMPLIED, INCLUDING BUT NOT LIMITED TO THE WARRANTIES OF MERCHANTABILITY, FITNESS FOR A PARTICULAR PURPOSE AND NONINFRINGEMENT. IN NO EVENT SHALL THE AUTHORS OR COPYRIGHT HOLDERS BE LIABLE FOR ANY CLAIM, DAMAGES OR OTHER LIABILITY, WHETHER IN AN ACTION OF CONTRACT, TORT OR OTHERWISE, ARISING FROM, OUT OF OR IN CONNECTION WITH THE SOFTWARE OR THE USE OR OTHER DEALINGS IN THE SOFTWARE."
   ]
  },
  {
   "cell_type": "markdown",
   "metadata": {},
   "source": [
    "## Part 1: Fundamentals of Strings\n",
    "\n",
    "* Declaring Strings\n",
    "* Printing Out Strings\n",
    "* Addition Operator & Strings\n",
    "* Converting Numerical Data into Strings\n",
    "* Escape Character `\\`\n",
    "* Inserting Variables into Strings Using `.format()`"
   ]
  },
  {
   "cell_type": "markdown",
   "metadata": {},
   "source": [
    "### Declaring Strings\n",
    "\n",
    "Strings can be declared into variables using the standard assignment operator `=`"
   ]
  },
  {
   "cell_type": "code",
   "execution_count": 1,
   "metadata": {},
   "outputs": [],
   "source": [
    "name = \"Matt\"\n",
    "city = \"New York\""
   ]
  },
  {
   "cell_type": "markdown",
   "metadata": {},
   "source": [
    "### Printing Out Strings\n",
    "\n",
    "We use the built in function `print()` to get output from our program!"
   ]
  },
  {
   "cell_type": "code",
   "execution_count": 2,
   "metadata": {},
   "outputs": [
    {
     "name": "stdout",
     "output_type": "stream",
     "text": [
      "My name is Aneli\n"
     ]
    }
   ],
   "source": [
    "intro = 'My name is'\n",
    "name = 'Aneli'\n",
    "\n",
    "print(intro, name)"
   ]
  },
  {
   "cell_type": "markdown",
   "metadata": {},
   "source": [
    "### Addition Operator & Strings\n",
    "\n",
    "We can use the addition operator `+` to concatenate two strings:"
   ]
  },
  {
   "cell_type": "code",
   "execution_count": 3,
   "metadata": {},
   "outputs": [
    {
     "name": "stdout",
     "output_type": "stream",
     "text": [
      "abcdef\n"
     ]
    }
   ],
   "source": [
    "a = \"abc\"\n",
    "b = \"def\"\n",
    "\n",
    "c = a + b\n",
    "print(c)"
   ]
  },
  {
   "cell_type": "markdown",
   "metadata": {},
   "source": [
    "### Converting Numerical Data into Strings\n",
    "\n",
    "We can convert numerical data into strings for better output using `str()` !"
   ]
  },
  {
   "cell_type": "code",
   "execution_count": 4,
   "metadata": {},
   "outputs": [
    {
     "ename": "TypeError",
     "evalue": "can only concatenate str (not \"float\") to str",
     "output_type": "error",
     "traceback": [
      "Traceback \u001b[0;36m(most recent call last)\u001b[0m:\n",
      "\u001b[0;36m  File \u001b[0;32m\"<ipython-input-4-1b7e22786c75>\"\u001b[0;36m, line \u001b[0;32m3\u001b[0;36m, in \u001b[0;35m<module>\u001b[0;36m\u001b[0m\n\u001b[0;31m    print(\"The sample mean is: \" + sample_mean)\u001b[0m\n",
      "\u001b[0;31mTypeError\u001b[0m\u001b[0;31m:\u001b[0m can only concatenate str (not \"float\") to str\n"
     ]
    }
   ],
   "source": [
    "# ### This one errors out, cannot add numerical data and a string together! \n",
    "sample_mean = 3.567\n",
    "print(\"The sample mean is: \" + sample_mean)"
   ]
  },
  {
   "cell_type": "code",
   "execution_count": 5,
   "metadata": {},
   "outputs": [
    {
     "name": "stdout",
     "output_type": "stream",
     "text": [
      "The sample mean is: 3.567\n"
     ]
    }
   ],
   "source": [
    "# ### This one works, converted to string!\n",
    "sample_mean = 3.567\n",
    "print(\"The sample mean is: \" + str(sample_mean))"
   ]
  },
  {
   "cell_type": "markdown",
   "metadata": {},
   "source": [
    "### Escape Character\n",
    "\n",
    "We can include special characters into our code using the escape character `\\` before it."
   ]
  },
  {
   "cell_type": "code",
   "execution_count": 7,
   "metadata": {},
   "outputs": [
    {
     "ename": "SyntaxError",
     "evalue": "invalid syntax (<ipython-input-7-a590c6eed294>, line 2)",
     "output_type": "error",
     "traceback": [
      "\u001b[0;36m  File \u001b[0;32m\"<ipython-input-7-a590c6eed294>\"\u001b[0;36m, line \u001b[0;32m2\u001b[0m\n\u001b[0;31m    escape_example = 'I don't know who that is'\u001b[0m\n\u001b[0m                            ^\u001b[0m\n\u001b[0;31mSyntaxError\u001b[0m\u001b[0;31m:\u001b[0m invalid syntax\n"
     ]
    }
   ],
   "source": [
    "# ### This one errors out, as the quotation marks confuse the string declaration\n",
    "escape_example = 'I don't know who that is'\n",
    "print(escape_example)"
   ]
  },
  {
   "cell_type": "code",
   "execution_count": 8,
   "metadata": {},
   "outputs": [
    {
     "name": "stdout",
     "output_type": "stream",
     "text": [
      "I don't know who that is\n"
     ]
    }
   ],
   "source": [
    "# ### This one works with the escape character!\n",
    "escape_example = 'I don\\'t know who that is'\n",
    "print(escape_example)"
   ]
  },
  {
   "cell_type": "markdown",
   "metadata": {},
   "source": [
    "### Inserting Variables into Strings Easily\n",
    "\n",
    "We can use the `.format()` method of a string to easily input variables. (And we don't need to worry about converting numerical data into strings!"
   ]
  },
  {
   "cell_type": "code",
   "execution_count": 9,
   "metadata": {},
   "outputs": [
    {
     "name": "stdout",
     "output_type": "stream",
     "text": [
      "I am 6 feet 3 inches tall.\n"
     ]
    }
   ],
   "source": [
    "feet = 6\n",
    "inches = 3\n",
    "\n",
    "statement = 'I am {} feet {} inches tall.'\n",
    "\n",
    "print(statement.format(feet, inches))"
   ]
  },
  {
   "cell_type": "markdown",
   "metadata": {},
   "source": [
    "## Part 2: Essential String Methods & Functions\n",
    "\n",
    "**Essential Functions**\n",
    "\n",
    "* `len()`\n",
    "\n",
    "**Essential Methods**\n",
    "\n",
    "* `.find()`\n",
    "* `.replace()`\n",
    "* `.split()`\n",
    "\n",
    "**Formatting Methods**\n",
    "\n",
    "* `.upper()`\n",
    "* `.lower()`\n",
    "* `.title()`\n",
    "\n",
    "These are some the essential string methods to be familiar with, but not all! See Python's documentation for a complete list.\n",
    "\n",
    "Read the docs: https://docs.python.org/3/library/stdtypes.html#string-methods"
   ]
  },
  {
   "cell_type": "markdown",
   "metadata": {},
   "source": [
    "### Calculate Length with `len()`"
   ]
  },
  {
   "cell_type": "code",
   "execution_count": 10,
   "metadata": {},
   "outputs": [
    {
     "name": "stdout",
     "output_type": "stream",
     "text": [
      "24\n"
     ]
    }
   ],
   "source": [
    "statement = \"We are coding in Python!\"\n",
    "print(len(statement))"
   ]
  },
  {
   "cell_type": "markdown",
   "metadata": {},
   "source": [
    "### Find Starting Index of Substring with `.find()`"
   ]
  },
  {
   "cell_type": "code",
   "execution_count": 11,
   "metadata": {},
   "outputs": [
    {
     "name": "stdout",
     "output_type": "stream",
     "text": [
      "8\n"
     ]
    }
   ],
   "source": [
    "quote = \"Can you see me now?\"\n",
    "print(quote.find('see'))"
   ]
  },
  {
   "cell_type": "markdown",
   "metadata": {},
   "source": [
    "### Find and Replace Substrings using `.replace()`\n",
    "\n",
    "This will find and replace all instances of the substring!"
   ]
  },
  {
   "cell_type": "code",
   "execution_count": 12,
   "metadata": {},
   "outputs": [
    {
     "name": "stdout",
     "output_type": "stream",
     "text": [
      "H$w h$t is it $utside?\n"
     ]
    }
   ],
   "source": [
    "sentence = \"How hot is it outside?\"\n",
    "substring_to_find = \"o\"\n",
    "substring_to_replace = \"$\"\n",
    "\n",
    "print(sentence.replace(substring_to_find, substring_to_replace))"
   ]
  },
  {
   "cell_type": "markdown",
   "metadata": {},
   "source": [
    "### Split String Using `.split()`\n",
    "\n",
    "Split returns a list of the individual words, split at the spaces."
   ]
  },
  {
   "cell_type": "code",
   "execution_count": 13,
   "metadata": {},
   "outputs": [
    {
     "name": "stdout",
     "output_type": "stream",
     "text": [
      "['Can', 'you', 'see', 'me', 'now?']\n"
     ]
    }
   ],
   "source": [
    "quote = \"Can you see me now?\"\n",
    "print(quote.split())"
   ]
  },
  {
   "cell_type": "markdown",
   "metadata": {},
   "source": [
    "### Some Formatting Methods for Strings\n",
    "\n",
    "These are easy to show by example:\n",
    "\n",
    "* `.upper()`\n",
    "* `.lower()`\n",
    "* `.title()`"
   ]
  },
  {
   "cell_type": "code",
   "execution_count": 14,
   "metadata": {},
   "outputs": [
    {
     "name": "stdout",
     "output_type": "stream",
     "text": [
      "BREAKING NEWS: STOCKS HIT RECORD HIGHS THIS AFTERNOON!\n",
      "breaking news: stocks hit record highs this afternoon!\n",
      "Breaking News: Stocks Hit Record Highs This Afternoon!\n"
     ]
    }
   ],
   "source": [
    "case_string = \"Breaking news: Stocks hit record Highs this afternoon!\"\n",
    "\n",
    "print(case_string.upper())\n",
    "print(case_string.lower())\n",
    "print(case_string.title())"
   ]
  },
  {
   "cell_type": "markdown",
   "metadata": {},
   "source": [
    "## Yes, There is a lot more to strings! \n",
    "\n",
    "(Especially if you're interesting in natural language processing - NLP)\n",
    "\n",
    "However, this is just to serve as an introduction!"
   ]
  },
  {
   "cell_type": "code",
   "execution_count": null,
   "metadata": {},
   "outputs": [],
   "source": []
  }
 ],
 "metadata": {
  "kernelspec": {
   "display_name": "Python 3 (Spyder)",
   "language": "python3",
   "name": "python3"
  },
  "language_info": {
   "codemirror_mode": {
    "name": "ipython",
    "version": 3
   },
   "file_extension": ".py",
   "mimetype": "text/x-python",
   "name": "python",
   "nbconvert_exporter": "python",
   "pygments_lexer": "ipython3",
   "version": "3.8.3"
  }
 },
 "nbformat": 4,
 "nbformat_minor": 4
}
