{
 "cells": [
  {
   "cell_type": "markdown",
   "metadata": {},
   "source": [
    "# Module 2.8 Dictionaries, Summarized\n",
    "\n",
    "Created By: Matthew Hall\n",
    "\n",
    "Each code block is designed to be an independent program for ease of use!\n",
    "\n",
    "---\n",
    "\n",
    "***Disclaimer***\n",
    "\n",
    "> Copyright (c) 2020 Matthew Hall\n",
    "\n",
    "> Permission is hereby granted, free of charge, to any person obtaining a copy of this software and associated documentation files (the \"Software\"), to deal in the Software without restriction, including without limitation the rights to use, copy, modify, merge, publish, distribute, sublicense, and/or sell copies of the Software, and to permit persons to whom the Software is furnished to do so, subject to the following conditions:\n",
    "\n",
    "> The above copyright notice and this permission notice shall be included in all copies or substantial portions of the Software.\n",
    "\n",
    "> THE SOFTWARE IS PROVIDED \"AS IS\", WITHOUT WARRANTY OF ANY KIND, EXPRESS OR IMPLIED, INCLUDING BUT NOT LIMITED TO THE WARRANTIES OF MERCHANTABILITY, FITNESS FOR A PARTICULAR PURPOSE AND NONINFRINGEMENT. IN NO EVENT SHALL THE AUTHORS OR COPYRIGHT HOLDERS BE LIABLE FOR ANY CLAIM, DAMAGES OR OTHER LIABILITY, WHETHER IN AN ACTION OF CONTRACT, TORT OR OTHERWISE, ARISING FROM, OUT OF OR IN CONNECTION WITH THE SOFTWARE OR THE USE OR OTHER DEALINGS IN THE SOFTWARE."
   ]
  },
  {
   "cell_type": "markdown",
   "metadata": {},
   "source": [
    "## Part 1: Dictionaries Explained\n",
    "\n",
    "In Python, Dictionaries are the built in structure for how we store `key: value` pairs!\n",
    "\n",
    "Key value pairs are a different data structure than tabular data, which we often run into with data science!\n",
    "\n",
    "It's really difficult to represent key-value pairs in tables, so there's specialized databases that store these types of relationships!\n",
    "\n",
    "In Python, these are functionally similar to JSON (JavaScript Object Notation). And in Python, if you request an API call, the result is most likely a dictionary from a JSON response!"
   ]
  },
  {
   "cell_type": "markdown",
   "metadata": {},
   "source": [
    "## Part 2: Declaring Dictionaries"
   ]
  },
  {
   "cell_type": "markdown",
   "metadata": {},
   "source": [
    "### Simple Dictionary Storing Student Names & ID Numbers"
   ]
  },
  {
   "cell_type": "code",
   "execution_count": 3,
   "metadata": {},
   "outputs": [
    {
     "name": "stdout",
     "output_type": "stream",
     "text": [
      "{1: 'Matt', 2: 'Alex', 3: 'Mike', 4: 'Lisa'}\n"
     ]
    }
   ],
   "source": [
    "student_info = {1: \"Matt\", 2: \"Alex\", 3: \"Mike\", 4: \"Lisa\"}\n",
    "\n",
    "print(student_info)"
   ]
  },
  {
   "cell_type": "markdown",
   "metadata": {},
   "source": [
    "### Complex Dictionary Storing Subdictionary of Student Information\n",
    "\n",
    "Notice how each key can have it's own independent data structure!"
   ]
  },
  {
   "cell_type": "code",
   "execution_count": 6,
   "metadata": {},
   "outputs": [
    {
     "name": "stdout",
     "output_type": "stream",
     "text": [
      "{1: {'name': 'Matt', 'age': 23, 'school': 'Simon'}, 2: {'name': 'Alex', 'age': 25, 'school': 'NYU'}, 3: {'name': 'Lisa', 'age': 20, 'school': 'NYU', 'notes': 'Habitually truant.'}, 4: {'name': 'Stacy', 'age': 21, 'school': 'Unknown', 'notes': 'Excellent student!'}}\n"
     ]
    }
   ],
   "source": [
    "complex_info = {1: {\"name\": \"Matt\", \"age\": 23, \"school\": \"Simon\"},\n",
    "               2: {\"name\": \"Alex\", \"age\": 25, \"school\": \"NYU\"},\n",
    "               3: {\"name\": \"Lisa\", \"age\": 20, \"school\": \"NYU\", \"notes\": \"Habitually truant.\"},\n",
    "               4: {\"name\": \"Stacy\", \"age\": 21, \"school\": \"Unknown\", \"notes\": \"Excellent student!\"}}\n",
    "\n",
    "print(complex_info)"
   ]
  },
  {
   "cell_type": "markdown",
   "metadata": {},
   "source": [
    "## Part 3: Accessing Entries of Dictionary by Key\n",
    "\n",
    "Dictionaries are *unindexed* in Python, so we access values through the key! Keys have to be unique."
   ]
  },
  {
   "cell_type": "markdown",
   "metadata": {},
   "source": [
    "### Accessing Entries of Simple Dictionary\n",
    "\n",
    "Entries can be accessed generally by `dictionary[key]`"
   ]
  },
  {
   "cell_type": "code",
   "execution_count": 7,
   "metadata": {},
   "outputs": [
    {
     "name": "stdout",
     "output_type": "stream",
     "text": [
      "Alex\n"
     ]
    }
   ],
   "source": [
    "student_info = {1: \"Matt\", 2: \"Alex\", 3: \"Mike\", 4: \"Lisa\"}\n",
    "\n",
    "print(student_info[2])"
   ]
  },
  {
   "cell_type": "markdown",
   "metadata": {},
   "source": [
    "### Accessing Entries of Complex Dictionary\n",
    "\n",
    "#### Highest Level in Dictionary\n",
    "\n",
    "`dictionary[key]` returns the value associated with the key!"
   ]
  },
  {
   "cell_type": "code",
   "execution_count": 8,
   "metadata": {},
   "outputs": [
    {
     "name": "stdout",
     "output_type": "stream",
     "text": [
      "{'name': 'Stacy', 'age': 21, 'school': 'Unknown', 'notes': 'Excellent student!'}\n"
     ]
    }
   ],
   "source": [
    "complex_info = {1: {\"name\": \"Matt\", \"age\": 23, \"school\": \"Simon\"},\n",
    "               2: {\"name\": \"Alex\", \"age\": 25, \"school\": \"NYU\"},\n",
    "               3: {\"name\": \"Lisa\", \"age\": 20, \"school\": \"NYU\", \"notes\": \"Habitually truant.\"},\n",
    "               4: {\"name\": \"Stacy\", \"age\": 21, \"school\": \"Unknown\", \"notes\": \"Excellent student!\"}}\n",
    "\n",
    "print(complex_info[4])"
   ]
  },
  {
   "cell_type": "markdown",
   "metadata": {},
   "source": [
    "#### Accessing Information Further in Dictionary\n",
    "\n",
    "To get a subset of the information, use the syntax `dictionary[key1][key2]`\n",
    "\n",
    "In the following example, we're grabbing student with `id 4` and the value in the following level of `notes`\n",
    "\n",
    "Remember that `4` is a key, not an index! Our keys can be anything as long as it's unique!"
   ]
  },
  {
   "cell_type": "code",
   "execution_count": 9,
   "metadata": {},
   "outputs": [
    {
     "name": "stdout",
     "output_type": "stream",
     "text": [
      "Excellent student!\n"
     ]
    }
   ],
   "source": [
    "complex_info = {1: {\"name\": \"Matt\", \"age\": 23, \"school\": \"Simon\"},\n",
    "               2: {\"name\": \"Alex\", \"age\": 25, \"school\": \"NYU\"},\n",
    "               3: {\"name\": \"Lisa\", \"age\": 20, \"school\": \"NYU\", \"notes\": \"Habitually truant.\"},\n",
    "               4: {\"name\": \"Stacy\", \"age\": 21, \"school\": \"Unknown\", \"notes\": \"Excellent student!\"}}\n",
    "\n",
    "print(complex_info[4][\"notes\"])"
   ]
  },
  {
   "cell_type": "markdown",
   "metadata": {},
   "source": [
    "## Part 4: Some Essential Dictionary Methods\n",
    "\n",
    "| Method | Description |\n",
    "| --- | --- |\n",
    "| `.keys()` | Returns list of keys |\n",
    "| `.pop()` | Removes entry of key provided |\n",
    "| `.update()` | Updates value of given key |"
   ]
  },
  {
   "cell_type": "markdown",
   "metadata": {},
   "source": [
    "### Fetch Keys in Dictionary Using `.keys()`"
   ]
  },
  {
   "cell_type": "code",
   "execution_count": 11,
   "metadata": {},
   "outputs": [
    {
     "name": "stdout",
     "output_type": "stream",
     "text": [
      "dict_keys([1, 2, 3, 4])\n"
     ]
    }
   ],
   "source": [
    "student_info = {1: \"Matt\", 2: \"Alex\", 3: \"Mike\", 4: \"Lisa\"}\n",
    "\n",
    "print(student_info.keys())"
   ]
  },
  {
   "cell_type": "markdown",
   "metadata": {},
   "source": [
    "### Remove Specified Entry Using `.pop()`\n",
    "\n",
    "Follows general syntax `dictionary.pop(key)`"
   ]
  },
  {
   "cell_type": "code",
   "execution_count": 12,
   "metadata": {},
   "outputs": [
    {
     "name": "stdout",
     "output_type": "stream",
     "text": [
      "{1: 'Matt', 2: 'Alex', 4: 'Lisa'}\n"
     ]
    }
   ],
   "source": [
    "student_info = {1: \"Matt\", 2: \"Alex\", 3: \"Mike\", 4: \"Lisa\"}\n",
    "student_info.pop(3)\n",
    "\n",
    "print(student_info)"
   ]
  },
  {
   "cell_type": "markdown",
   "metadata": {},
   "source": [
    "### Update Value in Key with `.update()`\n",
    "\n",
    "Follows general syntax `dictionary.update({key: value})`"
   ]
  },
  {
   "cell_type": "code",
   "execution_count": 16,
   "metadata": {},
   "outputs": [
    {
     "name": "stdout",
     "output_type": "stream",
     "text": [
      "{1: 'Matt', 2: 'Alexandria', 3: 'Mike', 4: 'Lisa'}\n"
     ]
    }
   ],
   "source": [
    "student_info = {1: \"Matt\", 2: \"Alex\", 3: \"Mike\", 4: \"Lisa\"}\n",
    "student_info.update({2: \"Alexandria\"})\n",
    "\n",
    "print(student_info)"
   ]
  },
  {
   "cell_type": "markdown",
   "metadata": {},
   "source": [
    "### Create New Key-Value Pair with `.update()`\n",
    "\n",
    "Follows general syntax `dictionary.update({key: value})`"
   ]
  },
  {
   "cell_type": "code",
   "execution_count": 15,
   "metadata": {},
   "outputs": [
    {
     "name": "stdout",
     "output_type": "stream",
     "text": [
      "{1: 'Matt', 2: 'Alex', 3: 'Mike', 4: 'Lisa', 5: 'John'}\n"
     ]
    }
   ],
   "source": [
    "student_info = {1: \"Matt\", 2: \"Alex\", 3: \"Mike\", 4: \"Lisa\"}\n",
    "student_info.update({5: \"John\"})\n",
    "\n",
    "print(student_info)"
   ]
  },
  {
   "cell_type": "markdown",
   "metadata": {},
   "source": [
    "## There is a lot more to dictionaries! They are very powerful!\n",
    "\n",
    "However, this is just to serve as an introduction!"
   ]
  }
 ],
 "metadata": {
  "kernelspec": {
   "display_name": "Python 3 (Spyder)",
   "language": "python3",
   "name": "python3"
  },
  "language_info": {
   "codemirror_mode": {
    "name": "ipython",
    "version": 3
   },
   "file_extension": ".py",
   "mimetype": "text/x-python",
   "name": "python",
   "nbconvert_exporter": "python",
   "pygments_lexer": "ipython3",
   "version": "3.8.3"
  }
 },
 "nbformat": 4,
 "nbformat_minor": 4
}
