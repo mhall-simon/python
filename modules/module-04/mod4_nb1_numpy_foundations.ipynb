{
 "cells": [
  {
   "cell_type": "markdown",
   "metadata": {},
   "source": [
    "## Runtime Dependencies: MUST RUN FIRST!"
   ]
  },
  {
   "cell_type": "code",
   "execution_count": 1,
   "metadata": {},
   "outputs": [],
   "source": [
    "import numpy as np\n",
    "import pandas as pd\n",
    "import matplotlib.pyplot as plt\n",
    "import seaborn as sb\n",
    "\n",
    "# ### Bonus: Multiple Outputs Per Cell\n",
    "from IPython.core.interactiveshell import InteractiveShell\n",
    "InteractiveShell.ast_node_interactivity = \"all\""
   ]
  },
  {
   "cell_type": "markdown",
   "metadata": {},
   "source": [
    "# Module 4: NumPy"
   ]
  },
  {
   "cell_type": "markdown",
   "metadata": {},
   "source": [
    "**Importing NumPy:**\n",
    "\n",
    "```python\n",
    "import numpy as np\n",
    "```\n",
    "\n",
    "NumPy is an essential Python library that adds the ability to create arrays in Python, along with many other features.\n",
    "\n",
    "What are arrays?\n",
    "\n",
    "Arrays are a specialized list that stores a homogeneous data type, like float64 or strings, that is compacted into memory—making operations across the array considerably faster.\n",
    "\n",
    "Leveraging arrays over lists can leverage coding speed ups of anywhere from 5 to 100x faster for routine operations!\n",
    "\n",
    "On top of that, NumPy also brings countless matrix and linear algebra operations, and has robust statistical applications too.\n",
    "\n",
    "For reference, NumPy's community guide is over 1800 pages long: https://numpy.org/doc/stable/numpy-ref.pdf\n",
    "\n"
   ]
  },
  {
   "cell_type": "markdown",
   "metadata": {},
   "source": [
    "## Module 4.1: Math Review"
   ]
  },
  {
   "cell_type": "markdown",
   "metadata": {},
   "source": [
    "### Scalars, Vectors, and Matricies"
   ]
  },
  {
   "cell_type": "markdown",
   "metadata": {},
   "source": [
    "There are 3 essential linear algebra concepts to keep consistent:\n",
    "\n",
    "| Type | Scalars | Vectors | Matricies |\n",
    "| --- | --- | --- | --- |\n",
    "| **Description** | Are a single number | 1D Array of Numbers (Horizontal or Vertical) | 1D/2D Array of Numbers |\n",
    "| **Representation** | $$\\begin{matrix} 1 \\end{matrix}$$ | $$\\begin{bmatrix} 1 & 2 & 3 \\end{bmatrix}$$  $$\\begin{bmatrix} 1  \\\\ 2  \\\\ 3 \\end{bmatrix}$$| $$\\begin{bmatrix} 1 & 2 & 1 \\\\ 3 & 0 & 1 \\\\ 0 & 2 & 4 \\end{bmatrix}$$ |\n",
    "\n",
    "Note: All Vectors are Matricies, but not all Matricies are Vectors!"
   ]
  },
  {
   "cell_type": "markdown",
   "metadata": {},
   "source": [
    "### Scalar Multiplication of Matricies"
   ]
  },
  {
   "cell_type": "markdown",
   "metadata": {},
   "source": [
    "If $M = [m_{i,j}]$ is a matrix and *k* is a scalar...\n",
    "\n",
    "$$M*k = kM = [km_{i,j}]$$\n",
    "\n",
    "$$5 * \\begin{bmatrix} 1 & 3 & 2 \\\\ 7 & -2 & 4 \\end{bmatrix} = \\begin{bmatrix} 5*1 & 5*3 & 5*2 \\\\ 5*7 & 5*-2 & 5*4 \\end{bmatrix} = \\begin{bmatrix} 5 & 15 & 10 \\\\ 35 & -10 & 20 \\end{bmatrix}$$"
   ]
  },
  {
   "cell_type": "markdown",
   "metadata": {},
   "source": [
    "### Matrix - Vector Multiplication"
   ]
  },
  {
   "cell_type": "markdown",
   "metadata": {},
   "source": [
    "Let $M = [m_{i,j}]$ be a matrix of dimensions $i * j$ and $v = [v_{j}]$ be a vector of length $j$.\n",
    "\n",
    "Below is an example of how to multiply $M * v$:\n",
    "\n",
    "$$Mv = \\begin{bmatrix} 1 & 4 & 2 \\\\ 3 & 2 & 1 \\end{bmatrix} * \\begin{bmatrix} 2 \\\\ 1 \\\\ 4 \\end{bmatrix} = \\begin{bmatrix} a \\\\ b\\end{bmatrix}$$\n",
    "\n",
    "Let's calculate the first answer $a$:\n",
    "\n",
    "$$Mv = \\begin{bmatrix} \\color{red}{\\text{1}} & \\color{yellow}{\\text{4}} & \\color{orange}{\\text{2}} \\\\ 3 & 2 & 1 \\end{bmatrix} * \\begin{bmatrix} \\color{red}{\\text{2}} \\\\ \\color{yellow}{\\text{1}} \\\\ \\color{orange}{\\text{4}} \\end{bmatrix} = \\begin{bmatrix} \\color{red}{\\text{(1*2)}} +\n",
    "\\color{yellow}{\\text{(4*1)}} +\n",
    "\\color{orange}{\\text{(2*4)}} \\\\ b\\end{bmatrix} = \\begin{bmatrix} 14 \\\\ b\\end{bmatrix}$$\n",
    "\n",
    "And now let's calculate the second answer $b$:\n",
    "\n",
    "$$Mv = \\begin{bmatrix} 1 & 4 & 2 \\\\ \\color{red}{\\text{3}} & \\color{yellow}{\\text{2}} & \\color{orange}{\\text{1}} \\end{bmatrix} * \\begin{bmatrix} \\color{red}{\\text{2}} \\\\ \\color{yellow}{\\text{1}} \\\\ \\color{orange}{\\text{4}} \\end{bmatrix} = \\begin{bmatrix} 14 \\\\ \\color{red}{\\text{(3*2)}} +\n",
    "\\color{yellow}{\\text{(2*1)}} +\n",
    "\\color{orange}{\\text{(1*4)}} \\end{bmatrix} = \\begin{bmatrix} 14 \\\\ 12\\end{bmatrix}$$"
   ]
  },
  {
   "cell_type": "markdown",
   "metadata": {},
   "source": [
    "### Matrix - Matrix Multiplication"
   ]
  },
  {
   "cell_type": "markdown",
   "metadata": {},
   "source": [
    "To multiply matricies together, the inner dimensions must be the same!\n",
    "\n",
    "Let $M_0$ be a matrix with dimensions $i * j$ and $M_1$ be a matrix with dimensions $j * k$. The resulting matrix will have dimensions $i * k$.\n",
    "\n",
    "For example, let's multiply matrix $M_0$ with dimensions $(2 * 3)$ and matrix $M_1$ with dimensions $(3 * 2)$. The resulting matrix will have dimensions $(2 * 2)$.\n",
    "\n",
    "$$M_0M_1 = \\begin{bmatrix} 4&2&6 \\\\ 2 & 1 & 2\\end{bmatrix} * \n",
    "\\begin{bmatrix}\n",
    "4 & 3 \\\\\n",
    "2 & 1 \\\\\n",
    "3 & 5\n",
    "\\end{bmatrix} = \n",
    "\\begin{bmatrix}\n",
    "a & b \\\\\n",
    "c & d\n",
    "\\end{bmatrix}\n",
    "$$\n",
    "\n",
    "Let's calculate the first row for $a$ and $b$:\n",
    "\n",
    "$$M_0M_1 = \\begin{bmatrix} \\color{red}{4} & \\color{yellow}{2} & \\color{orange}{6} \\\\ 2 & 1 & 2\\end{bmatrix} * \n",
    "\\begin{bmatrix}\n",
    "\\color{blue}{4} & \\color{green}{3} \\\\\n",
    "\\color{purple}{2} & \\color{teal}{1} \\\\\n",
    "\\color{gold}{3} & \\color{violet}{5}\n",
    "\\end{bmatrix} =\n",
    "\\begin{bmatrix}\n",
    "\\color{red}{4}\\color{blue}{(4)} + \n",
    "\\color{yellow}{2}\\color{purple}{(2)} +\n",
    "\\color{orange}{6}\\color{gold}{(3)} &\n",
    "\\color{red}{4}\\color{green}{(3)} +\n",
    "\\color{yellow}{2}\\color{teal}{(1)} +\n",
    "\\color{orange}{6}\\color{violet}{(5)} \\\\\n",
    "c & d\n",
    "\\end{bmatrix} =\n",
    "\\begin{bmatrix}\n",
    "38 & 44 \\\\\n",
    "c & d\n",
    "\\end{bmatrix}$$\n",
    "\n",
    "And now calculate the second row for $c$ and $d$:\n",
    "\n",
    "$$M_0M_1 = \\begin{bmatrix} 4&2&6 \\\\ \\color{red}{2} & \\color{yellow}{1} & \\color{orange}{2}\\end{bmatrix} * \n",
    "\\begin{bmatrix}\n",
    "\\color{blue}{4} & \\color{green}{3} \\\\\n",
    "\\color{purple}{2} & \\color{teal}{1} \\\\\n",
    "\\color{gold}{3} & \\color{violet}{5}\n",
    "\\end{bmatrix} =\n",
    "\\begin{bmatrix}\n",
    "38 & 44 \\\\\n",
    "\\color{red}{2}\\color{blue}{(4)} + \n",
    "\\color{yellow}{1}\\color{purple}{(2)} +\n",
    "\\color{orange}{2}\\color{gold}{(3)} &\n",
    "\\color{red}{2}\\color{green}{(3)} +\n",
    "\\color{yellow}{1}\\color{teal}{(1)} +\n",
    "\\color{orange}{2}\\color{violet}{(5)}\n",
    "\\end{bmatrix} =\n",
    "\\begin{bmatrix}\n",
    "38 & 44 \\\\\n",
    "16 & 17\n",
    "\\end{bmatrix}$$"
   ]
  },
  {
   "cell_type": "markdown",
   "metadata": {},
   "source": [
    "## Module 4.2: 1-Dimensional Arrays in NumPy"
   ]
  },
  {
   "cell_type": "markdown",
   "metadata": {},
   "source": [
    "In Python, we have a few options for generating arrays in NumPy:\n",
    "\n",
    "1. From a Python List\n",
    "2. From a CSV file\n",
    "3. Range of Numbers / Integers\n",
    "4. Array of Constants (Ones, Zeros, Etc.)"
   ]
  },
  {
   "cell_type": "markdown",
   "metadata": {},
   "source": [
    "### Generating 1D Array From List"
   ]
  },
  {
   "cell_type": "markdown",
   "metadata": {},
   "source": [
    "Let's say we have the following list:\n",
    "\n",
    "```python\n",
    "lst = [0,1,2,3,4,5,6,7,8,9]\n",
    "```\n",
    "\n",
    "We can generate a 1D array by passing the list into the `np.array()` function!\n",
    "\n",
    "Let's look at the example below, notice how outputs are different!\n",
    "\n",
    "*Note: Common shorthands for list is lst and array, arr."
   ]
  },
  {
   "cell_type": "code",
   "execution_count": 2,
   "metadata": {},
   "outputs": [
    {
     "data": {
      "text/plain": [
       "[0, 1, 2, 3, 4, 5, 6, 7, 8, 9]"
      ]
     },
     "execution_count": 2,
     "metadata": {},
     "output_type": "execute_result"
    },
    {
     "data": {
      "text/plain": [
       "array([0, 1, 2, 3, 4, 5, 6, 7, 8, 9])"
      ]
     },
     "execution_count": 2,
     "metadata": {},
     "output_type": "execute_result"
    }
   ],
   "source": [
    "lst = [0,1,2,3,4,5,6,7,8,9]\n",
    "arr = np.array(lst)\n",
    "\n",
    "lst\n",
    "arr"
   ]
  },
  {
   "cell_type": "markdown",
   "metadata": {},
   "source": [
    "### Fetching Data From Git\n",
    "\n",
    "To fetch data from Git, we just need the raw data link:\n",
    "\n",
    "https://raw.githubusercontent.com/mhall-simon/sdac-training/main/data/arr-1D-test-scores.csv\n",
    "\n",
    "*For some reason, this single column CSV from GitHub isn't being loaded properly. Not certain why. Exact file in Dropbox & AWS loads properly.*"
   ]
  },
  {
   "cell_type": "markdown",
   "metadata": {},
   "source": [
    "### Fetching Data From Dropbox Note\n",
    "\n",
    "When you grab the Dropbox link for a file, it includes the URL argument *dl=0*, which means Download = False!\n",
    "\n",
    "https://www.dropbox.com/s/jlux8ltmhw8qg4b/arr-1D-test-scores.csv?dl=0\n",
    "\n",
    "This link takes us to the Dropbox file preview, and not the file directly. To get around this, just change the dropbox link at the end to have *dl=1*:\n",
    "\n",
    "https://www.dropbox.com/s/jlux8ltmhw8qg4b/arr-1D-test-scores.csv?dl=1"
   ]
  },
  {
   "cell_type": "markdown",
   "metadata": {},
   "source": [
    "### Fetching Data From Working Directory"
   ]
  },
  {
   "cell_type": "markdown",
   "metadata": {},
   "source": [
    "If a file is in our working directory, we just need to have the relative path copied:\n",
    "\n",
    "arr-1D-test-scores.csv\n",
    "\n",
    "If we want to target a specific file on our Computer, you need to specify an absolute path:\n",
    "\n",
    "Mac:\n",
    "/Users/matthall/Documents/Data/arr-1D-test-scores.csv\n",
    "\n",
    "Windows:\n",
    "C:\\Users\\matth\\OneDrive\\Documents\\Data\\arr-1D-test.scores.csv\n",
    "\n",
    "Keep in mind, when sharing a project, linking to an online source is the easiest, followed by relative pathing. Absolute paths won't work on someone else's computer!!"
   ]
  },
  {
   "cell_type": "markdown",
   "metadata": {},
   "source": [
    "### Generating Array From CSV File"
   ]
  },
  {
   "cell_type": "markdown",
   "metadata": {},
   "source": [
    "To use the `np.genfromtxt()` function, we need 3 things:\n",
    "\n",
    "1. The path (location) of the file first\n",
    "2. The delimiter format, usually `,`\n",
    "3. Header rows to skip (it's always recommended to have one header row in your CSV to reduce errors)\n",
    "\n",
    "General Data Science Tip: Always download your data and inspect it in Excel! Don't work blind.\n",
    "\n",
    "We're going to use `skip_header=1` because the file looks like this in Excel:\n",
    "\n",
    "| | **A** |\n",
    "| --- | --- |\n",
    "| **1** | stats_final |\n",
    "| **2** | 90 |\n",
    "| **3** | 50 |\n",
    "| ... | ... |\n",
    "| **51** | 85 |\n",
    "\n",
    "Let's import our first data set!"
   ]
  },
  {
   "cell_type": "code",
   "execution_count": 3,
   "metadata": {},
   "outputs": [
    {
     "data": {
      "text/plain": [
       "array([90., 50., 71., 70., 59., 63., 87., 70., 77., 43., 93., 65., 42.,\n",
       "       79., 62., 64., 66., 60., 73., 67., 56., 42., 96., 73., 73., 74.,\n",
       "       99., 41., 90., 48., 72., 56., 92., 43., 60., 57., 60., 65., 53.,\n",
       "       88., 86., 59., 40., 88., 43., 84., 88., 97., 48., 85.])"
      ]
     },
     "execution_count": 3,
     "metadata": {},
     "output_type": "execute_result"
    }
   ],
   "source": [
    "target_url = \"https://www.dropbox.com/s/jlux8ltmhw8qg4b/arr-1D-test-scores.csv?dl=1\"\n",
    "\n",
    "arr = np.genfromtxt(target_url, delimiter=',', skip_header=1)\n",
    "\n",
    "arr"
   ]
  },
  {
   "cell_type": "markdown",
   "metadata": {},
   "source": [
    "### Generating Array From Range of Numbers"
   ]
  },
  {
   "cell_type": "markdown",
   "metadata": {},
   "source": [
    "\n",
    "We can pass the `range()` function of Python into NumPy to generate an Array!\n",
    "\n",
    "Examples of the range function:\n",
    "\n",
    "`range(100)`: Generates range of integers 0 through 99\n",
    "\n",
    "`range(10,20)` Generates range of integers 10 through 19\n",
    "\n",
    "`range(-10,11,2)` Generates range of integers -10 through 10, with an interval of 2"
   ]
  },
  {
   "cell_type": "code",
   "execution_count": 4,
   "metadata": {},
   "outputs": [
    {
     "data": {
      "text/plain": [
       "array([ 0,  1,  2,  3,  4,  5,  6,  7,  8,  9, 10, 11, 12, 13, 14, 15, 16,\n",
       "       17, 18, 19, 20, 21, 22, 23, 24, 25, 26, 27, 28, 29, 30, 31, 32, 33,\n",
       "       34, 35, 36, 37, 38, 39, 40, 41, 42, 43, 44, 45, 46, 47, 48, 49, 50,\n",
       "       51, 52, 53, 54, 55, 56, 57, 58, 59, 60, 61, 62, 63, 64, 65, 66, 67,\n",
       "       68, 69, 70, 71, 72, 73, 74, 75, 76, 77, 78, 79, 80, 81, 82, 83, 84,\n",
       "       85, 86, 87, 88, 89, 90, 91, 92, 93, 94, 95, 96, 97, 98, 99])"
      ]
     },
     "execution_count": 4,
     "metadata": {},
     "output_type": "execute_result"
    },
    {
     "data": {
      "text/plain": [
       "array([10, 11, 12, 13, 14, 15, 16, 17, 18, 19])"
      ]
     },
     "execution_count": 4,
     "metadata": {},
     "output_type": "execute_result"
    },
    {
     "data": {
      "text/plain": [
       "array([-10,  -8,  -6,  -4,  -2,   0,   2,   4,   6,   8,  10])"
      ]
     },
     "execution_count": 4,
     "metadata": {},
     "output_type": "execute_result"
    }
   ],
   "source": [
    "arr = np.array(range(100))\n",
    "arr\n",
    "\n",
    "arr = np.array(range(10,20))\n",
    "arr\n",
    "\n",
    "arr = np.array(range(-10,11,2))\n",
    "arr"
   ]
  },
  {
   "cell_type": "markdown",
   "metadata": {},
   "source": [
    "### Generating Array Of Zeroes, Ones, Constants"
   ]
  },
  {
   "cell_type": "markdown",
   "metadata": {},
   "source": [
    "Sometimes, we want to generate an array of constant values and not just a range.\n",
    "\n",
    "These can be used as weights or even a placeholder for future data.\n",
    "\n",
    "For constants, I'm using a trick to generate equal weights across an array for length n. This is a sneak peek at broadcasting!"
   ]
  },
  {
   "cell_type": "code",
   "execution_count": 5,
   "metadata": {},
   "outputs": [
    {
     "data": {
      "text/plain": [
       "array([0., 0., 0., 0., 0., 0., 0., 0., 0., 0.])"
      ]
     },
     "execution_count": 5,
     "metadata": {},
     "output_type": "execute_result"
    },
    {
     "data": {
      "text/plain": [
       "array([1., 1., 1., 1., 1., 1., 1., 1., 1., 1.])"
      ]
     },
     "execution_count": 5,
     "metadata": {},
     "output_type": "execute_result"
    },
    {
     "data": {
      "text/plain": [
       "array([0.05, 0.05, 0.05, 0.05, 0.05, 0.05, 0.05, 0.05, 0.05, 0.05, 0.05,\n",
       "       0.05, 0.05, 0.05, 0.05, 0.05, 0.05, 0.05, 0.05, 0.05])"
      ]
     },
     "execution_count": 5,
     "metadata": {},
     "output_type": "execute_result"
    }
   ],
   "source": [
    "arr = np.zeros(10)\n",
    "arr\n",
    "\n",
    "arr = np.ones(10)\n",
    "arr\n",
    "\n",
    "n = 20\n",
    "arr = np.ones(n)/n\n",
    "arr"
   ]
  },
  {
   "cell_type": "markdown",
   "metadata": {},
   "source": [
    "## Module 4.3: 2-Dimensional Arrays in NumPy"
   ]
  },
  {
   "cell_type": "markdown",
   "metadata": {},
   "source": [
    "### Generating 2D Array From Python List"
   ]
  },
  {
   "cell_type": "markdown",
   "metadata": {},
   "source": [
    "A 2D array is essentially a matrix too! Otherwise, it can be a structure for tabular data!\n",
    "\n",
    "Let's generate one from a nested Python list:"
   ]
  },
  {
   "cell_type": "code",
   "execution_count": 6,
   "metadata": {},
   "outputs": [
    {
     "data": {
      "text/plain": [
       "array([[0, 1, 2],\n",
       "       [3, 4, 5],\n",
       "       [6, 7, 8]])"
      ]
     },
     "execution_count": 6,
     "metadata": {},
     "output_type": "execute_result"
    }
   ],
   "source": [
    "lst = [[0,1,2],[3,4,5],[6,7,8]]\n",
    "\n",
    "arr = np.array(lst)\n",
    "arr"
   ]
  },
  {
   "cell_type": "markdown",
   "metadata": {},
   "source": [
    "### Generating 2D Matrix with Range\n",
    "\n",
    "Note: Need to use a range and shape that properly map, and `.reshape()` arguments are a tuple of `(rows,cols)`.\n",
    "\n",
    "$i = m * n$\n",
    "\n",
    "```python\n",
    "np.array(range(i)).reshape((m,n))\n",
    "```"
   ]
  },
  {
   "cell_type": "code",
   "execution_count": 7,
   "metadata": {},
   "outputs": [
    {
     "data": {
      "text/plain": [
       "array([[ 0,  1,  2,  3,  4,  5,  6,  7,  8,  9, 10, 11],\n",
       "       [12, 13, 14, 15, 16, 17, 18, 19, 20, 21, 22, 23],\n",
       "       [24, 25, 26, 27, 28, 29, 30, 31, 32, 33, 34, 35]])"
      ]
     },
     "execution_count": 7,
     "metadata": {},
     "output_type": "execute_result"
    },
    {
     "data": {
      "text/plain": [
       "array([[ 0,  1,  2,  3],\n",
       "       [ 4,  5,  6,  7],\n",
       "       [ 8,  9, 10, 11],\n",
       "       [12, 13, 14, 15]])"
      ]
     },
     "execution_count": 7,
     "metadata": {},
     "output_type": "execute_result"
    }
   ],
   "source": [
    "matrix = np.array(range(36)).reshape((3,12))\n",
    "matrix\n",
    "\n",
    "matrix = np.array(range(16)).reshape((4,4))\n",
    "matrix"
   ]
  },
  {
   "cell_type": "markdown",
   "metadata": {},
   "source": [
    "### Generating 2D Matrix with Constants\n",
    "\n",
    "Similar to above, we just need to reshape with proper dimensions."
   ]
  },
  {
   "cell_type": "code",
   "execution_count": 8,
   "metadata": {},
   "outputs": [
    {
     "data": {
      "text/plain": [
       "array([[0., 0., 0., 0., 0.],\n",
       "       [0., 0., 0., 0., 0.],\n",
       "       [0., 0., 0., 0., 0.],\n",
       "       [0., 0., 0., 0., 0.],\n",
       "       [0., 0., 0., 0., 0.]])"
      ]
     },
     "execution_count": 8,
     "metadata": {},
     "output_type": "execute_result"
    },
    {
     "data": {
      "text/plain": [
       "array([[1., 1., 1., 1., 1., 1.],\n",
       "       [1., 1., 1., 1., 1., 1.],\n",
       "       [1., 1., 1., 1., 1., 1.],\n",
       "       [1., 1., 1., 1., 1., 1.]])"
      ]
     },
     "execution_count": 8,
     "metadata": {},
     "output_type": "execute_result"
    }
   ],
   "source": [
    "matrix = np.zeros(25).reshape((5,5))\n",
    "matrix\n",
    "\n",
    "matrix = np.ones(24).reshape((4,6))\n",
    "matrix"
   ]
  },
  {
   "cell_type": "markdown",
   "metadata": {},
   "source": [
    "### Generating 2D Array from File"
   ]
  },
  {
   "cell_type": "markdown",
   "metadata": {},
   "source": [
    "We can also import a 2D array from a csv file, same as above.\n",
    "\n",
    "To make sense of this array, we need to go to the link: https://github.com/mhall-simon/sdac-training/blob/main/data/arr-2D-test-scores.csv\n",
    "\n",
    "If you're thinking column and row information would be useful, you'd be correct, but that comes with Pandas' DataFrame."
   ]
  },
  {
   "cell_type": "code",
   "execution_count": 9,
   "metadata": {},
   "outputs": [
    {
     "data": {
      "text/plain": [
       "array([[ 8.,  9.,  5., 89., 96.],\n",
       "       [ 7.,  5.,  7., 91., 99.],\n",
       "       [10.,  8.,  4., 77., 87.],\n",
       "       [ 9.,  7.,  5., 80., 66.],\n",
       "       [ 5.,  9.,  8., 88., 90.]])"
      ]
     },
     "execution_count": 9,
     "metadata": {},
     "output_type": "execute_result"
    }
   ],
   "source": [
    "target_url = \"https://raw.githubusercontent.com/mhall-simon/sdac-training/main/data/arr-2D-test-scores.csv\"\n",
    "\n",
    "arr = np.genfromtxt(target_url, delimiter=',', skip_header=1)\n",
    "\n",
    "arr"
   ]
  },
  {
   "cell_type": "markdown",
   "metadata": {},
   "source": [
    "## Module 4.4: Indexing Arrays"
   ]
  },
  {
   "cell_type": "markdown",
   "metadata": {},
   "source": [
    "### Indexing 1D Arrays"
   ]
  },
  {
   "cell_type": "markdown",
   "metadata": {},
   "source": [
    "1D arrays are indexed the same as a Python list!\n",
    "\n",
    "We can access a single point, a range, and use negative indexing too!"
   ]
  },
  {
   "cell_type": "code",
   "execution_count": 10,
   "metadata": {},
   "outputs": [
    {
     "data": {
      "text/plain": [
       "5"
      ]
     },
     "execution_count": 10,
     "metadata": {},
     "output_type": "execute_result"
    },
    {
     "data": {
      "text/plain": [
       "array([2, 3, 4, 5])"
      ]
     },
     "execution_count": 10,
     "metadata": {},
     "output_type": "execute_result"
    },
    {
     "data": {
      "text/plain": [
       "9"
      ]
     },
     "execution_count": 10,
     "metadata": {},
     "output_type": "execute_result"
    }
   ],
   "source": [
    "arr = np.array(range(10))\n",
    "\n",
    "arr[5]\n",
    "\n",
    "arr[2:6]\n",
    "\n",
    "arr[-1]"
   ]
  },
  {
   "cell_type": "markdown",
   "metadata": {},
   "source": [
    "### Indexing 2D Arrays"
   ]
  },
  {
   "cell_type": "markdown",
   "metadata": {},
   "source": [
    "2D arrays are indexed slightly different, as we need to worry about both rows and columns!\n",
    "\n",
    "For a single point, we're going to access it using the syntax `arr[row,col]`, and remember both rows and columns are zero indexed too!\n",
    "\n",
    "For a single row, we're going to access it using the syntax `arr[row,:]`\n",
    "\n",
    "For a single column, we're going to access it using the syntax `arr[:,col]`\n",
    "\n",
    "And we can even slice a matrix / vector subset with `arr[row:row,col:col]`\n",
    "\n",
    "*Note: Remember Python is always zero-indexed and slicing is inclusive-exclusive*"
   ]
  },
  {
   "cell_type": "code",
   "execution_count": 11,
   "metadata": {},
   "outputs": [
    {
     "data": {
      "text/plain": [
       "array([[ 0,  1,  2,  3,  4,  5,  6,  7,  8,  9],\n",
       "       [10, 11, 12, 13, 14, 15, 16, 17, 18, 19],\n",
       "       [20, 21, 22, 23, 24, 25, 26, 27, 28, 29],\n",
       "       [30, 31, 32, 33, 34, 35, 36, 37, 38, 39],\n",
       "       [40, 41, 42, 43, 44, 45, 46, 47, 48, 49],\n",
       "       [50, 51, 52, 53, 54, 55, 56, 57, 58, 59],\n",
       "       [60, 61, 62, 63, 64, 65, 66, 67, 68, 69],\n",
       "       [70, 71, 72, 73, 74, 75, 76, 77, 78, 79],\n",
       "       [80, 81, 82, 83, 84, 85, 86, 87, 88, 89],\n",
       "       [90, 91, 92, 93, 94, 95, 96, 97, 98, 99]])"
      ]
     },
     "execution_count": 11,
     "metadata": {},
     "output_type": "execute_result"
    }
   ],
   "source": [
    "matrix = np.array(range(100)).reshape((10,10))\n",
    "\n",
    "matrix"
   ]
  },
  {
   "cell_type": "code",
   "execution_count": 12,
   "metadata": {},
   "outputs": [
    {
     "data": {
      "text/plain": [
       "34"
      ]
     },
     "execution_count": 12,
     "metadata": {},
     "output_type": "execute_result"
    },
    {
     "data": {
      "text/plain": [
       "array([40, 41, 42, 43, 44, 45, 46, 47, 48, 49])"
      ]
     },
     "execution_count": 12,
     "metadata": {},
     "output_type": "execute_result"
    },
    {
     "data": {
      "text/plain": [
       "array([ 7, 17, 27, 37, 47, 57, 67, 77, 87, 97])"
      ]
     },
     "execution_count": 12,
     "metadata": {},
     "output_type": "execute_result"
    },
    {
     "data": {
      "text/plain": [
       "array([[24, 25, 26, 27, 28],\n",
       "       [34, 35, 36, 37, 38],\n",
       "       [44, 45, 46, 47, 48]])"
      ]
     },
     "execution_count": 12,
     "metadata": {},
     "output_type": "execute_result"
    }
   ],
   "source": [
    "matrix[3,4]\n",
    "\n",
    "matrix[4,:]\n",
    "\n",
    "matrix[:,7]\n",
    "\n",
    "matrix[2:5,4:9]"
   ]
  },
  {
   "cell_type": "markdown",
   "metadata": {},
   "source": [
    "## Module 4.5: Attributes, Methods, & Statistical Moments of Arrays"
   ]
  },
  {
   "cell_type": "markdown",
   "metadata": {},
   "source": [
    "### Useful Array Attributes"
   ]
  },
  {
   "cell_type": "markdown",
   "metadata": {},
   "source": [
    "| Attribute | Description |\n",
    "| :---: | --- |\n",
    "| `.dtype` | Data type of the arrays' elements |\n",
    "| `.size` | Number of elements in the array |\n",
    "| `.shape` | Tuple of array dimensions |\n",
    "| `.ndim` | Number of array dimensions |\n",
    "| `.T` | Transposed array |"
   ]
  },
  {
   "cell_type": "code",
   "execution_count": 13,
   "metadata": {},
   "outputs": [
    {
     "data": {
      "text/plain": [
       "array([[ 0,  1,  2,  3],\n",
       "       [ 4,  5,  6,  7],\n",
       "       [ 8,  9, 10, 11]])"
      ]
     },
     "execution_count": 13,
     "metadata": {},
     "output_type": "execute_result"
    },
    {
     "data": {
      "text/plain": [
       "dtype('int64')"
      ]
     },
     "execution_count": 13,
     "metadata": {},
     "output_type": "execute_result"
    },
    {
     "data": {
      "text/plain": [
       "12"
      ]
     },
     "execution_count": 13,
     "metadata": {},
     "output_type": "execute_result"
    },
    {
     "data": {
      "text/plain": [
       "(3, 4)"
      ]
     },
     "execution_count": 13,
     "metadata": {},
     "output_type": "execute_result"
    },
    {
     "data": {
      "text/plain": [
       "2"
      ]
     },
     "execution_count": 13,
     "metadata": {},
     "output_type": "execute_result"
    },
    {
     "data": {
      "text/plain": [
       "array([[ 0,  4,  8],\n",
       "       [ 1,  5,  9],\n",
       "       [ 2,  6, 10],\n",
       "       [ 3,  7, 11]])"
      ]
     },
     "execution_count": 13,
     "metadata": {},
     "output_type": "execute_result"
    }
   ],
   "source": [
    "arr = np.array(range(12)).reshape((3,4))\n",
    "\n",
    "arr\n",
    "\n",
    "arr.dtype\n",
    "arr.size\n",
    "arr.shape\n",
    "arr.ndim\n",
    "arr.T"
   ]
  },
  {
   "cell_type": "code",
   "execution_count": 14,
   "metadata": {},
   "outputs": [
    {
     "data": {
      "text/plain": [
       "dtype('int64')"
      ]
     },
     "execution_count": 14,
     "metadata": {},
     "output_type": "execute_result"
    },
    {
     "data": {
      "text/plain": [
       "12"
      ]
     },
     "execution_count": 14,
     "metadata": {},
     "output_type": "execute_result"
    },
    {
     "data": {
      "text/plain": [
       "(12,)"
      ]
     },
     "execution_count": 14,
     "metadata": {},
     "output_type": "execute_result"
    },
    {
     "data": {
      "text/plain": [
       "1"
      ]
     },
     "execution_count": 14,
     "metadata": {},
     "output_type": "execute_result"
    }
   ],
   "source": [
    "arr = np.array(range(12))\n",
    "\n",
    "arr.dtype\n",
    "arr.size\n",
    "arr.shape\n",
    "arr.ndim"
   ]
  },
  {
   "cell_type": "markdown",
   "metadata": {},
   "source": [
    "### Useful Array Methods"
   ]
  },
  {
   "cell_type": "markdown",
   "metadata": {},
   "source": [
    "| Method | Description |\n",
    "| :---: | --- |\n",
    "| `.astype()` | Copy of the array, cast to a specified type. |\n",
    "| `.clip()` | Return an array whole values are limited to [min, max] |\n",
    "| `.copy()` | Return copy of array |\n",
    "| `.diagonal()` | Returns specified diagonal of array |\n",
    "| `.round()` | Returns array rounded to precision level |\n",
    "| `.sort()` | Sorts an array in place |\n"
   ]
  },
  {
   "cell_type": "markdown",
   "metadata": {},
   "source": [
    "#### Cast to Data Type & Boundaries"
   ]
  },
  {
   "cell_type": "code",
   "execution_count": 15,
   "metadata": {},
   "outputs": [
    {
     "data": {
      "text/plain": [
       "array([[ 0.,  1.,  2.,  3.,  4.],\n",
       "       [ 5.,  6.,  7.,  8.,  9.],\n",
       "       [10., 11., 12., 13., 14.],\n",
       "       [15., 16., 17., 18., 19.],\n",
       "       [20., 21., 22., 23., 24.]])"
      ]
     },
     "execution_count": 15,
     "metadata": {},
     "output_type": "execute_result"
    },
    {
     "data": {
      "text/plain": [
       "array([[ 5,  5,  5,  5,  5],\n",
       "       [ 5,  6,  7,  8,  9],\n",
       "       [10, 11, 12, 13, 14],\n",
       "       [15, 16, 17, 18, 19],\n",
       "       [20, 20, 20, 20, 20]])"
      ]
     },
     "execution_count": 15,
     "metadata": {},
     "output_type": "execute_result"
    }
   ],
   "source": [
    "# 5 by 5 Matrix\n",
    "arr = np.array(range(25)).reshape((5,5))\n",
    "\n",
    "arr.astype(float)\n",
    "\n",
    "arr.clip(min=5, max=20)"
   ]
  },
  {
   "cell_type": "markdown",
   "metadata": {},
   "source": [
    "#### Copying Array and Modifying Original"
   ]
  },
  {
   "cell_type": "code",
   "execution_count": 16,
   "metadata": {},
   "outputs": [
    {
     "data": {
      "text/plain": [
       "array([0, 0, 0, 0, 0])"
      ]
     },
     "execution_count": 16,
     "metadata": {},
     "output_type": "execute_result"
    },
    {
     "data": {
      "text/plain": [
       "array([0, 1, 2, 3, 4])"
      ]
     },
     "execution_count": 16,
     "metadata": {},
     "output_type": "execute_result"
    }
   ],
   "source": [
    "arr = np.array(range(5))\n",
    "\n",
    "arr2 = arr.copy()\n",
    "\n",
    "arr*=0\n",
    "\n",
    "arr\n",
    "arr2"
   ]
  },
  {
   "cell_type": "markdown",
   "metadata": {},
   "source": [
    "#### Diagonal of Array"
   ]
  },
  {
   "cell_type": "code",
   "execution_count": 17,
   "metadata": {},
   "outputs": [
    {
     "data": {
      "text/plain": [
       "array([[ 0,  1,  2,  3,  4],\n",
       "       [ 5,  6,  7,  8,  9],\n",
       "       [10, 11, 12, 13, 14],\n",
       "       [15, 16, 17, 18, 19],\n",
       "       [20, 21, 22, 23, 24]])"
      ]
     },
     "execution_count": 17,
     "metadata": {},
     "output_type": "execute_result"
    },
    {
     "data": {
      "text/plain": [
       "array([ 0,  6, 12, 18, 24])"
      ]
     },
     "execution_count": 17,
     "metadata": {},
     "output_type": "execute_result"
    }
   ],
   "source": [
    "arr = np.array(range(25)).reshape((5,5))\n",
    "\n",
    "arr\n",
    "arr.diagonal()"
   ]
  },
  {
   "cell_type": "markdown",
   "metadata": {},
   "source": [
    "#### Roudning Array to Precision Level"
   ]
  },
  {
   "cell_type": "code",
   "execution_count": 18,
   "metadata": {},
   "outputs": [
    {
     "data": {
      "text/plain": [
       "array([0.11111111, 0.11111111, 0.11111111, 0.11111111, 0.11111111,\n",
       "       0.11111111, 0.11111111, 0.11111111, 0.11111111, 0.11111111])"
      ]
     },
     "execution_count": 18,
     "metadata": {},
     "output_type": "execute_result"
    },
    {
     "data": {
      "text/plain": [
       "array([0.111, 0.111, 0.111, 0.111, 0.111, 0.111, 0.111, 0.111, 0.111,\n",
       "       0.111])"
      ]
     },
     "execution_count": 18,
     "metadata": {},
     "output_type": "execute_result"
    }
   ],
   "source": [
    "arr = np.ones(10)/9\n",
    "\n",
    "arr\n",
    "arr.round(3)"
   ]
  },
  {
   "cell_type": "markdown",
   "metadata": {},
   "source": [
    "#### Sorting Array"
   ]
  },
  {
   "cell_type": "code",
   "execution_count": 19,
   "metadata": {},
   "outputs": [
    {
     "data": {
      "text/plain": [
       "array([-7, -5, -3, -1,  1,  3,  5,  7])"
      ]
     },
     "execution_count": 19,
     "metadata": {},
     "output_type": "execute_result"
    }
   ],
   "source": [
    "arr = np.array([5,-3,3,7,-5,1,-1,-7])\n",
    "\n",
    "arr.sort()\n",
    "arr"
   ]
  },
  {
   "cell_type": "markdown",
   "metadata": {},
   "source": [
    "### Statistical Moments & Sum/Product of Arrays"
   ]
  },
  {
   "cell_type": "markdown",
   "metadata": {},
   "source": [
    "| Method | Statistical Moment / Description |\n",
    "| :---: | --- |\n",
    "| `.mean()` | Statistical mean of array |\n",
    "| `.var()` | Variance of array |\n",
    "| `.std()` | Standard deviation of array |\n",
    "| `.max()` | Maximum value of array |\n",
    "| `.min()` | Minimum value of array |\n",
    "| `.sum()` | Summation of all elements |\n",
    "| `.prod()` | Product of all elements |\n",
    "| `.cumsum()` | Array transformed into rolling cumulative sum |\n",
    "| `.cumprod()` | Array transformed into rolling cumulative product |\n"
   ]
  },
  {
   "cell_type": "markdown",
   "metadata": {},
   "source": [
    "#### Mean, Variance, Standard Deviation, Min, Max"
   ]
  },
  {
   "cell_type": "code",
   "execution_count": 20,
   "metadata": {},
   "outputs": [
    {
     "data": {
      "text/plain": [
       "-0.010504275299620136"
      ]
     },
     "execution_count": 20,
     "metadata": {},
     "output_type": "execute_result"
    },
    {
     "data": {
      "text/plain": [
       "1.1556168732278334"
      ]
     },
     "execution_count": 20,
     "metadata": {},
     "output_type": "execute_result"
    },
    {
     "data": {
      "text/plain": [
       "1.0749962200993235"
      ]
     },
     "execution_count": 20,
     "metadata": {},
     "output_type": "execute_result"
    },
    {
     "data": {
      "text/plain": [
       "3.160711128215966"
      ]
     },
     "execution_count": 20,
     "metadata": {},
     "output_type": "execute_result"
    },
    {
     "data": {
      "text/plain": [
       "-2.5606066042089015"
      ]
     },
     "execution_count": 20,
     "metadata": {},
     "output_type": "execute_result"
    }
   ],
   "source": [
    "# ### Generates Random Array of Numbers\n",
    "from numpy.random import default_rng\n",
    "rng = default_rng()\n",
    "# ### Covered in Module 4.9 in Depth (Ignore for Now)\n",
    "\n",
    "# This code takes 100 samples from a standard normal distribution, mean = 0, std = 1\n",
    "arr = rng.standard_normal(100)\n",
    "\n",
    "arr.mean()\n",
    "\n",
    "arr.var()\n",
    "arr.std()\n",
    "\n",
    "arr.max()\n",
    "arr.min()"
   ]
  },
  {
   "cell_type": "markdown",
   "metadata": {},
   "source": [
    "#### Sum & Cumulative Sum"
   ]
  },
  {
   "cell_type": "code",
   "execution_count": 21,
   "metadata": {},
   "outputs": [
    {
     "data": {
      "text/plain": [
       "45"
      ]
     },
     "execution_count": 21,
     "metadata": {},
     "output_type": "execute_result"
    },
    {
     "data": {
      "text/plain": [
       "array([ 0,  1,  3,  6, 10, 15, 21, 28, 36, 45])"
      ]
     },
     "execution_count": 21,
     "metadata": {},
     "output_type": "execute_result"
    }
   ],
   "source": [
    "arr = np.array(range(10))\n",
    "\n",
    "arr.sum()\n",
    "\n",
    "arr.cumsum()"
   ]
  },
  {
   "cell_type": "markdown",
   "metadata": {},
   "source": [
    "#### Product & Cumulative Product"
   ]
  },
  {
   "cell_type": "code",
   "execution_count": 22,
   "metadata": {},
   "outputs": [
    {
     "data": {
      "text/plain": [
       "1024.0"
      ]
     },
     "execution_count": 22,
     "metadata": {},
     "output_type": "execute_result"
    },
    {
     "data": {
      "text/plain": [
       "array([   2.,    4.,    8.,   16.,   32.,   64.,  128.,  256.,  512.,\n",
       "       1024.])"
      ]
     },
     "execution_count": 22,
     "metadata": {},
     "output_type": "execute_result"
    }
   ],
   "source": [
    "arr = np.ones(10)*2\n",
    "\n",
    "arr.prod()\n",
    "arr.cumprod()"
   ]
  },
  {
   "cell_type": "markdown",
   "metadata": {},
   "source": [
    "## Module 4.6: Manipulating Arrays: Broadcasting Scalars"
   ]
  },
  {
   "cell_type": "markdown",
   "metadata": {},
   "source": [
    "Earlier, in the Math Review, I provided an example of a scalar - matrix multiplication, where each element was multiplied by the scalar.\n",
    "\n",
    "With NumPy, this is really easy, and we can actually use any operator for broadcasting! (It's not limited to matricies.)\n",
    "\n",
    "It's known as broadcasting because it's a one-to-many operation, just like a radio tower broadcasting music.\n",
    "\n",
    "**Broadcasting is much faster than iterating through a Python list with a for loop or list comprehension.**"
   ]
  },
  {
   "cell_type": "markdown",
   "metadata": {},
   "source": [
    "### Broadcasting Multiplication and Division"
   ]
  },
  {
   "cell_type": "code",
   "execution_count": 23,
   "metadata": {},
   "outputs": [
    {
     "data": {
      "text/plain": [
       "array([[ 0,  2,  4,  6,  8, 10],\n",
       "       [12, 14, 16, 18, 20, 22],\n",
       "       [24, 26, 28, 30, 32, 34],\n",
       "       [36, 38, 40, 42, 44, 46],\n",
       "       [48, 50, 52, 54, 56, 58],\n",
       "       [60, 62, 64, 66, 68, 70]])"
      ]
     },
     "execution_count": 23,
     "metadata": {},
     "output_type": "execute_result"
    },
    {
     "data": {
      "text/plain": [
       "array([[ 0. ,  0.5,  1. ,  1.5,  2. ,  2.5],\n",
       "       [ 3. ,  3.5,  4. ,  4.5,  5. ,  5.5],\n",
       "       [ 6. ,  6.5,  7. ,  7.5,  8. ,  8.5],\n",
       "       [ 9. ,  9.5, 10. , 10.5, 11. , 11.5],\n",
       "       [12. , 12.5, 13. , 13.5, 14. , 14.5],\n",
       "       [15. , 15.5, 16. , 16.5, 17. , 17.5]])"
      ]
     },
     "execution_count": 23,
     "metadata": {},
     "output_type": "execute_result"
    }
   ],
   "source": [
    "arr = np.array(range(36)).reshape((6,6))\n",
    "\n",
    "arr*2\n",
    "\n",
    "arr/2"
   ]
  },
  {
   "cell_type": "markdown",
   "metadata": {},
   "source": [
    "### Broadcasting Addition and Subtraction"
   ]
  },
  {
   "cell_type": "code",
   "execution_count": 24,
   "metadata": {},
   "outputs": [
    {
     "data": {
      "text/plain": [
       "array([[ 5,  6,  7,  8,  9],\n",
       "       [10, 11, 12, 13, 14],\n",
       "       [15, 16, 17, 18, 19],\n",
       "       [20, 21, 22, 23, 24],\n",
       "       [25, 26, 27, 28, 29]])"
      ]
     },
     "execution_count": 24,
     "metadata": {},
     "output_type": "execute_result"
    },
    {
     "data": {
      "text/plain": [
       "array([[-3, -2, -1,  0,  1],\n",
       "       [ 2,  3,  4,  5,  6],\n",
       "       [ 7,  8,  9, 10, 11],\n",
       "       [12, 13, 14, 15, 16],\n",
       "       [17, 18, 19, 20, 21]])"
      ]
     },
     "execution_count": 24,
     "metadata": {},
     "output_type": "execute_result"
    }
   ],
   "source": [
    "arr = np.array(range(25)).reshape((5,5))\n",
    "\n",
    "arr+5\n",
    "\n",
    "arr-3"
   ]
  },
  {
   "cell_type": "markdown",
   "metadata": {},
   "source": [
    "### Broadcasting Exponentiation"
   ]
  },
  {
   "cell_type": "code",
   "execution_count": 25,
   "metadata": {},
   "outputs": [
    {
     "data": {
      "text/plain": [
       "array([[ 0,  1,  4],\n",
       "       [ 9, 16, 25],\n",
       "       [36, 49, 64]])"
      ]
     },
     "execution_count": 25,
     "metadata": {},
     "output_type": "execute_result"
    },
    {
     "data": {
      "text/plain": [
       "array([[0.        , 1.        , 1.41421356],\n",
       "       [1.73205081, 2.        , 2.23606798],\n",
       "       [2.44948974, 2.64575131, 2.82842712]])"
      ]
     },
     "execution_count": 25,
     "metadata": {},
     "output_type": "execute_result"
    }
   ],
   "source": [
    "arr = np.array(range(9)).reshape((3,3))\n",
    "\n",
    "arr**2\n",
    "\n",
    "arr**0.5"
   ]
  },
  {
   "cell_type": "markdown",
   "metadata": {},
   "source": [
    "### Broadcasting Floor & Modulo Division"
   ]
  },
  {
   "cell_type": "code",
   "execution_count": 26,
   "metadata": {},
   "outputs": [
    {
     "data": {
      "text/plain": [
       "array([[0, 0, 0, 1],\n",
       "       [1, 1, 2, 2],\n",
       "       [2, 3, 3, 3],\n",
       "       [4, 4, 4, 5]])"
      ]
     },
     "execution_count": 26,
     "metadata": {},
     "output_type": "execute_result"
    },
    {
     "data": {
      "text/plain": [
       "array([[0, 1, 2, 0],\n",
       "       [1, 2, 0, 1],\n",
       "       [2, 0, 1, 2],\n",
       "       [0, 1, 2, 0]])"
      ]
     },
     "execution_count": 26,
     "metadata": {},
     "output_type": "execute_result"
    }
   ],
   "source": [
    "arr = np.array(range(16)).reshape((4,4))\n",
    "\n",
    "arr//3\n",
    "\n",
    "arr%3"
   ]
  },
  {
   "cell_type": "markdown",
   "metadata": {},
   "source": [
    "## Module 4.7: Manipulating Arrays: Element-Wise Array Operations"
   ]
  },
  {
   "cell_type": "markdown",
   "metadata": {},
   "source": [
    "Above, I showed you how you can manipulate arrays through broadcasting, but you can also do element-wise operations with arrays.\n",
    "\n",
    "These are sometimes different than broadcasting because you can use mathematical operators between arrays of the same shape and size!\n",
    "\n",
    "There's also some really useful NumPy functions to help:\n",
    "\n",
    "| Function | Description |\n",
    "| :---: | --- |\n",
    "| `maximum()` | Calculates element-wise maximum value between array-array or array-scalar |\n",
    "| `minimum()` | Calculates element-wise minimum value between array-array or array-scalar |\n",
    "| `clip()` | Covered above, set's min-max boundaries for an array. Faster than `maximum()` or `minimum()` |\n",
    "| `sq_rt()` | Takes element-wise square root through array |\n",
    "| `exp()` | Takes element-wise exponential function $e^x$ |\n",
    "| `log()` | Takes natural logarithm $\\ln{x}$ element-wise, inverse of `exp()` |\n",
    "\n"
   ]
  },
  {
   "cell_type": "markdown",
   "metadata": {},
   "source": [
    "### Array-Array Operations with Mathematical Operators"
   ]
  },
  {
   "cell_type": "markdown",
   "metadata": {},
   "source": [
    "If you use the built-in python operators (+ - * /), they do element-wise operations on arrays! You saw this in broadcasting, but we can also do this element-wise between two arrays of the same shape.\n",
    "\n",
    "This saves considerable time over using lists, as arrays are compacted into memory and have no references.\n",
    "\n",
    "*Note: This also works with the rest of the operators (** // %)*"
   ]
  },
  {
   "cell_type": "markdown",
   "metadata": {},
   "source": [
    "#### Addition and Subtraction Element-Wise"
   ]
  },
  {
   "cell_type": "code",
   "execution_count": 28,
   "metadata": {},
   "outputs": [
    {
     "data": {
      "text/plain": [
       "array([ 5,  7,  9, 11, 13])"
      ]
     },
     "execution_count": 28,
     "metadata": {},
     "output_type": "execute_result"
    },
    {
     "data": {
      "text/plain": [
       "array([5, 5, 5, 5, 5])"
      ]
     },
     "execution_count": 28,
     "metadata": {},
     "output_type": "execute_result"
    }
   ],
   "source": [
    "arr = np.array(range(5,10))\n",
    "arr2 = np.array(range(0,5))\n",
    "\n",
    "arr+arr2\n",
    "\n",
    "arr-arr2"
   ]
  },
  {
   "cell_type": "markdown",
   "metadata": {},
   "source": [
    "#### Multiplication and Division Element-Wise"
   ]
  },
  {
   "cell_type": "code",
   "execution_count": 31,
   "metadata": {},
   "outputs": [
    {
     "data": {
      "text/plain": [
       "array([[  0,   2,   6,  12,  20],\n",
       "       [ 30,  42,  56,  72,  90],\n",
       "       [110, 132, 156, 182, 210],\n",
       "       [240, 272, 306, 342, 380],\n",
       "       [420, 462, 506, 552, 600]])"
      ]
     },
     "execution_count": 31,
     "metadata": {},
     "output_type": "execute_result"
    },
    {
     "data": {
      "text/plain": [
       "array([[0.        , 0.5       , 0.66666667, 0.75      , 0.8       ],\n",
       "       [0.83333333, 0.85714286, 0.875     , 0.88888889, 0.9       ],\n",
       "       [0.90909091, 0.91666667, 0.92307692, 0.92857143, 0.93333333],\n",
       "       [0.9375    , 0.94117647, 0.94444444, 0.94736842, 0.95      ],\n",
       "       [0.95238095, 0.95454545, 0.95652174, 0.95833333, 0.96      ]])"
      ]
     },
     "execution_count": 31,
     "metadata": {},
     "output_type": "execute_result"
    }
   ],
   "source": [
    "arr = np.array(range(25)).reshape((5,5))\n",
    "arr2 = np.array(range(1,26)).reshape((5,5))\n",
    "\n",
    "arr*arr2\n",
    "\n",
    "arr/arr2"
   ]
  },
  {
   "cell_type": "markdown",
   "metadata": {},
   "source": [
    "### Application Time: Test Scores CSV"
   ]
  },
  {
   "cell_type": "markdown",
   "metadata": {},
   "source": [
    "Using what we know above, I'm going to walk you through calculating a student's final grade based upon weights and a grading scale. We're going to use the same CSV as earlier.\n",
    "\n",
    "As a note, the columns are: HW1, HW2, HW3, Midterm, Final\n",
    "\n",
    "Homeworks are out of 10, and the exams are out of 100.\n",
    "\n",
    "Each homework is worth 10% of final grade, midterm 30% and final 40%!\n",
    "\n",
    "To make math easy, you can make the max score achievable 100 points.\n",
    "\n",
    "Calculate each students final grade in the following function:"
   ]
  },
  {
   "cell_type": "code",
   "execution_count": 42,
   "metadata": {},
   "outputs": [
    {
     "data": {
      "text/plain": [
       "array([[ 8.,  9.,  5., 89., 96.],\n",
       "       [ 7.,  5.,  7., 91., 99.],\n",
       "       [10.,  8.,  4., 77., 87.],\n",
       "       [ 9.,  7.,  5., 80., 66.],\n",
       "       [ 5.,  9.,  8., 88., 90.]])"
      ]
     },
     "execution_count": 42,
     "metadata": {},
     "output_type": "execute_result"
    },
    {
     "data": {
      "text/plain": [
       "array([87.1, 85.9, 79.9, 71.4, 84.4])"
      ]
     },
     "execution_count": 42,
     "metadata": {},
     "output_type": "execute_result"
    }
   ],
   "source": [
    "target_url = \"https://raw.githubusercontent.com/mhall-simon/sdac-training/main/data/arr-2D-test-scores.csv\"\n",
    "\n",
    "arr = np.genfromtxt(target_url, delimiter=',', skip_header=1)\n",
    "\n",
    "def final_grade(arr):\n",
    "    arr[:,3]/=100\n",
    "    arr[:,4]/=100\n",
    "    arr[:,3]*=30\n",
    "    arr[:,4]*=40\n",
    "    return arr.sum(axis=1)\n",
    "\n",
    "arr\n",
    "\n",
    "arr = final_grade(arr)\n",
    "arr"
   ]
  },
  {
   "cell_type": "markdown",
   "metadata": {},
   "source": [
    "## Module 4.8: Manipulating Arrays: Matrix & Vector Mathematics"
   ]
  },
  {
   "cell_type": "markdown",
   "metadata": {},
   "source": [
    "1. numpy.dot()\n",
    "2. numpy.matmul()\n",
    "3. @ operator\n",
    "4. "
   ]
  },
  {
   "cell_type": "markdown",
   "metadata": {},
   "source": [
    "## Module 4.9: Random Number Generation (RNG)"
   ]
  },
  {
   "cell_type": "markdown",
   "metadata": {},
   "source": [
    "When programming, we sometimes need to sample random numbers from a distribution. It's very common in Markov Chains and Monte Carlo simulations, and sometimes we need samples to check the edges of a distribution.\n",
    "\n",
    "Thankfully, NumPy makes this very easy with the built in RNG. (You saw this earlier too!)\n",
    "\n",
    "If you check out the docs, you'll see that you can sample from over 30 different distributions!"
   ]
  },
  {
   "cell_type": "markdown",
   "metadata": {},
   "source": [
    "### Step 1: Import RNG & Create RNG Object"
   ]
  },
  {
   "cell_type": "code",
   "execution_count": 43,
   "metadata": {},
   "outputs": [],
   "source": [
    "from numpy.random import default_rng\n",
    "rng = default_rng()"
   ]
  },
  {
   "cell_type": "markdown",
   "metadata": {},
   "source": [
    "### Step 2: Generate Your Samples (Standard Normal Example)"
   ]
  },
  {
   "cell_type": "markdown",
   "metadata": {},
   "source": [
    "The code below is going to draw 100 samples from a standard normal distribution!"
   ]
  },
  {
   "cell_type": "code",
   "execution_count": 45,
   "metadata": {},
   "outputs": [
    {
     "data": {
      "text/plain": [
       "array([-0.36966815, -0.64150371, -0.19127587,  0.87528453, -0.32133509,\n",
       "       -0.96800824, -0.17910388, -0.41626161,  0.50721487, -0.98142445,\n",
       "       -1.47155296,  1.47163439, -0.44797422, -0.82641766, -2.5641953 ,\n",
       "        0.75563002, -0.75029752, -0.42743011, -0.82542057, -0.386396  ,\n",
       "        1.08949598,  0.26505185, -0.1696318 ,  0.20074065, -1.14404807])"
      ]
     },
     "execution_count": 45,
     "metadata": {},
     "output_type": "execute_result"
    }
   ],
   "source": [
    "arr = rng.standard_normal(25)\n",
    "arr"
   ]
  }
 ],
 "metadata": {
  "kernelspec": {
   "display_name": "Python 3 (Spyder)",
   "language": "python3",
   "name": "python3"
  },
  "language_info": {
   "codemirror_mode": {
    "name": "ipython",
    "version": 3
   },
   "file_extension": ".py",
   "mimetype": "text/x-python",
   "name": "python",
   "nbconvert_exporter": "python",
   "pygments_lexer": "ipython3",
   "version": "3.8.3"
  }
 },
 "nbformat": 4,
 "nbformat_minor": 4
}
