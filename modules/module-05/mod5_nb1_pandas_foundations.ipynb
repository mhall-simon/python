{
 "cells": [
  {
   "cell_type": "markdown",
   "metadata": {},
   "source": [
    "# Runtime Dependencies: Must Run First!"
   ]
  },
  {
   "cell_type": "code",
   "execution_count": 1,
   "metadata": {},
   "outputs": [],
   "source": [
    "import numpy as np\n",
    "import pandas as pd\n",
    "\n",
    "# ### Bonus: Multiple Outputs Per Cell\n",
    "from IPython.core.interactiveshell import InteractiveShell\n",
    "InteractiveShell.ast_node_interactivity = \"all\""
   ]
  },
  {
   "cell_type": "markdown",
   "metadata": {},
   "source": [
    "# Module 5: Pandas"
   ]
  },
  {
   "cell_type": "markdown",
   "metadata": {},
   "source": [
    "**Importing Pandas:**\n",
    "\n",
    "```python\n",
    "import pandas as pd\n",
    "```\n",
    "\n",
    "Pandas is an essential data science package for Python that brings DataFrame functionality into Python. DataFrames are built upon NumPy arrays, and allow us to set custom indicies, add column and row labels, and bring SQL-like and Excel-like operations possible."
   ]
  },
  {
   "cell_type": "markdown",
   "metadata": {},
   "source": [
    "## Module 5.1: Series & DataFrames"
   ]
  },
  {
   "cell_type": "markdown",
   "metadata": {},
   "source": [
    "### Series\n",
    "\n",
    "Let's start with a Series. A series is essentially a NumPy array underneath, with some added features. Let's go through some of them!"
   ]
  },
  {
   "cell_type": "code",
   "execution_count": 5,
   "metadata": {},
   "outputs": [
    {
     "data": {
      "text/plain": [
       "array([50, 52, 54, 56, 58, 60, 62, 64, 66, 68, 70])"
      ]
     },
     "execution_count": 5,
     "metadata": {},
     "output_type": "execute_result"
    },
    {
     "data": {
      "text/plain": [
       "0     50\n",
       "1     52\n",
       "2     54\n",
       "3     56\n",
       "4     58\n",
       "5     60\n",
       "6     62\n",
       "7     64\n",
       "8     66\n",
       "9     68\n",
       "10    70\n",
       "dtype: int64"
      ]
     },
     "execution_count": 5,
     "metadata": {},
     "output_type": "execute_result"
    }
   ],
   "source": [
    "arr = np.array(range(50,71,2))\n",
    "arr\n",
    "\n",
    "ser = pd.Series(arr)\n",
    "ser"
   ]
  },
  {
   "cell_type": "markdown",
   "metadata": {},
   "source": [
    "As you can see, this looks a bit different than the array output. We now have data being formatted vertically in a table with the index on the right hand side.\n",
    "\n",
    "By default, Pandas will assign a zero-indexed index if none is supplied. However, we can start changing some of these properties quickly.\n",
    "\n",
    "Essential keyword arguments upon creation:\n",
    "\n",
    "1) data\n",
    "\n",
    "2) index\n",
    "\n",
    "4) name\n",
    "\n",
    "We've already used the data keyword to tell Python what data needs to be imported, and now we're going to add the name property. This is essentially a label for the data. These will come back in DataFrames as column names."
   ]
  },
  {
   "cell_type": "code",
   "execution_count": 6,
   "metadata": {},
   "outputs": [
    {
     "data": {
      "text/plain": [
       "0      Apples\n",
       "1     Bananas\n",
       "2      Grapes\n",
       "3      Mangos\n",
       "4    Avocados\n",
       "Name: Produce, dtype: object"
      ]
     },
     "execution_count": 6,
     "metadata": {},
     "output_type": "execute_result"
    }
   ],
   "source": [
    "lst = [\"Apples\",\"Bananas\",\"Grapes\",\"Mangos\",\"Avocados\"]\n",
    "\n",
    "ser = pd.Series(lst, name=\"Produce\")\n",
    "ser"
   ]
  },
  {
   "cell_type": "markdown",
   "metadata": {},
   "source": [
    "And we can even set a custom index if we don't want to use the one automatically generated!\n",
    "\n",
    "Let's say we have a small list of employees with their ID number and name. It would make sense to have the ID # be the index!"
   ]
  },
  {
   "cell_type": "code",
   "execution_count": 10,
   "metadata": {},
   "outputs": [
    {
     "data": {
      "text/plain": [
       "array([['399171', 'Matt'],\n",
       "       ['168852', 'Aneli'],\n",
       "       ['924754', 'Ryan'],\n",
       "       ['401356', 'Dan'],\n",
       "       ['324956', 'Lexi'],\n",
       "       ['147378', 'Chris'],\n",
       "       ['428043', 'Alex'],\n",
       "       ['605116', 'John'],\n",
       "       ['527494', 'Jasmine']], dtype='<U7')"
      ]
     },
     "execution_count": 10,
     "metadata": {},
     "output_type": "execute_result"
    }
   ],
   "source": [
    "loc = \"https://raw.githubusercontent.com/mhall-simon/python/main/data/misc/arr-ID-and-names.csv\"\n",
    "arr = np.genfromtxt(loc, dtype=str, delimiter=',', skip_header=1)\n",
    "arr"
   ]
  },
  {
   "cell_type": "markdown",
   "metadata": {},
   "source": [
    "Now, let's create the series with the custom index and employee names:"
   ]
  },
  {
   "cell_type": "code",
   "execution_count": 11,
   "metadata": {},
   "outputs": [
    {
     "data": {
      "text/plain": [
       "399171       Matt\n",
       "168852      Aneli\n",
       "924754       Ryan\n",
       "401356        Dan\n",
       "324956       Lexi\n",
       "147378      Chris\n",
       "428043       Alex\n",
       "605116       John\n",
       "527494    Jasmine\n",
       "Name: Employees by ID, dtype: object"
      ]
     },
     "execution_count": 11,
     "metadata": {},
     "output_type": "execute_result"
    }
   ],
   "source": [
    "ser = pd.Series(arr[:,1], index=arr[:,0], name=\"Employees by ID\")\n",
    "ser"
   ]
  },
  {
   "cell_type": "markdown",
   "metadata": {},
   "source": [
    "### DataFrame\n",
    "\n",
    "Right now, we can create an indexed series (with one columnn of data and an index), but sometimes we have complex datasets that can't fit in a single column.\n",
    "\n",
    "This is where the DataFrame comes in handy. We can now store and process more complex data!\n",
    "\n",
    "Let's start with a really simple inventory example:"
   ]
  },
  {
   "cell_type": "code",
   "execution_count": 14,
   "metadata": {},
   "outputs": [
    {
     "data": {
      "text/html": [
       "<div>\n",
       "<style scoped>\n",
       "    .dataframe tbody tr th:only-of-type {\n",
       "        vertical-align: middle;\n",
       "    }\n",
       "\n",
       "    .dataframe tbody tr th {\n",
       "        vertical-align: top;\n",
       "    }\n",
       "\n",
       "    .dataframe thead th {\n",
       "        text-align: right;\n",
       "    }\n",
       "</style>\n",
       "<table border=\"1\" class=\"dataframe\">\n",
       "  <thead>\n",
       "    <tr style=\"text-align: right;\">\n",
       "      <th></th>\n",
       "      <th>partNum</th>\n",
       "      <th>Quantity</th>\n",
       "      <th>Price</th>\n",
       "      <th>Cost</th>\n",
       "    </tr>\n",
       "  </thead>\n",
       "  <tbody>\n",
       "    <tr>\n",
       "      <th>0</th>\n",
       "      <td>104</td>\n",
       "      <td>415</td>\n",
       "      <td>1.24</td>\n",
       "      <td>0.78</td>\n",
       "    </tr>\n",
       "    <tr>\n",
       "      <th>1</th>\n",
       "      <td>105</td>\n",
       "      <td>346</td>\n",
       "      <td>2.15</td>\n",
       "      <td>1.56</td>\n",
       "    </tr>\n",
       "    <tr>\n",
       "      <th>2</th>\n",
       "      <td>106</td>\n",
       "      <td>98</td>\n",
       "      <td>5.98</td>\n",
       "      <td>3.12</td>\n",
       "    </tr>\n",
       "  </tbody>\n",
       "</table>\n",
       "</div>"
      ],
      "text/plain": [
       "   partNum  Quantity  Price  Cost\n",
       "0      104       415   1.24  0.78\n",
       "1      105       346   2.15  1.56\n",
       "2      106        98   5.98  3.12"
      ]
     },
     "execution_count": 14,
     "metadata": {},
     "output_type": "execute_result"
    }
   ],
   "source": [
    "dct = {'partNum': [104,105,106], 'Quantity': [415,346,98], 'Price': [1.24, 2.15, 5.98], 'Cost': [0.78,1.56,3.12]}\n",
    "\n",
    "df = pd.DataFrame(dct)\n",
    "df"
   ]
  },
  {
   "cell_type": "markdown",
   "metadata": {},
   "source": [
    "Now, when we visualize the data structure you can see the column labels! Since no index was created, Pandas will automatically assign one!\n",
    "\n",
    "In section 3, I'm going to cover how to generate DataFrames from various sources."
   ]
  },
  {
   "cell_type": "markdown",
   "metadata": {},
   "source": [
    "### Some DataFrame Attributes"
   ]
  },
  {
   "cell_type": "markdown",
   "metadata": {},
   "source": [
    "*Pulled From Documentation or Summarized Desc*\n",
    "\n",
    "| Attribute | Description |\n",
    "| :---: | --- |\n",
    "| `.index` | The Index (row labels) of the DataFrame |\n",
    "| `.columns` | The column labels of the DataFrame |\n",
    "| `.shape` | Dimensions of DataFrame |"
   ]
  },
  {
   "cell_type": "code",
   "execution_count": 19,
   "metadata": {},
   "outputs": [
    {
     "data": {
      "text/plain": [
       "RangeIndex(start=0, stop=3, step=1)"
      ]
     },
     "execution_count": 19,
     "metadata": {},
     "output_type": "execute_result"
    },
    {
     "data": {
      "text/plain": [
       "Index(['partNum', 'Quantity', 'Price', 'Cost'], dtype='object')"
      ]
     },
     "execution_count": 19,
     "metadata": {},
     "output_type": "execute_result"
    },
    {
     "data": {
      "text/plain": [
       "(3, 4)"
      ]
     },
     "execution_count": 19,
     "metadata": {},
     "output_type": "execute_result"
    }
   ],
   "source": [
    "df.index\n",
    "df.columns\n",
    "df.shape"
   ]
  },
  {
   "cell_type": "markdown",
   "metadata": {},
   "source": [
    "### Some DataFrame Methods\n",
    "\n",
    "*Pulled From Documentation or Summarized Desc*\n",
    "\n",
    "| Method | Description |\n",
    "| :---: | --- |\n",
    "| `.info()` | Prints out info for DataFrame |\n",
    "| `.describe()` | Prints out summary statistics |\n",
    "| `.head()` | Print out top n rows of DataFrame, default to 5 |\n",
    "| `.tail()` | Print out last n rows of DataFrame, default to 5 |\n",
    "\n",
    "Just keep in mind that sometimes a summary statistic for a column doesn't make sense!"
   ]
  },
  {
   "cell_type": "code",
   "execution_count": 20,
   "metadata": {},
   "outputs": [
    {
     "name": "stdout",
     "output_type": "stream",
     "text": [
      "<class 'pandas.core.frame.DataFrame'>\n",
      "RangeIndex: 3 entries, 0 to 2\n",
      "Data columns (total 4 columns):\n",
      " #   Column    Non-Null Count  Dtype  \n",
      "---  ------    --------------  -----  \n",
      " 0   partNum   3 non-null      int64  \n",
      " 1   Quantity  3 non-null      int64  \n",
      " 2   Price     3 non-null      float64\n",
      " 3   Cost      3 non-null      float64\n",
      "dtypes: float64(2), int64(2)\n",
      "memory usage: 224.0 bytes\n"
     ]
    }
   ],
   "source": [
    "df.info()"
   ]
  },
  {
   "cell_type": "code",
   "execution_count": 23,
   "metadata": {},
   "outputs": [
    {
     "data": {
      "text/html": [
       "<div>\n",
       "<style scoped>\n",
       "    .dataframe tbody tr th:only-of-type {\n",
       "        vertical-align: middle;\n",
       "    }\n",
       "\n",
       "    .dataframe tbody tr th {\n",
       "        vertical-align: top;\n",
       "    }\n",
       "\n",
       "    .dataframe thead th {\n",
       "        text-align: right;\n",
       "    }\n",
       "</style>\n",
       "<table border=\"1\" class=\"dataframe\">\n",
       "  <thead>\n",
       "    <tr style=\"text-align: right;\">\n",
       "      <th></th>\n",
       "      <th>partNum</th>\n",
       "      <th>Quantity</th>\n",
       "      <th>Price</th>\n",
       "      <th>Cost</th>\n",
       "    </tr>\n",
       "  </thead>\n",
       "  <tbody>\n",
       "    <tr>\n",
       "      <th>count</th>\n",
       "      <td>3.0</td>\n",
       "      <td>3.000000</td>\n",
       "      <td>3.000000</td>\n",
       "      <td>3.00000</td>\n",
       "    </tr>\n",
       "    <tr>\n",
       "      <th>mean</th>\n",
       "      <td>105.0</td>\n",
       "      <td>286.333333</td>\n",
       "      <td>3.123333</td>\n",
       "      <td>1.82000</td>\n",
       "    </tr>\n",
       "    <tr>\n",
       "      <th>std</th>\n",
       "      <td>1.0</td>\n",
       "      <td>166.710328</td>\n",
       "      <td>2.515439</td>\n",
       "      <td>1.19147</td>\n",
       "    </tr>\n",
       "    <tr>\n",
       "      <th>min</th>\n",
       "      <td>104.0</td>\n",
       "      <td>98.000000</td>\n",
       "      <td>1.240000</td>\n",
       "      <td>0.78000</td>\n",
       "    </tr>\n",
       "    <tr>\n",
       "      <th>25%</th>\n",
       "      <td>104.5</td>\n",
       "      <td>222.000000</td>\n",
       "      <td>1.695000</td>\n",
       "      <td>1.17000</td>\n",
       "    </tr>\n",
       "    <tr>\n",
       "      <th>50%</th>\n",
       "      <td>105.0</td>\n",
       "      <td>346.000000</td>\n",
       "      <td>2.150000</td>\n",
       "      <td>1.56000</td>\n",
       "    </tr>\n",
       "    <tr>\n",
       "      <th>75%</th>\n",
       "      <td>105.5</td>\n",
       "      <td>380.500000</td>\n",
       "      <td>4.065000</td>\n",
       "      <td>2.34000</td>\n",
       "    </tr>\n",
       "    <tr>\n",
       "      <th>max</th>\n",
       "      <td>106.0</td>\n",
       "      <td>415.000000</td>\n",
       "      <td>5.980000</td>\n",
       "      <td>3.12000</td>\n",
       "    </tr>\n",
       "  </tbody>\n",
       "</table>\n",
       "</div>"
      ],
      "text/plain": [
       "       partNum    Quantity     Price     Cost\n",
       "count      3.0    3.000000  3.000000  3.00000\n",
       "mean     105.0  286.333333  3.123333  1.82000\n",
       "std        1.0  166.710328  2.515439  1.19147\n",
       "min      104.0   98.000000  1.240000  0.78000\n",
       "25%      104.5  222.000000  1.695000  1.17000\n",
       "50%      105.0  346.000000  2.150000  1.56000\n",
       "75%      105.5  380.500000  4.065000  2.34000\n",
       "max      106.0  415.000000  5.980000  3.12000"
      ]
     },
     "execution_count": 23,
     "metadata": {},
     "output_type": "execute_result"
    }
   ],
   "source": [
    "df.describe()"
   ]
  },
  {
   "cell_type": "markdown",
   "metadata": {},
   "source": [
    "## Module 5.2: Indexing DataFrames"
   ]
  },
  {
   "cell_type": "markdown",
   "metadata": {},
   "source": [
    "In Pandas, there's 3 main methods for indexing a DataFrame.\n",
    "\n",
    "The first one allows us to easily subset a column (or more) from our DataFrame.\n",
    "\n",
    "To start, I'm going to import a data set about COVID 19 vaccines. This CSV has vaccination info from the CDC, with the report being pulled on February 8th, 2021.\n",
    "\n",
    "**Keep In Mind That You Can Always Reference This. You Don't Need to Memorize, But You Should Be Familiar Enough to Know Which One to Choose**"
   ]
  },
  {
   "cell_type": "code",
   "execution_count": 34,
   "metadata": {},
   "outputs": [
    {
     "data": {
      "text/html": [
       "<div>\n",
       "<style scoped>\n",
       "    .dataframe tbody tr th:only-of-type {\n",
       "        vertical-align: middle;\n",
       "    }\n",
       "\n",
       "    .dataframe tbody tr th {\n",
       "        vertical-align: top;\n",
       "    }\n",
       "\n",
       "    .dataframe thead th {\n",
       "        text-align: right;\n",
       "    }\n",
       "</style>\n",
       "<table border=\"1\" class=\"dataframe\">\n",
       "  <thead>\n",
       "    <tr style=\"text-align: right;\">\n",
       "      <th></th>\n",
       "      <th>Total Delivered</th>\n",
       "      <th>Total Administered</th>\n",
       "      <th>Delivered per 100K</th>\n",
       "      <th>Administered per 100K</th>\n",
       "      <th>People with 1+ Doses</th>\n",
       "      <th>People with 1+ Doses per 100K</th>\n",
       "      <th>People with 2 Doses</th>\n",
       "      <th>People with 2 Doses Per 100K</th>\n",
       "    </tr>\n",
       "    <tr>\n",
       "      <th>State/Territory/Federal Entity</th>\n",
       "      <th></th>\n",
       "      <th></th>\n",
       "      <th></th>\n",
       "      <th></th>\n",
       "      <th></th>\n",
       "      <th></th>\n",
       "      <th></th>\n",
       "      <th></th>\n",
       "    </tr>\n",
       "  </thead>\n",
       "  <tbody>\n",
       "    <tr>\n",
       "      <th>Alaska</th>\n",
       "      <td>248500</td>\n",
       "      <td>150934</td>\n",
       "      <td>33969.0</td>\n",
       "      <td>20632.0</td>\n",
       "      <td>109890</td>\n",
       "      <td>15022</td>\n",
       "      <td>40812</td>\n",
       "      <td>5579</td>\n",
       "    </tr>\n",
       "    <tr>\n",
       "      <th>Alabama</th>\n",
       "      <td>804100</td>\n",
       "      <td>467636</td>\n",
       "      <td>16400.0</td>\n",
       "      <td>9537.0</td>\n",
       "      <td>378514</td>\n",
       "      <td>7720</td>\n",
       "      <td>88453</td>\n",
       "      <td>1804</td>\n",
       "    </tr>\n",
       "    <tr>\n",
       "      <th>Arkansas</th>\n",
       "      <td>540050</td>\n",
       "      <td>401664</td>\n",
       "      <td>17895.0</td>\n",
       "      <td>13310.0</td>\n",
       "      <td>304604</td>\n",
       "      <td>10094</td>\n",
       "      <td>94058</td>\n",
       "      <td>3117</td>\n",
       "    </tr>\n",
       "    <tr>\n",
       "      <th>American Samoa</th>\n",
       "      <td>29450</td>\n",
       "      <td>12259</td>\n",
       "      <td>52883.0</td>\n",
       "      <td>22013.0</td>\n",
       "      <td>9779</td>\n",
       "      <td>17560</td>\n",
       "      <td>2478</td>\n",
       "      <td>4450</td>\n",
       "    </tr>\n",
       "    <tr>\n",
       "      <th>Arizona</th>\n",
       "      <td>1186000</td>\n",
       "      <td>841018</td>\n",
       "      <td>16294.0</td>\n",
       "      <td>11554.0</td>\n",
       "      <td>678697</td>\n",
       "      <td>9324</td>\n",
       "      <td>161324</td>\n",
       "      <td>2216</td>\n",
       "    </tr>\n",
       "    <tr>\n",
       "      <th>...</th>\n",
       "      <td>...</td>\n",
       "      <td>...</td>\n",
       "      <td>...</td>\n",
       "      <td>...</td>\n",
       "      <td>...</td>\n",
       "      <td>...</td>\n",
       "      <td>...</td>\n",
       "      <td>...</td>\n",
       "    </tr>\n",
       "    <tr>\n",
       "      <th>Vermont</th>\n",
       "      <td>116075</td>\n",
       "      <td>90328</td>\n",
       "      <td>18602.0</td>\n",
       "      <td>14476.0</td>\n",
       "      <td>63024</td>\n",
       "      <td>10100</td>\n",
       "      <td>27144</td>\n",
       "      <td>4350</td>\n",
       "    </tr>\n",
       "    <tr>\n",
       "      <th>Washington</th>\n",
       "      <td>1208600</td>\n",
       "      <td>937926</td>\n",
       "      <td>15872.0</td>\n",
       "      <td>12317.0</td>\n",
       "      <td>731739</td>\n",
       "      <td>9609</td>\n",
       "      <td>193678</td>\n",
       "      <td>2543</td>\n",
       "    </tr>\n",
       "    <tr>\n",
       "      <th>Wisconsin</th>\n",
       "      <td>926300</td>\n",
       "      <td>763252</td>\n",
       "      <td>15909.0</td>\n",
       "      <td>13109.0</td>\n",
       "      <td>595912</td>\n",
       "      <td>10235</td>\n",
       "      <td>159160</td>\n",
       "      <td>2734</td>\n",
       "    </tr>\n",
       "    <tr>\n",
       "      <th>West Virginia</th>\n",
       "      <td>357000</td>\n",
       "      <td>323387</td>\n",
       "      <td>19920.0</td>\n",
       "      <td>18045.0</td>\n",
       "      <td>218266</td>\n",
       "      <td>12179</td>\n",
       "      <td>104711</td>\n",
       "      <td>5843</td>\n",
       "    </tr>\n",
       "    <tr>\n",
       "      <th>Wyoming</th>\n",
       "      <td>101650</td>\n",
       "      <td>76457</td>\n",
       "      <td>17563.0</td>\n",
       "      <td>13211.0</td>\n",
       "      <td>58775</td>\n",
       "      <td>10155</td>\n",
       "      <td>16729</td>\n",
       "      <td>2890</td>\n",
       "    </tr>\n",
       "  </tbody>\n",
       "</table>\n",
       "<p>63 rows × 8 columns</p>\n",
       "</div>"
      ],
      "text/plain": [
       "                                Total Delivered  ...  People with 2 Doses Per 100K\n",
       "State/Territory/Federal Entity                   ...                              \n",
       "Alaska                                   248500  ...                          5579\n",
       "Alabama                                  804100  ...                          1804\n",
       "Arkansas                                 540050  ...                          3117\n",
       "American Samoa                            29450  ...                          4450\n",
       "Arizona                                 1186000  ...                          2216\n",
       "...                                         ...  ...                           ...\n",
       "Vermont                                  116075  ...                          4350\n",
       "Washington                              1208600  ...                          2543\n",
       "Wisconsin                                926300  ...                          2734\n",
       "West Virginia                            357000  ...                          5843\n",
       "Wyoming                                  101650  ...                          2890\n",
       "\n",
       "[63 rows x 8 columns]"
      ]
     },
     "execution_count": 34,
     "metadata": {},
     "output_type": "execute_result"
    }
   ],
   "source": [
    "loc = \"https://raw.githubusercontent.com/mhall-simon/python/main/data/covid/covid19_vaccinations_in_the_united_states.csv\"\n",
    "\n",
    "df = pd.read_csv(loc, header=2, index_col=\"State/Territory/Federal Entity\")\n",
    "df"
   ]
  },
  {
   "cell_type": "markdown",
   "metadata": {},
   "source": [
    "### Easily Accessing Columns"
   ]
  },
  {
   "cell_type": "markdown",
   "metadata": {},
   "source": [
    "This is our first indexing method, to pull columns of data, and there are a few syntax styles:"
   ]
  },
  {
   "cell_type": "markdown",
   "metadata": {},
   "source": [
    "#### Pulling Single Column"
   ]
  },
  {
   "cell_type": "code",
   "execution_count": 28,
   "metadata": {},
   "outputs": [
    {
     "data": {
      "text/plain": [
       "State/Territory/Federal Entity\n",
       "Alaska             248500\n",
       "Alabama            804100\n",
       "Arkansas           540050\n",
       "American Samoa      29450\n",
       "Arizona           1186000\n",
       "                   ...   \n",
       "Vermont            116075\n",
       "Washington        1208600\n",
       "Wisconsin          926300\n",
       "West Virginia      357000\n",
       "Wyoming            101650\n",
       "Name: Total Delivered, Length: 63, dtype: int64"
      ]
     },
     "execution_count": 28,
     "metadata": {},
     "output_type": "execute_result"
    }
   ],
   "source": [
    "df['Total Delivered']"
   ]
  },
  {
   "cell_type": "markdown",
   "metadata": {},
   "source": [
    "#### Pulling Multiple Columns"
   ]
  },
  {
   "cell_type": "code",
   "execution_count": 29,
   "metadata": {},
   "outputs": [
    {
     "data": {
      "text/html": [
       "<div>\n",
       "<style scoped>\n",
       "    .dataframe tbody tr th:only-of-type {\n",
       "        vertical-align: middle;\n",
       "    }\n",
       "\n",
       "    .dataframe tbody tr th {\n",
       "        vertical-align: top;\n",
       "    }\n",
       "\n",
       "    .dataframe thead th {\n",
       "        text-align: right;\n",
       "    }\n",
       "</style>\n",
       "<table border=\"1\" class=\"dataframe\">\n",
       "  <thead>\n",
       "    <tr style=\"text-align: right;\">\n",
       "      <th></th>\n",
       "      <th>Total Delivered</th>\n",
       "      <th>Total Administered</th>\n",
       "    </tr>\n",
       "    <tr>\n",
       "      <th>State/Territory/Federal Entity</th>\n",
       "      <th></th>\n",
       "      <th></th>\n",
       "    </tr>\n",
       "  </thead>\n",
       "  <tbody>\n",
       "    <tr>\n",
       "      <th>Alaska</th>\n",
       "      <td>248500</td>\n",
       "      <td>150934</td>\n",
       "    </tr>\n",
       "    <tr>\n",
       "      <th>Alabama</th>\n",
       "      <td>804100</td>\n",
       "      <td>467636</td>\n",
       "    </tr>\n",
       "    <tr>\n",
       "      <th>Arkansas</th>\n",
       "      <td>540050</td>\n",
       "      <td>401664</td>\n",
       "    </tr>\n",
       "    <tr>\n",
       "      <th>American Samoa</th>\n",
       "      <td>29450</td>\n",
       "      <td>12259</td>\n",
       "    </tr>\n",
       "    <tr>\n",
       "      <th>Arizona</th>\n",
       "      <td>1186000</td>\n",
       "      <td>841018</td>\n",
       "    </tr>\n",
       "    <tr>\n",
       "      <th>...</th>\n",
       "      <td>...</td>\n",
       "      <td>...</td>\n",
       "    </tr>\n",
       "    <tr>\n",
       "      <th>Vermont</th>\n",
       "      <td>116075</td>\n",
       "      <td>90328</td>\n",
       "    </tr>\n",
       "    <tr>\n",
       "      <th>Washington</th>\n",
       "      <td>1208600</td>\n",
       "      <td>937926</td>\n",
       "    </tr>\n",
       "    <tr>\n",
       "      <th>Wisconsin</th>\n",
       "      <td>926300</td>\n",
       "      <td>763252</td>\n",
       "    </tr>\n",
       "    <tr>\n",
       "      <th>West Virginia</th>\n",
       "      <td>357000</td>\n",
       "      <td>323387</td>\n",
       "    </tr>\n",
       "    <tr>\n",
       "      <th>Wyoming</th>\n",
       "      <td>101650</td>\n",
       "      <td>76457</td>\n",
       "    </tr>\n",
       "  </tbody>\n",
       "</table>\n",
       "<p>63 rows × 2 columns</p>\n",
       "</div>"
      ],
      "text/plain": [
       "                                Total Delivered  Total Administered\n",
       "State/Territory/Federal Entity                                     \n",
       "Alaska                                   248500              150934\n",
       "Alabama                                  804100              467636\n",
       "Arkansas                                 540050              401664\n",
       "American Samoa                            29450               12259\n",
       "Arizona                                 1186000              841018\n",
       "...                                         ...                 ...\n",
       "Vermont                                  116075               90328\n",
       "Washington                              1208600              937926\n",
       "Wisconsin                                926300              763252\n",
       "West Virginia                            357000              323387\n",
       "Wyoming                                  101650               76457\n",
       "\n",
       "[63 rows x 2 columns]"
      ]
     },
     "execution_count": 29,
     "metadata": {},
     "output_type": "execute_result"
    }
   ],
   "source": [
    "df[['Total Delivered','Total Administered']]"
   ]
  },
  {
   "cell_type": "markdown",
   "metadata": {},
   "source": [
    "#### Note About Single Column\n",
    "\n",
    "If our column names have no spaces, we can quickly access a column like this too:\n",
    "\n",
    "```python\n",
    "df.col_name\n",
    "```"
   ]
  },
  {
   "cell_type": "markdown",
   "metadata": {},
   "source": [
    "### Indexing with `.loc[]`"
   ]
  },
  {
   "cell_type": "markdown",
   "metadata": {},
   "source": [
    "We can also use the method `.loc[]` to index our DataFrames. This method uses the labels of rows/columns to index.\n",
    "\n",
    "Just like 2D NumPy arrays, loc takes the arguments as `[row:row,col:col]`"
   ]
  },
  {
   "cell_type": "markdown",
   "metadata": {},
   "source": [
    "#### Pulling a Row with `.loc()`"
   ]
  },
  {
   "cell_type": "code",
   "execution_count": 37,
   "metadata": {},
   "outputs": [
    {
     "data": {
      "text/plain": [
       "Total Delivered                  926300.0\n",
       "Total Administered               763252.0\n",
       "Delivered per 100K                15909.0\n",
       "Administered per 100K             13109.0\n",
       "People with 1+ Doses             595912.0\n",
       "People with 1+ Doses per 100K     10235.0\n",
       "People with 2 Doses              159160.0\n",
       "People with 2 Doses Per 100K       2734.0\n",
       "Name: Wisconsin, dtype: float64"
      ]
     },
     "execution_count": 37,
     "metadata": {},
     "output_type": "execute_result"
    }
   ],
   "source": [
    "df.loc['Wisconsin']"
   ]
  },
  {
   "cell_type": "markdown",
   "metadata": {},
   "source": [
    "#### Pulling Range of Rows - All Columns"
   ]
  },
  {
   "cell_type": "code",
   "execution_count": 42,
   "metadata": {},
   "outputs": [
    {
     "data": {
      "text/html": [
       "<div>\n",
       "<style scoped>\n",
       "    .dataframe tbody tr th:only-of-type {\n",
       "        vertical-align: middle;\n",
       "    }\n",
       "\n",
       "    .dataframe tbody tr th {\n",
       "        vertical-align: top;\n",
       "    }\n",
       "\n",
       "    .dataframe thead th {\n",
       "        text-align: right;\n",
       "    }\n",
       "</style>\n",
       "<table border=\"1\" class=\"dataframe\">\n",
       "  <thead>\n",
       "    <tr style=\"text-align: right;\">\n",
       "      <th></th>\n",
       "      <th>Total Delivered</th>\n",
       "      <th>Total Administered</th>\n",
       "      <th>Delivered per 100K</th>\n",
       "      <th>Administered per 100K</th>\n",
       "      <th>People with 1+ Doses</th>\n",
       "      <th>People with 1+ Doses per 100K</th>\n",
       "      <th>People with 2 Doses</th>\n",
       "      <th>People with 2 Doses Per 100K</th>\n",
       "    </tr>\n",
       "    <tr>\n",
       "      <th>State/Territory/Federal Entity</th>\n",
       "      <th></th>\n",
       "      <th></th>\n",
       "      <th></th>\n",
       "      <th></th>\n",
       "      <th></th>\n",
       "      <th></th>\n",
       "      <th></th>\n",
       "      <th></th>\n",
       "    </tr>\n",
       "  </thead>\n",
       "  <tbody>\n",
       "    <tr>\n",
       "      <th>Oklahoma</th>\n",
       "      <td>734625</td>\n",
       "      <td>586054</td>\n",
       "      <td>18565.0</td>\n",
       "      <td>14811.0</td>\n",
       "      <td>431499</td>\n",
       "      <td>10905</td>\n",
       "      <td>151019</td>\n",
       "      <td>3817</td>\n",
       "    </tr>\n",
       "    <tr>\n",
       "      <th>Oregon</th>\n",
       "      <td>734950</td>\n",
       "      <td>554440</td>\n",
       "      <td>17425.0</td>\n",
       "      <td>13145.0</td>\n",
       "      <td>412660</td>\n",
       "      <td>9784</td>\n",
       "      <td>139700</td>\n",
       "      <td>3312</td>\n",
       "    </tr>\n",
       "    <tr>\n",
       "      <th>Pennsylvania</th>\n",
       "      <td>2292500</td>\n",
       "      <td>1441358</td>\n",
       "      <td>17907.0</td>\n",
       "      <td>11259.0</td>\n",
       "      <td>1108626</td>\n",
       "      <td>8660</td>\n",
       "      <td>328907</td>\n",
       "      <td>2569</td>\n",
       "    </tr>\n",
       "    <tr>\n",
       "      <th>Puerto Rico</th>\n",
       "      <td>624025</td>\n",
       "      <td>299694</td>\n",
       "      <td>19539.0</td>\n",
       "      <td>9384.0</td>\n",
       "      <td>229133</td>\n",
       "      <td>7175</td>\n",
       "      <td>69224</td>\n",
       "      <td>2168</td>\n",
       "    </tr>\n",
       "    <tr>\n",
       "      <th>Rhode Island</th>\n",
       "      <td>192300</td>\n",
       "      <td>120484</td>\n",
       "      <td>18152.0</td>\n",
       "      <td>11373.0</td>\n",
       "      <td>85037</td>\n",
       "      <td>8027</td>\n",
       "      <td>35402</td>\n",
       "      <td>3342</td>\n",
       "    </tr>\n",
       "    <tr>\n",
       "      <th>Republic of Palau</th>\n",
       "      <td>9200</td>\n",
       "      <td>3467</td>\n",
       "      <td>51377.0</td>\n",
       "      <td>19361.0</td>\n",
       "      <td>3109</td>\n",
       "      <td>17362</td>\n",
       "      <td>358</td>\n",
       "      <td>1999</td>\n",
       "    </tr>\n",
       "    <tr>\n",
       "      <th>South Carolina</th>\n",
       "      <td>684700</td>\n",
       "      <td>585692</td>\n",
       "      <td>13298.0</td>\n",
       "      <td>11376.0</td>\n",
       "      <td>460511</td>\n",
       "      <td>8944</td>\n",
       "      <td>119206</td>\n",
       "      <td>2315</td>\n",
       "    </tr>\n",
       "    <tr>\n",
       "      <th>South Dakota</th>\n",
       "      <td>161150</td>\n",
       "      <td>133068</td>\n",
       "      <td>18216.0</td>\n",
       "      <td>15042.0</td>\n",
       "      <td>92615</td>\n",
       "      <td>10469</td>\n",
       "      <td>40368</td>\n",
       "      <td>4563</td>\n",
       "    </tr>\n",
       "    <tr>\n",
       "      <th>Tennessee</th>\n",
       "      <td>1156975</td>\n",
       "      <td>805720</td>\n",
       "      <td>16942.0</td>\n",
       "      <td>11798.0</td>\n",
       "      <td>554016</td>\n",
       "      <td>8112</td>\n",
       "      <td>248911</td>\n",
       "      <td>3645</td>\n",
       "    </tr>\n",
       "    <tr>\n",
       "      <th>Texas</th>\n",
       "      <td>4402275</td>\n",
       "      <td>3322062</td>\n",
       "      <td>15182.0</td>\n",
       "      <td>11457.0</td>\n",
       "      <td>2512804</td>\n",
       "      <td>8666</td>\n",
       "      <td>806885</td>\n",
       "      <td>2783</td>\n",
       "    </tr>\n",
       "    <tr>\n",
       "      <th>Utah</th>\n",
       "      <td>493525</td>\n",
       "      <td>506629</td>\n",
       "      <td>15394.0</td>\n",
       "      <td>15803.0</td>\n",
       "      <td>304991</td>\n",
       "      <td>9513</td>\n",
       "      <td>104274</td>\n",
       "      <td>3253</td>\n",
       "    </tr>\n",
       "    <tr>\n",
       "      <th>Virginia</th>\n",
       "      <td>1387775</td>\n",
       "      <td>1135639</td>\n",
       "      <td>16259.0</td>\n",
       "      <td>13305.0</td>\n",
       "      <td>897049</td>\n",
       "      <td>10510</td>\n",
       "      <td>209104</td>\n",
       "      <td>2450</td>\n",
       "    </tr>\n",
       "    <tr>\n",
       "      <th>Veterans Health</th>\n",
       "      <td>1733525</td>\n",
       "      <td>1258957</td>\n",
       "      <td>NaN</td>\n",
       "      <td>NaN</td>\n",
       "      <td>952628</td>\n",
       "      <td>0</td>\n",
       "      <td>305197</td>\n",
       "      <td>0</td>\n",
       "    </tr>\n",
       "    <tr>\n",
       "      <th>Virgin Islands</th>\n",
       "      <td>20625</td>\n",
       "      <td>9529</td>\n",
       "      <td>19703.0</td>\n",
       "      <td>9103.0</td>\n",
       "      <td>7014</td>\n",
       "      <td>6700</td>\n",
       "      <td>2515</td>\n",
       "      <td>2403</td>\n",
       "    </tr>\n",
       "    <tr>\n",
       "      <th>Vermont</th>\n",
       "      <td>116075</td>\n",
       "      <td>90328</td>\n",
       "      <td>18602.0</td>\n",
       "      <td>14476.0</td>\n",
       "      <td>63024</td>\n",
       "      <td>10100</td>\n",
       "      <td>27144</td>\n",
       "      <td>4350</td>\n",
       "    </tr>\n",
       "    <tr>\n",
       "      <th>Washington</th>\n",
       "      <td>1208600</td>\n",
       "      <td>937926</td>\n",
       "      <td>15872.0</td>\n",
       "      <td>12317.0</td>\n",
       "      <td>731739</td>\n",
       "      <td>9609</td>\n",
       "      <td>193678</td>\n",
       "      <td>2543</td>\n",
       "    </tr>\n",
       "    <tr>\n",
       "      <th>Wisconsin</th>\n",
       "      <td>926300</td>\n",
       "      <td>763252</td>\n",
       "      <td>15909.0</td>\n",
       "      <td>13109.0</td>\n",
       "      <td>595912</td>\n",
       "      <td>10235</td>\n",
       "      <td>159160</td>\n",
       "      <td>2734</td>\n",
       "    </tr>\n",
       "  </tbody>\n",
       "</table>\n",
       "</div>"
      ],
      "text/plain": [
       "                                Total Delivered  ...  People with 2 Doses Per 100K\n",
       "State/Territory/Federal Entity                   ...                              \n",
       "Oklahoma                                 734625  ...                          3817\n",
       "Oregon                                   734950  ...                          3312\n",
       "Pennsylvania                            2292500  ...                          2569\n",
       "Puerto Rico                              624025  ...                          2168\n",
       "Rhode Island                             192300  ...                          3342\n",
       "Republic of Palau                          9200  ...                          1999\n",
       "South Carolina                           684700  ...                          2315\n",
       "South Dakota                             161150  ...                          4563\n",
       "Tennessee                               1156975  ...                          3645\n",
       "Texas                                   4402275  ...                          2783\n",
       "Utah                                     493525  ...                          3253\n",
       "Virginia                                1387775  ...                          2450\n",
       "Veterans Health                         1733525  ...                             0\n",
       "Virgin Islands                            20625  ...                          2403\n",
       "Vermont                                  116075  ...                          4350\n",
       "Washington                              1208600  ...                          2543\n",
       "Wisconsin                                926300  ...                          2734\n",
       "\n",
       "[17 rows x 8 columns]"
      ]
     },
     "execution_count": 42,
     "metadata": {},
     "output_type": "execute_result"
    }
   ],
   "source": [
    "df.loc['Oklahoma':'Wisconsin',:]"
   ]
  },
  {
   "cell_type": "markdown",
   "metadata": {},
   "source": [
    "#### Pulling Range of Rows, Select Columns"
   ]
  },
  {
   "cell_type": "code",
   "execution_count": 44,
   "metadata": {},
   "outputs": [
    {
     "data": {
      "text/html": [
       "<div>\n",
       "<style scoped>\n",
       "    .dataframe tbody tr th:only-of-type {\n",
       "        vertical-align: middle;\n",
       "    }\n",
       "\n",
       "    .dataframe tbody tr th {\n",
       "        vertical-align: top;\n",
       "    }\n",
       "\n",
       "    .dataframe thead th {\n",
       "        text-align: right;\n",
       "    }\n",
       "</style>\n",
       "<table border=\"1\" class=\"dataframe\">\n",
       "  <thead>\n",
       "    <tr style=\"text-align: right;\">\n",
       "      <th></th>\n",
       "      <th>Total Delivered</th>\n",
       "      <th>Total Administered</th>\n",
       "    </tr>\n",
       "    <tr>\n",
       "      <th>State/Territory/Federal Entity</th>\n",
       "      <th></th>\n",
       "      <th></th>\n",
       "    </tr>\n",
       "  </thead>\n",
       "  <tbody>\n",
       "    <tr>\n",
       "      <th>Oregon</th>\n",
       "      <td>734950</td>\n",
       "      <td>554440</td>\n",
       "    </tr>\n",
       "    <tr>\n",
       "      <th>Pennsylvania</th>\n",
       "      <td>2292500</td>\n",
       "      <td>1441358</td>\n",
       "    </tr>\n",
       "    <tr>\n",
       "      <th>Puerto Rico</th>\n",
       "      <td>624025</td>\n",
       "      <td>299694</td>\n",
       "    </tr>\n",
       "    <tr>\n",
       "      <th>Rhode Island</th>\n",
       "      <td>192300</td>\n",
       "      <td>120484</td>\n",
       "    </tr>\n",
       "    <tr>\n",
       "      <th>Republic of Palau</th>\n",
       "      <td>9200</td>\n",
       "      <td>3467</td>\n",
       "    </tr>\n",
       "    <tr>\n",
       "      <th>South Carolina</th>\n",
       "      <td>684700</td>\n",
       "      <td>585692</td>\n",
       "    </tr>\n",
       "    <tr>\n",
       "      <th>South Dakota</th>\n",
       "      <td>161150</td>\n",
       "      <td>133068</td>\n",
       "    </tr>\n",
       "    <tr>\n",
       "      <th>Tennessee</th>\n",
       "      <td>1156975</td>\n",
       "      <td>805720</td>\n",
       "    </tr>\n",
       "    <tr>\n",
       "      <th>Texas</th>\n",
       "      <td>4402275</td>\n",
       "      <td>3322062</td>\n",
       "    </tr>\n",
       "  </tbody>\n",
       "</table>\n",
       "</div>"
      ],
      "text/plain": [
       "                                Total Delivered  Total Administered\n",
       "State/Territory/Federal Entity                                     \n",
       "Oregon                                   734950              554440\n",
       "Pennsylvania                            2292500             1441358\n",
       "Puerto Rico                              624025              299694\n",
       "Rhode Island                             192300              120484\n",
       "Republic of Palau                          9200                3467\n",
       "South Carolina                           684700              585692\n",
       "South Dakota                             161150              133068\n",
       "Tennessee                               1156975              805720\n",
       "Texas                                   4402275             3322062"
      ]
     },
     "execution_count": 44,
     "metadata": {},
     "output_type": "execute_result"
    }
   ],
   "source": [
    "df.loc['Oregon':'Texas','Total Delivered':'Total Administered']"
   ]
  },
  {
   "cell_type": "markdown",
   "metadata": {},
   "source": [
    "### Indexing with `.iloc[]`"
   ]
  },
  {
   "cell_type": "markdown",
   "metadata": {},
   "source": [
    "Iloc uses purely integer-based indexing to find values for us! This means that we need to make sure our dataset is in an expected order."
   ]
  },
  {
   "cell_type": "markdown",
   "metadata": {},
   "source": [
    "#### Rows: Scalar"
   ]
  },
  {
   "cell_type": "code",
   "execution_count": 45,
   "metadata": {},
   "outputs": [
    {
     "data": {
      "text/plain": [
       "Total Delivered                  37050.0\n",
       "Total Administered               40333.0\n",
       "Delivered per 100K                   NaN\n",
       "Administered per 100K                NaN\n",
       "People with 1+ Doses             26410.0\n",
       "People with 1+ Doses per 100K        0.0\n",
       "People with 2 Doses              13826.0\n",
       "People with 2 Doses Per 100K         0.0\n",
       "Name: Bureau of Prisons, dtype: float64"
      ]
     },
     "execution_count": 45,
     "metadata": {},
     "output_type": "execute_result"
    }
   ],
   "source": [
    "df.iloc[5]"
   ]
  },
  {
   "cell_type": "markdown",
   "metadata": {},
   "source": [
    "#### Rows: List"
   ]
  },
  {
   "cell_type": "code",
   "execution_count": 46,
   "metadata": {},
   "outputs": [
    {
     "data": {
      "text/html": [
       "<div>\n",
       "<style scoped>\n",
       "    .dataframe tbody tr th:only-of-type {\n",
       "        vertical-align: middle;\n",
       "    }\n",
       "\n",
       "    .dataframe tbody tr th {\n",
       "        vertical-align: top;\n",
       "    }\n",
       "\n",
       "    .dataframe thead th {\n",
       "        text-align: right;\n",
       "    }\n",
       "</style>\n",
       "<table border=\"1\" class=\"dataframe\">\n",
       "  <thead>\n",
       "    <tr style=\"text-align: right;\">\n",
       "      <th></th>\n",
       "      <th>Total Delivered</th>\n",
       "      <th>Total Administered</th>\n",
       "      <th>Delivered per 100K</th>\n",
       "      <th>Administered per 100K</th>\n",
       "      <th>People with 1+ Doses</th>\n",
       "      <th>People with 1+ Doses per 100K</th>\n",
       "      <th>People with 2 Doses</th>\n",
       "      <th>People with 2 Doses Per 100K</th>\n",
       "    </tr>\n",
       "    <tr>\n",
       "      <th>State/Territory/Federal Entity</th>\n",
       "      <th></th>\n",
       "      <th></th>\n",
       "      <th></th>\n",
       "      <th></th>\n",
       "      <th></th>\n",
       "      <th></th>\n",
       "      <th></th>\n",
       "      <th></th>\n",
       "    </tr>\n",
       "  </thead>\n",
       "  <tbody>\n",
       "    <tr>\n",
       "      <th>Arkansas</th>\n",
       "      <td>540050</td>\n",
       "      <td>401664</td>\n",
       "      <td>17895.0</td>\n",
       "      <td>13310.0</td>\n",
       "      <td>304604</td>\n",
       "      <td>10094</td>\n",
       "      <td>94058</td>\n",
       "      <td>3117</td>\n",
       "    </tr>\n",
       "    <tr>\n",
       "      <th>Arizona</th>\n",
       "      <td>1186000</td>\n",
       "      <td>841018</td>\n",
       "      <td>16294.0</td>\n",
       "      <td>11554.0</td>\n",
       "      <td>678697</td>\n",
       "      <td>9324</td>\n",
       "      <td>161324</td>\n",
       "      <td>2216</td>\n",
       "    </tr>\n",
       "    <tr>\n",
       "      <th>Connecticut</th>\n",
       "      <td>740300</td>\n",
       "      <td>542414</td>\n",
       "      <td>20764.0</td>\n",
       "      <td>15214.0</td>\n",
       "      <td>406697</td>\n",
       "      <td>11407</td>\n",
       "      <td>127194</td>\n",
       "      <td>3568</td>\n",
       "    </tr>\n",
       "  </tbody>\n",
       "</table>\n",
       "</div>"
      ],
      "text/plain": [
       "                                Total Delivered  ...  People with 2 Doses Per 100K\n",
       "State/Territory/Federal Entity                   ...                              \n",
       "Arkansas                                 540050  ...                          3117\n",
       "Arizona                                 1186000  ...                          2216\n",
       "Connecticut                              740300  ...                          3568\n",
       "\n",
       "[3 rows x 8 columns]"
      ]
     },
     "execution_count": 46,
     "metadata": {},
     "output_type": "execute_result"
    }
   ],
   "source": [
    "df.iloc[[2,4,8]]"
   ]
  },
  {
   "cell_type": "markdown",
   "metadata": {},
   "source": [
    "#### Rows: Slicing"
   ]
  },
  {
   "cell_type": "code",
   "execution_count": 47,
   "metadata": {},
   "outputs": [
    {
     "data": {
      "text/html": [
       "<div>\n",
       "<style scoped>\n",
       "    .dataframe tbody tr th:only-of-type {\n",
       "        vertical-align: middle;\n",
       "    }\n",
       "\n",
       "    .dataframe tbody tr th {\n",
       "        vertical-align: top;\n",
       "    }\n",
       "\n",
       "    .dataframe thead th {\n",
       "        text-align: right;\n",
       "    }\n",
       "</style>\n",
       "<table border=\"1\" class=\"dataframe\">\n",
       "  <thead>\n",
       "    <tr style=\"text-align: right;\">\n",
       "      <th></th>\n",
       "      <th>Total Delivered</th>\n",
       "      <th>Total Administered</th>\n",
       "      <th>Delivered per 100K</th>\n",
       "      <th>Administered per 100K</th>\n",
       "      <th>People with 1+ Doses</th>\n",
       "      <th>People with 1+ Doses per 100K</th>\n",
       "      <th>People with 2 Doses</th>\n",
       "      <th>People with 2 Doses Per 100K</th>\n",
       "    </tr>\n",
       "    <tr>\n",
       "      <th>State/Territory/Federal Entity</th>\n",
       "      <th></th>\n",
       "      <th></th>\n",
       "      <th></th>\n",
       "      <th></th>\n",
       "      <th></th>\n",
       "      <th></th>\n",
       "      <th></th>\n",
       "      <th></th>\n",
       "    </tr>\n",
       "  </thead>\n",
       "  <tbody>\n",
       "    <tr>\n",
       "      <th>Arkansas</th>\n",
       "      <td>540050</td>\n",
       "      <td>401664</td>\n",
       "      <td>17895.0</td>\n",
       "      <td>13310.0</td>\n",
       "      <td>304604</td>\n",
       "      <td>10094</td>\n",
       "      <td>94058</td>\n",
       "      <td>3117</td>\n",
       "    </tr>\n",
       "    <tr>\n",
       "      <th>American Samoa</th>\n",
       "      <td>29450</td>\n",
       "      <td>12259</td>\n",
       "      <td>52883.0</td>\n",
       "      <td>22013.0</td>\n",
       "      <td>9779</td>\n",
       "      <td>17560</td>\n",
       "      <td>2478</td>\n",
       "      <td>4450</td>\n",
       "    </tr>\n",
       "    <tr>\n",
       "      <th>Arizona</th>\n",
       "      <td>1186000</td>\n",
       "      <td>841018</td>\n",
       "      <td>16294.0</td>\n",
       "      <td>11554.0</td>\n",
       "      <td>678697</td>\n",
       "      <td>9324</td>\n",
       "      <td>161324</td>\n",
       "      <td>2216</td>\n",
       "    </tr>\n",
       "  </tbody>\n",
       "</table>\n",
       "</div>"
      ],
      "text/plain": [
       "                                Total Delivered  ...  People with 2 Doses Per 100K\n",
       "State/Territory/Federal Entity                   ...                              \n",
       "Arkansas                                 540050  ...                          3117\n",
       "American Samoa                            29450  ...                          4450\n",
       "Arizona                                 1186000  ...                          2216\n",
       "\n",
       "[3 rows x 8 columns]"
      ]
     },
     "execution_count": 47,
     "metadata": {},
     "output_type": "execute_result"
    }
   ],
   "source": [
    "df.iloc[2:5]"
   ]
  },
  {
   "cell_type": "markdown",
   "metadata": {},
   "source": [
    "#### Rows & Cols: Scalars"
   ]
  },
  {
   "cell_type": "code",
   "execution_count": 52,
   "metadata": {},
   "outputs": [
    {
     "data": {
      "text/plain": [
       "248500"
      ]
     },
     "execution_count": 52,
     "metadata": {},
     "output_type": "execute_result"
    }
   ],
   "source": [
    "df.iloc[0,0]"
   ]
  },
  {
   "cell_type": "markdown",
   "metadata": {},
   "source": [
    "#### Rows & Cols: List"
   ]
  },
  {
   "cell_type": "code",
   "execution_count": 54,
   "metadata": {},
   "outputs": [
    {
     "data": {
      "text/html": [
       "<div>\n",
       "<style scoped>\n",
       "    .dataframe tbody tr th:only-of-type {\n",
       "        vertical-align: middle;\n",
       "    }\n",
       "\n",
       "    .dataframe tbody tr th {\n",
       "        vertical-align: top;\n",
       "    }\n",
       "\n",
       "    .dataframe thead th {\n",
       "        text-align: right;\n",
       "    }\n",
       "</style>\n",
       "<table border=\"1\" class=\"dataframe\">\n",
       "  <thead>\n",
       "    <tr style=\"text-align: right;\">\n",
       "      <th></th>\n",
       "      <th>Total Delivered</th>\n",
       "      <th>Delivered per 100K</th>\n",
       "    </tr>\n",
       "    <tr>\n",
       "      <th>State/Territory/Federal Entity</th>\n",
       "      <th></th>\n",
       "      <th></th>\n",
       "    </tr>\n",
       "  </thead>\n",
       "  <tbody>\n",
       "    <tr>\n",
       "      <th>Florida</th>\n",
       "      <td>3791925</td>\n",
       "      <td>17655.0</td>\n",
       "    </tr>\n",
       "    <tr>\n",
       "      <th>Idaho</th>\n",
       "      <td>266475</td>\n",
       "      <td>14911.0</td>\n",
       "    </tr>\n",
       "  </tbody>\n",
       "</table>\n",
       "</div>"
      ],
      "text/plain": [
       "                                Total Delivered  Delivered per 100K\n",
       "State/Territory/Federal Entity                                     \n",
       "Florida                                 3791925             17655.0\n",
       "Idaho                                    266475             14911.0"
      ]
     },
     "execution_count": 54,
     "metadata": {},
     "output_type": "execute_result"
    }
   ],
   "source": [
    "df.iloc[[12,18], [0,2]]"
   ]
  },
  {
   "cell_type": "markdown",
   "metadata": {},
   "source": [
    "#### Rows & Cols: Slicing"
   ]
  },
  {
   "cell_type": "code",
   "execution_count": 57,
   "metadata": {},
   "outputs": [
    {
     "data": {
      "text/html": [
       "<div>\n",
       "<style scoped>\n",
       "    .dataframe tbody tr th:only-of-type {\n",
       "        vertical-align: middle;\n",
       "    }\n",
       "\n",
       "    .dataframe tbody tr th {\n",
       "        vertical-align: top;\n",
       "    }\n",
       "\n",
       "    .dataframe thead th {\n",
       "        text-align: right;\n",
       "    }\n",
       "</style>\n",
       "<table border=\"1\" class=\"dataframe\">\n",
       "  <thead>\n",
       "    <tr style=\"text-align: right;\">\n",
       "      <th></th>\n",
       "      <th>Total Delivered</th>\n",
       "      <th>Total Administered</th>\n",
       "      <th>Delivered per 100K</th>\n",
       "      <th>Administered per 100K</th>\n",
       "    </tr>\n",
       "    <tr>\n",
       "      <th>State/Territory/Federal Entity</th>\n",
       "      <th></th>\n",
       "      <th></th>\n",
       "      <th></th>\n",
       "      <th></th>\n",
       "    </tr>\n",
       "  </thead>\n",
       "  <tbody>\n",
       "    <tr>\n",
       "      <th>Florida</th>\n",
       "      <td>3791925</td>\n",
       "      <td>2607527</td>\n",
       "      <td>17655.0</td>\n",
       "      <td>12141.0</td>\n",
       "    </tr>\n",
       "    <tr>\n",
       "      <th>Federated States of Micronesia</th>\n",
       "      <td>21900</td>\n",
       "      <td>7449</td>\n",
       "      <td>21130.0</td>\n",
       "      <td>7187.0</td>\n",
       "    </tr>\n",
       "    <tr>\n",
       "      <th>Georgia</th>\n",
       "      <td>1688075</td>\n",
       "      <td>1167738</td>\n",
       "      <td>15899.0</td>\n",
       "      <td>10998.0</td>\n",
       "    </tr>\n",
       "    <tr>\n",
       "      <th>Guam</th>\n",
       "      <td>51300</td>\n",
       "      <td>29719</td>\n",
       "      <td>30947.0</td>\n",
       "      <td>17928.0</td>\n",
       "    </tr>\n",
       "    <tr>\n",
       "      <th>Hawaii</th>\n",
       "      <td>263000</td>\n",
       "      <td>194035</td>\n",
       "      <td>18575.0</td>\n",
       "      <td>13704.0</td>\n",
       "    </tr>\n",
       "    <tr>\n",
       "      <th>Iowa</th>\n",
       "      <td>510550</td>\n",
       "      <td>345350</td>\n",
       "      <td>16182.0</td>\n",
       "      <td>10946.0</td>\n",
       "    </tr>\n",
       "    <tr>\n",
       "      <th>Idaho</th>\n",
       "      <td>266475</td>\n",
       "      <td>195591</td>\n",
       "      <td>14911.0</td>\n",
       "      <td>10945.0</td>\n",
       "    </tr>\n",
       "    <tr>\n",
       "      <th>Indian Health Svc</th>\n",
       "      <td>492875</td>\n",
       "      <td>291338</td>\n",
       "      <td>NaN</td>\n",
       "      <td>NaN</td>\n",
       "    </tr>\n",
       "    <tr>\n",
       "      <th>Illinois</th>\n",
       "      <td>2089050</td>\n",
       "      <td>1457693</td>\n",
       "      <td>16486.0</td>\n",
       "      <td>11503.0</td>\n",
       "    </tr>\n",
       "    <tr>\n",
       "      <th>Indiana</th>\n",
       "      <td>1118350</td>\n",
       "      <td>749771</td>\n",
       "      <td>16612.0</td>\n",
       "      <td>11137.0</td>\n",
       "    </tr>\n",
       "  </tbody>\n",
       "</table>\n",
       "</div>"
      ],
      "text/plain": [
       "                                Total Delivered  ...  Administered per 100K\n",
       "State/Territory/Federal Entity                   ...                       \n",
       "Florida                                 3791925  ...                12141.0\n",
       "Federated States of Micronesia            21900  ...                 7187.0\n",
       "Georgia                                 1688075  ...                10998.0\n",
       "Guam                                      51300  ...                17928.0\n",
       "Hawaii                                   263000  ...                13704.0\n",
       "Iowa                                     510550  ...                10946.0\n",
       "Idaho                                    266475  ...                10945.0\n",
       "Indian Health Svc                        492875  ...                    NaN\n",
       "Illinois                                2089050  ...                11503.0\n",
       "Indiana                                 1118350  ...                11137.0\n",
       "\n",
       "[10 rows x 4 columns]"
      ]
     },
     "execution_count": 57,
     "metadata": {},
     "output_type": "execute_result"
    }
   ],
   "source": [
    "df.iloc[12:22, 0:4]"
   ]
  },
  {
   "cell_type": "markdown",
   "metadata": {},
   "source": [
    "## Module 5.3: Importing Data Sets Overview"
   ]
  },
  {
   "cell_type": "markdown",
   "metadata": {},
   "source": [
    "You've already seen some import statements above, but now I'm going to cover them on a high level!\n",
    "\n",
    "Dig through the documentation to learn about all the little tweaks and tricks you can use upon import.\n",
    "\n",
    "2 Essential Methods:\n",
    "\n",
    "- Read CSV\n",
    "- Read Excel\n",
    "\n",
    "The most important thing to note about importing data is to look through the file in Excel!\n",
    "\n",
    "You cannot properly import something if you don't know what it is!\n",
    "\n",
    "I'm only going to cover the CSV method, as the two are very similar and have only slightly different tweaks."
   ]
  },
  {
   "cell_type": "markdown",
   "metadata": {},
   "source": [
    "### Using Read CSV"
   ]
  },
  {
   "cell_type": "markdown",
   "metadata": {},
   "source": [
    "In GitHub, I have a CSV file downloaded from Yahoo Finance about Tesla's monthly stock performance over the last 5 years.\n",
    "\n",
    "We can examine it here: https://github.com/mhall-simon/python/blob/main/data/misc/TSLA.csv\n",
    "\n",
    "And the GitHub raw link is: https://raw.githubusercontent.com/mhall-simon/python/main/data/misc/TSLA.csv\n",
    "\n",
    "Let's import it by just targeting a link:"
   ]
  },
  {
   "cell_type": "code",
   "execution_count": 63,
   "metadata": {},
   "outputs": [
    {
     "data": {
      "text/html": [
       "<div>\n",
       "<style scoped>\n",
       "    .dataframe tbody tr th:only-of-type {\n",
       "        vertical-align: middle;\n",
       "    }\n",
       "\n",
       "    .dataframe tbody tr th {\n",
       "        vertical-align: top;\n",
       "    }\n",
       "\n",
       "    .dataframe thead th {\n",
       "        text-align: right;\n",
       "    }\n",
       "</style>\n",
       "<table border=\"1\" class=\"dataframe\">\n",
       "  <thead>\n",
       "    <tr style=\"text-align: right;\">\n",
       "      <th></th>\n",
       "      <th>Date</th>\n",
       "      <th>Open</th>\n",
       "      <th>High</th>\n",
       "      <th>Low</th>\n",
       "      <th>Close</th>\n",
       "      <th>Adj Close</th>\n",
       "      <th>Volume</th>\n",
       "    </tr>\n",
       "  </thead>\n",
       "  <tbody>\n",
       "    <tr>\n",
       "      <th>0</th>\n",
       "      <td>2016-03-01</td>\n",
       "      <td>38.849998</td>\n",
       "      <td>47.976002</td>\n",
       "      <td>36.299999</td>\n",
       "      <td>45.953999</td>\n",
       "      <td>45.953999</td>\n",
       "      <td>514610000</td>\n",
       "    </tr>\n",
       "    <tr>\n",
       "      <th>1</th>\n",
       "      <td>2016-04-01</td>\n",
       "      <td>48.966000</td>\n",
       "      <td>53.868000</td>\n",
       "      <td>46.650002</td>\n",
       "      <td>48.152000</td>\n",
       "      <td>48.152000</td>\n",
       "      <td>677536500</td>\n",
       "    </tr>\n",
       "    <tr>\n",
       "      <th>2</th>\n",
       "      <td>2016-05-01</td>\n",
       "      <td>48.299999</td>\n",
       "      <td>48.638000</td>\n",
       "      <td>40.731998</td>\n",
       "      <td>44.646000</td>\n",
       "      <td>44.646000</td>\n",
       "      <td>516537500</td>\n",
       "    </tr>\n",
       "    <tr>\n",
       "      <th>3</th>\n",
       "      <td>2016-06-01</td>\n",
       "      <td>44.296001</td>\n",
       "      <td>48.169998</td>\n",
       "      <td>37.574001</td>\n",
       "      <td>42.456001</td>\n",
       "      <td>42.456001</td>\n",
       "      <td>608364000</td>\n",
       "    </tr>\n",
       "    <tr>\n",
       "      <th>4</th>\n",
       "      <td>2016-07-01</td>\n",
       "      <td>41.228001</td>\n",
       "      <td>47.056000</td>\n",
       "      <td>41.200001</td>\n",
       "      <td>46.958000</td>\n",
       "      <td>46.958000</td>\n",
       "      <td>370319500</td>\n",
       "    </tr>\n",
       "  </tbody>\n",
       "</table>\n",
       "</div>"
      ],
      "text/plain": [
       "         Date       Open       High        Low      Close  Adj Close     Volume\n",
       "0  2016-03-01  38.849998  47.976002  36.299999  45.953999  45.953999  514610000\n",
       "1  2016-04-01  48.966000  53.868000  46.650002  48.152000  48.152000  677536500\n",
       "2  2016-05-01  48.299999  48.638000  40.731998  44.646000  44.646000  516537500\n",
       "3  2016-06-01  44.296001  48.169998  37.574001  42.456001  42.456001  608364000\n",
       "4  2016-07-01  41.228001  47.056000  41.200001  46.958000  46.958000  370319500"
      ]
     },
     "execution_count": 63,
     "metadata": {},
     "output_type": "execute_result"
    }
   ],
   "source": [
    "loc = \"https://raw.githubusercontent.com/mhall-simon/python/main/data/misc/TSLA.csv\"\n",
    "\n",
    "df = pd.read_csv(loc)\n",
    "df.head()"
   ]
  },
  {
   "cell_type": "markdown",
   "metadata": {},
   "source": [
    "Pretty neat! However, a useful feature would be to index by Date, as that is a unique key for the data set.\n",
    "\n",
    "Since the Date column is first, we're going to use `index_col=0` as a keyword argument.\n",
    "\n",
    "Also, since it's Date/Time data, we should parse it into the proper format.\n",
    "\n",
    "We do this by providing the argument `parse_dates=True`"
   ]
  },
  {
   "cell_type": "code",
   "execution_count": 64,
   "metadata": {},
   "outputs": [
    {
     "data": {
      "text/html": [
       "<div>\n",
       "<style scoped>\n",
       "    .dataframe tbody tr th:only-of-type {\n",
       "        vertical-align: middle;\n",
       "    }\n",
       "\n",
       "    .dataframe tbody tr th {\n",
       "        vertical-align: top;\n",
       "    }\n",
       "\n",
       "    .dataframe thead th {\n",
       "        text-align: right;\n",
       "    }\n",
       "</style>\n",
       "<table border=\"1\" class=\"dataframe\">\n",
       "  <thead>\n",
       "    <tr style=\"text-align: right;\">\n",
       "      <th></th>\n",
       "      <th>Open</th>\n",
       "      <th>High</th>\n",
       "      <th>Low</th>\n",
       "      <th>Close</th>\n",
       "      <th>Adj Close</th>\n",
       "      <th>Volume</th>\n",
       "    </tr>\n",
       "    <tr>\n",
       "      <th>Date</th>\n",
       "      <th></th>\n",
       "      <th></th>\n",
       "      <th></th>\n",
       "      <th></th>\n",
       "      <th></th>\n",
       "      <th></th>\n",
       "    </tr>\n",
       "  </thead>\n",
       "  <tbody>\n",
       "    <tr>\n",
       "      <th>2016-03-01</th>\n",
       "      <td>38.849998</td>\n",
       "      <td>47.976002</td>\n",
       "      <td>36.299999</td>\n",
       "      <td>45.953999</td>\n",
       "      <td>45.953999</td>\n",
       "      <td>514610000</td>\n",
       "    </tr>\n",
       "    <tr>\n",
       "      <th>2016-04-01</th>\n",
       "      <td>48.966000</td>\n",
       "      <td>53.868000</td>\n",
       "      <td>46.650002</td>\n",
       "      <td>48.152000</td>\n",
       "      <td>48.152000</td>\n",
       "      <td>677536500</td>\n",
       "    </tr>\n",
       "    <tr>\n",
       "      <th>2016-05-01</th>\n",
       "      <td>48.299999</td>\n",
       "      <td>48.638000</td>\n",
       "      <td>40.731998</td>\n",
       "      <td>44.646000</td>\n",
       "      <td>44.646000</td>\n",
       "      <td>516537500</td>\n",
       "    </tr>\n",
       "    <tr>\n",
       "      <th>2016-06-01</th>\n",
       "      <td>44.296001</td>\n",
       "      <td>48.169998</td>\n",
       "      <td>37.574001</td>\n",
       "      <td>42.456001</td>\n",
       "      <td>42.456001</td>\n",
       "      <td>608364000</td>\n",
       "    </tr>\n",
       "    <tr>\n",
       "      <th>2016-07-01</th>\n",
       "      <td>41.228001</td>\n",
       "      <td>47.056000</td>\n",
       "      <td>41.200001</td>\n",
       "      <td>46.958000</td>\n",
       "      <td>46.958000</td>\n",
       "      <td>370319500</td>\n",
       "    </tr>\n",
       "  </tbody>\n",
       "</table>\n",
       "</div>"
      ],
      "text/plain": [
       "                 Open       High        Low      Close  Adj Close     Volume\n",
       "Date                                                                        \n",
       "2016-03-01  38.849998  47.976002  36.299999  45.953999  45.953999  514610000\n",
       "2016-04-01  48.966000  53.868000  46.650002  48.152000  48.152000  677536500\n",
       "2016-05-01  48.299999  48.638000  40.731998  44.646000  44.646000  516537500\n",
       "2016-06-01  44.296001  48.169998  37.574001  42.456001  42.456001  608364000\n",
       "2016-07-01  41.228001  47.056000  41.200001  46.958000  46.958000  370319500"
      ]
     },
     "execution_count": 64,
     "metadata": {},
     "output_type": "execute_result"
    }
   ],
   "source": [
    "loc = \"https://raw.githubusercontent.com/mhall-simon/python/main/data/misc/TSLA.csv\"\n",
    "\n",
    "df = pd.read_csv(loc, index_col=0, parse_dates=True)\n",
    "df.head()"
   ]
  },
  {
   "cell_type": "markdown",
   "metadata": {},
   "source": [
    "Let's inspect the DataFrame now using `.info()`"
   ]
  },
  {
   "cell_type": "code",
   "execution_count": 65,
   "metadata": {},
   "outputs": [
    {
     "name": "stdout",
     "output_type": "stream",
     "text": [
      "<class 'pandas.core.frame.DataFrame'>\n",
      "DatetimeIndex: 61 entries, 2016-03-01 to 2021-02-12\n",
      "Data columns (total 6 columns):\n",
      " #   Column     Non-Null Count  Dtype  \n",
      "---  ------     --------------  -----  \n",
      " 0   Open       61 non-null     float64\n",
      " 1   High       61 non-null     float64\n",
      " 2   Low        61 non-null     float64\n",
      " 3   Close      61 non-null     float64\n",
      " 4   Adj Close  61 non-null     float64\n",
      " 5   Volume     61 non-null     int64  \n",
      "dtypes: float64(5), int64(1)\n",
      "memory usage: 3.3 KB\n"
     ]
    }
   ],
   "source": [
    "df.info()"
   ]
  },
  {
   "cell_type": "markdown",
   "metadata": {},
   "source": [
    "There's a ton of other arguments, some being more useful than the others. As we keep progressing through training, try to see what keyword arguments I use to import data!"
   ]
  },
  {
   "cell_type": "markdown",
   "metadata": {},
   "source": [
    "## Module 5.4: Date & Time Overview"
   ]
  },
  {
   "cell_type": "markdown",
   "metadata": {},
   "source": [
    "Pandas also brings with it a new data type: DateTime.\n",
    "\n",
    "This is very useful for using time series data, as we don't need to map information out into multiple columns.\n",
    "\n",
    "If the DateTime data is the index, it makes processing time series data in Python very efficient!\n",
    "\n",
    "Let's start with the same data set as above for Tesla stock:"
   ]
  },
  {
   "cell_type": "code",
   "execution_count": 66,
   "metadata": {},
   "outputs": [
    {
     "data": {
      "text/html": [
       "<div>\n",
       "<style scoped>\n",
       "    .dataframe tbody tr th:only-of-type {\n",
       "        vertical-align: middle;\n",
       "    }\n",
       "\n",
       "    .dataframe tbody tr th {\n",
       "        vertical-align: top;\n",
       "    }\n",
       "\n",
       "    .dataframe thead th {\n",
       "        text-align: right;\n",
       "    }\n",
       "</style>\n",
       "<table border=\"1\" class=\"dataframe\">\n",
       "  <thead>\n",
       "    <tr style=\"text-align: right;\">\n",
       "      <th></th>\n",
       "      <th>Open</th>\n",
       "      <th>High</th>\n",
       "      <th>Low</th>\n",
       "      <th>Close</th>\n",
       "      <th>Adj Close</th>\n",
       "      <th>Volume</th>\n",
       "    </tr>\n",
       "    <tr>\n",
       "      <th>Date</th>\n",
       "      <th></th>\n",
       "      <th></th>\n",
       "      <th></th>\n",
       "      <th></th>\n",
       "      <th></th>\n",
       "      <th></th>\n",
       "    </tr>\n",
       "  </thead>\n",
       "  <tbody>\n",
       "    <tr>\n",
       "      <th>2016-03-01</th>\n",
       "      <td>38.849998</td>\n",
       "      <td>47.976002</td>\n",
       "      <td>36.299999</td>\n",
       "      <td>45.953999</td>\n",
       "      <td>45.953999</td>\n",
       "      <td>514610000</td>\n",
       "    </tr>\n",
       "    <tr>\n",
       "      <th>2016-04-01</th>\n",
       "      <td>48.966000</td>\n",
       "      <td>53.868000</td>\n",
       "      <td>46.650002</td>\n",
       "      <td>48.152000</td>\n",
       "      <td>48.152000</td>\n",
       "      <td>677536500</td>\n",
       "    </tr>\n",
       "    <tr>\n",
       "      <th>2016-05-01</th>\n",
       "      <td>48.299999</td>\n",
       "      <td>48.638000</td>\n",
       "      <td>40.731998</td>\n",
       "      <td>44.646000</td>\n",
       "      <td>44.646000</td>\n",
       "      <td>516537500</td>\n",
       "    </tr>\n",
       "    <tr>\n",
       "      <th>2016-06-01</th>\n",
       "      <td>44.296001</td>\n",
       "      <td>48.169998</td>\n",
       "      <td>37.574001</td>\n",
       "      <td>42.456001</td>\n",
       "      <td>42.456001</td>\n",
       "      <td>608364000</td>\n",
       "    </tr>\n",
       "    <tr>\n",
       "      <th>2016-07-01</th>\n",
       "      <td>41.228001</td>\n",
       "      <td>47.056000</td>\n",
       "      <td>41.200001</td>\n",
       "      <td>46.958000</td>\n",
       "      <td>46.958000</td>\n",
       "      <td>370319500</td>\n",
       "    </tr>\n",
       "  </tbody>\n",
       "</table>\n",
       "</div>"
      ],
      "text/plain": [
       "                 Open       High        Low      Close  Adj Close     Volume\n",
       "Date                                                                        \n",
       "2016-03-01  38.849998  47.976002  36.299999  45.953999  45.953999  514610000\n",
       "2016-04-01  48.966000  53.868000  46.650002  48.152000  48.152000  677536500\n",
       "2016-05-01  48.299999  48.638000  40.731998  44.646000  44.646000  516537500\n",
       "2016-06-01  44.296001  48.169998  37.574001  42.456001  42.456001  608364000\n",
       "2016-07-01  41.228001  47.056000  41.200001  46.958000  46.958000  370319500"
      ]
     },
     "execution_count": 66,
     "metadata": {},
     "output_type": "execute_result"
    }
   ],
   "source": [
    "loc = \"https://raw.githubusercontent.com/mhall-simon/python/main/data/misc/TSLA.csv\"\n",
    "\n",
    "df = pd.read_csv(loc, index_col=0, parse_dates=True)\n",
    "df.head()"
   ]
  },
  {
   "cell_type": "markdown",
   "metadata": {},
   "source": [
    "### Extracting D-M-Y Information"
   ]
  },
  {
   "cell_type": "code",
   "execution_count": 69,
   "metadata": {},
   "outputs": [
    {
     "data": {
      "text/plain": [
       "Int64Index([ 1,  1,  1,  1,  1,  1,  1,  1,  1,  1,  1,  1,  1,  1,  1,  1,  1,\n",
       "             1,  1,  1,  1,  1,  1,  1,  1,  1,  1,  1,  1,  1,  1,  1,  1,  1,\n",
       "             1,  1,  1,  1,  1,  1,  1,  1,  1,  1,  1,  1,  1,  1,  1,  1,  1,\n",
       "             1,  1,  1,  1,  1,  1,  1,  1,  1, 12],\n",
       "           dtype='int64', name='Date')"
      ]
     },
     "execution_count": 69,
     "metadata": {},
     "output_type": "execute_result"
    }
   ],
   "source": [
    "df.index.day"
   ]
  },
  {
   "cell_type": "code",
   "execution_count": 70,
   "metadata": {},
   "outputs": [
    {
     "data": {
      "text/plain": [
       "Int64Index([ 3,  4,  5,  6,  7,  8,  9, 10, 11, 12,  1,  2,  3,  4,  5,  6,  7,\n",
       "             8,  9, 10, 11, 12,  1,  2,  3,  4,  5,  6,  7,  8,  9, 10, 11, 12,\n",
       "             1,  2,  3,  4,  5,  6,  7,  8,  9, 10, 11, 12,  1,  2,  3,  4,  5,\n",
       "             6,  7,  8,  9, 10, 11, 12,  1,  2,  2],\n",
       "           dtype='int64', name='Date')"
      ]
     },
     "execution_count": 70,
     "metadata": {},
     "output_type": "execute_result"
    }
   ],
   "source": [
    "df.index.month"
   ]
  },
  {
   "cell_type": "code",
   "execution_count": 71,
   "metadata": {},
   "outputs": [
    {
     "data": {
      "text/plain": [
       "Int64Index([2016, 2016, 2016, 2016, 2016, 2016, 2016, 2016, 2016, 2016, 2017,\n",
       "            2017, 2017, 2017, 2017, 2017, 2017, 2017, 2017, 2017, 2017, 2017,\n",
       "            2018, 2018, 2018, 2018, 2018, 2018, 2018, 2018, 2018, 2018, 2018,\n",
       "            2018, 2019, 2019, 2019, 2019, 2019, 2019, 2019, 2019, 2019, 2019,\n",
       "            2019, 2019, 2020, 2020, 2020, 2020, 2020, 2020, 2020, 2020, 2020,\n",
       "            2020, 2020, 2020, 2021, 2021, 2021],\n",
       "           dtype='int64', name='Date')"
      ]
     },
     "execution_count": 71,
     "metadata": {},
     "output_type": "execute_result"
    }
   ],
   "source": [
    "df.index.year"
   ]
  },
  {
   "cell_type": "markdown",
   "metadata": {},
   "source": [
    "These properties will become very useful when we want to index, slice, or even run SQL functionality on our time series data!"
   ]
  },
  {
   "cell_type": "markdown",
   "metadata": {},
   "source": [
    "## Module 5.5: Multi-Indexed Data Sets"
   ]
  },
  {
   "cell_type": "markdown",
   "metadata": {},
   "source": [
    "Above, you've only seen data with a single index. However, you can also have a multi-index!\n",
    "\n",
    "These are excellent for when you have multiple indicies, and don't want to store information in columns.\n",
    "\n"
   ]
  },
  {
   "cell_type": "markdown",
   "metadata": {},
   "source": [
    "### Importing Regularly:"
   ]
  },
  {
   "cell_type": "code",
   "execution_count": 77,
   "metadata": {},
   "outputs": [
    {
     "data": {
      "text/html": [
       "<div>\n",
       "<style scoped>\n",
       "    .dataframe tbody tr th:only-of-type {\n",
       "        vertical-align: middle;\n",
       "    }\n",
       "\n",
       "    .dataframe tbody tr th {\n",
       "        vertical-align: top;\n",
       "    }\n",
       "\n",
       "    .dataframe thead th {\n",
       "        text-align: right;\n",
       "    }\n",
       "</style>\n",
       "<table border=\"1\" class=\"dataframe\">\n",
       "  <thead>\n",
       "    <tr style=\"text-align: right;\">\n",
       "      <th></th>\n",
       "      <th>Date</th>\n",
       "      <th>Part</th>\n",
       "      <th>Cost</th>\n",
       "      <th>Price</th>\n",
       "      <th>Sold</th>\n",
       "    </tr>\n",
       "  </thead>\n",
       "  <tbody>\n",
       "    <tr>\n",
       "      <th>0</th>\n",
       "      <td>2020-03-01</td>\n",
       "      <td>A-01</td>\n",
       "      <td>0.24</td>\n",
       "      <td>0.75</td>\n",
       "      <td>98</td>\n",
       "    </tr>\n",
       "    <tr>\n",
       "      <th>1</th>\n",
       "      <td>2020-03-01</td>\n",
       "      <td>A-02</td>\n",
       "      <td>0.55</td>\n",
       "      <td>0.98</td>\n",
       "      <td>78</td>\n",
       "    </tr>\n",
       "    <tr>\n",
       "      <th>2</th>\n",
       "      <td>2020-03-01</td>\n",
       "      <td>B-02</td>\n",
       "      <td>3.98</td>\n",
       "      <td>5.02</td>\n",
       "      <td>15</td>\n",
       "    </tr>\n",
       "    <tr>\n",
       "      <th>3</th>\n",
       "      <td>2020-03-02</td>\n",
       "      <td>A-01</td>\n",
       "      <td>0.25</td>\n",
       "      <td>0.76</td>\n",
       "      <td>105</td>\n",
       "    </tr>\n",
       "    <tr>\n",
       "      <th>4</th>\n",
       "      <td>2020-03-02</td>\n",
       "      <td>B-02</td>\n",
       "      <td>3.80</td>\n",
       "      <td>5.00</td>\n",
       "      <td>25</td>\n",
       "    </tr>\n",
       "    <tr>\n",
       "      <th>5</th>\n",
       "      <td>2020-03-03</td>\n",
       "      <td>A-01</td>\n",
       "      <td>0.22</td>\n",
       "      <td>0.80</td>\n",
       "      <td>105</td>\n",
       "    </tr>\n",
       "    <tr>\n",
       "      <th>6</th>\n",
       "      <td>2020-03-03</td>\n",
       "      <td>A-02</td>\n",
       "      <td>0.61</td>\n",
       "      <td>1.02</td>\n",
       "      <td>55</td>\n",
       "    </tr>\n",
       "  </tbody>\n",
       "</table>\n",
       "</div>"
      ],
      "text/plain": [
       "        Date  Part  Cost  Price  Sold\n",
       "0 2020-03-01  A-01  0.24   0.75    98\n",
       "1 2020-03-01  A-02  0.55   0.98    78\n",
       "2 2020-03-01  B-02  3.98   5.02    15\n",
       "3 2020-03-02  A-01  0.25   0.76   105\n",
       "4 2020-03-02  B-02  3.80   5.00    25\n",
       "5 2020-03-03  A-01  0.22   0.80   105\n",
       "6 2020-03-03  A-02  0.61   1.02    55"
      ]
     },
     "execution_count": 77,
     "metadata": {},
     "output_type": "execute_result"
    }
   ],
   "source": [
    "loc = \"https://github.com/mhall-simon/python/blob/main/data/misc/inventory-multi-index.xlsx?raw=true\"\n",
    "\n",
    "df = pd.read_excel(loc, parse_dates=True)\n",
    "df"
   ]
  },
  {
   "cell_type": "markdown",
   "metadata": {},
   "source": [
    "### Importing Multi-Index:"
   ]
  },
  {
   "cell_type": "code",
   "execution_count": 78,
   "metadata": {},
   "outputs": [
    {
     "data": {
      "text/html": [
       "<div>\n",
       "<style scoped>\n",
       "    .dataframe tbody tr th:only-of-type {\n",
       "        vertical-align: middle;\n",
       "    }\n",
       "\n",
       "    .dataframe tbody tr th {\n",
       "        vertical-align: top;\n",
       "    }\n",
       "\n",
       "    .dataframe thead th {\n",
       "        text-align: right;\n",
       "    }\n",
       "</style>\n",
       "<table border=\"1\" class=\"dataframe\">\n",
       "  <thead>\n",
       "    <tr style=\"text-align: right;\">\n",
       "      <th></th>\n",
       "      <th></th>\n",
       "      <th>Cost</th>\n",
       "      <th>Price</th>\n",
       "      <th>Sold</th>\n",
       "    </tr>\n",
       "    <tr>\n",
       "      <th>Date</th>\n",
       "      <th>Part</th>\n",
       "      <th></th>\n",
       "      <th></th>\n",
       "      <th></th>\n",
       "    </tr>\n",
       "  </thead>\n",
       "  <tbody>\n",
       "    <tr>\n",
       "      <th rowspan=\"3\" valign=\"top\">2020-03-01</th>\n",
       "      <th>A-01</th>\n",
       "      <td>0.24</td>\n",
       "      <td>0.75</td>\n",
       "      <td>98</td>\n",
       "    </tr>\n",
       "    <tr>\n",
       "      <th>A-02</th>\n",
       "      <td>0.55</td>\n",
       "      <td>0.98</td>\n",
       "      <td>78</td>\n",
       "    </tr>\n",
       "    <tr>\n",
       "      <th>B-02</th>\n",
       "      <td>3.98</td>\n",
       "      <td>5.02</td>\n",
       "      <td>15</td>\n",
       "    </tr>\n",
       "    <tr>\n",
       "      <th rowspan=\"2\" valign=\"top\">2020-03-02</th>\n",
       "      <th>A-01</th>\n",
       "      <td>0.25</td>\n",
       "      <td>0.76</td>\n",
       "      <td>105</td>\n",
       "    </tr>\n",
       "    <tr>\n",
       "      <th>B-02</th>\n",
       "      <td>3.80</td>\n",
       "      <td>5.00</td>\n",
       "      <td>25</td>\n",
       "    </tr>\n",
       "    <tr>\n",
       "      <th rowspan=\"2\" valign=\"top\">2020-03-03</th>\n",
       "      <th>A-01</th>\n",
       "      <td>0.22</td>\n",
       "      <td>0.80</td>\n",
       "      <td>105</td>\n",
       "    </tr>\n",
       "    <tr>\n",
       "      <th>A-02</th>\n",
       "      <td>0.61</td>\n",
       "      <td>1.02</td>\n",
       "      <td>55</td>\n",
       "    </tr>\n",
       "  </tbody>\n",
       "</table>\n",
       "</div>"
      ],
      "text/plain": [
       "                 Cost  Price  Sold\n",
       "Date       Part                   \n",
       "2020-03-01 A-01  0.24   0.75    98\n",
       "           A-02  0.55   0.98    78\n",
       "           B-02  3.98   5.02    15\n",
       "2020-03-02 A-01  0.25   0.76   105\n",
       "           B-02  3.80   5.00    25\n",
       "2020-03-03 A-01  0.22   0.80   105\n",
       "           A-02  0.61   1.02    55"
      ]
     },
     "execution_count": 78,
     "metadata": {},
     "output_type": "execute_result"
    }
   ],
   "source": [
    "loc = \"https://github.com/mhall-simon/python/blob/main/data/misc/inventory-multi-index.xlsx?raw=true\"\n",
    "\n",
    "df = pd.read_excel(loc, parse_dates=True, index_col=[0,1])\n",
    "df"
   ]
  },
  {
   "cell_type": "markdown",
   "metadata": {},
   "source": [
    "Now, our data is formatted better! It's hierarchical between the date and part number!\n",
    "\n",
    "I'm not going to go too in depth with Multi-Indexed Data Sets, but you should know that they exist!"
   ]
  },
  {
   "cell_type": "markdown",
   "metadata": {},
   "source": [
    "### Accessing Row in Multi-Indexed Dataset (Outer Most Group)"
   ]
  },
  {
   "cell_type": "code",
   "execution_count": 81,
   "metadata": {},
   "outputs": [
    {
     "data": {
      "text/html": [
       "<div>\n",
       "<style scoped>\n",
       "    .dataframe tbody tr th:only-of-type {\n",
       "        vertical-align: middle;\n",
       "    }\n",
       "\n",
       "    .dataframe tbody tr th {\n",
       "        vertical-align: top;\n",
       "    }\n",
       "\n",
       "    .dataframe thead th {\n",
       "        text-align: right;\n",
       "    }\n",
       "</style>\n",
       "<table border=\"1\" class=\"dataframe\">\n",
       "  <thead>\n",
       "    <tr style=\"text-align: right;\">\n",
       "      <th></th>\n",
       "      <th></th>\n",
       "      <th>Cost</th>\n",
       "      <th>Price</th>\n",
       "      <th>Sold</th>\n",
       "    </tr>\n",
       "    <tr>\n",
       "      <th>Date</th>\n",
       "      <th>Part</th>\n",
       "      <th></th>\n",
       "      <th></th>\n",
       "      <th></th>\n",
       "    </tr>\n",
       "  </thead>\n",
       "  <tbody>\n",
       "    <tr>\n",
       "      <th rowspan=\"3\" valign=\"top\">2020-03-01</th>\n",
       "      <th>A-01</th>\n",
       "      <td>0.24</td>\n",
       "      <td>0.75</td>\n",
       "      <td>98</td>\n",
       "    </tr>\n",
       "    <tr>\n",
       "      <th>A-02</th>\n",
       "      <td>0.55</td>\n",
       "      <td>0.98</td>\n",
       "      <td>78</td>\n",
       "    </tr>\n",
       "    <tr>\n",
       "      <th>B-02</th>\n",
       "      <td>3.98</td>\n",
       "      <td>5.02</td>\n",
       "      <td>15</td>\n",
       "    </tr>\n",
       "  </tbody>\n",
       "</table>\n",
       "</div>"
      ],
      "text/plain": [
       "                 Cost  Price  Sold\n",
       "Date       Part                   \n",
       "2020-03-01 A-01  0.24   0.75    98\n",
       "           A-02  0.55   0.98    78\n",
       "           B-02  3.98   5.02    15"
      ]
     },
     "execution_count": 81,
     "metadata": {},
     "output_type": "execute_result"
    }
   ],
   "source": [
    "df.loc['2020-03-01']"
   ]
  },
  {
   "cell_type": "markdown",
   "metadata": {},
   "source": [
    "### Accessing Row in Multi-Indexed Dataset (Inner Most Group)"
   ]
  },
  {
   "cell_type": "code",
   "execution_count": 84,
   "metadata": {},
   "outputs": [
    {
     "data": {
      "text/plain": [
       "Cost      0.24\n",
       "Price     0.75\n",
       "Sold     98.00\n",
       "Name: (2020-03-01 00:00:00, A-01), dtype: float64"
      ]
     },
     "execution_count": 84,
     "metadata": {},
     "output_type": "execute_result"
    }
   ],
   "source": [
    "df.loc[('2020-03-01','A-01')]"
   ]
  },
  {
   "cell_type": "markdown",
   "metadata": {},
   "source": [
    "Tip: Multi-Indexed Datasets behave very-similarly to groupby objects!"
   ]
  },
  {
   "cell_type": "markdown",
   "metadata": {},
   "source": [
    "## Module 5.6: Broadcasting Scalars"
   ]
  },
  {
   "cell_type": "markdown",
   "metadata": {},
   "source": [
    "Just like with NumPy, we can broadcast scalars across our dataframe!\n",
    "\n",
    "Since we're already familiar with how it works, we just need the general formula:\n",
    "\n",
    "1. Index Subset (Optional)\n",
    "2. Broadcast Scalar\n",
    "\n",
    "It's pretty easy! And allows us to update information stored in DataFrames without creating new rows / cols!\n",
    "\n",
    "Above, we imported a dataset of inventory prices and amount sold, let's do some basic operations on them!"
   ]
  },
  {
   "cell_type": "code",
   "execution_count": 85,
   "metadata": {},
   "outputs": [
    {
     "data": {
      "text/html": [
       "<div>\n",
       "<style scoped>\n",
       "    .dataframe tbody tr th:only-of-type {\n",
       "        vertical-align: middle;\n",
       "    }\n",
       "\n",
       "    .dataframe tbody tr th {\n",
       "        vertical-align: top;\n",
       "    }\n",
       "\n",
       "    .dataframe thead th {\n",
       "        text-align: right;\n",
       "    }\n",
       "</style>\n",
       "<table border=\"1\" class=\"dataframe\">\n",
       "  <thead>\n",
       "    <tr style=\"text-align: right;\">\n",
       "      <th></th>\n",
       "      <th></th>\n",
       "      <th>Cost</th>\n",
       "      <th>Price</th>\n",
       "      <th>Sold</th>\n",
       "    </tr>\n",
       "    <tr>\n",
       "      <th>Date</th>\n",
       "      <th>Part</th>\n",
       "      <th></th>\n",
       "      <th></th>\n",
       "      <th></th>\n",
       "    </tr>\n",
       "  </thead>\n",
       "  <tbody>\n",
       "    <tr>\n",
       "      <th rowspan=\"3\" valign=\"top\">2020-03-01</th>\n",
       "      <th>A-01</th>\n",
       "      <td>0.24</td>\n",
       "      <td>0.75</td>\n",
       "      <td>98</td>\n",
       "    </tr>\n",
       "    <tr>\n",
       "      <th>A-02</th>\n",
       "      <td>0.55</td>\n",
       "      <td>0.98</td>\n",
       "      <td>78</td>\n",
       "    </tr>\n",
       "    <tr>\n",
       "      <th>B-02</th>\n",
       "      <td>3.98</td>\n",
       "      <td>5.02</td>\n",
       "      <td>15</td>\n",
       "    </tr>\n",
       "    <tr>\n",
       "      <th rowspan=\"2\" valign=\"top\">2020-03-02</th>\n",
       "      <th>A-01</th>\n",
       "      <td>0.25</td>\n",
       "      <td>0.76</td>\n",
       "      <td>105</td>\n",
       "    </tr>\n",
       "    <tr>\n",
       "      <th>B-02</th>\n",
       "      <td>3.80</td>\n",
       "      <td>5.00</td>\n",
       "      <td>25</td>\n",
       "    </tr>\n",
       "    <tr>\n",
       "      <th rowspan=\"2\" valign=\"top\">2020-03-03</th>\n",
       "      <th>A-01</th>\n",
       "      <td>0.22</td>\n",
       "      <td>0.80</td>\n",
       "      <td>105</td>\n",
       "    </tr>\n",
       "    <tr>\n",
       "      <th>A-02</th>\n",
       "      <td>0.61</td>\n",
       "      <td>1.02</td>\n",
       "      <td>55</td>\n",
       "    </tr>\n",
       "  </tbody>\n",
       "</table>\n",
       "</div>"
      ],
      "text/plain": [
       "                 Cost  Price  Sold\n",
       "Date       Part                   \n",
       "2020-03-01 A-01  0.24   0.75    98\n",
       "           A-02  0.55   0.98    78\n",
       "           B-02  3.98   5.02    15\n",
       "2020-03-02 A-01  0.25   0.76   105\n",
       "           B-02  3.80   5.00    25\n",
       "2020-03-03 A-01  0.22   0.80   105\n",
       "           A-02  0.61   1.02    55"
      ]
     },
     "execution_count": 85,
     "metadata": {},
     "output_type": "execute_result"
    }
   ],
   "source": [
    "loc = \"https://github.com/mhall-simon/python/blob/main/data/misc/inventory-multi-index.xlsx?raw=true\"\n",
    "\n",
    "df = pd.read_excel(loc, parse_dates=True, index_col=[0,1])\n",
    "df"
   ]
  },
  {
   "cell_type": "markdown",
   "metadata": {},
   "source": [
    "### Broadcast Across Slice - Column"
   ]
  },
  {
   "cell_type": "markdown",
   "metadata": {},
   "source": [
    "Oh no! Our costs were too low because we forgot tax. Let's add 8% to the cost column of the dataset:"
   ]
  },
  {
   "cell_type": "code",
   "execution_count": 87,
   "metadata": {},
   "outputs": [
    {
     "data": {
      "text/html": [
       "<div>\n",
       "<style scoped>\n",
       "    .dataframe tbody tr th:only-of-type {\n",
       "        vertical-align: middle;\n",
       "    }\n",
       "\n",
       "    .dataframe tbody tr th {\n",
       "        vertical-align: top;\n",
       "    }\n",
       "\n",
       "    .dataframe thead th {\n",
       "        text-align: right;\n",
       "    }\n",
       "</style>\n",
       "<table border=\"1\" class=\"dataframe\">\n",
       "  <thead>\n",
       "    <tr style=\"text-align: right;\">\n",
       "      <th></th>\n",
       "      <th></th>\n",
       "      <th>Cost</th>\n",
       "      <th>Price</th>\n",
       "      <th>Sold</th>\n",
       "    </tr>\n",
       "    <tr>\n",
       "      <th>Date</th>\n",
       "      <th>Part</th>\n",
       "      <th></th>\n",
       "      <th></th>\n",
       "      <th></th>\n",
       "    </tr>\n",
       "  </thead>\n",
       "  <tbody>\n",
       "    <tr>\n",
       "      <th rowspan=\"3\" valign=\"top\">2020-03-01</th>\n",
       "      <th>A-01</th>\n",
       "      <td>0.2592</td>\n",
       "      <td>0.75</td>\n",
       "      <td>98</td>\n",
       "    </tr>\n",
       "    <tr>\n",
       "      <th>A-02</th>\n",
       "      <td>0.5940</td>\n",
       "      <td>0.98</td>\n",
       "      <td>78</td>\n",
       "    </tr>\n",
       "    <tr>\n",
       "      <th>B-02</th>\n",
       "      <td>4.2984</td>\n",
       "      <td>5.02</td>\n",
       "      <td>15</td>\n",
       "    </tr>\n",
       "    <tr>\n",
       "      <th rowspan=\"2\" valign=\"top\">2020-03-02</th>\n",
       "      <th>A-01</th>\n",
       "      <td>0.2700</td>\n",
       "      <td>0.76</td>\n",
       "      <td>105</td>\n",
       "    </tr>\n",
       "    <tr>\n",
       "      <th>B-02</th>\n",
       "      <td>4.1040</td>\n",
       "      <td>5.00</td>\n",
       "      <td>25</td>\n",
       "    </tr>\n",
       "    <tr>\n",
       "      <th rowspan=\"2\" valign=\"top\">2020-03-03</th>\n",
       "      <th>A-01</th>\n",
       "      <td>0.2376</td>\n",
       "      <td>0.80</td>\n",
       "      <td>105</td>\n",
       "    </tr>\n",
       "    <tr>\n",
       "      <th>A-02</th>\n",
       "      <td>0.6588</td>\n",
       "      <td>1.02</td>\n",
       "      <td>55</td>\n",
       "    </tr>\n",
       "  </tbody>\n",
       "</table>\n",
       "</div>"
      ],
      "text/plain": [
       "                   Cost  Price  Sold\n",
       "Date       Part                     \n",
       "2020-03-01 A-01  0.2592   0.75    98\n",
       "           A-02  0.5940   0.98    78\n",
       "           B-02  4.2984   5.02    15\n",
       "2020-03-02 A-01  0.2700   0.76   105\n",
       "           B-02  4.1040   5.00    25\n",
       "2020-03-03 A-01  0.2376   0.80   105\n",
       "           A-02  0.6588   1.02    55"
      ]
     },
     "execution_count": 87,
     "metadata": {},
     "output_type": "execute_result"
    }
   ],
   "source": [
    "df.Cost = df.Cost*1.08\n",
    "df"
   ]
  },
  {
   "cell_type": "markdown",
   "metadata": {},
   "source": [
    "### Broadcast Across Slice - Row"
   ]
  },
  {
   "cell_type": "markdown",
   "metadata": {},
   "source": [
    "Oh no! We forgot we have a 5% discount on the first day of the month. Let's easily correct this."
   ]
  },
  {
   "cell_type": "code",
   "execution_count": 98,
   "metadata": {},
   "outputs": [
    {
     "data": {
      "text/html": [
       "<div>\n",
       "<style scoped>\n",
       "    .dataframe tbody tr th:only-of-type {\n",
       "        vertical-align: middle;\n",
       "    }\n",
       "\n",
       "    .dataframe tbody tr th {\n",
       "        vertical-align: top;\n",
       "    }\n",
       "\n",
       "    .dataframe thead th {\n",
       "        text-align: right;\n",
       "    }\n",
       "</style>\n",
       "<table border=\"1\" class=\"dataframe\">\n",
       "  <thead>\n",
       "    <tr style=\"text-align: right;\">\n",
       "      <th></th>\n",
       "      <th></th>\n",
       "      <th>Cost</th>\n",
       "      <th>Price</th>\n",
       "      <th>Sold</th>\n",
       "    </tr>\n",
       "    <tr>\n",
       "      <th>Date</th>\n",
       "      <th>Part</th>\n",
       "      <th></th>\n",
       "      <th></th>\n",
       "      <th></th>\n",
       "    </tr>\n",
       "  </thead>\n",
       "  <tbody>\n",
       "    <tr>\n",
       "      <th rowspan=\"3\" valign=\"top\">2020-03-01</th>\n",
       "      <th>A-01</th>\n",
       "      <td>0.2592</td>\n",
       "      <td>0.676875</td>\n",
       "      <td>98</td>\n",
       "    </tr>\n",
       "    <tr>\n",
       "      <th>A-02</th>\n",
       "      <td>0.5940</td>\n",
       "      <td>0.884450</td>\n",
       "      <td>78</td>\n",
       "    </tr>\n",
       "    <tr>\n",
       "      <th>B-02</th>\n",
       "      <td>4.2984</td>\n",
       "      <td>4.530550</td>\n",
       "      <td>15</td>\n",
       "    </tr>\n",
       "    <tr>\n",
       "      <th rowspan=\"2\" valign=\"top\">2020-03-02</th>\n",
       "      <th>A-01</th>\n",
       "      <td>0.2700</td>\n",
       "      <td>0.760000</td>\n",
       "      <td>105</td>\n",
       "    </tr>\n",
       "    <tr>\n",
       "      <th>B-02</th>\n",
       "      <td>4.1040</td>\n",
       "      <td>5.000000</td>\n",
       "      <td>25</td>\n",
       "    </tr>\n",
       "    <tr>\n",
       "      <th rowspan=\"2\" valign=\"top\">2020-03-03</th>\n",
       "      <th>A-01</th>\n",
       "      <td>0.2376</td>\n",
       "      <td>0.800000</td>\n",
       "      <td>105</td>\n",
       "    </tr>\n",
       "    <tr>\n",
       "      <th>A-02</th>\n",
       "      <td>0.6588</td>\n",
       "      <td>1.020000</td>\n",
       "      <td>55</td>\n",
       "    </tr>\n",
       "  </tbody>\n",
       "</table>\n",
       "</div>"
      ],
      "text/plain": [
       "                   Cost     Price  Sold\n",
       "Date       Part                        \n",
       "2020-03-01 A-01  0.2592  0.676875    98\n",
       "           A-02  0.5940  0.884450    78\n",
       "           B-02  4.2984  4.530550    15\n",
       "2020-03-02 A-01  0.2700  0.760000   105\n",
       "           B-02  4.1040  5.000000    25\n",
       "2020-03-03 A-01  0.2376  0.800000   105\n",
       "           A-02  0.6588  1.020000    55"
      ]
     },
     "execution_count": 98,
     "metadata": {},
     "output_type": "execute_result"
    }
   ],
   "source": [
    "df.loc['2020-03-01','Price'] = df.loc['2020-03-01','Price']*0.95\n",
    "df"
   ]
  },
  {
   "cell_type": "markdown",
   "metadata": {},
   "source": [
    "These operations are easy—it's really just a question of knowing how to slice your data!"
   ]
  },
  {
   "cell_type": "markdown",
   "metadata": {},
   "source": [
    "## Module 5.7: Row & Column-wise Operations"
   ]
  },
  {
   "cell_type": "markdown",
   "metadata": {},
   "source": [
    "Just like with NumPy, we can also do element-wise operations with our DataFrames. Again, it's really just a practice of knowing how to properly slice your data!"
   ]
  },
  {
   "cell_type": "markdown",
   "metadata": {},
   "source": [
    "### Creating New Column Based Upon Other Columns"
   ]
  },
  {
   "cell_type": "markdown",
   "metadata": {},
   "source": [
    "Right now, we have a data frame with prices, quantity, and cost. Let's start working towards profitability for each part per day.\n",
    "\n",
    "Here's how we would build a column named Gross, which is Price * Number Sold."
   ]
  },
  {
   "cell_type": "code",
   "execution_count": 99,
   "metadata": {},
   "outputs": [
    {
     "data": {
      "text/html": [
       "<div>\n",
       "<style scoped>\n",
       "    .dataframe tbody tr th:only-of-type {\n",
       "        vertical-align: middle;\n",
       "    }\n",
       "\n",
       "    .dataframe tbody tr th {\n",
       "        vertical-align: top;\n",
       "    }\n",
       "\n",
       "    .dataframe thead th {\n",
       "        text-align: right;\n",
       "    }\n",
       "</style>\n",
       "<table border=\"1\" class=\"dataframe\">\n",
       "  <thead>\n",
       "    <tr style=\"text-align: right;\">\n",
       "      <th></th>\n",
       "      <th></th>\n",
       "      <th>Cost</th>\n",
       "      <th>Price</th>\n",
       "      <th>Sold</th>\n",
       "    </tr>\n",
       "    <tr>\n",
       "      <th>Date</th>\n",
       "      <th>Part</th>\n",
       "      <th></th>\n",
       "      <th></th>\n",
       "      <th></th>\n",
       "    </tr>\n",
       "  </thead>\n",
       "  <tbody>\n",
       "    <tr>\n",
       "      <th rowspan=\"3\" valign=\"top\">2020-03-01</th>\n",
       "      <th>A-01</th>\n",
       "      <td>0.24</td>\n",
       "      <td>0.75</td>\n",
       "      <td>98</td>\n",
       "    </tr>\n",
       "    <tr>\n",
       "      <th>A-02</th>\n",
       "      <td>0.55</td>\n",
       "      <td>0.98</td>\n",
       "      <td>78</td>\n",
       "    </tr>\n",
       "    <tr>\n",
       "      <th>B-02</th>\n",
       "      <td>3.98</td>\n",
       "      <td>5.02</td>\n",
       "      <td>15</td>\n",
       "    </tr>\n",
       "    <tr>\n",
       "      <th rowspan=\"2\" valign=\"top\">2020-03-02</th>\n",
       "      <th>A-01</th>\n",
       "      <td>0.25</td>\n",
       "      <td>0.76</td>\n",
       "      <td>105</td>\n",
       "    </tr>\n",
       "    <tr>\n",
       "      <th>B-02</th>\n",
       "      <td>3.80</td>\n",
       "      <td>5.00</td>\n",
       "      <td>25</td>\n",
       "    </tr>\n",
       "    <tr>\n",
       "      <th rowspan=\"2\" valign=\"top\">2020-03-03</th>\n",
       "      <th>A-01</th>\n",
       "      <td>0.22</td>\n",
       "      <td>0.80</td>\n",
       "      <td>105</td>\n",
       "    </tr>\n",
       "    <tr>\n",
       "      <th>A-02</th>\n",
       "      <td>0.61</td>\n",
       "      <td>1.02</td>\n",
       "      <td>55</td>\n",
       "    </tr>\n",
       "  </tbody>\n",
       "</table>\n",
       "</div>"
      ],
      "text/plain": [
       "                 Cost  Price  Sold\n",
       "Date       Part                   \n",
       "2020-03-01 A-01  0.24   0.75    98\n",
       "           A-02  0.55   0.98    78\n",
       "           B-02  3.98   5.02    15\n",
       "2020-03-02 A-01  0.25   0.76   105\n",
       "           B-02  3.80   5.00    25\n",
       "2020-03-03 A-01  0.22   0.80   105\n",
       "           A-02  0.61   1.02    55"
      ]
     },
     "execution_count": 99,
     "metadata": {},
     "output_type": "execute_result"
    }
   ],
   "source": [
    "loc = \"https://github.com/mhall-simon/python/blob/main/data/misc/inventory-multi-index.xlsx?raw=true\"\n",
    "\n",
    "df = pd.read_excel(loc, parse_dates=True, index_col=[0,1])\n",
    "df"
   ]
  },
  {
   "cell_type": "code",
   "execution_count": 100,
   "metadata": {},
   "outputs": [
    {
     "data": {
      "text/html": [
       "<div>\n",
       "<style scoped>\n",
       "    .dataframe tbody tr th:only-of-type {\n",
       "        vertical-align: middle;\n",
       "    }\n",
       "\n",
       "    .dataframe tbody tr th {\n",
       "        vertical-align: top;\n",
       "    }\n",
       "\n",
       "    .dataframe thead th {\n",
       "        text-align: right;\n",
       "    }\n",
       "</style>\n",
       "<table border=\"1\" class=\"dataframe\">\n",
       "  <thead>\n",
       "    <tr style=\"text-align: right;\">\n",
       "      <th></th>\n",
       "      <th></th>\n",
       "      <th>Cost</th>\n",
       "      <th>Price</th>\n",
       "      <th>Sold</th>\n",
       "      <th>Gross</th>\n",
       "    </tr>\n",
       "    <tr>\n",
       "      <th>Date</th>\n",
       "      <th>Part</th>\n",
       "      <th></th>\n",
       "      <th></th>\n",
       "      <th></th>\n",
       "      <th></th>\n",
       "    </tr>\n",
       "  </thead>\n",
       "  <tbody>\n",
       "    <tr>\n",
       "      <th rowspan=\"3\" valign=\"top\">2020-03-01</th>\n",
       "      <th>A-01</th>\n",
       "      <td>0.24</td>\n",
       "      <td>0.75</td>\n",
       "      <td>98</td>\n",
       "      <td>73.50</td>\n",
       "    </tr>\n",
       "    <tr>\n",
       "      <th>A-02</th>\n",
       "      <td>0.55</td>\n",
       "      <td>0.98</td>\n",
       "      <td>78</td>\n",
       "      <td>76.44</td>\n",
       "    </tr>\n",
       "    <tr>\n",
       "      <th>B-02</th>\n",
       "      <td>3.98</td>\n",
       "      <td>5.02</td>\n",
       "      <td>15</td>\n",
       "      <td>75.30</td>\n",
       "    </tr>\n",
       "    <tr>\n",
       "      <th rowspan=\"2\" valign=\"top\">2020-03-02</th>\n",
       "      <th>A-01</th>\n",
       "      <td>0.25</td>\n",
       "      <td>0.76</td>\n",
       "      <td>105</td>\n",
       "      <td>79.80</td>\n",
       "    </tr>\n",
       "    <tr>\n",
       "      <th>B-02</th>\n",
       "      <td>3.80</td>\n",
       "      <td>5.00</td>\n",
       "      <td>25</td>\n",
       "      <td>125.00</td>\n",
       "    </tr>\n",
       "    <tr>\n",
       "      <th rowspan=\"2\" valign=\"top\">2020-03-03</th>\n",
       "      <th>A-01</th>\n",
       "      <td>0.22</td>\n",
       "      <td>0.80</td>\n",
       "      <td>105</td>\n",
       "      <td>84.00</td>\n",
       "    </tr>\n",
       "    <tr>\n",
       "      <th>A-02</th>\n",
       "      <td>0.61</td>\n",
       "      <td>1.02</td>\n",
       "      <td>55</td>\n",
       "      <td>56.10</td>\n",
       "    </tr>\n",
       "  </tbody>\n",
       "</table>\n",
       "</div>"
      ],
      "text/plain": [
       "                 Cost  Price  Sold   Gross\n",
       "Date       Part                           \n",
       "2020-03-01 A-01  0.24   0.75    98   73.50\n",
       "           A-02  0.55   0.98    78   76.44\n",
       "           B-02  3.98   5.02    15   75.30\n",
       "2020-03-02 A-01  0.25   0.76   105   79.80\n",
       "           B-02  3.80   5.00    25  125.00\n",
       "2020-03-03 A-01  0.22   0.80   105   84.00\n",
       "           A-02  0.61   1.02    55   56.10"
      ]
     },
     "execution_count": 100,
     "metadata": {},
     "output_type": "execute_result"
    }
   ],
   "source": [
    "df['Gross'] = df.Price * df.Sold\n",
    "df"
   ]
  },
  {
   "cell_type": "markdown",
   "metadata": {},
   "source": [
    "Now, let's calculate Net, which is going to be Gross minus our total cost for the day."
   ]
  },
  {
   "cell_type": "code",
   "execution_count": 101,
   "metadata": {},
   "outputs": [
    {
     "data": {
      "text/html": [
       "<div>\n",
       "<style scoped>\n",
       "    .dataframe tbody tr th:only-of-type {\n",
       "        vertical-align: middle;\n",
       "    }\n",
       "\n",
       "    .dataframe tbody tr th {\n",
       "        vertical-align: top;\n",
       "    }\n",
       "\n",
       "    .dataframe thead th {\n",
       "        text-align: right;\n",
       "    }\n",
       "</style>\n",
       "<table border=\"1\" class=\"dataframe\">\n",
       "  <thead>\n",
       "    <tr style=\"text-align: right;\">\n",
       "      <th></th>\n",
       "      <th></th>\n",
       "      <th>Cost</th>\n",
       "      <th>Price</th>\n",
       "      <th>Sold</th>\n",
       "      <th>Gross</th>\n",
       "      <th>Net</th>\n",
       "    </tr>\n",
       "    <tr>\n",
       "      <th>Date</th>\n",
       "      <th>Part</th>\n",
       "      <th></th>\n",
       "      <th></th>\n",
       "      <th></th>\n",
       "      <th></th>\n",
       "      <th></th>\n",
       "    </tr>\n",
       "  </thead>\n",
       "  <tbody>\n",
       "    <tr>\n",
       "      <th rowspan=\"3\" valign=\"top\">2020-03-01</th>\n",
       "      <th>A-01</th>\n",
       "      <td>0.24</td>\n",
       "      <td>0.75</td>\n",
       "      <td>98</td>\n",
       "      <td>73.50</td>\n",
       "      <td>49.98</td>\n",
       "    </tr>\n",
       "    <tr>\n",
       "      <th>A-02</th>\n",
       "      <td>0.55</td>\n",
       "      <td>0.98</td>\n",
       "      <td>78</td>\n",
       "      <td>76.44</td>\n",
       "      <td>33.54</td>\n",
       "    </tr>\n",
       "    <tr>\n",
       "      <th>B-02</th>\n",
       "      <td>3.98</td>\n",
       "      <td>5.02</td>\n",
       "      <td>15</td>\n",
       "      <td>75.30</td>\n",
       "      <td>15.60</td>\n",
       "    </tr>\n",
       "    <tr>\n",
       "      <th rowspan=\"2\" valign=\"top\">2020-03-02</th>\n",
       "      <th>A-01</th>\n",
       "      <td>0.25</td>\n",
       "      <td>0.76</td>\n",
       "      <td>105</td>\n",
       "      <td>79.80</td>\n",
       "      <td>53.55</td>\n",
       "    </tr>\n",
       "    <tr>\n",
       "      <th>B-02</th>\n",
       "      <td>3.80</td>\n",
       "      <td>5.00</td>\n",
       "      <td>25</td>\n",
       "      <td>125.00</td>\n",
       "      <td>30.00</td>\n",
       "    </tr>\n",
       "    <tr>\n",
       "      <th rowspan=\"2\" valign=\"top\">2020-03-03</th>\n",
       "      <th>A-01</th>\n",
       "      <td>0.22</td>\n",
       "      <td>0.80</td>\n",
       "      <td>105</td>\n",
       "      <td>84.00</td>\n",
       "      <td>60.90</td>\n",
       "    </tr>\n",
       "    <tr>\n",
       "      <th>A-02</th>\n",
       "      <td>0.61</td>\n",
       "      <td>1.02</td>\n",
       "      <td>55</td>\n",
       "      <td>56.10</td>\n",
       "      <td>22.55</td>\n",
       "    </tr>\n",
       "  </tbody>\n",
       "</table>\n",
       "</div>"
      ],
      "text/plain": [
       "                 Cost  Price  Sold   Gross    Net\n",
       "Date       Part                                  \n",
       "2020-03-01 A-01  0.24   0.75    98   73.50  49.98\n",
       "           A-02  0.55   0.98    78   76.44  33.54\n",
       "           B-02  3.98   5.02    15   75.30  15.60\n",
       "2020-03-02 A-01  0.25   0.76   105   79.80  53.55\n",
       "           B-02  3.80   5.00    25  125.00  30.00\n",
       "2020-03-03 A-01  0.22   0.80   105   84.00  60.90\n",
       "           A-02  0.61   1.02    55   56.10  22.55"
      ]
     },
     "execution_count": 101,
     "metadata": {},
     "output_type": "execute_result"
    }
   ],
   "source": [
    "df['Net'] = df.Gross - (df.Cost * df.Sold)\n",
    "df"
   ]
  },
  {
   "cell_type": "markdown",
   "metadata": {},
   "source": [
    "Now, we can also figure out our margin. We'll calculate our margin as Net / Gross, and leave it in decimal terms (don't multiply by 100)"
   ]
  },
  {
   "cell_type": "code",
   "execution_count": 102,
   "metadata": {},
   "outputs": [
    {
     "data": {
      "text/html": [
       "<div>\n",
       "<style scoped>\n",
       "    .dataframe tbody tr th:only-of-type {\n",
       "        vertical-align: middle;\n",
       "    }\n",
       "\n",
       "    .dataframe tbody tr th {\n",
       "        vertical-align: top;\n",
       "    }\n",
       "\n",
       "    .dataframe thead th {\n",
       "        text-align: right;\n",
       "    }\n",
       "</style>\n",
       "<table border=\"1\" class=\"dataframe\">\n",
       "  <thead>\n",
       "    <tr style=\"text-align: right;\">\n",
       "      <th></th>\n",
       "      <th></th>\n",
       "      <th>Cost</th>\n",
       "      <th>Price</th>\n",
       "      <th>Sold</th>\n",
       "      <th>Gross</th>\n",
       "      <th>Net</th>\n",
       "      <th>Margin</th>\n",
       "    </tr>\n",
       "    <tr>\n",
       "      <th>Date</th>\n",
       "      <th>Part</th>\n",
       "      <th></th>\n",
       "      <th></th>\n",
       "      <th></th>\n",
       "      <th></th>\n",
       "      <th></th>\n",
       "      <th></th>\n",
       "    </tr>\n",
       "  </thead>\n",
       "  <tbody>\n",
       "    <tr>\n",
       "      <th rowspan=\"3\" valign=\"top\">2020-03-01</th>\n",
       "      <th>A-01</th>\n",
       "      <td>0.24</td>\n",
       "      <td>0.75</td>\n",
       "      <td>98</td>\n",
       "      <td>73.50</td>\n",
       "      <td>49.98</td>\n",
       "      <td>0.680000</td>\n",
       "    </tr>\n",
       "    <tr>\n",
       "      <th>A-02</th>\n",
       "      <td>0.55</td>\n",
       "      <td>0.98</td>\n",
       "      <td>78</td>\n",
       "      <td>76.44</td>\n",
       "      <td>33.54</td>\n",
       "      <td>0.438776</td>\n",
       "    </tr>\n",
       "    <tr>\n",
       "      <th>B-02</th>\n",
       "      <td>3.98</td>\n",
       "      <td>5.02</td>\n",
       "      <td>15</td>\n",
       "      <td>75.30</td>\n",
       "      <td>15.60</td>\n",
       "      <td>0.207171</td>\n",
       "    </tr>\n",
       "    <tr>\n",
       "      <th rowspan=\"2\" valign=\"top\">2020-03-02</th>\n",
       "      <th>A-01</th>\n",
       "      <td>0.25</td>\n",
       "      <td>0.76</td>\n",
       "      <td>105</td>\n",
       "      <td>79.80</td>\n",
       "      <td>53.55</td>\n",
       "      <td>0.671053</td>\n",
       "    </tr>\n",
       "    <tr>\n",
       "      <th>B-02</th>\n",
       "      <td>3.80</td>\n",
       "      <td>5.00</td>\n",
       "      <td>25</td>\n",
       "      <td>125.00</td>\n",
       "      <td>30.00</td>\n",
       "      <td>0.240000</td>\n",
       "    </tr>\n",
       "    <tr>\n",
       "      <th rowspan=\"2\" valign=\"top\">2020-03-03</th>\n",
       "      <th>A-01</th>\n",
       "      <td>0.22</td>\n",
       "      <td>0.80</td>\n",
       "      <td>105</td>\n",
       "      <td>84.00</td>\n",
       "      <td>60.90</td>\n",
       "      <td>0.725000</td>\n",
       "    </tr>\n",
       "    <tr>\n",
       "      <th>A-02</th>\n",
       "      <td>0.61</td>\n",
       "      <td>1.02</td>\n",
       "      <td>55</td>\n",
       "      <td>56.10</td>\n",
       "      <td>22.55</td>\n",
       "      <td>0.401961</td>\n",
       "    </tr>\n",
       "  </tbody>\n",
       "</table>\n",
       "</div>"
      ],
      "text/plain": [
       "                 Cost  Price  Sold   Gross    Net    Margin\n",
       "Date       Part                                            \n",
       "2020-03-01 A-01  0.24   0.75    98   73.50  49.98  0.680000\n",
       "           A-02  0.55   0.98    78   76.44  33.54  0.438776\n",
       "           B-02  3.98   5.02    15   75.30  15.60  0.207171\n",
       "2020-03-02 A-01  0.25   0.76   105   79.80  53.55  0.671053\n",
       "           B-02  3.80   5.00    25  125.00  30.00  0.240000\n",
       "2020-03-03 A-01  0.22   0.80   105   84.00  60.90  0.725000\n",
       "           A-02  0.61   1.02    55   56.10  22.55  0.401961"
      ]
     },
     "execution_count": 102,
     "metadata": {},
     "output_type": "execute_result"
    }
   ],
   "source": [
    "df['Margin'] = df.Net / df.Gross\n",
    "df"
   ]
  },
  {
   "cell_type": "markdown",
   "metadata": {},
   "source": [
    "If you're thinking that right now we're really only calculating new columns, you'd be right! We usually have our data formatted as new entries going vertically, within the columns.\n",
    "\n",
    "Most of our row-wise operations come in SQL-functionality, when we calculate statistics for our columns or run groups, filters, and more!"
   ]
  },
  {
   "cell_type": "markdown",
   "metadata": {},
   "source": [
    "### Applying Custom Functions\n",
    "\n",
    "Usually, we want to keep our operations to run as broadcasting or element-wise operations with subsets and slices. However, sometimes we need to apply a function!\n",
    "\n",
    "These are going to be slower, but when they're needed they're necessary!\n",
    "\n",
    "We can write them with lambda functions."
   ]
  },
  {
   "cell_type": "markdown",
   "metadata": {},
   "source": [
    "Let's mark our products with the Note \"High\" to denote a high-margin product. Management defines any high margin product as one with at least a 65% profit margin."
   ]
  },
  {
   "cell_type": "code",
   "execution_count": 106,
   "metadata": {},
   "outputs": [
    {
     "data": {
      "text/html": [
       "<div>\n",
       "<style scoped>\n",
       "    .dataframe tbody tr th:only-of-type {\n",
       "        vertical-align: middle;\n",
       "    }\n",
       "\n",
       "    .dataframe tbody tr th {\n",
       "        vertical-align: top;\n",
       "    }\n",
       "\n",
       "    .dataframe thead th {\n",
       "        text-align: right;\n",
       "    }\n",
       "</style>\n",
       "<table border=\"1\" class=\"dataframe\">\n",
       "  <thead>\n",
       "    <tr style=\"text-align: right;\">\n",
       "      <th></th>\n",
       "      <th></th>\n",
       "      <th>Cost</th>\n",
       "      <th>Price</th>\n",
       "      <th>Sold</th>\n",
       "      <th>Gross</th>\n",
       "      <th>Net</th>\n",
       "      <th>Margin</th>\n",
       "      <th>Note</th>\n",
       "    </tr>\n",
       "    <tr>\n",
       "      <th>Date</th>\n",
       "      <th>Part</th>\n",
       "      <th></th>\n",
       "      <th></th>\n",
       "      <th></th>\n",
       "      <th></th>\n",
       "      <th></th>\n",
       "      <th></th>\n",
       "      <th></th>\n",
       "    </tr>\n",
       "  </thead>\n",
       "  <tbody>\n",
       "    <tr>\n",
       "      <th rowspan=\"3\" valign=\"top\">2020-03-01</th>\n",
       "      <th>A-01</th>\n",
       "      <td>0.24</td>\n",
       "      <td>0.75</td>\n",
       "      <td>98</td>\n",
       "      <td>73.50</td>\n",
       "      <td>49.98</td>\n",
       "      <td>0.680000</td>\n",
       "      <td>High</td>\n",
       "    </tr>\n",
       "    <tr>\n",
       "      <th>A-02</th>\n",
       "      <td>0.55</td>\n",
       "      <td>0.98</td>\n",
       "      <td>78</td>\n",
       "      <td>76.44</td>\n",
       "      <td>33.54</td>\n",
       "      <td>0.438776</td>\n",
       "      <td>Low</td>\n",
       "    </tr>\n",
       "    <tr>\n",
       "      <th>B-02</th>\n",
       "      <td>3.98</td>\n",
       "      <td>5.02</td>\n",
       "      <td>15</td>\n",
       "      <td>75.30</td>\n",
       "      <td>15.60</td>\n",
       "      <td>0.207171</td>\n",
       "      <td>Low</td>\n",
       "    </tr>\n",
       "    <tr>\n",
       "      <th rowspan=\"2\" valign=\"top\">2020-03-02</th>\n",
       "      <th>A-01</th>\n",
       "      <td>0.25</td>\n",
       "      <td>0.76</td>\n",
       "      <td>105</td>\n",
       "      <td>79.80</td>\n",
       "      <td>53.55</td>\n",
       "      <td>0.671053</td>\n",
       "      <td>High</td>\n",
       "    </tr>\n",
       "    <tr>\n",
       "      <th>B-02</th>\n",
       "      <td>3.80</td>\n",
       "      <td>5.00</td>\n",
       "      <td>25</td>\n",
       "      <td>125.00</td>\n",
       "      <td>30.00</td>\n",
       "      <td>0.240000</td>\n",
       "      <td>Low</td>\n",
       "    </tr>\n",
       "    <tr>\n",
       "      <th rowspan=\"2\" valign=\"top\">2020-03-03</th>\n",
       "      <th>A-01</th>\n",
       "      <td>0.22</td>\n",
       "      <td>0.80</td>\n",
       "      <td>105</td>\n",
       "      <td>84.00</td>\n",
       "      <td>60.90</td>\n",
       "      <td>0.725000</td>\n",
       "      <td>High</td>\n",
       "    </tr>\n",
       "    <tr>\n",
       "      <th>A-02</th>\n",
       "      <td>0.61</td>\n",
       "      <td>1.02</td>\n",
       "      <td>55</td>\n",
       "      <td>56.10</td>\n",
       "      <td>22.55</td>\n",
       "      <td>0.401961</td>\n",
       "      <td>Low</td>\n",
       "    </tr>\n",
       "  </tbody>\n",
       "</table>\n",
       "</div>"
      ],
      "text/plain": [
       "                 Cost  Price  Sold   Gross    Net    Margin  Note\n",
       "Date       Part                                                  \n",
       "2020-03-01 A-01  0.24   0.75    98   73.50  49.98  0.680000  High\n",
       "           A-02  0.55   0.98    78   76.44  33.54  0.438776   Low\n",
       "           B-02  3.98   5.02    15   75.30  15.60  0.207171   Low\n",
       "2020-03-02 A-01  0.25   0.76   105   79.80  53.55  0.671053  High\n",
       "           B-02  3.80   5.00    25  125.00  30.00  0.240000   Low\n",
       "2020-03-03 A-01  0.22   0.80   105   84.00  60.90  0.725000  High\n",
       "           A-02  0.61   1.02    55   56.10  22.55  0.401961   Low"
      ]
     },
     "execution_count": 106,
     "metadata": {},
     "output_type": "execute_result"
    }
   ],
   "source": [
    "df['Note'] = df.apply(lambda row: 'High' if row.Margin >= 0.65 else 'Low', axis=1)\n",
    "df"
   ]
  },
  {
   "cell_type": "markdown",
   "metadata": {},
   "source": [
    "### Bonus Box: Nested Lambdas for Multiple Logic Checks"
   ]
  },
  {
   "cell_type": "markdown",
   "metadata": {},
   "source": [
    "We can \"nest\" lambda functions to do multiple logic checks! Essentially, the else block is going to run another lambda!\n",
    "\n",
    "Let's redo the above example and cast 3 margins. One for high (>65%), one for medium (>40%), and one for low."
   ]
  },
  {
   "cell_type": "code",
   "execution_count": 109,
   "metadata": {},
   "outputs": [
    {
     "data": {
      "text/html": [
       "<div>\n",
       "<style scoped>\n",
       "    .dataframe tbody tr th:only-of-type {\n",
       "        vertical-align: middle;\n",
       "    }\n",
       "\n",
       "    .dataframe tbody tr th {\n",
       "        vertical-align: top;\n",
       "    }\n",
       "\n",
       "    .dataframe thead th {\n",
       "        text-align: right;\n",
       "    }\n",
       "</style>\n",
       "<table border=\"1\" class=\"dataframe\">\n",
       "  <thead>\n",
       "    <tr style=\"text-align: right;\">\n",
       "      <th></th>\n",
       "      <th></th>\n",
       "      <th>Cost</th>\n",
       "      <th>Price</th>\n",
       "      <th>Sold</th>\n",
       "      <th>Gross</th>\n",
       "      <th>Net</th>\n",
       "      <th>Margin</th>\n",
       "      <th>Note</th>\n",
       "    </tr>\n",
       "    <tr>\n",
       "      <th>Date</th>\n",
       "      <th>Part</th>\n",
       "      <th></th>\n",
       "      <th></th>\n",
       "      <th></th>\n",
       "      <th></th>\n",
       "      <th></th>\n",
       "      <th></th>\n",
       "      <th></th>\n",
       "    </tr>\n",
       "  </thead>\n",
       "  <tbody>\n",
       "    <tr>\n",
       "      <th rowspan=\"3\" valign=\"top\">2020-03-01</th>\n",
       "      <th>A-01</th>\n",
       "      <td>0.24</td>\n",
       "      <td>0.75</td>\n",
       "      <td>98</td>\n",
       "      <td>73.50</td>\n",
       "      <td>49.98</td>\n",
       "      <td>0.680000</td>\n",
       "      <td>High</td>\n",
       "    </tr>\n",
       "    <tr>\n",
       "      <th>A-02</th>\n",
       "      <td>0.55</td>\n",
       "      <td>0.98</td>\n",
       "      <td>78</td>\n",
       "      <td>76.44</td>\n",
       "      <td>33.54</td>\n",
       "      <td>0.438776</td>\n",
       "      <td>Medium</td>\n",
       "    </tr>\n",
       "    <tr>\n",
       "      <th>B-02</th>\n",
       "      <td>3.98</td>\n",
       "      <td>5.02</td>\n",
       "      <td>15</td>\n",
       "      <td>75.30</td>\n",
       "      <td>15.60</td>\n",
       "      <td>0.207171</td>\n",
       "      <td>Low</td>\n",
       "    </tr>\n",
       "    <tr>\n",
       "      <th rowspan=\"2\" valign=\"top\">2020-03-02</th>\n",
       "      <th>A-01</th>\n",
       "      <td>0.25</td>\n",
       "      <td>0.76</td>\n",
       "      <td>105</td>\n",
       "      <td>79.80</td>\n",
       "      <td>53.55</td>\n",
       "      <td>0.671053</td>\n",
       "      <td>High</td>\n",
       "    </tr>\n",
       "    <tr>\n",
       "      <th>B-02</th>\n",
       "      <td>3.80</td>\n",
       "      <td>5.00</td>\n",
       "      <td>25</td>\n",
       "      <td>125.00</td>\n",
       "      <td>30.00</td>\n",
       "      <td>0.240000</td>\n",
       "      <td>Low</td>\n",
       "    </tr>\n",
       "    <tr>\n",
       "      <th rowspan=\"2\" valign=\"top\">2020-03-03</th>\n",
       "      <th>A-01</th>\n",
       "      <td>0.22</td>\n",
       "      <td>0.80</td>\n",
       "      <td>105</td>\n",
       "      <td>84.00</td>\n",
       "      <td>60.90</td>\n",
       "      <td>0.725000</td>\n",
       "      <td>High</td>\n",
       "    </tr>\n",
       "    <tr>\n",
       "      <th>A-02</th>\n",
       "      <td>0.61</td>\n",
       "      <td>1.02</td>\n",
       "      <td>55</td>\n",
       "      <td>56.10</td>\n",
       "      <td>22.55</td>\n",
       "      <td>0.401961</td>\n",
       "      <td>Medium</td>\n",
       "    </tr>\n",
       "  </tbody>\n",
       "</table>\n",
       "</div>"
      ],
      "text/plain": [
       "                 Cost  Price  Sold   Gross    Net    Margin    Note\n",
       "Date       Part                                                    \n",
       "2020-03-01 A-01  0.24   0.75    98   73.50  49.98  0.680000    High\n",
       "           A-02  0.55   0.98    78   76.44  33.54  0.438776  Medium\n",
       "           B-02  3.98   5.02    15   75.30  15.60  0.207171     Low\n",
       "2020-03-02 A-01  0.25   0.76   105   79.80  53.55  0.671053    High\n",
       "           B-02  3.80   5.00    25  125.00  30.00  0.240000     Low\n",
       "2020-03-03 A-01  0.22   0.80   105   84.00  60.90  0.725000    High\n",
       "           A-02  0.61   1.02    55   56.10  22.55  0.401961  Medium"
      ]
     },
     "execution_count": 109,
     "metadata": {},
     "output_type": "execute_result"
    }
   ],
   "source": [
    "df['Note'] = df.apply(lambda row: 'High' if row.Margin >= 0.65 else ('Medium' if row.Margin >= 0.4 else 'Low'), axis=1)\n",
    "df"
   ]
  },
  {
   "cell_type": "markdown",
   "metadata": {},
   "source": [
    "## Summary"
   ]
  },
  {
   "cell_type": "markdown",
   "metadata": {},
   "source": [
    "Look how far you're coming along! Before this module, all of your data would have been in NumPy with no row/column information!\n",
    "\n",
    "Now our analysis can start to take form based upon these foundations.\n",
    "\n",
    "We're already able to do so much! Next is SQL-like functionality."
   ]
  },
  {
   "cell_type": "code",
   "execution_count": null,
   "metadata": {},
   "outputs": [],
   "source": []
  }
 ],
 "metadata": {
  "kernelspec": {
   "display_name": "Python 3 (Spyder)",
   "language": "python3",
   "name": "python3"
  },
  "language_info": {
   "codemirror_mode": {
    "name": "ipython",
    "version": 3
   },
   "file_extension": ".py",
   "mimetype": "text/x-python",
   "name": "python",
   "nbconvert_exporter": "python",
   "pygments_lexer": "ipython3",
   "version": "3.8.3"
  }
 },
 "nbformat": 4,
 "nbformat_minor": 4
}
