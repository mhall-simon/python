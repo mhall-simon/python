{
 "cells": [
  {
   "cell_type": "markdown",
   "metadata": {},
   "source": [
    "# Module 10 - Regression Algorithms - Linear Regression, Ridge, and LASSO with Log-Log Transformations"
   ]
  },
  {
   "cell_type": "markdown",
   "metadata": {},
   "source": [
    "In the last notebook, to explore the nonlinear relationships between the explanatory variables and predictor (mpg), I added polynomial terms through feature engineering. However, this made the model more complex because we introduced more X columns to the data.\n",
    "\n",
    "To reduce complexity, I introduced LASSO which can set some coefficients to zero due to L1 penalties.\n",
    "\n",
    "However, we can reduce nonlinearity by taking the log of both the target (mpg), and our continuous explanatory factors!\n",
    "\n",
    "This will also prevent us from generating more columns of data points.\n",
    "\n",
    "Let's start with our usual methods:"
   ]
  },
  {
   "cell_type": "markdown",
   "metadata": {},
   "source": [
    "## Part A: Loading in Dataset"
   ]
  },
  {
   "cell_type": "markdown",
   "metadata": {},
   "source": [
    "Import packages and set notebook & diagram output for SKLearn:"
   ]
  },
  {
   "cell_type": "code",
   "execution_count": 1,
   "metadata": {},
   "outputs": [],
   "source": [
    "import numpy as np\n",
    "import pandas as pd\n",
    "import matplotlib.pyplot as plt\n",
    "import seaborn as                                                                                                                                        sns\n",
    "\n",
    "from IPython.core.interactiveshell import InteractiveShell\n",
    "InteractiveShell.ast_node_interactivity = \"all\"\n",
    "\n",
    "from sklearn import set_config\n",
    "set_config(display='diagram')"
   ]
  },
  {
   "cell_type": "markdown",
   "metadata": {},
   "source": [
    "Import data and split X / y:"
   ]
  },
  {
   "cell_type": "code",
   "execution_count": 2,
   "metadata": {},
   "outputs": [],
   "source": [
    "loc = \"https://raw.githubusercontent.com/mhall-simon/python/main/data/car-mpg/auto-mpg.data\"\n",
    "\n",
    "df = pd.read_csv(loc, sep=\"\\s+\", header=None, na_values=\"?\")\n",
    "\n",
    "cols = {0:\"mpg\", 1:\"cylinders\", 2:\"displacement\", 3:\"horsepower\", 4:\"weight\", 5:\"accel\", 6:\"year\", 7:\"origin\", 8:\"model\"}\n",
    "df = df.rename(columns=cols)\n",
    "\n",
    "df = df.replace(np.nan, df.horsepower.mean())\n",
    "\n",
    "df = df.drop(\"model\", axis=1)\n",
    "\n",
    "X = df.iloc[:,1:]\n",
    "y = df.iloc[:,0]"
   ]
  },
  {
   "cell_type": "markdown",
   "metadata": {},
   "source": [
    "Our usual train-test split:"
   ]
  },
  {
   "cell_type": "code",
   "execution_count": 3,
   "metadata": {},
   "outputs": [],
   "source": [
    "from sklearn.model_selection import train_test_split\n",
    "\n",
    "X_train, X_test, y_train, y_test = train_test_split(X, y, random_state=107)"
   ]
  },
  {
   "cell_type": "markdown",
   "metadata": {},
   "source": [
    "## Part B: Data Preprocessing & Pipeline"
   ]
  },
  {
   "cell_type": "markdown",
   "metadata": {},
   "source": [
    "Listing out our categorical and numerical columns again:"
   ]
  },
  {
   "cell_type": "code",
   "execution_count": 4,
   "metadata": {},
   "outputs": [],
   "source": [
    "categorical_columns = ['cylinders','origin','year']\n",
    "numerical_columns = ['displacement','horsepower','weight','accel']"
   ]
  },
  {
   "cell_type": "markdown",
   "metadata": {},
   "source": [
    "Here's where we start making our changes!\n",
    "\n",
    "The numerical transformer needs to transform our explanatory continuous variables by taking the natural logarithm `np.log`. SKLearn does not have a transformer for this built in, however, we can use the `FunctionTransformer()` to apply our own functionality.\n",
    "\n",
    "A few settings of note for the transformer is that we should also set the inverse function, so we can get back to linear space. Also, I set `check_inverse=True` so SKLearn checks that the transformer can get back to the original values. (I know the equations are inverses, however, it's always a good setting to keep checked.) "
   ]
  },
  {
   "cell_type": "code",
   "execution_count": 5,
   "metadata": {},
   "outputs": [],
   "source": [
    "from sklearn.pipeline import Pipeline\n",
    "from sklearn.preprocessing import FunctionTransformer\n",
    "from sklearn.preprocessing import StandardScaler\n",
    "\n",
    "numerical_transformer = Pipeline(steps=[('log', FunctionTransformer(func=np.log, inverse_func=np.exp, check_inverse=True)),\n",
    "                                        ('scaler', StandardScaler())])"
   ]
  },
  {
   "cell_type": "markdown",
   "metadata": {},
   "source": [
    "Our transformer for one-hot encoding the categorical variables is still the same:"
   ]
  },
  {
   "cell_type": "code",
   "execution_count": 6,
   "metadata": {},
   "outputs": [],
   "source": [
    "from sklearn.preprocessing import OneHotEncoder\n",
    "\n",
    "categorical_transformer = OneHotEncoder(handle_unknown='ignore')"
   ]
  },
  {
   "cell_type": "markdown",
   "metadata": {},
   "source": [
    "And now we can put the two transformers together:"
   ]
  },
  {
   "cell_type": "code",
   "execution_count": 7,
   "metadata": {},
   "outputs": [],
   "source": [
    "from sklearn.compose import ColumnTransformer\n",
    "\n",
    "preprocessor = ColumnTransformer(\n",
    "    transformers=[\n",
    "        ('num', numerical_transformer, numerical_columns),\n",
    "        ('cat', categorical_transformer, categorical_columns)])"
   ]
  },
  {
   "cell_type": "markdown",
   "metadata": {},
   "source": [
    "And now we can put together our first one, Linear Regression:"
   ]
  },
  {
   "cell_type": "code",
   "execution_count": 8,
   "metadata": {},
   "outputs": [
    {
     "data": {
      "text/html": [
       "<style>div.sk-top-container {color: black;background-color: white;}div.sk-toggleable {background-color: white;}label.sk-toggleable__label {cursor: pointer;display: block;width: 100%;margin-bottom: 0;padding: 0.2em 0.3em;box-sizing: border-box;text-align: center;}div.sk-toggleable__content {max-height: 0;max-width: 0;overflow: hidden;text-align: left;background-color: #f0f8ff;}div.sk-toggleable__content pre {margin: 0.2em;color: black;border-radius: 0.25em;background-color: #f0f8ff;}input.sk-toggleable__control:checked~div.sk-toggleable__content {max-height: 200px;max-width: 100%;overflow: auto;}div.sk-estimator input.sk-toggleable__control:checked~label.sk-toggleable__label {background-color: #d4ebff;}div.sk-label input.sk-toggleable__control:checked~label.sk-toggleable__label {background-color: #d4ebff;}input.sk-hidden--visually {border: 0;clip: rect(1px 1px 1px 1px);clip: rect(1px, 1px, 1px, 1px);height: 1px;margin: -1px;overflow: hidden;padding: 0;position: absolute;width: 1px;}div.sk-estimator {font-family: monospace;background-color: #f0f8ff;margin: 0.25em 0.25em;border: 1px dotted black;border-radius: 0.25em;box-sizing: border-box;}div.sk-estimator:hover {background-color: #d4ebff;}div.sk-parallel-item::after {content: \"\";width: 100%;border-bottom: 1px solid gray;flex-grow: 1;}div.sk-label:hover label.sk-toggleable__label {background-color: #d4ebff;}div.sk-serial::before {content: \"\";position: absolute;border-left: 1px solid gray;box-sizing: border-box;top: 2em;bottom: 0;left: 50%;}div.sk-serial {display: flex;flex-direction: column;align-items: center;background-color: white;}div.sk-item {z-index: 1;}div.sk-parallel {display: flex;align-items: stretch;justify-content: center;background-color: white;}div.sk-parallel-item {display: flex;flex-direction: column;position: relative;background-color: white;}div.sk-parallel-item:first-child::after {align-self: flex-end;width: 50%;}div.sk-parallel-item:last-child::after {align-self: flex-start;width: 50%;}div.sk-parallel-item:only-child::after {width: 0;}div.sk-dashed-wrapped {border: 1px dashed gray;margin: 0.2em;box-sizing: border-box;padding-bottom: 0.1em;background-color: white;position: relative;}div.sk-label label {font-family: monospace;font-weight: bold;background-color: white;display: inline-block;line-height: 1.2em;}div.sk-label-container {position: relative;z-index: 2;text-align: center;}div.sk-container {display: inline-block;position: relative;}</style><div class=\"sk-top-container\"><div class=\"sk-container\"><div class=\"sk-item sk-dashed-wrapped\"><div class=\"sk-label-container\"><div class=\"sk-label sk-toggleable\"><input class=\"sk-toggleable__control sk-hidden--visually\" id=\"211f568b-7930-4f8e-a9d8-a1cb0b592358\" type=\"checkbox\" ><label class=\"sk-toggleable__label\" for=\"211f568b-7930-4f8e-a9d8-a1cb0b592358\">Pipeline</label><div class=\"sk-toggleable__content\"><pre>Pipeline(steps=[('columntransformer',\n",
       "                 ColumnTransformer(transformers=[('num',\n",
       "                                                  Pipeline(steps=[('log',\n",
       "                                                                   FunctionTransformer(func=<ufunc 'log'>,\n",
       "                                                                                       inverse_func=<ufunc 'exp'>)),\n",
       "                                                                  ('scaler',\n",
       "                                                                   StandardScaler())]),\n",
       "                                                  ['displacement', 'horsepower',\n",
       "                                                   'weight', 'accel']),\n",
       "                                                 ('cat',\n",
       "                                                  OneHotEncoder(handle_unknown='ignore'),\n",
       "                                                  ['cylinders', 'origin',\n",
       "                                                   'year'])])),\n",
       "                ('transformedtargetregressor',\n",
       "                 TransformedTargetRegressor(func=<ufunc 'log'>,\n",
       "                                            inverse_func=<ufunc 'exp'>,\n",
       "                                            regressor=LinearRegression()))])</pre></div></div></div><div class=\"sk-serial\"><div class=\"sk-item sk-dashed-wrapped\"><div class=\"sk-label-container\"><div class=\"sk-label sk-toggleable\"><input class=\"sk-toggleable__control sk-hidden--visually\" id=\"f4ee1fd0-3ab8-49d8-bb16-0bc7764ba47e\" type=\"checkbox\" ><label class=\"sk-toggleable__label\" for=\"f4ee1fd0-3ab8-49d8-bb16-0bc7764ba47e\">columntransformer: ColumnTransformer</label><div class=\"sk-toggleable__content\"><pre>ColumnTransformer(transformers=[('num',\n",
       "                                 Pipeline(steps=[('log',\n",
       "                                                  FunctionTransformer(func=<ufunc 'log'>,\n",
       "                                                                      inverse_func=<ufunc 'exp'>)),\n",
       "                                                 ('scaler', StandardScaler())]),\n",
       "                                 ['displacement', 'horsepower', 'weight',\n",
       "                                  'accel']),\n",
       "                                ('cat', OneHotEncoder(handle_unknown='ignore'),\n",
       "                                 ['cylinders', 'origin', 'year'])])</pre></div></div></div><div class=\"sk-parallel\"><div class=\"sk-parallel-item\"><div class=\"sk-item\"><div class=\"sk-label-container\"><div class=\"sk-label sk-toggleable\"><input class=\"sk-toggleable__control sk-hidden--visually\" id=\"89a0509f-3f4e-406f-b3c4-4d4c3d6461d2\" type=\"checkbox\" ><label class=\"sk-toggleable__label\" for=\"89a0509f-3f4e-406f-b3c4-4d4c3d6461d2\">num</label><div class=\"sk-toggleable__content\"><pre>['displacement', 'horsepower', 'weight', 'accel']</pre></div></div></div><div class=\"sk-serial\"><div class=\"sk-item\"><div class=\"sk-serial\"><div class=\"sk-item\"><div class=\"sk-estimator sk-toggleable\"><input class=\"sk-toggleable__control sk-hidden--visually\" id=\"bd89d4bd-39b9-4c9d-8e1e-df4535695545\" type=\"checkbox\" ><label class=\"sk-toggleable__label\" for=\"bd89d4bd-39b9-4c9d-8e1e-df4535695545\">FunctionTransformer</label><div class=\"sk-toggleable__content\"><pre>FunctionTransformer(func=<ufunc 'log'>, inverse_func=<ufunc 'exp'>)</pre></div></div></div><div class=\"sk-item\"><div class=\"sk-estimator sk-toggleable\"><input class=\"sk-toggleable__control sk-hidden--visually\" id=\"051dc85d-885c-43d4-93a5-534c2cf634b0\" type=\"checkbox\" ><label class=\"sk-toggleable__label\" for=\"051dc85d-885c-43d4-93a5-534c2cf634b0\">StandardScaler</label><div class=\"sk-toggleable__content\"><pre>StandardScaler()</pre></div></div></div></div></div></div></div></div><div class=\"sk-parallel-item\"><div class=\"sk-item\"><div class=\"sk-label-container\"><div class=\"sk-label sk-toggleable\"><input class=\"sk-toggleable__control sk-hidden--visually\" id=\"ff18ab1c-c98a-4fbd-bd7e-f54be4bee740\" type=\"checkbox\" ><label class=\"sk-toggleable__label\" for=\"ff18ab1c-c98a-4fbd-bd7e-f54be4bee740\">cat</label><div class=\"sk-toggleable__content\"><pre>['cylinders', 'origin', 'year']</pre></div></div></div><div class=\"sk-serial\"><div class=\"sk-item\"><div class=\"sk-estimator sk-toggleable\"><input class=\"sk-toggleable__control sk-hidden--visually\" id=\"b8d46bf3-1b80-410e-8f2f-439cb53f324b\" type=\"checkbox\" ><label class=\"sk-toggleable__label\" for=\"b8d46bf3-1b80-410e-8f2f-439cb53f324b\">OneHotEncoder</label><div class=\"sk-toggleable__content\"><pre>OneHotEncoder(handle_unknown='ignore')</pre></div></div></div></div></div></div></div></div><div class=\"sk-item sk-dashed-wrapped\"><div class=\"sk-label-container\"><div class=\"sk-label sk-toggleable\"><input class=\"sk-toggleable__control sk-hidden--visually\" id=\"15e50dca-81e9-4c92-9b61-8d9aa548510e\" type=\"checkbox\" ><label class=\"sk-toggleable__label\" for=\"15e50dca-81e9-4c92-9b61-8d9aa548510e\">transformedtargetregressor: TransformedTargetRegressor</label><div class=\"sk-toggleable__content\"><pre>TransformedTargetRegressor(func=<ufunc 'log'>, inverse_func=<ufunc 'exp'>,\n",
       "                           regressor=LinearRegression())</pre></div></div></div><div class=\"sk-parallel\"><div class=\"sk-parallel-item\"><div class=\"sk-item\"><div class=\"sk-serial\"><div class=\"sk-item\"><div class=\"sk-estimator sk-toggleable\"><input class=\"sk-toggleable__control sk-hidden--visually\" id=\"9d771f4f-9b1d-4746-8702-48d88ebdd91e\" type=\"checkbox\" ><label class=\"sk-toggleable__label\" for=\"9d771f4f-9b1d-4746-8702-48d88ebdd91e\">LinearRegression</label><div class=\"sk-toggleable__content\"><pre>LinearRegression()</pre></div></div></div></div></div></div></div></div></div></div></div></div>"
      ],
      "text/plain": [
       "Pipeline(steps=[('columntransformer',\n",
       "                 ColumnTransformer(transformers=[('num',\n",
       "                                                  Pipeline(steps=[('log',\n",
       "                                                                   FunctionTransformer(func=<ufunc 'log'>,\n",
       "                                                                                       inverse_func=<ufunc 'exp'>)),\n",
       "                                                                  ('scaler',\n",
       "                                                                   StandardScaler())]),\n",
       "                                                  ['displacement', 'horsepower',\n",
       "                                                   'weight', 'accel']),\n",
       "                                                 ('cat',\n",
       "                                                  OneHotEncoder(handle_unknown='ignore'),\n",
       "                                                  ['cylinders', 'origin',\n",
       "                                                   'year'])])),\n",
       "                ('transformedtargetregressor',\n",
       "                 TransformedTargetRegressor(func=<ufunc 'log'>,\n",
       "                                            inverse_func=<ufunc 'exp'>,\n",
       "                                            regressor=LinearRegression()))])"
      ]
     },
     "execution_count": 8,
     "metadata": {},
     "output_type": "execute_result"
    }
   ],
   "source": [
    "from sklearn.linear_model import LinearRegression\n",
    "from sklearn.compose import TransformedTargetRegressor\n",
    "from sklearn.pipeline import make_pipeline\n",
    "\n",
    "linear = make_pipeline(\n",
    "    preprocessor,\n",
    "    TransformedTargetRegressor(\n",
    "        regressor=LinearRegression(),\n",
    "        func = np.log,\n",
    "        inverse_func = np.exp\n",
    "    )\n",
    ")\n",
    "\n",
    "linear.fit(X_train, y_train)"
   ]
  },
  {
   "cell_type": "markdown",
   "metadata": {},
   "source": [
    "And we can easily generate our in-sample predictions for the model:"
   ]
  },
  {
   "cell_type": "code",
   "execution_count": 9,
   "metadata": {},
   "outputs": [],
   "source": [
    "linear_pred_in = linear.predict(X_train)"
   ]
  },
  {
   "cell_type": "markdown",
   "metadata": {},
   "source": [
    "## Part C: Evaluating Our Models"
   ]
  },
  {
   "cell_type": "markdown",
   "metadata": {},
   "source": [
    "Let's bring back the same metrics we've been analyzing for our linear models:"
   ]
  },
  {
   "cell_type": "code",
   "execution_count": 10,
   "metadata": {},
   "outputs": [
    {
     "data": {
      "text/plain": [
       "0.8996946646077866"
      ]
     },
     "execution_count": 10,
     "metadata": {},
     "output_type": "execute_result"
    },
    {
     "data": {
      "text/plain": [
       "6.209291976132208"
      ]
     },
     "execution_count": 10,
     "metadata": {},
     "output_type": "execute_result"
    },
    {
     "data": {
      "text/plain": [
       "1.7163002917406607"
      ]
     },
     "execution_count": 10,
     "metadata": {},
     "output_type": "execute_result"
    }
   ],
   "source": [
    "from sklearn.metrics import r2_score, mean_squared_error, mean_absolute_error\n",
    "\n",
    "r2_score(y_train, linear_pred_in)\n",
    "mean_squared_error(y_train, linear_pred_in)\n",
    "mean_absolute_error(y_train, linear_pred_in)"
   ]
  },
  {
   "cell_type": "markdown",
   "metadata": {},
   "source": [
    "And let's plot our linear regression predictions vs truths:"
   ]
  },
  {
   "cell_type": "code",
   "execution_count": 12,
   "metadata": {},
   "outputs": [
    {
     "data": {
      "image/png": "[encoded data removed]",
      "text/plain": [
       "<Figure size 360x360 with 1 Axes>"
      ]
     },
     "metadata": {},
     "output_type": "display_data"
    }
   ],
   "source": [
    "fig, ax = plt.subplots(figsize=(5,5))\n",
    "plt.scatter(y_train, linear_pred_in)\n",
    "ax.plot([0,1],[0,1], transform=ax.transAxes, ls=\"--\", c=\"red\")\n",
    "plt.xlim([0,50])\n",
    "plt.ylim([0,50])\n",
    "plt.ylabel(\"Model Predictions\")\n",
    "plt.xlabel(\"Truth Values\")\n",
    "plt.title(\"In Sample Performance\")\n",
    "plt.show();"
   ]
  },
  {
   "cell_type": "markdown",
   "metadata": {},
   "source": [
    "Our model is doing really good! These are very similar results to the polynomial transformations, however, our model is much more simple!"
   ]
  },
  {
   "cell_type": "code",
   "execution_count": 13,
   "metadata": {},
   "outputs": [
    {
     "data": {
      "image/png": "[encoded data removed]",
      "text/plain": [
       "<Figure size 432x288 with 1 Axes>"
      ]
     },
     "metadata": {},
     "output_type": "display_data"
    }
   ],
   "source": [
    "plt.scatter(y_train, y_train-linear_pred_in)\n",
    "plt.xlabel(\"Truth Values - In Sample\")\n",
    "plt.ylabel(\"Residual Error\")\n",
    "plt.xlim([5,50])\n",
    "plt.plot([5,50],[0,0], color='black', alpha=0.6)\n",
    "plt.show();"
   ]
  },
  {
   "cell_type": "markdown",
   "metadata": {},
   "source": [
    "Let's grab out our names for coefficients:"
   ]
  },
  {
   "cell_type": "code",
   "execution_count": 16,
   "metadata": {},
   "outputs": [
    {
     "data": {
      "text/plain": [
       "array(['displacement', 'horsepower', 'weight', 'accel', 'cylinders_3',\n",
       "       'cylinders_4', 'cylinders_5', 'cylinders_6', 'cylinders_8',\n",
       "       'origin_1', 'origin_2', 'origin_3', 'year_70', 'year_71',\n",
       "       'year_72', 'year_73', 'year_74', 'year_75', 'year_76', 'year_77',\n",
       "       'year_78', 'year_79', 'year_80', 'year_81', 'year_82'],\n",
       "      dtype=object)"
      ]
     },
     "execution_count": 16,
     "metadata": {},
     "output_type": "execute_result"
    }
   ],
   "source": [
    "numerical_names = numerical_columns\n",
    "\n",
    "categorical_names = linear.named_steps['columntransformer'].named_transformers_['cat'].get_feature_names(input_features=categorical_columns)\n",
    "\n",
    "feature_names = np.concatenate([numerical_names, categorical_names])\n",
    "feature_names"
   ]
  },
  {
   "cell_type": "code",
   "execution_count": 19,
   "metadata": {},
   "outputs": [
    {
     "data": {
      "text/html": [
       "<div>\n",
       "<style scoped>\n",
       "    .dataframe tbody tr th:only-of-type {\n",
       "        vertical-align: middle;\n",
       "    }\n",
       "\n",
       "    .dataframe tbody tr th {\n",
       "        vertical-align: top;\n",
       "    }\n",
       "\n",
       "    .dataframe thead th {\n",
       "        text-align: right;\n",
       "    }\n",
       "</style>\n",
       "<table border=\"1\" class=\"dataframe\">\n",
       "  <thead>\n",
       "    <tr style=\"text-align: right;\">\n",
       "      <th></th>\n",
       "      <th>coef</th>\n",
       "    </tr>\n",
       "  </thead>\n",
       "  <tbody>\n",
       "    <tr>\n",
       "      <th>displacement</th>\n",
       "      <td>-0.021479</td>\n",
       "    </tr>\n",
       "    <tr>\n",
       "      <th>horsepower</th>\n",
       "      <td>-0.062886</td>\n",
       "    </tr>\n",
       "    <tr>\n",
       "      <th>weight</th>\n",
       "      <td>-0.168044</td>\n",
       "    </tr>\n",
       "    <tr>\n",
       "      <th>accel</th>\n",
       "      <td>-0.028467</td>\n",
       "    </tr>\n",
       "    <tr>\n",
       "      <th>cylinders_3</th>\n",
       "      <td>-0.244952</td>\n",
       "    </tr>\n",
       "  </tbody>\n",
       "</table>\n",
       "</div>"
      ],
      "text/plain": [
       "                  coef\n",
       "displacement -0.021479\n",
       "horsepower   -0.062886\n",
       "weight       -0.168044\n",
       "accel        -0.028467\n",
       "cylinders_3  -0.244952"
      ]
     },
     "execution_count": 19,
     "metadata": {},
     "output_type": "execute_result"
    }
   ],
   "source": [
    "coefs = pd.DataFrame(\n",
    "    linear.named_steps['transformedtargetregressor'].regressor_.coef_,\n",
    "    columns=['coef'], index=feature_names\n",
    ")\n",
    "\n",
    "coefs.head()"
   ]
  },
  {
   "cell_type": "code",
   "execution_count": 17,
   "metadata": {},
   "outputs": [
    {
     "data": {
      "image/png": "[encoded data removed]",
      "text/plain": [
       "<Figure size 648x504 with 1 Axes>"
      ]
     },
     "metadata": {},
     "output_type": "display_data"
    }
   ],
   "source": [
    "from sklearn.model_selection import cross_validate\n",
    "from sklearn.model_selection import RepeatedKFold\n",
    "\n",
    "cv_model = cross_validate(\n",
    "    linear, X, y, cv=RepeatedKFold(n_splits=5, n_repeats=5),\n",
    "    return_estimator=True, n_jobs=-1\n",
    ")\n",
    "\n",
    "cv_coefs = pd.DataFrame(\n",
    "    [est.named_steps['transformedtargetregressor'].regressor_.coef_ for est in cv_model['estimator']],\n",
    "    columns=feature_names)\n",
    "\n",
    "plt.figure(figsize=(9,7))\n",
    "sns.stripplot(data=cv_coefs, orient='h', color='k', alpha=0.5)\n",
    "sns.boxplot(data=cv_coefs, orient='h', color='cyan', saturation=0.5)\n",
    "plt.axvline(x=0, color='.5')\n",
    "plt.xlabel('Coefficient importance')\n",
    "plt.title('Coefficient importance and its variability')\n",
    "plt.subplots_adjust(left=.3)\n",
    "plt.show();"
   ]
  },
  {
   "cell_type": "markdown",
   "metadata": {},
   "source": [
    "And let's analyze our out of sample statistics:"
   ]
  },
  {
   "cell_type": "code",
   "execution_count": 20,
   "metadata": {},
   "outputs": [],
   "source": [
    "linear_pred_out = linear.predict(X_test)"
   ]
  },
  {
   "cell_type": "code",
   "execution_count": 22,
   "metadata": {},
   "outputs": [
    {
     "data": {
      "text/html": [
       "<div>\n",
       "<style scoped>\n",
       "    .dataframe tbody tr th:only-of-type {\n",
       "        vertical-align: middle;\n",
       "    }\n",
       "\n",
       "    .dataframe tbody tr th {\n",
       "        vertical-align: top;\n",
       "    }\n",
       "\n",
       "    .dataframe thead th {\n",
       "        text-align: right;\n",
       "    }\n",
       "</style>\n",
       "<table border=\"1\" class=\"dataframe\">\n",
       "  <thead>\n",
       "    <tr style=\"text-align: right;\">\n",
       "      <th></th>\n",
       "      <th>in</th>\n",
       "      <th>out</th>\n",
       "    </tr>\n",
       "  </thead>\n",
       "  <tbody>\n",
       "    <tr>\n",
       "      <th>r2</th>\n",
       "      <td>0.899695</td>\n",
       "      <td>0.889230</td>\n",
       "    </tr>\n",
       "    <tr>\n",
       "      <th>mse</th>\n",
       "      <td>6.209292</td>\n",
       "      <td>6.415315</td>\n",
       "    </tr>\n",
       "    <tr>\n",
       "      <th>mae</th>\n",
       "      <td>1.716300</td>\n",
       "      <td>1.934722</td>\n",
       "    </tr>\n",
       "  </tbody>\n",
       "</table>\n",
       "</div>"
      ],
      "text/plain": [
       "           in       out\n",
       "r2   0.899695  0.889230\n",
       "mse  6.209292  6.415315\n",
       "mae  1.716300  1.934722"
      ]
     },
     "execution_count": 22,
     "metadata": {},
     "output_type": "execute_result"
    }
   ],
   "source": [
    "metrics = pd.DataFrame(index=['r2','mse','mae'],columns=['in','out'])\n",
    "\n",
    "metrics['in'] = (r2_score(y_train, linear_pred_in), mean_squared_error(y_train, linear_pred_in), mean_absolute_error(y_train, linear_pred_in))\n",
    "metrics['out'] = (r2_score(y_test, linear_pred_out), mean_squared_error(y_test, linear_pred_out), mean_absolute_error(y_test, linear_pred_out))\n",
    "\n",
    "metrics"
   ]
  },
  {
   "cell_type": "markdown",
   "metadata": {},
   "source": [
    "Our out of sample performance with the log-log model is still really high, and is about 0.889!"
   ]
  },
  {
   "cell_type": "markdown",
   "metadata": {},
   "source": [
    "Now, let's look at our Ridge and LASSO models quickly:"
   ]
  },
  {
   "cell_type": "code",
   "execution_count": 23,
   "metadata": {},
   "outputs": [
    {
     "data": {
      "text/html": [
       "<style>div.sk-top-container {color: black;background-color: white;}div.sk-toggleable {background-color: white;}label.sk-toggleable__label {cursor: pointer;display: block;width: 100%;margin-bottom: 0;padding: 0.2em 0.3em;box-sizing: border-box;text-align: center;}div.sk-toggleable__content {max-height: 0;max-width: 0;overflow: hidden;text-align: left;background-color: #f0f8ff;}div.sk-toggleable__content pre {margin: 0.2em;color: black;border-radius: 0.25em;background-color: #f0f8ff;}input.sk-toggleable__control:checked~div.sk-toggleable__content {max-height: 200px;max-width: 100%;overflow: auto;}div.sk-estimator input.sk-toggleable__control:checked~label.sk-toggleable__label {background-color: #d4ebff;}div.sk-label input.sk-toggleable__control:checked~label.sk-toggleable__label {background-color: #d4ebff;}input.sk-hidden--visually {border: 0;clip: rect(1px 1px 1px 1px);clip: rect(1px, 1px, 1px, 1px);height: 1px;margin: -1px;overflow: hidden;padding: 0;position: absolute;width: 1px;}div.sk-estimator {font-family: monospace;background-color: #f0f8ff;margin: 0.25em 0.25em;border: 1px dotted black;border-radius: 0.25em;box-sizing: border-box;}div.sk-estimator:hover {background-color: #d4ebff;}div.sk-parallel-item::after {content: \"\";width: 100%;border-bottom: 1px solid gray;flex-grow: 1;}div.sk-label:hover label.sk-toggleable__label {background-color: #d4ebff;}div.sk-serial::before {content: \"\";position: absolute;border-left: 1px solid gray;box-sizing: border-box;top: 2em;bottom: 0;left: 50%;}div.sk-serial {display: flex;flex-direction: column;align-items: center;background-color: white;}div.sk-item {z-index: 1;}div.sk-parallel {display: flex;align-items: stretch;justify-content: center;background-color: white;}div.sk-parallel-item {display: flex;flex-direction: column;position: relative;background-color: white;}div.sk-parallel-item:first-child::after {align-self: flex-end;width: 50%;}div.sk-parallel-item:last-child::after {align-self: flex-start;width: 50%;}div.sk-parallel-item:only-child::after {width: 0;}div.sk-dashed-wrapped {border: 1px dashed gray;margin: 0.2em;box-sizing: border-box;padding-bottom: 0.1em;background-color: white;position: relative;}div.sk-label label {font-family: monospace;font-weight: bold;background-color: white;display: inline-block;line-height: 1.2em;}div.sk-label-container {position: relative;z-index: 2;text-align: center;}div.sk-container {display: inline-block;position: relative;}</style><div class=\"sk-top-container\"><div class=\"sk-container\"><div class=\"sk-item sk-dashed-wrapped\"><div class=\"sk-label-container\"><div class=\"sk-label sk-toggleable\"><input class=\"sk-toggleable__control sk-hidden--visually\" id=\"04d0a9bc-ae8b-4455-aa21-8742fe82b845\" type=\"checkbox\" ><label class=\"sk-toggleable__label\" for=\"04d0a9bc-ae8b-4455-aa21-8742fe82b845\">Pipeline</label><div class=\"sk-toggleable__content\"><pre>Pipeline(steps=[('columntransformer',\n",
       "                 ColumnTransformer(transformers=[('num',\n",
       "                                                  Pipeline(steps=[('log',\n",
       "                                                                   FunctionTransformer(func=<ufunc 'log'>,\n",
       "                                                                                       inverse_func=<ufunc 'exp'>)),\n",
       "                                                                  ('scaler',\n",
       "                                                                   StandardScaler())]),\n",
       "                                                  ['displacement', 'horsepower',\n",
       "                                                   'weight', 'accel']),\n",
       "                                                 ('cat',\n",
       "                                                  OneHotEncoder(handle_unknown='ignore'),\n",
       "                                                  ['cylinders', 'origin',\n",
       "                                                   'year'])])),\n",
       "                ('transformedtargetregresso...\n",
       "       6.25055193e-01, 1.59985872e+00, 4.09491506e+00, 1.04811313e+01,\n",
       "       2.68269580e+01, 6.86648845e+01, 1.75751062e+02, 4.49843267e+02,\n",
       "       1.15139540e+03, 2.94705170e+03, 7.54312006e+03, 1.93069773e+04,\n",
       "       4.94171336e+04, 1.26485522e+05, 3.23745754e+05, 8.28642773e+05,\n",
       "       2.12095089e+06, 5.42867544e+06, 1.38949549e+07, 3.55648031e+07,\n",
       "       9.10298178e+07, 2.32995181e+08, 5.96362332e+08, 1.52641797e+09,\n",
       "       3.90693994e+09, 1.00000000e+10]))))])</pre></div></div></div><div class=\"sk-serial\"><div class=\"sk-item sk-dashed-wrapped\"><div class=\"sk-label-container\"><div class=\"sk-label sk-toggleable\"><input class=\"sk-toggleable__control sk-hidden--visually\" id=\"39c2df38-2fd5-4dc2-8b4c-44f595cf3ce7\" type=\"checkbox\" ><label class=\"sk-toggleable__label\" for=\"39c2df38-2fd5-4dc2-8b4c-44f595cf3ce7\">columntransformer: ColumnTransformer</label><div class=\"sk-toggleable__content\"><pre>ColumnTransformer(transformers=[('num',\n",
       "                                 Pipeline(steps=[('log',\n",
       "                                                  FunctionTransformer(func=<ufunc 'log'>,\n",
       "                                                                      inverse_func=<ufunc 'exp'>)),\n",
       "                                                 ('scaler', StandardScaler())]),\n",
       "                                 ['displacement', 'horsepower', 'weight',\n",
       "                                  'accel']),\n",
       "                                ('cat', OneHotEncoder(handle_unknown='ignore'),\n",
       "                                 ['cylinders', 'origin', 'year'])])</pre></div></div></div><div class=\"sk-parallel\"><div class=\"sk-parallel-item\"><div class=\"sk-item\"><div class=\"sk-label-container\"><div class=\"sk-label sk-toggleable\"><input class=\"sk-toggleable__control sk-hidden--visually\" id=\"52310212-ae05-4739-afa8-ad0d3ccaf0de\" type=\"checkbox\" ><label class=\"sk-toggleable__label\" for=\"52310212-ae05-4739-afa8-ad0d3ccaf0de\">num</label><div class=\"sk-toggleable__content\"><pre>['displacement', 'horsepower', 'weight', 'accel']</pre></div></div></div><div class=\"sk-serial\"><div class=\"sk-item\"><div class=\"sk-serial\"><div class=\"sk-item\"><div class=\"sk-estimator sk-toggleable\"><input class=\"sk-toggleable__control sk-hidden--visually\" id=\"69bdc767-85d4-4132-b20d-33dec1bbfdea\" type=\"checkbox\" ><label class=\"sk-toggleable__label\" for=\"69bdc767-85d4-4132-b20d-33dec1bbfdea\">FunctionTransformer</label><div class=\"sk-toggleable__content\"><pre>FunctionTransformer(func=<ufunc 'log'>, inverse_func=<ufunc 'exp'>)</pre></div></div></div><div class=\"sk-item\"><div class=\"sk-estimator sk-toggleable\"><input class=\"sk-toggleable__control sk-hidden--visually\" id=\"fa09049f-a052-45df-ad8a-4315f5652cbd\" type=\"checkbox\" ><label class=\"sk-toggleable__label\" for=\"fa09049f-a052-45df-ad8a-4315f5652cbd\">StandardScaler</label><div class=\"sk-toggleable__content\"><pre>StandardScaler()</pre></div></div></div></div></div></div></div></div><div class=\"sk-parallel-item\"><div class=\"sk-item\"><div class=\"sk-label-container\"><div class=\"sk-label sk-toggleable\"><input class=\"sk-toggleable__control sk-hidden--visually\" id=\"9311ff6f-a1aa-4c02-994b-3dec1a9aa070\" type=\"checkbox\" ><label class=\"sk-toggleable__label\" for=\"9311ff6f-a1aa-4c02-994b-3dec1a9aa070\">cat</label><div class=\"sk-toggleable__content\"><pre>['cylinders', 'origin', 'year']</pre></div></div></div><div class=\"sk-serial\"><div class=\"sk-item\"><div class=\"sk-estimator sk-toggleable\"><input class=\"sk-toggleable__control sk-hidden--visually\" id=\"5a032fc0-3cbd-4a6c-8ae3-8ae884f64f65\" type=\"checkbox\" ><label class=\"sk-toggleable__label\" for=\"5a032fc0-3cbd-4a6c-8ae3-8ae884f64f65\">OneHotEncoder</label><div class=\"sk-toggleable__content\"><pre>OneHotEncoder(handle_unknown='ignore')</pre></div></div></div></div></div></div></div></div><div class=\"sk-item sk-dashed-wrapped\"><div class=\"sk-label-container\"><div class=\"sk-label sk-toggleable\"><input class=\"sk-toggleable__control sk-hidden--visually\" id=\"e8190506-ded2-4337-8e97-ef71d9c44fd8\" type=\"checkbox\" ><label class=\"sk-toggleable__label\" for=\"e8190506-ded2-4337-8e97-ef71d9c44fd8\">transformedtargetregressor: TransformedTargetRegressor</label><div class=\"sk-toggleable__content\"><pre>TransformedTargetRegressor(func=<ufunc 'log'>, inverse_func=<ufunc 'exp'>,\n",
       "                           regressor=RidgeCV(alphas=array([1.00000000e-10, 2.55954792e-10, 6.55128557e-10, 1.67683294e-09,\n",
       "       4.29193426e-09, 1.09854114e-08, 2.81176870e-08, 7.19685673e-08,\n",
       "       1.84206997e-07, 4.71486636e-07, 1.20679264e-06, 3.08884360e-06,\n",
       "       7.90604321e-06, 2.02358965e-05, 5.17947468e-05, 1.32571137e-04,\n",
       "       3.39322...\n",
       "       6.25055193e-01, 1.59985872e+00, 4.09491506e+00, 1.04811313e+01,\n",
       "       2.68269580e+01, 6.86648845e+01, 1.75751062e+02, 4.49843267e+02,\n",
       "       1.15139540e+03, 2.94705170e+03, 7.54312006e+03, 1.93069773e+04,\n",
       "       4.94171336e+04, 1.26485522e+05, 3.23745754e+05, 8.28642773e+05,\n",
       "       2.12095089e+06, 5.42867544e+06, 1.38949549e+07, 3.55648031e+07,\n",
       "       9.10298178e+07, 2.32995181e+08, 5.96362332e+08, 1.52641797e+09,\n",
       "       3.90693994e+09, 1.00000000e+10])))</pre></div></div></div><div class=\"sk-parallel\"><div class=\"sk-parallel-item\"><div class=\"sk-item\"><div class=\"sk-serial\"><div class=\"sk-item\"><div class=\"sk-estimator sk-toggleable\"><input class=\"sk-toggleable__control sk-hidden--visually\" id=\"9c3a6c46-fa86-4e95-85ff-278706c72599\" type=\"checkbox\" ><label class=\"sk-toggleable__label\" for=\"9c3a6c46-fa86-4e95-85ff-278706c72599\">RidgeCV</label><div class=\"sk-toggleable__content\"><pre>RidgeCV(alphas=array([1.00000000e-10, 2.55954792e-10, 6.55128557e-10, 1.67683294e-09,\n",
       "       4.29193426e-09, 1.09854114e-08, 2.81176870e-08, 7.19685673e-08,\n",
       "       1.84206997e-07, 4.71486636e-07, 1.20679264e-06, 3.08884360e-06,\n",
       "       7.90604321e-06, 2.02358965e-05, 5.17947468e-05, 1.32571137e-04,\n",
       "       3.39322177e-04, 8.68511374e-04, 2.22299648e-03, 5.68986603e-03,\n",
       "       1.45634848e-02, 3.72759372e-0...\n",
       "       6.25055193e-01, 1.59985872e+00, 4.09491506e+00, 1.04811313e+01,\n",
       "       2.68269580e+01, 6.86648845e+01, 1.75751062e+02, 4.49843267e+02,\n",
       "       1.15139540e+03, 2.94705170e+03, 7.54312006e+03, 1.93069773e+04,\n",
       "       4.94171336e+04, 1.26485522e+05, 3.23745754e+05, 8.28642773e+05,\n",
       "       2.12095089e+06, 5.42867544e+06, 1.38949549e+07, 3.55648031e+07,\n",
       "       9.10298178e+07, 2.32995181e+08, 5.96362332e+08, 1.52641797e+09,\n",
       "       3.90693994e+09, 1.00000000e+10]))</pre></div></div></div></div></div></div></div></div></div></div></div></div>"
      ],
      "text/plain": [
       "Pipeline(steps=[('columntransformer',\n",
       "                 ColumnTransformer(transformers=[('num',\n",
       "                                                  Pipeline(steps=[('log',\n",
       "                                                                   FunctionTransformer(func=<ufunc 'log'>,\n",
       "                                                                                       inverse_func=<ufunc 'exp'>)),\n",
       "                                                                  ('scaler',\n",
       "                                                                   StandardScaler())]),\n",
       "                                                  ['displacement', 'horsepower',\n",
       "                                                   'weight', 'accel']),\n",
       "                                                 ('cat',\n",
       "                                                  OneHotEncoder(handle_unknown='ignore'),\n",
       "                                                  ['cylinders', 'origin',\n",
       "                                                   'year'])])),\n",
       "                ('transformedtargetregresso...\n",
       "       6.25055193e-01, 1.59985872e+00, 4.09491506e+00, 1.04811313e+01,\n",
       "       2.68269580e+01, 6.86648845e+01, 1.75751062e+02, 4.49843267e+02,\n",
       "       1.15139540e+03, 2.94705170e+03, 7.54312006e+03, 1.93069773e+04,\n",
       "       4.94171336e+04, 1.26485522e+05, 3.23745754e+05, 8.28642773e+05,\n",
       "       2.12095089e+06, 5.42867544e+06, 1.38949549e+07, 3.55648031e+07,\n",
       "       9.10298178e+07, 2.32995181e+08, 5.96362332e+08, 1.52641797e+09,\n",
       "       3.90693994e+09, 1.00000000e+10]))))])"
      ]
     },
     "execution_count": 23,
     "metadata": {},
     "output_type": "execute_result"
    },
    {
     "data": {
      "text/plain": [
       "1.8420699693267165e-07"
      ]
     },
     "execution_count": 23,
     "metadata": {},
     "output_type": "execute_result"
    }
   ],
   "source": [
    "from sklearn.linear_model import RidgeCV\n",
    "\n",
    "ridge_cv = make_pipeline(\n",
    "    preprocessor,\n",
    "    TransformedTargetRegressor(\n",
    "        regressor=RidgeCV(alphas=np.logspace(-10,10,50)),\n",
    "        func = np.log,\n",
    "        inverse_func = np.exp\n",
    "    )\n",
    ")\n",
    "\n",
    "ridge_cv.fit(X_train, y_train)\n",
    "\n",
    "ridge_cv[-1].regressor_.alpha_"
   ]
  },
  {
   "cell_type": "code",
   "execution_count": 25,
   "metadata": {},
   "outputs": [],
   "source": [
    "from sklearn.linear_model import Ridge\n",
    "\n",
    "ridge = make_pipeline(\n",
    "    preprocessor,\n",
    "    TransformedTargetRegressor(\n",
    "        regressor=Ridge(alpha=1.8420699693267165e-07),\n",
    "        func = np.log,\n",
    "        inverse_func = np.exp\n",
    "    )\n",
    ")"
   ]
  },
  {
   "cell_type": "code",
   "execution_count": 26,
   "metadata": {},
   "outputs": [
    {
     "data": {
      "text/html": [
       "<style>div.sk-top-container {color: black;background-color: white;}div.sk-toggleable {background-color: white;}label.sk-toggleable__label {cursor: pointer;display: block;width: 100%;margin-bottom: 0;padding: 0.2em 0.3em;box-sizing: border-box;text-align: center;}div.sk-toggleable__content {max-height: 0;max-width: 0;overflow: hidden;text-align: left;background-color: #f0f8ff;}div.sk-toggleable__content pre {margin: 0.2em;color: black;border-radius: 0.25em;background-color: #f0f8ff;}input.sk-toggleable__control:checked~div.sk-toggleable__content {max-height: 200px;max-width: 100%;overflow: auto;}div.sk-estimator input.sk-toggleable__control:checked~label.sk-toggleable__label {background-color: #d4ebff;}div.sk-label input.sk-toggleable__control:checked~label.sk-toggleable__label {background-color: #d4ebff;}input.sk-hidden--visually {border: 0;clip: rect(1px 1px 1px 1px);clip: rect(1px, 1px, 1px, 1px);height: 1px;margin: -1px;overflow: hidden;padding: 0;position: absolute;width: 1px;}div.sk-estimator {font-family: monospace;background-color: #f0f8ff;margin: 0.25em 0.25em;border: 1px dotted black;border-radius: 0.25em;box-sizing: border-box;}div.sk-estimator:hover {background-color: #d4ebff;}div.sk-parallel-item::after {content: \"\";width: 100%;border-bottom: 1px solid gray;flex-grow: 1;}div.sk-label:hover label.sk-toggleable__label {background-color: #d4ebff;}div.sk-serial::before {content: \"\";position: absolute;border-left: 1px solid gray;box-sizing: border-box;top: 2em;bottom: 0;left: 50%;}div.sk-serial {display: flex;flex-direction: column;align-items: center;background-color: white;}div.sk-item {z-index: 1;}div.sk-parallel {display: flex;align-items: stretch;justify-content: center;background-color: white;}div.sk-parallel-item {display: flex;flex-direction: column;position: relative;background-color: white;}div.sk-parallel-item:first-child::after {align-self: flex-end;width: 50%;}div.sk-parallel-item:last-child::after {align-self: flex-start;width: 50%;}div.sk-parallel-item:only-child::after {width: 0;}div.sk-dashed-wrapped {border: 1px dashed gray;margin: 0.2em;box-sizing: border-box;padding-bottom: 0.1em;background-color: white;position: relative;}div.sk-label label {font-family: monospace;font-weight: bold;background-color: white;display: inline-block;line-height: 1.2em;}div.sk-label-container {position: relative;z-index: 2;text-align: center;}div.sk-container {display: inline-block;position: relative;}</style><div class=\"sk-top-container\"><div class=\"sk-container\"><div class=\"sk-item sk-dashed-wrapped\"><div class=\"sk-label-container\"><div class=\"sk-label sk-toggleable\"><input class=\"sk-toggleable__control sk-hidden--visually\" id=\"b8e8148d-8046-4b4b-96fa-6b4c31af6120\" type=\"checkbox\" ><label class=\"sk-toggleable__label\" for=\"b8e8148d-8046-4b4b-96fa-6b4c31af6120\">Pipeline</label><div class=\"sk-toggleable__content\"><pre>Pipeline(steps=[('columntransformer',\n",
       "                 ColumnTransformer(transformers=[('num',\n",
       "                                                  Pipeline(steps=[('log',\n",
       "                                                                   FunctionTransformer(func=<ufunc 'log'>,\n",
       "                                                                                       inverse_func=<ufunc 'exp'>)),\n",
       "                                                                  ('scaler',\n",
       "                                                                   StandardScaler())]),\n",
       "                                                  ['displacement', 'horsepower',\n",
       "                                                   'weight', 'accel']),\n",
       "                                                 ('cat',\n",
       "                                                  OneHotEncoder(handle_unknown='ignore'),\n",
       "                                                  ['cylinders', 'origin',\n",
       "                                                   'year'])])),\n",
       "                ('transformedtargetregressor',\n",
       "                 TransformedTargetRegressor(func=<ufunc 'log'>,\n",
       "                                            inverse_func=<ufunc 'exp'>,\n",
       "                                            regressor=Ridge(alpha=1.8420699693267165e-07)))])</pre></div></div></div><div class=\"sk-serial\"><div class=\"sk-item sk-dashed-wrapped\"><div class=\"sk-label-container\"><div class=\"sk-label sk-toggleable\"><input class=\"sk-toggleable__control sk-hidden--visually\" id=\"0ca03d0e-e191-49bb-9877-b93ec10274e9\" type=\"checkbox\" ><label class=\"sk-toggleable__label\" for=\"0ca03d0e-e191-49bb-9877-b93ec10274e9\">columntransformer: ColumnTransformer</label><div class=\"sk-toggleable__content\"><pre>ColumnTransformer(transformers=[('num',\n",
       "                                 Pipeline(steps=[('log',\n",
       "                                                  FunctionTransformer(func=<ufunc 'log'>,\n",
       "                                                                      inverse_func=<ufunc 'exp'>)),\n",
       "                                                 ('scaler', StandardScaler())]),\n",
       "                                 ['displacement', 'horsepower', 'weight',\n",
       "                                  'accel']),\n",
       "                                ('cat', OneHotEncoder(handle_unknown='ignore'),\n",
       "                                 ['cylinders', 'origin', 'year'])])</pre></div></div></div><div class=\"sk-parallel\"><div class=\"sk-parallel-item\"><div class=\"sk-item\"><div class=\"sk-label-container\"><div class=\"sk-label sk-toggleable\"><input class=\"sk-toggleable__control sk-hidden--visually\" id=\"a632b9e4-3f46-49ae-a604-a34b720e04a1\" type=\"checkbox\" ><label class=\"sk-toggleable__label\" for=\"a632b9e4-3f46-49ae-a604-a34b720e04a1\">num</label><div class=\"sk-toggleable__content\"><pre>['displacement', 'horsepower', 'weight', 'accel']</pre></div></div></div><div class=\"sk-serial\"><div class=\"sk-item\"><div class=\"sk-serial\"><div class=\"sk-item\"><div class=\"sk-estimator sk-toggleable\"><input class=\"sk-toggleable__control sk-hidden--visually\" id=\"451e2b26-f962-458c-beb4-f7713ffe7cb3\" type=\"checkbox\" ><label class=\"sk-toggleable__label\" for=\"451e2b26-f962-458c-beb4-f7713ffe7cb3\">FunctionTransformer</label><div class=\"sk-toggleable__content\"><pre>FunctionTransformer(func=<ufunc 'log'>, inverse_func=<ufunc 'exp'>)</pre></div></div></div><div class=\"sk-item\"><div class=\"sk-estimator sk-toggleable\"><input class=\"sk-toggleable__control sk-hidden--visually\" id=\"1bdc8562-3806-40a1-9f33-a43194ac1b7c\" type=\"checkbox\" ><label class=\"sk-toggleable__label\" for=\"1bdc8562-3806-40a1-9f33-a43194ac1b7c\">StandardScaler</label><div class=\"sk-toggleable__content\"><pre>StandardScaler()</pre></div></div></div></div></div></div></div></div><div class=\"sk-parallel-item\"><div class=\"sk-item\"><div class=\"sk-label-container\"><div class=\"sk-label sk-toggleable\"><input class=\"sk-toggleable__control sk-hidden--visually\" id=\"1166bffd-ad80-4716-b608-07430915f861\" type=\"checkbox\" ><label class=\"sk-toggleable__label\" for=\"1166bffd-ad80-4716-b608-07430915f861\">cat</label><div class=\"sk-toggleable__content\"><pre>['cylinders', 'origin', 'year']</pre></div></div></div><div class=\"sk-serial\"><div class=\"sk-item\"><div class=\"sk-estimator sk-toggleable\"><input class=\"sk-toggleable__control sk-hidden--visually\" id=\"04c75511-8d47-4833-8a37-42c2fb22e560\" type=\"checkbox\" ><label class=\"sk-toggleable__label\" for=\"04c75511-8d47-4833-8a37-42c2fb22e560\">OneHotEncoder</label><div class=\"sk-toggleable__content\"><pre>OneHotEncoder(handle_unknown='ignore')</pre></div></div></div></div></div></div></div></div><div class=\"sk-item sk-dashed-wrapped\"><div class=\"sk-label-container\"><div class=\"sk-label sk-toggleable\"><input class=\"sk-toggleable__control sk-hidden--visually\" id=\"773af410-0a65-4c3f-a6b9-94c5d477c8fd\" type=\"checkbox\" ><label class=\"sk-toggleable__label\" for=\"773af410-0a65-4c3f-a6b9-94c5d477c8fd\">transformedtargetregressor: TransformedTargetRegressor</label><div class=\"sk-toggleable__content\"><pre>TransformedTargetRegressor(func=<ufunc 'log'>, inverse_func=<ufunc 'exp'>,\n",
       "                           regressor=Ridge(alpha=1.8420699693267165e-07))</pre></div></div></div><div class=\"sk-parallel\"><div class=\"sk-parallel-item\"><div class=\"sk-item\"><div class=\"sk-serial\"><div class=\"sk-item\"><div class=\"sk-estimator sk-toggleable\"><input class=\"sk-toggleable__control sk-hidden--visually\" id=\"67a965c0-bf5f-42c7-b0a1-430d92ec55aa\" type=\"checkbox\" ><label class=\"sk-toggleable__label\" for=\"67a965c0-bf5f-42c7-b0a1-430d92ec55aa\">Ridge</label><div class=\"sk-toggleable__content\"><pre>Ridge(alpha=1.8420699693267165e-07)</pre></div></div></div></div></div></div></div></div></div></div></div></div>"
      ],
      "text/plain": [
       "Pipeline(steps=[('columntransformer',\n",
       "                 ColumnTransformer(transformers=[('num',\n",
       "                                                  Pipeline(steps=[('log',\n",
       "                                                                   FunctionTransformer(func=<ufunc 'log'>,\n",
       "                                                                                       inverse_func=<ufunc 'exp'>)),\n",
       "                                                                  ('scaler',\n",
       "                                                                   StandardScaler())]),\n",
       "                                                  ['displacement', 'horsepower',\n",
       "                                                   'weight', 'accel']),\n",
       "                                                 ('cat',\n",
       "                                                  OneHotEncoder(handle_unknown='ignore'),\n",
       "                                                  ['cylinders', 'origin',\n",
       "                                                   'year'])])),\n",
       "                ('transformedtargetregressor',\n",
       "                 TransformedTargetRegressor(func=<ufunc 'log'>,\n",
       "                                            inverse_func=<ufunc 'exp'>,\n",
       "                                            regressor=Ridge(alpha=1.8420699693267165e-07)))])"
      ]
     },
     "execution_count": 26,
     "metadata": {},
     "output_type": "execute_result"
    }
   ],
   "source": [
    "ridge.fit(X_train, y_train)"
   ]
  },
  {
   "cell_type": "code",
   "execution_count": 27,
   "metadata": {},
   "outputs": [],
   "source": [
    "ridge_pred_in = ridge.predict(X_train)\n",
    "ridge_pred_out = ridge.predict(X_test)"
   ]
  },
  {
   "cell_type": "code",
   "execution_count": 28,
   "metadata": {},
   "outputs": [
    {
     "data": {
      "text/html": [
       "<div>\n",
       "<style scoped>\n",
       "    .dataframe tbody tr th:only-of-type {\n",
       "        vertical-align: middle;\n",
       "    }\n",
       "\n",
       "    .dataframe tbody tr th {\n",
       "        vertical-align: top;\n",
       "    }\n",
       "\n",
       "    .dataframe thead th {\n",
       "        text-align: right;\n",
       "    }\n",
       "</style>\n",
       "<table border=\"1\" class=\"dataframe\">\n",
       "  <thead>\n",
       "    <tr style=\"text-align: right;\">\n",
       "      <th></th>\n",
       "      <th>in</th>\n",
       "      <th>out</th>\n",
       "    </tr>\n",
       "  </thead>\n",
       "  <tbody>\n",
       "    <tr>\n",
       "      <th>r2</th>\n",
       "      <td>0.899773</td>\n",
       "      <td>0.890009</td>\n",
       "    </tr>\n",
       "    <tr>\n",
       "      <th>mse</th>\n",
       "      <td>6.204452</td>\n",
       "      <td>6.370245</td>\n",
       "    </tr>\n",
       "    <tr>\n",
       "      <th>mae</th>\n",
       "      <td>1.717340</td>\n",
       "      <td>1.929184</td>\n",
       "    </tr>\n",
       "  </tbody>\n",
       "</table>\n",
       "</div>"
      ],
      "text/plain": [
       "           in       out\n",
       "r2   0.899773  0.890009\n",
       "mse  6.204452  6.370245\n",
       "mae  1.717340  1.929184"
      ]
     },
     "execution_count": 28,
     "metadata": {},
     "output_type": "execute_result"
    }
   ],
   "source": [
    "metrics = pd.DataFrame(index=['r2','mse','mae'],columns=['in','out'])\n",
    "\n",
    "metrics['in'] = (r2_score(y_train, ridge_pred_in), mean_squared_error(y_train, ridge_pred_in), mean_absolute_error(y_train, ridge_pred_in))\n",
    "metrics['out'] = (r2_score(y_test, ridge_pred_out), mean_squared_error(y_test, ridge_pred_out), mean_absolute_error(y_test, ridge_pred_out))\n",
    "\n",
    "metrics"
   ]
  },
  {
   "cell_type": "code",
   "execution_count": 29,
   "metadata": {},
   "outputs": [
    {
     "data": {
      "text/html": [
       "<style>div.sk-top-container {color: black;background-color: white;}div.sk-toggleable {background-color: white;}label.sk-toggleable__label {cursor: pointer;display: block;width: 100%;margin-bottom: 0;padding: 0.2em 0.3em;box-sizing: border-box;text-align: center;}div.sk-toggleable__content {max-height: 0;max-width: 0;overflow: hidden;text-align: left;background-color: #f0f8ff;}div.sk-toggleable__content pre {margin: 0.2em;color: black;border-radius: 0.25em;background-color: #f0f8ff;}input.sk-toggleable__control:checked~div.sk-toggleable__content {max-height: 200px;max-width: 100%;overflow: auto;}div.sk-estimator input.sk-toggleable__control:checked~label.sk-toggleable__label {background-color: #d4ebff;}div.sk-label input.sk-toggleable__control:checked~label.sk-toggleable__label {background-color: #d4ebff;}input.sk-hidden--visually {border: 0;clip: rect(1px 1px 1px 1px);clip: rect(1px, 1px, 1px, 1px);height: 1px;margin: -1px;overflow: hidden;padding: 0;position: absolute;width: 1px;}div.sk-estimator {font-family: monospace;background-color: #f0f8ff;margin: 0.25em 0.25em;border: 1px dotted black;border-radius: 0.25em;box-sizing: border-box;}div.sk-estimator:hover {background-color: #d4ebff;}div.sk-parallel-item::after {content: \"\";width: 100%;border-bottom: 1px solid gray;flex-grow: 1;}div.sk-label:hover label.sk-toggleable__label {background-color: #d4ebff;}div.sk-serial::before {content: \"\";position: absolute;border-left: 1px solid gray;box-sizing: border-box;top: 2em;bottom: 0;left: 50%;}div.sk-serial {display: flex;flex-direction: column;align-items: center;background-color: white;}div.sk-item {z-index: 1;}div.sk-parallel {display: flex;align-items: stretch;justify-content: center;background-color: white;}div.sk-parallel-item {display: flex;flex-direction: column;position: relative;background-color: white;}div.sk-parallel-item:first-child::after {align-self: flex-end;width: 50%;}div.sk-parallel-item:last-child::after {align-self: flex-start;width: 50%;}div.sk-parallel-item:only-child::after {width: 0;}div.sk-dashed-wrapped {border: 1px dashed gray;margin: 0.2em;box-sizing: border-box;padding-bottom: 0.1em;background-color: white;position: relative;}div.sk-label label {font-family: monospace;font-weight: bold;background-color: white;display: inline-block;line-height: 1.2em;}div.sk-label-container {position: relative;z-index: 2;text-align: center;}div.sk-container {display: inline-block;position: relative;}</style><div class=\"sk-top-container\"><div class=\"sk-container\"><div class=\"sk-item sk-dashed-wrapped\"><div class=\"sk-label-container\"><div class=\"sk-label sk-toggleable\"><input class=\"sk-toggleable__control sk-hidden--visually\" id=\"730bb440-b54e-4be5-a4fa-9e02677d65bb\" type=\"checkbox\" ><label class=\"sk-toggleable__label\" for=\"730bb440-b54e-4be5-a4fa-9e02677d65bb\">Pipeline</label><div class=\"sk-toggleable__content\"><pre>Pipeline(steps=[('columntransformer',\n",
       "                 ColumnTransformer(transformers=[('num',\n",
       "                                                  Pipeline(steps=[('log',\n",
       "                                                                   FunctionTransformer(func=<ufunc 'log'>,\n",
       "                                                                                       inverse_func=<ufunc 'exp'>)),\n",
       "                                                                  ('scaler',\n",
       "                                                                   StandardScaler())]),\n",
       "                                                  ['displacement', 'horsepower',\n",
       "                                                   'weight', 'accel']),\n",
       "                                                 ('cat',\n",
       "                                                  OneHotEncoder(handle_unknown='ignore'),\n",
       "                                                  ['cylinders', 'origin',\n",
       "                                                   'year'])])),\n",
       "                ('transformedtargetregresso...\n",
       "       2.68269580e+01, 6.86648845e+01, 1.75751062e+02, 4.49843267e+02,\n",
       "       1.15139540e+03, 2.94705170e+03, 7.54312006e+03, 1.93069773e+04,\n",
       "       4.94171336e+04, 1.26485522e+05, 3.23745754e+05, 8.28642773e+05,\n",
       "       2.12095089e+06, 5.42867544e+06, 1.38949549e+07, 3.55648031e+07,\n",
       "       9.10298178e+07, 2.32995181e+08, 5.96362332e+08, 1.52641797e+09,\n",
       "       3.90693994e+09, 1.00000000e+10]),\n",
       "                                                              max_iter=1000000)))])</pre></div></div></div><div class=\"sk-serial\"><div class=\"sk-item sk-dashed-wrapped\"><div class=\"sk-label-container\"><div class=\"sk-label sk-toggleable\"><input class=\"sk-toggleable__control sk-hidden--visually\" id=\"cbcaeefe-820a-4eeb-954f-5a8c495482f7\" type=\"checkbox\" ><label class=\"sk-toggleable__label\" for=\"cbcaeefe-820a-4eeb-954f-5a8c495482f7\">columntransformer: ColumnTransformer</label><div class=\"sk-toggleable__content\"><pre>ColumnTransformer(transformers=[('num',\n",
       "                                 Pipeline(steps=[('log',\n",
       "                                                  FunctionTransformer(func=<ufunc 'log'>,\n",
       "                                                                      inverse_func=<ufunc 'exp'>)),\n",
       "                                                 ('scaler', StandardScaler())]),\n",
       "                                 ['displacement', 'horsepower', 'weight',\n",
       "                                  'accel']),\n",
       "                                ('cat', OneHotEncoder(handle_unknown='ignore'),\n",
       "                                 ['cylinders', 'origin', 'year'])])</pre></div></div></div><div class=\"sk-parallel\"><div class=\"sk-parallel-item\"><div class=\"sk-item\"><div class=\"sk-label-container\"><div class=\"sk-label sk-toggleable\"><input class=\"sk-toggleable__control sk-hidden--visually\" id=\"870f5f1a-2273-45d7-9858-ab72bf72df11\" type=\"checkbox\" ><label class=\"sk-toggleable__label\" for=\"870f5f1a-2273-45d7-9858-ab72bf72df11\">num</label><div class=\"sk-toggleable__content\"><pre>['displacement', 'horsepower', 'weight', 'accel']</pre></div></div></div><div class=\"sk-serial\"><div class=\"sk-item\"><div class=\"sk-serial\"><div class=\"sk-item\"><div class=\"sk-estimator sk-toggleable\"><input class=\"sk-toggleable__control sk-hidden--visually\" id=\"eb969af5-05eb-48db-b69b-ecd6328a57b3\" type=\"checkbox\" ><label class=\"sk-toggleable__label\" for=\"eb969af5-05eb-48db-b69b-ecd6328a57b3\">FunctionTransformer</label><div class=\"sk-toggleable__content\"><pre>FunctionTransformer(func=<ufunc 'log'>, inverse_func=<ufunc 'exp'>)</pre></div></div></div><div class=\"sk-item\"><div class=\"sk-estimator sk-toggleable\"><input class=\"sk-toggleable__control sk-hidden--visually\" id=\"6e2f7d8f-f061-4a9f-b60d-cfc078d3b118\" type=\"checkbox\" ><label class=\"sk-toggleable__label\" for=\"6e2f7d8f-f061-4a9f-b60d-cfc078d3b118\">StandardScaler</label><div class=\"sk-toggleable__content\"><pre>StandardScaler()</pre></div></div></div></div></div></div></div></div><div class=\"sk-parallel-item\"><div class=\"sk-item\"><div class=\"sk-label-container\"><div class=\"sk-label sk-toggleable\"><input class=\"sk-toggleable__control sk-hidden--visually\" id=\"d8a900a6-cb01-4bd3-944e-5cab4a2d83a8\" type=\"checkbox\" ><label class=\"sk-toggleable__label\" for=\"d8a900a6-cb01-4bd3-944e-5cab4a2d83a8\">cat</label><div class=\"sk-toggleable__content\"><pre>['cylinders', 'origin', 'year']</pre></div></div></div><div class=\"sk-serial\"><div class=\"sk-item\"><div class=\"sk-estimator sk-toggleable\"><input class=\"sk-toggleable__control sk-hidden--visually\" id=\"031609cc-107b-4fb7-8455-dec0b5dca105\" type=\"checkbox\" ><label class=\"sk-toggleable__label\" for=\"031609cc-107b-4fb7-8455-dec0b5dca105\">OneHotEncoder</label><div class=\"sk-toggleable__content\"><pre>OneHotEncoder(handle_unknown='ignore')</pre></div></div></div></div></div></div></div></div><div class=\"sk-item sk-dashed-wrapped\"><div class=\"sk-label-container\"><div class=\"sk-label sk-toggleable\"><input class=\"sk-toggleable__control sk-hidden--visually\" id=\"b2d336c8-6779-4bbb-9ac9-f9956cf4d637\" type=\"checkbox\" ><label class=\"sk-toggleable__label\" for=\"b2d336c8-6779-4bbb-9ac9-f9956cf4d637\">transformedtargetregressor: TransformedTargetRegressor</label><div class=\"sk-toggleable__content\"><pre>TransformedTargetRegressor(func=<ufunc 'log'>, inverse_func=<ufunc 'exp'>,\n",
       "                           regressor=LassoCV(alphas=array([1.00000000e-10, 2.55954792e-10, 6.55128557e-10, 1.67683294e-09,\n",
       "       4.29193426e-09, 1.09854114e-08, 2.81176870e-08, 7.19685673e-08,\n",
       "       1.84206997e-07, 4.71486636e-07, 1.20679264e-06, 3.08884360e-06,\n",
       "       7.90604321e-06, 2.02358965e-05, 5.17947468e-05, 1.32571137e-04,\n",
       "       3.39322...\n",
       "       2.68269580e+01, 6.86648845e+01, 1.75751062e+02, 4.49843267e+02,\n",
       "       1.15139540e+03, 2.94705170e+03, 7.54312006e+03, 1.93069773e+04,\n",
       "       4.94171336e+04, 1.26485522e+05, 3.23745754e+05, 8.28642773e+05,\n",
       "       2.12095089e+06, 5.42867544e+06, 1.38949549e+07, 3.55648031e+07,\n",
       "       9.10298178e+07, 2.32995181e+08, 5.96362332e+08, 1.52641797e+09,\n",
       "       3.90693994e+09, 1.00000000e+10]),\n",
       "                                             max_iter=1000000))</pre></div></div></div><div class=\"sk-parallel\"><div class=\"sk-parallel-item\"><div class=\"sk-item\"><div class=\"sk-serial\"><div class=\"sk-item\"><div class=\"sk-estimator sk-toggleable\"><input class=\"sk-toggleable__control sk-hidden--visually\" id=\"5c171471-4bf1-4fa5-81f7-5e9b022907c8\" type=\"checkbox\" ><label class=\"sk-toggleable__label\" for=\"5c171471-4bf1-4fa5-81f7-5e9b022907c8\">LassoCV</label><div class=\"sk-toggleable__content\"><pre>LassoCV(alphas=array([1.00000000e-10, 2.55954792e-10, 6.55128557e-10, 1.67683294e-09,\n",
       "       4.29193426e-09, 1.09854114e-08, 2.81176870e-08, 7.19685673e-08,\n",
       "       1.84206997e-07, 4.71486636e-07, 1.20679264e-06, 3.08884360e-06,\n",
       "       7.90604321e-06, 2.02358965e-05, 5.17947468e-05, 1.32571137e-04,\n",
       "       3.39322177e-04, 8.68511374e-04, 2.22299648e-03, 5.68986603e-03,\n",
       "       1.45634848e-02, 3.72759372e-0...\n",
       "       6.25055193e-01, 1.59985872e+00, 4.09491506e+00, 1.04811313e+01,\n",
       "       2.68269580e+01, 6.86648845e+01, 1.75751062e+02, 4.49843267e+02,\n",
       "       1.15139540e+03, 2.94705170e+03, 7.54312006e+03, 1.93069773e+04,\n",
       "       4.94171336e+04, 1.26485522e+05, 3.23745754e+05, 8.28642773e+05,\n",
       "       2.12095089e+06, 5.42867544e+06, 1.38949549e+07, 3.55648031e+07,\n",
       "       9.10298178e+07, 2.32995181e+08, 5.96362332e+08, 1.52641797e+09,\n",
       "       3.90693994e+09, 1.00000000e+10]),\n",
       "        max_iter=1000000)</pre></div></div></div></div></div></div></div></div></div></div></div></div>"
      ],
      "text/plain": [
       "Pipeline(steps=[('columntransformer',\n",
       "                 ColumnTransformer(transformers=[('num',\n",
       "                                                  Pipeline(steps=[('log',\n",
       "                                                                   FunctionTransformer(func=<ufunc 'log'>,\n",
       "                                                                                       inverse_func=<ufunc 'exp'>)),\n",
       "                                                                  ('scaler',\n",
       "                                                                   StandardScaler())]),\n",
       "                                                  ['displacement', 'horsepower',\n",
       "                                                   'weight', 'accel']),\n",
       "                                                 ('cat',\n",
       "                                                  OneHotEncoder(handle_unknown='ignore'),\n",
       "                                                  ['cylinders', 'origin',\n",
       "                                                   'year'])])),\n",
       "                ('transformedtargetregresso...\n",
       "       2.68269580e+01, 6.86648845e+01, 1.75751062e+02, 4.49843267e+02,\n",
       "       1.15139540e+03, 2.94705170e+03, 7.54312006e+03, 1.93069773e+04,\n",
       "       4.94171336e+04, 1.26485522e+05, 3.23745754e+05, 8.28642773e+05,\n",
       "       2.12095089e+06, 5.42867544e+06, 1.38949549e+07, 3.55648031e+07,\n",
       "       9.10298178e+07, 2.32995181e+08, 5.96362332e+08, 1.52641797e+09,\n",
       "       3.90693994e+09, 1.00000000e+10]),\n",
       "                                                              max_iter=1000000)))])"
      ]
     },
     "execution_count": 29,
     "metadata": {},
     "output_type": "execute_result"
    },
    {
     "data": {
      "text/plain": [
       "0.000339322177189533"
      ]
     },
     "execution_count": 29,
     "metadata": {},
     "output_type": "execute_result"
    }
   ],
   "source": [
    "from sklearn.linear_model import LassoCV\n",
    "\n",
    "lasso_cv = make_pipeline(\n",
    "    preprocessor,\n",
    "    TransformedTargetRegressor(\n",
    "        regressor=LassoCV(alphas=np.logspace(-10,10,50), max_iter=1000000),\n",
    "        func = np.log,\n",
    "        inverse_func = np.exp\n",
    "    )\n",
    ")\n",
    "\n",
    "lasso_cv.fit(X_train, y_train)\n",
    "lasso_cv[-1].regressor_.alpha_"
   ]
  },
  {
   "cell_type": "code",
   "execution_count": 30,
   "metadata": {},
   "outputs": [
    {
     "data": {
      "text/html": [
       "<style>div.sk-top-container {color: black;background-color: white;}div.sk-toggleable {background-color: white;}label.sk-toggleable__label {cursor: pointer;display: block;width: 100%;margin-bottom: 0;padding: 0.2em 0.3em;box-sizing: border-box;text-align: center;}div.sk-toggleable__content {max-height: 0;max-width: 0;overflow: hidden;text-align: left;background-color: #f0f8ff;}div.sk-toggleable__content pre {margin: 0.2em;color: black;border-radius: 0.25em;background-color: #f0f8ff;}input.sk-toggleable__control:checked~div.sk-toggleable__content {max-height: 200px;max-width: 100%;overflow: auto;}div.sk-estimator input.sk-toggleable__control:checked~label.sk-toggleable__label {background-color: #d4ebff;}div.sk-label input.sk-toggleable__control:checked~label.sk-toggleable__label {background-color: #d4ebff;}input.sk-hidden--visually {border: 0;clip: rect(1px 1px 1px 1px);clip: rect(1px, 1px, 1px, 1px);height: 1px;margin: -1px;overflow: hidden;padding: 0;position: absolute;width: 1px;}div.sk-estimator {font-family: monospace;background-color: #f0f8ff;margin: 0.25em 0.25em;border: 1px dotted black;border-radius: 0.25em;box-sizing: border-box;}div.sk-estimator:hover {background-color: #d4ebff;}div.sk-parallel-item::after {content: \"\";width: 100%;border-bottom: 1px solid gray;flex-grow: 1;}div.sk-label:hover label.sk-toggleable__label {background-color: #d4ebff;}div.sk-serial::before {content: \"\";position: absolute;border-left: 1px solid gray;box-sizing: border-box;top: 2em;bottom: 0;left: 50%;}div.sk-serial {display: flex;flex-direction: column;align-items: center;background-color: white;}div.sk-item {z-index: 1;}div.sk-parallel {display: flex;align-items: stretch;justify-content: center;background-color: white;}div.sk-parallel-item {display: flex;flex-direction: column;position: relative;background-color: white;}div.sk-parallel-item:first-child::after {align-self: flex-end;width: 50%;}div.sk-parallel-item:last-child::after {align-self: flex-start;width: 50%;}div.sk-parallel-item:only-child::after {width: 0;}div.sk-dashed-wrapped {border: 1px dashed gray;margin: 0.2em;box-sizing: border-box;padding-bottom: 0.1em;background-color: white;position: relative;}div.sk-label label {font-family: monospace;font-weight: bold;background-color: white;display: inline-block;line-height: 1.2em;}div.sk-label-container {position: relative;z-index: 2;text-align: center;}div.sk-container {display: inline-block;position: relative;}</style><div class=\"sk-top-container\"><div class=\"sk-container\"><div class=\"sk-item sk-dashed-wrapped\"><div class=\"sk-label-container\"><div class=\"sk-label sk-toggleable\"><input class=\"sk-toggleable__control sk-hidden--visually\" id=\"1ed942c1-b6fa-4c9c-8edb-1cd5527345eb\" type=\"checkbox\" ><label class=\"sk-toggleable__label\" for=\"1ed942c1-b6fa-4c9c-8edb-1cd5527345eb\">Pipeline</label><div class=\"sk-toggleable__content\"><pre>Pipeline(steps=[('columntransformer',\n",
       "                 ColumnTransformer(transformers=[('num',\n",
       "                                                  Pipeline(steps=[('log',\n",
       "                                                                   FunctionTransformer(func=<ufunc 'log'>,\n",
       "                                                                                       inverse_func=<ufunc 'exp'>)),\n",
       "                                                                  ('scaler',\n",
       "                                                                   StandardScaler())]),\n",
       "                                                  ['displacement', 'horsepower',\n",
       "                                                   'weight', 'accel']),\n",
       "                                                 ('cat',\n",
       "                                                  OneHotEncoder(handle_unknown='ignore'),\n",
       "                                                  ['cylinders', 'origin',\n",
       "                                                   'year'])])),\n",
       "                ('transformedtargetregressor',\n",
       "                 TransformedTargetRegressor(func=<ufunc 'log'>,\n",
       "                                            inverse_func=<ufunc 'exp'>,\n",
       "                                            regressor=Lasso(alpha=0.000339322177189533,\n",
       "                                                            max_iter=100000)))])</pre></div></div></div><div class=\"sk-serial\"><div class=\"sk-item sk-dashed-wrapped\"><div class=\"sk-label-container\"><div class=\"sk-label sk-toggleable\"><input class=\"sk-toggleable__control sk-hidden--visually\" id=\"8aef1a73-12c4-4cd3-a595-71b76a71e1fe\" type=\"checkbox\" ><label class=\"sk-toggleable__label\" for=\"8aef1a73-12c4-4cd3-a595-71b76a71e1fe\">columntransformer: ColumnTransformer</label><div class=\"sk-toggleable__content\"><pre>ColumnTransformer(transformers=[('num',\n",
       "                                 Pipeline(steps=[('log',\n",
       "                                                  FunctionTransformer(func=<ufunc 'log'>,\n",
       "                                                                      inverse_func=<ufunc 'exp'>)),\n",
       "                                                 ('scaler', StandardScaler())]),\n",
       "                                 ['displacement', 'horsepower', 'weight',\n",
       "                                  'accel']),\n",
       "                                ('cat', OneHotEncoder(handle_unknown='ignore'),\n",
       "                                 ['cylinders', 'origin', 'year'])])</pre></div></div></div><div class=\"sk-parallel\"><div class=\"sk-parallel-item\"><div class=\"sk-item\"><div class=\"sk-label-container\"><div class=\"sk-label sk-toggleable\"><input class=\"sk-toggleable__control sk-hidden--visually\" id=\"7e9b8349-fed0-4537-aa2a-68534d33ea71\" type=\"checkbox\" ><label class=\"sk-toggleable__label\" for=\"7e9b8349-fed0-4537-aa2a-68534d33ea71\">num</label><div class=\"sk-toggleable__content\"><pre>['displacement', 'horsepower', 'weight', 'accel']</pre></div></div></div><div class=\"sk-serial\"><div class=\"sk-item\"><div class=\"sk-serial\"><div class=\"sk-item\"><div class=\"sk-estimator sk-toggleable\"><input class=\"sk-toggleable__control sk-hidden--visually\" id=\"20053876-8494-43ef-ba94-73e2ef052cab\" type=\"checkbox\" ><label class=\"sk-toggleable__label\" for=\"20053876-8494-43ef-ba94-73e2ef052cab\">FunctionTransformer</label><div class=\"sk-toggleable__content\"><pre>FunctionTransformer(func=<ufunc 'log'>, inverse_func=<ufunc 'exp'>)</pre></div></div></div><div class=\"sk-item\"><div class=\"sk-estimator sk-toggleable\"><input class=\"sk-toggleable__control sk-hidden--visually\" id=\"2867c5c8-639b-4d8a-9772-6ae00caf156d\" type=\"checkbox\" ><label class=\"sk-toggleable__label\" for=\"2867c5c8-639b-4d8a-9772-6ae00caf156d\">StandardScaler</label><div class=\"sk-toggleable__content\"><pre>StandardScaler()</pre></div></div></div></div></div></div></div></div><div class=\"sk-parallel-item\"><div class=\"sk-item\"><div class=\"sk-label-container\"><div class=\"sk-label sk-toggleable\"><input class=\"sk-toggleable__control sk-hidden--visually\" id=\"523d52de-28af-410f-b341-1b6d4c96beef\" type=\"checkbox\" ><label class=\"sk-toggleable__label\" for=\"523d52de-28af-410f-b341-1b6d4c96beef\">cat</label><div class=\"sk-toggleable__content\"><pre>['cylinders', 'origin', 'year']</pre></div></div></div><div class=\"sk-serial\"><div class=\"sk-item\"><div class=\"sk-estimator sk-toggleable\"><input class=\"sk-toggleable__control sk-hidden--visually\" id=\"13cee71d-df11-4a7d-ab62-69a465879e1d\" type=\"checkbox\" ><label class=\"sk-toggleable__label\" for=\"13cee71d-df11-4a7d-ab62-69a465879e1d\">OneHotEncoder</label><div class=\"sk-toggleable__content\"><pre>OneHotEncoder(handle_unknown='ignore')</pre></div></div></div></div></div></div></div></div><div class=\"sk-item sk-dashed-wrapped\"><div class=\"sk-label-container\"><div class=\"sk-label sk-toggleable\"><input class=\"sk-toggleable__control sk-hidden--visually\" id=\"630b83a4-4484-4b11-b649-decccd8c0b7d\" type=\"checkbox\" ><label class=\"sk-toggleable__label\" for=\"630b83a4-4484-4b11-b649-decccd8c0b7d\">transformedtargetregressor: TransformedTargetRegressor</label><div class=\"sk-toggleable__content\"><pre>TransformedTargetRegressor(func=<ufunc 'log'>, inverse_func=<ufunc 'exp'>,\n",
       "                           regressor=Lasso(alpha=0.000339322177189533,\n",
       "                                           max_iter=100000))</pre></div></div></div><div class=\"sk-parallel\"><div class=\"sk-parallel-item\"><div class=\"sk-item\"><div class=\"sk-serial\"><div class=\"sk-item\"><div class=\"sk-estimator sk-toggleable\"><input class=\"sk-toggleable__control sk-hidden--visually\" id=\"3c7604da-6b2d-479f-b615-79db5a5bac2f\" type=\"checkbox\" ><label class=\"sk-toggleable__label\" for=\"3c7604da-6b2d-479f-b615-79db5a5bac2f\">Lasso</label><div class=\"sk-toggleable__content\"><pre>Lasso(alpha=0.000339322177189533, max_iter=100000)</pre></div></div></div></div></div></div></div></div></div></div></div></div>"
      ],
      "text/plain": [
       "Pipeline(steps=[('columntransformer',\n",
       "                 ColumnTransformer(transformers=[('num',\n",
       "                                                  Pipeline(steps=[('log',\n",
       "                                                                   FunctionTransformer(func=<ufunc 'log'>,\n",
       "                                                                                       inverse_func=<ufunc 'exp'>)),\n",
       "                                                                  ('scaler',\n",
       "                                                                   StandardScaler())]),\n",
       "                                                  ['displacement', 'horsepower',\n",
       "                                                   'weight', 'accel']),\n",
       "                                                 ('cat',\n",
       "                                                  OneHotEncoder(handle_unknown='ignore'),\n",
       "                                                  ['cylinders', 'origin',\n",
       "                                                   'year'])])),\n",
       "                ('transformedtargetregressor',\n",
       "                 TransformedTargetRegressor(func=<ufunc 'log'>,\n",
       "                                            inverse_func=<ufunc 'exp'>,\n",
       "                                            regressor=Lasso(alpha=0.000339322177189533,\n",
       "                                                            max_iter=100000)))])"
      ]
     },
     "execution_count": 30,
     "metadata": {},
     "output_type": "execute_result"
    }
   ],
   "source": [
    "from sklearn.linear_model import Lasso\n",
    "\n",
    "lasso = make_pipeline(\n",
    "    preprocessor,\n",
    "    TransformedTargetRegressor(\n",
    "        regressor=Lasso(alpha=0.000339322177189533, max_iter=100000),\n",
    "        func = np.log,\n",
    "        inverse_func = np.exp\n",
    "    )\n",
    ")\n",
    "\n",
    "lasso.fit(X_train, y_train)"
   ]
  },
  {
   "cell_type": "code",
   "execution_count": 31,
   "metadata": {},
   "outputs": [],
   "source": [
    "lasso_pred_in = lasso.predict(X_train)\n",
    "lasso_pred_out = lasso.predict(X_test)"
   ]
  },
  {
   "cell_type": "code",
   "execution_count": 32,
   "metadata": {},
   "outputs": [
    {
     "data": {
      "text/html": [
       "<div>\n",
       "<style scoped>\n",
       "    .dataframe tbody tr th:only-of-type {\n",
       "        vertical-align: middle;\n",
       "    }\n",
       "\n",
       "    .dataframe tbody tr th {\n",
       "        vertical-align: top;\n",
       "    }\n",
       "\n",
       "    .dataframe thead th {\n",
       "        text-align: right;\n",
       "    }\n",
       "</style>\n",
       "<table border=\"1\" class=\"dataframe\">\n",
       "  <thead>\n",
       "    <tr style=\"text-align: right;\">\n",
       "      <th></th>\n",
       "      <th>in</th>\n",
       "      <th>out</th>\n",
       "    </tr>\n",
       "  </thead>\n",
       "  <tbody>\n",
       "    <tr>\n",
       "      <th>r2</th>\n",
       "      <td>0.899055</td>\n",
       "      <td>0.889662</td>\n",
       "    </tr>\n",
       "    <tr>\n",
       "      <th>mse</th>\n",
       "      <td>6.248860</td>\n",
       "      <td>6.390333</td>\n",
       "    </tr>\n",
       "    <tr>\n",
       "      <th>mae</th>\n",
       "      <td>1.726252</td>\n",
       "      <td>1.933950</td>\n",
       "    </tr>\n",
       "  </tbody>\n",
       "</table>\n",
       "</div>"
      ],
      "text/plain": [
       "           in       out\n",
       "r2   0.899055  0.889662\n",
       "mse  6.248860  6.390333\n",
       "mae  1.726252  1.933950"
      ]
     },
     "execution_count": 32,
     "metadata": {},
     "output_type": "execute_result"
    }
   ],
   "source": [
    "metrics = pd.DataFrame(index=['r2','mse','mae'],columns=['in','out'])\n",
    "\n",
    "metrics['in'] = (r2_score(y_train, lasso_pred_in), mean_squared_error(y_train, lasso_pred_in), mean_absolute_error(y_train, lasso_pred_in))\n",
    "metrics['out'] = (r2_score(y_test, lasso_pred_out), mean_squared_error(y_test, lasso_pred_out), mean_absolute_error(y_test, lasso_pred_out))\n",
    "\n",
    "metrics"
   ]
  },
  {
   "cell_type": "markdown",
   "metadata": {},
   "source": [
    "Ridge still appears to be performing the best, most likely due to the fact that there is smoothing applied across all linear coefficients!\n",
    "\n",
    "Why is Log-Log an excellent option for data analysis? We prevent introducing complexity into our model through polynomial terms, and the underlying data relationship may not actually be polynomial! It may be logarithmic!\n",
    "\n",
    "Let's look at and analyze the coefficients for continuous variables in the next notebook and how they form the models we're looking at."
   ]
  },
  {
   "cell_type": "code",
   "execution_count": null,
   "metadata": {},
   "outputs": [],
   "source": []
  }
 ],
 "metadata": {
  "kernelspec": {
   "display_name": "Python 3 (Spyder)",
   "language": "python3",
   "name": "python3"
  },
  "language_info": {
   "codemirror_mode": {
    "name": "ipython",
    "version": 3
   },
   "file_extension": ".py",
   "mimetype": "text/x-python",
   "name": "python",
   "nbconvert_exporter": "python",
   "pygments_lexer": "ipython3",
   "version": "3.8.3"
  }
 },
 "nbformat": 4,
 "nbformat_minor": 4
}
