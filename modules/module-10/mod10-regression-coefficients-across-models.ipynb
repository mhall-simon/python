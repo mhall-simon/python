{
 "cells": [
  {
   "cell_type": "markdown",
   "metadata": {},
   "source": [
    "# Module 10 - Regression Algorithms - Decomposing Linear Models Into Their Coefficients and Model Composition"
   ]
  },
  {
   "cell_type": "markdown",
   "metadata": {},
   "source": [
    "In the last few notebooks, I covered the baseline Linear Regression (OLS), Ridge, and LASSO. Linear Regression finds the line of best fit through the least squares loss function, however, is subject to overfitting the training data sets.\n",
    "\n",
    "To smooth out the models, we can use Ridge which tries to \"even out\" all the coefficients, or use LASSO which tries to reduce model complexity.\n",
    "\n",
    "In the Log-Log models, since all continuous inputs have been standardized, we can compare relative importance out of them, but, also see how they combine into the model.\n",
    "\n",
    "We can also plot the indiviudal coefficient lines and see how they build the model together.\n",
    "\n",
    "If we define a linear space x of intervals, we can calculate what each coefficient would be at that value of x. Then we can graph them to see how the composition works.\n",
    "\n",
    "For model interpretation this is pretty useless, however, it's interesting to see how the models differ in preventing overfitting. *(Placing $x=1$ on all log coefficients probably doesn't correlate into an actual car.)*\n",
    "\n",
    "I'm going to start by importing everything from the notebook *mod10-regression-ridge-lasso-log-log-models.ipynb*."
   ]
  },
  {
   "cell_type": "markdown",
   "metadata": {},
   "source": [
    "## Part A: Setting Up Log-Log Models for Linear Regression, Ridge, and LASSO"
   ]
  },
  {
   "cell_type": "code",
   "execution_count": 1,
   "metadata": {},
   "outputs": [],
   "source": [
    "import numpy as np\n",
    "import pandas as pd\n",
    "import matplotlib.pyplot as plt\n",
    "import seaborn as sns\n",
    "\n",
    "from IPython.core.interactiveshell import InteractiveShell\n",
    "InteractiveShell.ast_node_interactivity = \"all\"\n",
    "\n",
    "from sklearn import set_config\n",
    "set_config(display='diagram')"
   ]
  },
  {
   "cell_type": "code",
   "execution_count": 2,
   "metadata": {},
   "outputs": [],
   "source": [
    "loc = \"https://raw.githubusercontent.com/mhall-simon/python/main/data/car-mpg/auto-mpg.data\"\n",
    "\n",
    "df = pd.read_csv(loc, sep=\"\\s+\", header=None, na_values=\"?\")\n",
    "\n",
    "cols = {0:\"mpg\", 1:\"cylinders\", 2:\"displacement\", 3:\"horsepower\", 4:\"weight\", 5:\"accel\", 6:\"year\", 7:\"origin\", 8:\"model\"}\n",
    "df = df.rename(columns=cols)\n",
    "\n",
    "df = df.replace(np.nan, df.horsepower.mean())\n",
    "\n",
    "df = df.drop(\"model\", axis=1)\n",
    "\n",
    "X = df.iloc[:,1:]\n",
    "y = df.iloc[:,0]"
   ]
  },
  {
   "cell_type": "code",
   "execution_count": 3,
   "metadata": {},
   "outputs": [],
   "source": [
    "from sklearn.model_selection import train_test_split\n",
    "\n",
    "X_train, X_test, y_train, y_test = train_test_split(X, y, random_state=107)"
   ]
  },
  {
   "cell_type": "code",
   "execution_count": 4,
   "metadata": {},
   "outputs": [],
   "source": [
    "categorical_columns = ['cylinders','origin','year']\n",
    "numerical_columns = ['displacement','horsepower','weight','accel']\n",
    "\n",
    "from sklearn.pipeline import Pipeline\n",
    "from sklearn.preprocessing import PolynomialFeatures\n",
    "from sklearn.preprocessing import StandardScaler\n",
    "\n",
    "numerical_transformer = Pipeline(steps=[('poly', PolynomialFeatures(degree=3, include_bias=False, interaction_only=True)),\n",
    "                                        ('scaler', StandardScaler())])"
   ]
  },
  {
   "cell_type": "code",
   "execution_count": 5,
   "metadata": {},
   "outputs": [],
   "source": [
    "from sklearn.preprocessing import OneHotEncoder\n",
    "\n",
    "categorical_transformer = OneHotEncoder(handle_unknown='ignore')"
   ]
  },
  {
   "cell_type": "code",
   "execution_count": 6,
   "metadata": {},
   "outputs": [],
   "source": [
    "from sklearn.compose import ColumnTransformer\n",
    "\n",
    "preprocessor = ColumnTransformer(\n",
    "    transformers=[\n",
    "        ('num', numerical_transformer, numerical_columns),\n",
    "        ('cat', categorical_transformer, categorical_columns)])"
   ]
  },
  {
   "cell_type": "code",
   "execution_count": 7,
   "metadata": {},
   "outputs": [
    {
     "data": {
      "text/html": [
       "<style>div.sk-top-container {color: black;background-color: white;}div.sk-toggleable {background-color: white;}label.sk-toggleable__label {cursor: pointer;display: block;width: 100%;margin-bottom: 0;padding: 0.2em 0.3em;box-sizing: border-box;text-align: center;}div.sk-toggleable__content {max-height: 0;max-width: 0;overflow: hidden;text-align: left;background-color: #f0f8ff;}div.sk-toggleable__content pre {margin: 0.2em;color: black;border-radius: 0.25em;background-color: #f0f8ff;}input.sk-toggleable__control:checked~div.sk-toggleable__content {max-height: 200px;max-width: 100%;overflow: auto;}div.sk-estimator input.sk-toggleable__control:checked~label.sk-toggleable__label {background-color: #d4ebff;}div.sk-label input.sk-toggleable__control:checked~label.sk-toggleable__label {background-color: #d4ebff;}input.sk-hidden--visually {border: 0;clip: rect(1px 1px 1px 1px);clip: rect(1px, 1px, 1px, 1px);height: 1px;margin: -1px;overflow: hidden;padding: 0;position: absolute;width: 1px;}div.sk-estimator {font-family: monospace;background-color: #f0f8ff;margin: 0.25em 0.25em;border: 1px dotted black;border-radius: 0.25em;box-sizing: border-box;}div.sk-estimator:hover {background-color: #d4ebff;}div.sk-parallel-item::after {content: \"\";width: 100%;border-bottom: 1px solid gray;flex-grow: 1;}div.sk-label:hover label.sk-toggleable__label {background-color: #d4ebff;}div.sk-serial::before {content: \"\";position: absolute;border-left: 1px solid gray;box-sizing: border-box;top: 2em;bottom: 0;left: 50%;}div.sk-serial {display: flex;flex-direction: column;align-items: center;background-color: white;}div.sk-item {z-index: 1;}div.sk-parallel {display: flex;align-items: stretch;justify-content: center;background-color: white;}div.sk-parallel-item {display: flex;flex-direction: column;position: relative;background-color: white;}div.sk-parallel-item:first-child::after {align-self: flex-end;width: 50%;}div.sk-parallel-item:last-child::after {align-self: flex-start;width: 50%;}div.sk-parallel-item:only-child::after {width: 0;}div.sk-dashed-wrapped {border: 1px dashed gray;margin: 0.2em;box-sizing: border-box;padding-bottom: 0.1em;background-color: white;position: relative;}div.sk-label label {font-family: monospace;font-weight: bold;background-color: white;display: inline-block;line-height: 1.2em;}div.sk-label-container {position: relative;z-index: 2;text-align: center;}div.sk-container {display: inline-block;position: relative;}</style><div class=\"sk-top-container\"><div class=\"sk-container\"><div class=\"sk-item sk-dashed-wrapped\"><div class=\"sk-label-container\"><div class=\"sk-label sk-toggleable\"><input class=\"sk-toggleable__control sk-hidden--visually\" id=\"d8b2d7dc-5546-48f1-a068-bc71c714fac6\" type=\"checkbox\" ><label class=\"sk-toggleable__label\" for=\"d8b2d7dc-5546-48f1-a068-bc71c714fac6\">Pipeline</label><div class=\"sk-toggleable__content\"><pre>Pipeline(steps=[('columntransformer',\n",
       "                 ColumnTransformer(transformers=[('num',\n",
       "                                                  Pipeline(steps=[('poly',\n",
       "                                                                   PolynomialFeatures(degree=3,\n",
       "                                                                                      include_bias=False,\n",
       "                                                                                      interaction_only=True)),\n",
       "                                                                  ('scaler',\n",
       "                                                                   StandardScaler())]),\n",
       "                                                  ['displacement', 'horsepower',\n",
       "                                                   'weight', 'accel']),\n",
       "                                                 ('cat',\n",
       "                                                  OneHotEncoder(handle_unknown='ignore'),\n",
       "                                                  ['cylinders', 'origin',\n",
       "                                                   'year'])])),\n",
       "                ('transformedtargetregressor',\n",
       "                 TransformedTargetRegressor(func=<ufunc 'log'>,\n",
       "                                            inverse_func=<ufunc 'exp'>,\n",
       "                                            regressor=LinearRegression()))])</pre></div></div></div><div class=\"sk-serial\"><div class=\"sk-item sk-dashed-wrapped\"><div class=\"sk-label-container\"><div class=\"sk-label sk-toggleable\"><input class=\"sk-toggleable__control sk-hidden--visually\" id=\"b1985d9a-40d4-4edb-bb36-e7e426cb3224\" type=\"checkbox\" ><label class=\"sk-toggleable__label\" for=\"b1985d9a-40d4-4edb-bb36-e7e426cb3224\">columntransformer: ColumnTransformer</label><div class=\"sk-toggleable__content\"><pre>ColumnTransformer(transformers=[('num',\n",
       "                                 Pipeline(steps=[('poly',\n",
       "                                                  PolynomialFeatures(degree=3,\n",
       "                                                                     include_bias=False,\n",
       "                                                                     interaction_only=True)),\n",
       "                                                 ('scaler', StandardScaler())]),\n",
       "                                 ['displacement', 'horsepower', 'weight',\n",
       "                                  'accel']),\n",
       "                                ('cat', OneHotEncoder(handle_unknown='ignore'),\n",
       "                                 ['cylinders', 'origin', 'year'])])</pre></div></div></div><div class=\"sk-parallel\"><div class=\"sk-parallel-item\"><div class=\"sk-item\"><div class=\"sk-label-container\"><div class=\"sk-label sk-toggleable\"><input class=\"sk-toggleable__control sk-hidden--visually\" id=\"be326800-7bf0-41f6-8269-dd7af7f405cb\" type=\"checkbox\" ><label class=\"sk-toggleable__label\" for=\"be326800-7bf0-41f6-8269-dd7af7f405cb\">num</label><div class=\"sk-toggleable__content\"><pre>['displacement', 'horsepower', 'weight', 'accel']</pre></div></div></div><div class=\"sk-serial\"><div class=\"sk-item\"><div class=\"sk-serial\"><div class=\"sk-item\"><div class=\"sk-estimator sk-toggleable\"><input class=\"sk-toggleable__control sk-hidden--visually\" id=\"58ed2696-aac2-465e-a142-ff8a68abd075\" type=\"checkbox\" ><label class=\"sk-toggleable__label\" for=\"58ed2696-aac2-465e-a142-ff8a68abd075\">PolynomialFeatures</label><div class=\"sk-toggleable__content\"><pre>PolynomialFeatures(degree=3, include_bias=False, interaction_only=True)</pre></div></div></div><div class=\"sk-item\"><div class=\"sk-estimator sk-toggleable\"><input class=\"sk-toggleable__control sk-hidden--visually\" id=\"c8aa73d9-910a-4d24-b819-53ddc7d9d2f6\" type=\"checkbox\" ><label class=\"sk-toggleable__label\" for=\"c8aa73d9-910a-4d24-b819-53ddc7d9d2f6\">StandardScaler</label><div class=\"sk-toggleable__content\"><pre>StandardScaler()</pre></div></div></div></div></div></div></div></div><div class=\"sk-parallel-item\"><div class=\"sk-item\"><div class=\"sk-label-container\"><div class=\"sk-label sk-toggleable\"><input class=\"sk-toggleable__control sk-hidden--visually\" id=\"f846c943-3ded-42b5-a16f-5e808a4aecd0\" type=\"checkbox\" ><label class=\"sk-toggleable__label\" for=\"f846c943-3ded-42b5-a16f-5e808a4aecd0\">cat</label><div class=\"sk-toggleable__content\"><pre>['cylinders', 'origin', 'year']</pre></div></div></div><div class=\"sk-serial\"><div class=\"sk-item\"><div class=\"sk-estimator sk-toggleable\"><input class=\"sk-toggleable__control sk-hidden--visually\" id=\"51591427-a30b-41ff-bb0f-7d0bcf25d496\" type=\"checkbox\" ><label class=\"sk-toggleable__label\" for=\"51591427-a30b-41ff-bb0f-7d0bcf25d496\">OneHotEncoder</label><div class=\"sk-toggleable__content\"><pre>OneHotEncoder(handle_unknown='ignore')</pre></div></div></div></div></div></div></div></div><div class=\"sk-item sk-dashed-wrapped\"><div class=\"sk-label-container\"><div class=\"sk-label sk-toggleable\"><input class=\"sk-toggleable__control sk-hidden--visually\" id=\"ca4630b4-61de-416f-9318-424a8ba9b8e6\" type=\"checkbox\" ><label class=\"sk-toggleable__label\" for=\"ca4630b4-61de-416f-9318-424a8ba9b8e6\">transformedtargetregressor: TransformedTargetRegressor</label><div class=\"sk-toggleable__content\"><pre>TransformedTargetRegressor(func=<ufunc 'log'>, inverse_func=<ufunc 'exp'>,\n",
       "                           regressor=LinearRegression())</pre></div></div></div><div class=\"sk-parallel\"><div class=\"sk-parallel-item\"><div class=\"sk-item\"><div class=\"sk-serial\"><div class=\"sk-item\"><div class=\"sk-estimator sk-toggleable\"><input class=\"sk-toggleable__control sk-hidden--visually\" id=\"b358136e-58f7-40ed-852c-27fe0d15d482\" type=\"checkbox\" ><label class=\"sk-toggleable__label\" for=\"b358136e-58f7-40ed-852c-27fe0d15d482\">LinearRegression</label><div class=\"sk-toggleable__content\"><pre>LinearRegression()</pre></div></div></div></div></div></div></div></div></div></div></div></div>"
      ],
      "text/plain": [
       "Pipeline(steps=[('columntransformer',\n",
       "                 ColumnTransformer(transformers=[('num',\n",
       "                                                  Pipeline(steps=[('poly',\n",
       "                                                                   PolynomialFeatures(degree=3,\n",
       "                                                                                      include_bias=False,\n",
       "                                                                                      interaction_only=True)),\n",
       "                                                                  ('scaler',\n",
       "                                                                   StandardScaler())]),\n",
       "                                                  ['displacement', 'horsepower',\n",
       "                                                   'weight', 'accel']),\n",
       "                                                 ('cat',\n",
       "                                                  OneHotEncoder(handle_unknown='ignore'),\n",
       "                                                  ['cylinders', 'origin',\n",
       "                                                   'year'])])),\n",
       "                ('transformedtargetregressor',\n",
       "                 TransformedTargetRegressor(func=<ufunc 'log'>,\n",
       "                                            inverse_func=<ufunc 'exp'>,\n",
       "                                            regressor=LinearRegression()))])"
      ]
     },
     "execution_count": 7,
     "metadata": {},
     "output_type": "execute_result"
    }
   ],
   "source": [
    "from sklearn.linear_model import LinearRegression\n",
    "from sklearn.compose import TransformedTargetRegressor\n",
    "from sklearn.pipeline import make_pipeline\n",
    "\n",
    "linear = make_pipeline(\n",
    "    preprocessor,\n",
    "    TransformedTargetRegressor(\n",
    "        regressor=LinearRegression(),\n",
    "        func = np.log,\n",
    "        inverse_func = np.exp\n",
    "    )\n",
    ")\n",
    "\n",
    "linear.fit(X_train, y_train)"
   ]
  },
  {
   "cell_type": "code",
   "execution_count": 8,
   "metadata": {},
   "outputs": [
    {
     "data": {
      "text/html": [
       "<style>div.sk-top-container {color: black;background-color: white;}div.sk-toggleable {background-color: white;}label.sk-toggleable__label {cursor: pointer;display: block;width: 100%;margin-bottom: 0;padding: 0.2em 0.3em;box-sizing: border-box;text-align: center;}div.sk-toggleable__content {max-height: 0;max-width: 0;overflow: hidden;text-align: left;background-color: #f0f8ff;}div.sk-toggleable__content pre {margin: 0.2em;color: black;border-radius: 0.25em;background-color: #f0f8ff;}input.sk-toggleable__control:checked~div.sk-toggleable__content {max-height: 200px;max-width: 100%;overflow: auto;}div.sk-estimator input.sk-toggleable__control:checked~label.sk-toggleable__label {background-color: #d4ebff;}div.sk-label input.sk-toggleable__control:checked~label.sk-toggleable__label {background-color: #d4ebff;}input.sk-hidden--visually {border: 0;clip: rect(1px 1px 1px 1px);clip: rect(1px, 1px, 1px, 1px);height: 1px;margin: -1px;overflow: hidden;padding: 0;position: absolute;width: 1px;}div.sk-estimator {font-family: monospace;background-color: #f0f8ff;margin: 0.25em 0.25em;border: 1px dotted black;border-radius: 0.25em;box-sizing: border-box;}div.sk-estimator:hover {background-color: #d4ebff;}div.sk-parallel-item::after {content: \"\";width: 100%;border-bottom: 1px solid gray;flex-grow: 1;}div.sk-label:hover label.sk-toggleable__label {background-color: #d4ebff;}div.sk-serial::before {content: \"\";position: absolute;border-left: 1px solid gray;box-sizing: border-box;top: 2em;bottom: 0;left: 50%;}div.sk-serial {display: flex;flex-direction: column;align-items: center;background-color: white;}div.sk-item {z-index: 1;}div.sk-parallel {display: flex;align-items: stretch;justify-content: center;background-color: white;}div.sk-parallel-item {display: flex;flex-direction: column;position: relative;background-color: white;}div.sk-parallel-item:first-child::after {align-self: flex-end;width: 50%;}div.sk-parallel-item:last-child::after {align-self: flex-start;width: 50%;}div.sk-parallel-item:only-child::after {width: 0;}div.sk-dashed-wrapped {border: 1px dashed gray;margin: 0.2em;box-sizing: border-box;padding-bottom: 0.1em;background-color: white;position: relative;}div.sk-label label {font-family: monospace;font-weight: bold;background-color: white;display: inline-block;line-height: 1.2em;}div.sk-label-container {position: relative;z-index: 2;text-align: center;}div.sk-container {display: inline-block;position: relative;}</style><div class=\"sk-top-container\"><div class=\"sk-container\"><div class=\"sk-item sk-dashed-wrapped\"><div class=\"sk-label-container\"><div class=\"sk-label sk-toggleable\"><input class=\"sk-toggleable__control sk-hidden--visually\" id=\"57d18212-ee11-4a1b-9bdd-0903970eef24\" type=\"checkbox\" ><label class=\"sk-toggleable__label\" for=\"57d18212-ee11-4a1b-9bdd-0903970eef24\">Pipeline</label><div class=\"sk-toggleable__content\"><pre>Pipeline(steps=[('columntransformer',\n",
       "                 ColumnTransformer(transformers=[('num',\n",
       "                                                  Pipeline(steps=[('poly',\n",
       "                                                                   PolynomialFeatures(degree=3,\n",
       "                                                                                      include_bias=False,\n",
       "                                                                                      interaction_only=True)),\n",
       "                                                                  ('scaler',\n",
       "                                                                   StandardScaler())]),\n",
       "                                                  ['displacement', 'horsepower',\n",
       "                                                   'weight', 'accel']),\n",
       "                                                 ('cat',\n",
       "                                                  OneHotEncoder(handle_unknown='ignore'),\n",
       "                                                  ['cylinders', 'origin',\n",
       "                                                   'year'])])),\n",
       "                ('transformedtargetregressor',\n",
       "                 TransformedTargetRegressor(func=<ufunc 'log'>,\n",
       "                                            inverse_func=<ufunc 'exp'>,\n",
       "                                            regressor=Ridge(alpha=0.2442053094548655)))])</pre></div></div></div><div class=\"sk-serial\"><div class=\"sk-item sk-dashed-wrapped\"><div class=\"sk-label-container\"><div class=\"sk-label sk-toggleable\"><input class=\"sk-toggleable__control sk-hidden--visually\" id=\"358e243a-cddb-4322-97e0-56feddc94e1c\" type=\"checkbox\" ><label class=\"sk-toggleable__label\" for=\"358e243a-cddb-4322-97e0-56feddc94e1c\">columntransformer: ColumnTransformer</label><div class=\"sk-toggleable__content\"><pre>ColumnTransformer(transformers=[('num',\n",
       "                                 Pipeline(steps=[('poly',\n",
       "                                                  PolynomialFeatures(degree=3,\n",
       "                                                                     include_bias=False,\n",
       "                                                                     interaction_only=True)),\n",
       "                                                 ('scaler', StandardScaler())]),\n",
       "                                 ['displacement', 'horsepower', 'weight',\n",
       "                                  'accel']),\n",
       "                                ('cat', OneHotEncoder(handle_unknown='ignore'),\n",
       "                                 ['cylinders', 'origin', 'year'])])</pre></div></div></div><div class=\"sk-parallel\"><div class=\"sk-parallel-item\"><div class=\"sk-item\"><div class=\"sk-label-container\"><div class=\"sk-label sk-toggleable\"><input class=\"sk-toggleable__control sk-hidden--visually\" id=\"b1482593-2865-4254-8857-0d740a231882\" type=\"checkbox\" ><label class=\"sk-toggleable__label\" for=\"b1482593-2865-4254-8857-0d740a231882\">num</label><div class=\"sk-toggleable__content\"><pre>['displacement', 'horsepower', 'weight', 'accel']</pre></div></div></div><div class=\"sk-serial\"><div class=\"sk-item\"><div class=\"sk-serial\"><div class=\"sk-item\"><div class=\"sk-estimator sk-toggleable\"><input class=\"sk-toggleable__control sk-hidden--visually\" id=\"129c8f22-3655-46ab-bb4a-5af6fee89554\" type=\"checkbox\" ><label class=\"sk-toggleable__label\" for=\"129c8f22-3655-46ab-bb4a-5af6fee89554\">PolynomialFeatures</label><div class=\"sk-toggleable__content\"><pre>PolynomialFeatures(degree=3, include_bias=False, interaction_only=True)</pre></div></div></div><div class=\"sk-item\"><div class=\"sk-estimator sk-toggleable\"><input class=\"sk-toggleable__control sk-hidden--visually\" id=\"57f5b02e-0801-4bbf-b7e1-d8c2f001accd\" type=\"checkbox\" ><label class=\"sk-toggleable__label\" for=\"57f5b02e-0801-4bbf-b7e1-d8c2f001accd\">StandardScaler</label><div class=\"sk-toggleable__content\"><pre>StandardScaler()</pre></div></div></div></div></div></div></div></div><div class=\"sk-parallel-item\"><div class=\"sk-item\"><div class=\"sk-label-container\"><div class=\"sk-label sk-toggleable\"><input class=\"sk-toggleable__control sk-hidden--visually\" id=\"4a6f747c-bc5d-4bf8-a8d3-cc4e2238825d\" type=\"checkbox\" ><label class=\"sk-toggleable__label\" for=\"4a6f747c-bc5d-4bf8-a8d3-cc4e2238825d\">cat</label><div class=\"sk-toggleable__content\"><pre>['cylinders', 'origin', 'year']</pre></div></div></div><div class=\"sk-serial\"><div class=\"sk-item\"><div class=\"sk-estimator sk-toggleable\"><input class=\"sk-toggleable__control sk-hidden--visually\" id=\"8bb21751-1281-4734-b0ac-74ac8b3f19a7\" type=\"checkbox\" ><label class=\"sk-toggleable__label\" for=\"8bb21751-1281-4734-b0ac-74ac8b3f19a7\">OneHotEncoder</label><div class=\"sk-toggleable__content\"><pre>OneHotEncoder(handle_unknown='ignore')</pre></div></div></div></div></div></div></div></div><div class=\"sk-item sk-dashed-wrapped\"><div class=\"sk-label-container\"><div class=\"sk-label sk-toggleable\"><input class=\"sk-toggleable__control sk-hidden--visually\" id=\"a3d5802d-7458-49f8-a1b9-112e54b9e590\" type=\"checkbox\" ><label class=\"sk-toggleable__label\" for=\"a3d5802d-7458-49f8-a1b9-112e54b9e590\">transformedtargetregressor: TransformedTargetRegressor</label><div class=\"sk-toggleable__content\"><pre>TransformedTargetRegressor(func=<ufunc 'log'>, inverse_func=<ufunc 'exp'>,\n",
       "                           regressor=Ridge(alpha=0.2442053094548655))</pre></div></div></div><div class=\"sk-parallel\"><div class=\"sk-parallel-item\"><div class=\"sk-item\"><div class=\"sk-serial\"><div class=\"sk-item\"><div class=\"sk-estimator sk-toggleable\"><input class=\"sk-toggleable__control sk-hidden--visually\" id=\"6e32aa51-e8ce-4690-bafe-9bb2d9388a67\" type=\"checkbox\" ><label class=\"sk-toggleable__label\" for=\"6e32aa51-e8ce-4690-bafe-9bb2d9388a67\">Ridge</label><div class=\"sk-toggleable__content\"><pre>Ridge(alpha=0.2442053094548655)</pre></div></div></div></div></div></div></div></div></div></div></div></div>"
      ],
      "text/plain": [
       "Pipeline(steps=[('columntransformer',\n",
       "                 ColumnTransformer(transformers=[('num',\n",
       "                                                  Pipeline(steps=[('poly',\n",
       "                                                                   PolynomialFeatures(degree=3,\n",
       "                                                                                      include_bias=False,\n",
       "                                                                                      interaction_only=True)),\n",
       "                                                                  ('scaler',\n",
       "                                                                   StandardScaler())]),\n",
       "                                                  ['displacement', 'horsepower',\n",
       "                                                   'weight', 'accel']),\n",
       "                                                 ('cat',\n",
       "                                                  OneHotEncoder(handle_unknown='ignore'),\n",
       "                                                  ['cylinders', 'origin',\n",
       "                                                   'year'])])),\n",
       "                ('transformedtargetregressor',\n",
       "                 TransformedTargetRegressor(func=<ufunc 'log'>,\n",
       "                                            inverse_func=<ufunc 'exp'>,\n",
       "                                            regressor=Ridge(alpha=0.2442053094548655)))])"
      ]
     },
     "execution_count": 8,
     "metadata": {},
     "output_type": "execute_result"
    }
   ],
   "source": [
    "from sklearn.linear_model import Ridge\n",
    "\n",
    "ridge = make_pipeline(\n",
    "    preprocessor,\n",
    "    TransformedTargetRegressor(\n",
    "        regressor=Ridge(alpha=0.2442053094548655),\n",
    "        func = np.log,\n",
    "        inverse_func = np.exp\n",
    "    )\n",
    ")\n",
    "\n",
    "ridge.fit(X_train, y_train)"
   ]
  },
  {
   "cell_type": "code",
   "execution_count": 9,
   "metadata": {},
   "outputs": [
    {
     "data": {
      "text/html": [
       "<style>div.sk-top-container {color: black;background-color: white;}div.sk-toggleable {background-color: white;}label.sk-toggleable__label {cursor: pointer;display: block;width: 100%;margin-bottom: 0;padding: 0.2em 0.3em;box-sizing: border-box;text-align: center;}div.sk-toggleable__content {max-height: 0;max-width: 0;overflow: hidden;text-align: left;background-color: #f0f8ff;}div.sk-toggleable__content pre {margin: 0.2em;color: black;border-radius: 0.25em;background-color: #f0f8ff;}input.sk-toggleable__control:checked~div.sk-toggleable__content {max-height: 200px;max-width: 100%;overflow: auto;}div.sk-estimator input.sk-toggleable__control:checked~label.sk-toggleable__label {background-color: #d4ebff;}div.sk-label input.sk-toggleable__control:checked~label.sk-toggleable__label {background-color: #d4ebff;}input.sk-hidden--visually {border: 0;clip: rect(1px 1px 1px 1px);clip: rect(1px, 1px, 1px, 1px);height: 1px;margin: -1px;overflow: hidden;padding: 0;position: absolute;width: 1px;}div.sk-estimator {font-family: monospace;background-color: #f0f8ff;margin: 0.25em 0.25em;border: 1px dotted black;border-radius: 0.25em;box-sizing: border-box;}div.sk-estimator:hover {background-color: #d4ebff;}div.sk-parallel-item::after {content: \"\";width: 100%;border-bottom: 1px solid gray;flex-grow: 1;}div.sk-label:hover label.sk-toggleable__label {background-color: #d4ebff;}div.sk-serial::before {content: \"\";position: absolute;border-left: 1px solid gray;box-sizing: border-box;top: 2em;bottom: 0;left: 50%;}div.sk-serial {display: flex;flex-direction: column;align-items: center;background-color: white;}div.sk-item {z-index: 1;}div.sk-parallel {display: flex;align-items: stretch;justify-content: center;background-color: white;}div.sk-parallel-item {display: flex;flex-direction: column;position: relative;background-color: white;}div.sk-parallel-item:first-child::after {align-self: flex-end;width: 50%;}div.sk-parallel-item:last-child::after {align-self: flex-start;width: 50%;}div.sk-parallel-item:only-child::after {width: 0;}div.sk-dashed-wrapped {border: 1px dashed gray;margin: 0.2em;box-sizing: border-box;padding-bottom: 0.1em;background-color: white;position: relative;}div.sk-label label {font-family: monospace;font-weight: bold;background-color: white;display: inline-block;line-height: 1.2em;}div.sk-label-container {position: relative;z-index: 2;text-align: center;}div.sk-container {display: inline-block;position: relative;}</style><div class=\"sk-top-container\"><div class=\"sk-container\"><div class=\"sk-item sk-dashed-wrapped\"><div class=\"sk-label-container\"><div class=\"sk-label sk-toggleable\"><input class=\"sk-toggleable__control sk-hidden--visually\" id=\"e03a6119-0cbb-4711-85be-a6ea5a8d545b\" type=\"checkbox\" ><label class=\"sk-toggleable__label\" for=\"e03a6119-0cbb-4711-85be-a6ea5a8d545b\">Pipeline</label><div class=\"sk-toggleable__content\"><pre>Pipeline(steps=[('columntransformer',\n",
       "                 ColumnTransformer(transformers=[('num',\n",
       "                                                  Pipeline(steps=[('poly',\n",
       "                                                                   PolynomialFeatures(degree=3,\n",
       "                                                                                      include_bias=False,\n",
       "                                                                                      interaction_only=True)),\n",
       "                                                                  ('scaler',\n",
       "                                                                   StandardScaler())]),\n",
       "                                                  ['displacement', 'horsepower',\n",
       "                                                   'weight', 'accel']),\n",
       "                                                 ('cat',\n",
       "                                                  OneHotEncoder(handle_unknown='ignore'),\n",
       "                                                  ['cylinders', 'origin',\n",
       "                                                   'year'])])),\n",
       "                ('transformedtargetregressor',\n",
       "                 TransformedTargetRegressor(func=<ufunc 'log'>,\n",
       "                                            inverse_func=<ufunc 'exp'>,\n",
       "                                            regressor=Lasso(alpha=0.0001325711365590111,\n",
       "                                                            max_iter=100000)))])</pre></div></div></div><div class=\"sk-serial\"><div class=\"sk-item sk-dashed-wrapped\"><div class=\"sk-label-container\"><div class=\"sk-label sk-toggleable\"><input class=\"sk-toggleable__control sk-hidden--visually\" id=\"44c465c2-aa79-43db-8f0f-9998defb8520\" type=\"checkbox\" ><label class=\"sk-toggleable__label\" for=\"44c465c2-aa79-43db-8f0f-9998defb8520\">columntransformer: ColumnTransformer</label><div class=\"sk-toggleable__content\"><pre>ColumnTransformer(transformers=[('num',\n",
       "                                 Pipeline(steps=[('poly',\n",
       "                                                  PolynomialFeatures(degree=3,\n",
       "                                                                     include_bias=False,\n",
       "                                                                     interaction_only=True)),\n",
       "                                                 ('scaler', StandardScaler())]),\n",
       "                                 ['displacement', 'horsepower', 'weight',\n",
       "                                  'accel']),\n",
       "                                ('cat', OneHotEncoder(handle_unknown='ignore'),\n",
       "                                 ['cylinders', 'origin', 'year'])])</pre></div></div></div><div class=\"sk-parallel\"><div class=\"sk-parallel-item\"><div class=\"sk-item\"><div class=\"sk-label-container\"><div class=\"sk-label sk-toggleable\"><input class=\"sk-toggleable__control sk-hidden--visually\" id=\"0c8a9bba-9831-4d43-b719-19802b4b3fd0\" type=\"checkbox\" ><label class=\"sk-toggleable__label\" for=\"0c8a9bba-9831-4d43-b719-19802b4b3fd0\">num</label><div class=\"sk-toggleable__content\"><pre>['displacement', 'horsepower', 'weight', 'accel']</pre></div></div></div><div class=\"sk-serial\"><div class=\"sk-item\"><div class=\"sk-serial\"><div class=\"sk-item\"><div class=\"sk-estimator sk-toggleable\"><input class=\"sk-toggleable__control sk-hidden--visually\" id=\"a5cec156-2ddf-4ffc-85af-9b7caf2842bc\" type=\"checkbox\" ><label class=\"sk-toggleable__label\" for=\"a5cec156-2ddf-4ffc-85af-9b7caf2842bc\">PolynomialFeatures</label><div class=\"sk-toggleable__content\"><pre>PolynomialFeatures(degree=3, include_bias=False, interaction_only=True)</pre></div></div></div><div class=\"sk-item\"><div class=\"sk-estimator sk-toggleable\"><input class=\"sk-toggleable__control sk-hidden--visually\" id=\"38e08895-ecd7-41ba-9f07-12f1641ed4c4\" type=\"checkbox\" ><label class=\"sk-toggleable__label\" for=\"38e08895-ecd7-41ba-9f07-12f1641ed4c4\">StandardScaler</label><div class=\"sk-toggleable__content\"><pre>StandardScaler()</pre></div></div></div></div></div></div></div></div><div class=\"sk-parallel-item\"><div class=\"sk-item\"><div class=\"sk-label-container\"><div class=\"sk-label sk-toggleable\"><input class=\"sk-toggleable__control sk-hidden--visually\" id=\"b89790ba-7487-4f07-bc54-ecc598500d1d\" type=\"checkbox\" ><label class=\"sk-toggleable__label\" for=\"b89790ba-7487-4f07-bc54-ecc598500d1d\">cat</label><div class=\"sk-toggleable__content\"><pre>['cylinders', 'origin', 'year']</pre></div></div></div><div class=\"sk-serial\"><div class=\"sk-item\"><div class=\"sk-estimator sk-toggleable\"><input class=\"sk-toggleable__control sk-hidden--visually\" id=\"ed837bec-ccdc-420f-a7cf-3308d322d85e\" type=\"checkbox\" ><label class=\"sk-toggleable__label\" for=\"ed837bec-ccdc-420f-a7cf-3308d322d85e\">OneHotEncoder</label><div class=\"sk-toggleable__content\"><pre>OneHotEncoder(handle_unknown='ignore')</pre></div></div></div></div></div></div></div></div><div class=\"sk-item sk-dashed-wrapped\"><div class=\"sk-label-container\"><div class=\"sk-label sk-toggleable\"><input class=\"sk-toggleable__control sk-hidden--visually\" id=\"719b28fe-a7eb-45fd-ad26-ced5826fca4a\" type=\"checkbox\" ><label class=\"sk-toggleable__label\" for=\"719b28fe-a7eb-45fd-ad26-ced5826fca4a\">transformedtargetregressor: TransformedTargetRegressor</label><div class=\"sk-toggleable__content\"><pre>TransformedTargetRegressor(func=<ufunc 'log'>, inverse_func=<ufunc 'exp'>,\n",
       "                           regressor=Lasso(alpha=0.0001325711365590111,\n",
       "                                           max_iter=100000))</pre></div></div></div><div class=\"sk-parallel\"><div class=\"sk-parallel-item\"><div class=\"sk-item\"><div class=\"sk-serial\"><div class=\"sk-item\"><div class=\"sk-estimator sk-toggleable\"><input class=\"sk-toggleable__control sk-hidden--visually\" id=\"bd26a246-035a-45bd-a589-014a65a8cc60\" type=\"checkbox\" ><label class=\"sk-toggleable__label\" for=\"bd26a246-035a-45bd-a589-014a65a8cc60\">Lasso</label><div class=\"sk-toggleable__content\"><pre>Lasso(alpha=0.0001325711365590111, max_iter=100000)</pre></div></div></div></div></div></div></div></div></div></div></div></div>"
      ],
      "text/plain": [
       "Pipeline(steps=[('columntransformer',\n",
       "                 ColumnTransformer(transformers=[('num',\n",
       "                                                  Pipeline(steps=[('poly',\n",
       "                                                                   PolynomialFeatures(degree=3,\n",
       "                                                                                      include_bias=False,\n",
       "                                                                                      interaction_only=True)),\n",
       "                                                                  ('scaler',\n",
       "                                                                   StandardScaler())]),\n",
       "                                                  ['displacement', 'horsepower',\n",
       "                                                   'weight', 'accel']),\n",
       "                                                 ('cat',\n",
       "                                                  OneHotEncoder(handle_unknown='ignore'),\n",
       "                                                  ['cylinders', 'origin',\n",
       "                                                   'year'])])),\n",
       "                ('transformedtargetregressor',\n",
       "                 TransformedTargetRegressor(func=<ufunc 'log'>,\n",
       "                                            inverse_func=<ufunc 'exp'>,\n",
       "                                            regressor=Lasso(alpha=0.0001325711365590111,\n",
       "                                                            max_iter=100000)))])"
      ]
     },
     "execution_count": 9,
     "metadata": {},
     "output_type": "execute_result"
    }
   ],
   "source": [
    "from sklearn.linear_model import Lasso\n",
    "\n",
    "lasso = make_pipeline(\n",
    "    preprocessor,\n",
    "    TransformedTargetRegressor(\n",
    "        regressor=Lasso(alpha=0.0001325711365590111, max_iter=100000),\n",
    "        func = np.log,\n",
    "        inverse_func = np.exp\n",
    "    )\n",
    ")\n",
    "\n",
    "lasso.fit(X_train, y_train)"
   ]
  },
  {
   "cell_type": "markdown",
   "metadata": {},
   "source": [
    "## Part B: Extracting Continuous Coefficients Out of Each Model"
   ]
  },
  {
   "cell_type": "code",
   "execution_count": 10,
   "metadata": {},
   "outputs": [
    {
     "data": {
      "text/plain": [
       "array(['displacement', 'horsepower', 'weight', 'accel',\n",
       "       'displacement horsepower', 'displacement weight',\n",
       "       'displacement accel', 'horsepower weight', 'horsepower accel',\n",
       "       'weight accel', 'displacement horsepower weight',\n",
       "       'displacement horsepower accel', 'displacement weight accel',\n",
       "       'horsepower weight accel', 'cylinders_3', 'cylinders_4',\n",
       "       'cylinders_5', 'cylinders_6', 'cylinders_8', 'origin_1',\n",
       "       'origin_2', 'origin_3', 'year_70', 'year_71', 'year_72', 'year_73',\n",
       "       'year_74', 'year_75', 'year_76', 'year_77', 'year_78', 'year_79',\n",
       "       'year_80', 'year_81', 'year_82'], dtype=object)"
      ]
     },
     "execution_count": 10,
     "metadata": {},
     "output_type": "execute_result"
    }
   ],
   "source": [
    "numerical_names = linear.named_steps['columntransformer'].named_transformers_['num'].steps[0][1].get_feature_names(input_features=numerical_columns)\n",
    "\n",
    "categorical_names = linear.named_steps['columntransformer'].named_transformers_['cat'].get_feature_names(input_features=categorical_columns)\n",
    "\n",
    "feature_names = np.concatenate([numerical_names, categorical_names])\n",
    "feature_names"
   ]
  },
  {
   "cell_type": "code",
   "execution_count": 11,
   "metadata": {},
   "outputs": [
    {
     "data": {
      "text/html": [
       "<div>\n",
       "<style scoped>\n",
       "    .dataframe tbody tr th:only-of-type {\n",
       "        vertical-align: middle;\n",
       "    }\n",
       "\n",
       "    .dataframe tbody tr th {\n",
       "        vertical-align: top;\n",
       "    }\n",
       "\n",
       "    .dataframe thead th {\n",
       "        text-align: right;\n",
       "    }\n",
       "</style>\n",
       "<table border=\"1\" class=\"dataframe\">\n",
       "  <thead>\n",
       "    <tr style=\"text-align: right;\">\n",
       "      <th></th>\n",
       "      <th>linear</th>\n",
       "    </tr>\n",
       "  </thead>\n",
       "  <tbody>\n",
       "    <tr>\n",
       "      <th>displacement</th>\n",
       "      <td>0.524207</td>\n",
       "    </tr>\n",
       "    <tr>\n",
       "      <th>horsepower</th>\n",
       "      <td>-0.432599</td>\n",
       "    </tr>\n",
       "    <tr>\n",
       "      <th>weight</th>\n",
       "      <td>-0.397328</td>\n",
       "    </tr>\n",
       "    <tr>\n",
       "      <th>accel</th>\n",
       "      <td>-0.056845</td>\n",
       "    </tr>\n",
       "    <tr>\n",
       "      <th>displacement horsepower</th>\n",
       "      <td>-0.562751</td>\n",
       "    </tr>\n",
       "  </tbody>\n",
       "</table>\n",
       "</div>"
      ],
      "text/plain": [
       "                           linear\n",
       "displacement             0.524207\n",
       "horsepower              -0.432599\n",
       "weight                  -0.397328\n",
       "accel                   -0.056845\n",
       "displacement horsepower -0.562751"
      ]
     },
     "execution_count": 11,
     "metadata": {},
     "output_type": "execute_result"
    }
   ],
   "source": [
    "coefs = pd.DataFrame(\n",
    "    linear.named_steps['transformedtargetregressor'].regressor_.coef_,\n",
    "    columns=['linear'], index=feature_names\n",
    ")\n",
    "\n",
    "coefs.head()"
   ]
  },
  {
   "cell_type": "markdown",
   "metadata": {},
   "source": [
    "Now, let's add columns for Ridge and LASSO:"
   ]
  },
  {
   "cell_type": "code",
   "execution_count": 12,
   "metadata": {},
   "outputs": [],
   "source": [
    "coefs['ridge'] = ridge.named_steps['transformedtargetregressor'].regressor_.coef_\n",
    "coefs['lasso'] = lasso.named_steps['transformedtargetregressor'].regressor_.coef_"
   ]
  },
  {
   "cell_type": "code",
   "execution_count": 13,
   "metadata": {},
   "outputs": [
    {
     "data": {
      "text/html": [
       "<div>\n",
       "<style scoped>\n",
       "    .dataframe tbody tr th:only-of-type {\n",
       "        vertical-align: middle;\n",
       "    }\n",
       "\n",
       "    .dataframe tbody tr th {\n",
       "        vertical-align: top;\n",
       "    }\n",
       "\n",
       "    .dataframe thead th {\n",
       "        text-align: right;\n",
       "    }\n",
       "</style>\n",
       "<table border=\"1\" class=\"dataframe\">\n",
       "  <thead>\n",
       "    <tr style=\"text-align: right;\">\n",
       "      <th></th>\n",
       "      <th>linear</th>\n",
       "      <th>ridge</th>\n",
       "      <th>lasso</th>\n",
       "    </tr>\n",
       "  </thead>\n",
       "  <tbody>\n",
       "    <tr>\n",
       "      <th>displacement</th>\n",
       "      <td>0.524207</td>\n",
       "      <td>-0.236925</td>\n",
       "      <td>-0.270470</td>\n",
       "    </tr>\n",
       "    <tr>\n",
       "      <th>horsepower</th>\n",
       "      <td>-0.432599</td>\n",
       "      <td>0.069555</td>\n",
       "      <td>0.042707</td>\n",
       "    </tr>\n",
       "    <tr>\n",
       "      <th>weight</th>\n",
       "      <td>-0.397328</td>\n",
       "      <td>-0.121549</td>\n",
       "      <td>-0.116217</td>\n",
       "    </tr>\n",
       "    <tr>\n",
       "      <th>accel</th>\n",
       "      <td>-0.056845</td>\n",
       "      <td>0.038815</td>\n",
       "      <td>0.024924</td>\n",
       "    </tr>\n",
       "    <tr>\n",
       "      <th>displacement horsepower</th>\n",
       "      <td>-0.562751</td>\n",
       "      <td>-0.066949</td>\n",
       "      <td>0.000000</td>\n",
       "    </tr>\n",
       "    <tr>\n",
       "      <th>displacement weight</th>\n",
       "      <td>-0.887620</td>\n",
       "      <td>0.010615</td>\n",
       "      <td>-0.000000</td>\n",
       "    </tr>\n",
       "    <tr>\n",
       "      <th>displacement accel</th>\n",
       "      <td>-0.755794</td>\n",
       "      <td>0.012768</td>\n",
       "      <td>0.000000</td>\n",
       "    </tr>\n",
       "    <tr>\n",
       "      <th>horsepower weight</th>\n",
       "      <td>1.386067</td>\n",
       "      <td>0.021745</td>\n",
       "      <td>0.000000</td>\n",
       "    </tr>\n",
       "    <tr>\n",
       "      <th>horsepower accel</th>\n",
       "      <td>0.337325</td>\n",
       "      <td>-0.028563</td>\n",
       "      <td>0.000000</td>\n",
       "    </tr>\n",
       "    <tr>\n",
       "      <th>weight accel</th>\n",
       "      <td>0.248500</td>\n",
       "      <td>-0.064649</td>\n",
       "      <td>-0.059416</td>\n",
       "    </tr>\n",
       "    <tr>\n",
       "      <th>displacement horsepower weight</th>\n",
       "      <td>0.078838</td>\n",
       "      <td>0.115410</td>\n",
       "      <td>0.120253</td>\n",
       "    </tr>\n",
       "    <tr>\n",
       "      <th>displacement horsepower accel</th>\n",
       "      <td>0.587525</td>\n",
       "      <td>0.041088</td>\n",
       "      <td>0.000000</td>\n",
       "    </tr>\n",
       "    <tr>\n",
       "      <th>displacement weight accel</th>\n",
       "      <td>1.051558</td>\n",
       "      <td>0.212693</td>\n",
       "      <td>0.254361</td>\n",
       "    </tr>\n",
       "    <tr>\n",
       "      <th>horsepower weight accel</th>\n",
       "      <td>-1.415828</td>\n",
       "      <td>-0.197191</td>\n",
       "      <td>-0.215994</td>\n",
       "    </tr>\n",
       "  </tbody>\n",
       "</table>\n",
       "</div>"
      ],
      "text/plain": [
       "                                  linear     ridge     lasso\n",
       "displacement                    0.524207 -0.236925 -0.270470\n",
       "horsepower                     -0.432599  0.069555  0.042707\n",
       "weight                         -0.397328 -0.121549 -0.116217\n",
       "accel                          -0.056845  0.038815  0.024924\n",
       "displacement horsepower        -0.562751 -0.066949  0.000000\n",
       "displacement weight            -0.887620  0.010615 -0.000000\n",
       "displacement accel             -0.755794  0.012768  0.000000\n",
       "horsepower weight               1.386067  0.021745  0.000000\n",
       "horsepower accel                0.337325 -0.028563  0.000000\n",
       "weight accel                    0.248500 -0.064649 -0.059416\n",
       "displacement horsepower weight  0.078838  0.115410  0.120253\n",
       "displacement horsepower accel   0.587525  0.041088  0.000000\n",
       "displacement weight accel       1.051558  0.212693  0.254361\n",
       "horsepower weight accel        -1.415828 -0.197191 -0.215994"
      ]
     },
     "execution_count": 13,
     "metadata": {},
     "output_type": "execute_result"
    }
   ],
   "source": [
    "coefs.iloc[0:14,:]"
   ]
  },
  {
   "cell_type": "code",
   "execution_count": 14,
   "metadata": {},
   "outputs": [],
   "source": [
    "lin = np.linspace(-5,5,100)"
   ]
  },
  {
   "cell_type": "markdown",
   "metadata": {},
   "source": [
    "Let's plot our coefficients for the linear regression:\n",
    "\n",
    "The gray lines are the individual components, and the red line is the entire weighted regression line."
   ]
  },
  {
   "cell_type": "code",
   "execution_count": 15,
   "metadata": {},
   "outputs": [
    {
     "data": {
      "image/png": "[encoded data removed]",
      "text/plain": [
       "<Figure size 432x288 with 1 Axes>"
      ]
     },
     "metadata": {},
     "output_type": "display_data"
    }
   ],
   "source": [
    "# Plot for Linear Regression:\n",
    "summed = coefs.iloc[0:14,0].sum()\n",
    "\n",
    "for i in range(14):\n",
    "    plt.plot(lin, lin*coefs.iloc[i,0], color='grey')\n",
    "\n",
    "plt.plot(lin, lin*summed, color='red')\n",
    "plt.ylim([-10,10])\n",
    "plt.title(\"Coefficients in Linear Regression Model\")\n",
    "plt.show();"
   ]
  },
  {
   "cell_type": "markdown",
   "metadata": {},
   "source": [
    "Key things to take away from this graph is that there's a lot of strongly positive and negative coefficients, that are offsetting each other to get to the red line.\n",
    "\n",
    "A big concern for this is that the patterns found in the training set may have been overfit compared to the true population estimates, making the model less reliable for predictions.\n",
    "\n",
    "Ridge helps us out by providing smoothing to the model:"
   ]
  },
  {
   "cell_type": "code",
   "execution_count": 16,
   "metadata": {},
   "outputs": [
    {
     "data": {
      "image/png": "[encoded data removed]",
      "text/plain": [
       "<Figure size 432x288 with 1 Axes>"
      ]
     },
     "metadata": {},
     "output_type": "display_data"
    }
   ],
   "source": [
    "# Plot for Ridge\n",
    "summed = coefs.iloc[0:14,1].sum()\n",
    "\n",
    "for i in range(14):\n",
    "    plt.plot(lin, lin*coefs.iloc[i,1], color='grey')\n",
    "\n",
    "plt.plot(lin, lin*summed, color='red')\n",
    "plt.ylim([-10,10])\n",
    "plt.show();"
   ]
  },
  {
   "cell_type": "markdown",
   "metadata": {},
   "source": [
    "The red predictive line is nearly the same as the one above, however, there's a lot less variation with the coefficients in the model.\n",
    "\n",
    "This smoothing is why Ridge models are preferred, and can prevent overfitting trends found in the training data.\n",
    "\n",
    "Let's compare it to LASSO:"
   ]
  },
  {
   "cell_type": "code",
   "execution_count": 17,
   "metadata": {},
   "outputs": [
    {
     "data": {
      "image/png": "[encoded data removed]",
      "text/plain": [
       "<Figure size 432x288 with 1 Axes>"
      ]
     },
     "metadata": {},
     "output_type": "display_data"
    }
   ],
   "source": [
    "# Plot for LASSO\n",
    "summed = coefs.iloc[0:14,2].sum()\n",
    "\n",
    "for i in range(14):\n",
    "    plt.plot(lin, lin*coefs.iloc[i,2], color='grey')\n",
    "\n",
    "plt.plot(lin, lin*summed, color='red')\n",
    "plt.ylim([-10,10])\n",
    "plt.show();"
   ]
  },
  {
   "cell_type": "markdown",
   "metadata": {},
   "source": [
    "If we plot the three lines, we see that they're very similar, however, the Ridge and LASSO models significantly reduced complexity and are less likely to \"overfit\" testing data."
   ]
  },
  {
   "cell_type": "code",
   "execution_count": 18,
   "metadata": {},
   "outputs": [
    {
     "data": {
      "image/png": "[encoded data removed]",
      "text/plain": [
       "<Figure size 432x288 with 1 Axes>"
      ]
     },
     "metadata": {},
     "output_type": "display_data"
    }
   ],
   "source": [
    "summed = coefs.iloc[0:14,0].sum()\n",
    "plt.plot(lin, lin*summed, label=\"Linear Regression\")\n",
    "\n",
    "summed = coefs.iloc[0:14,1].sum()\n",
    "plt.plot(lin, lin*summed, label=\"Ridge\")\n",
    "\n",
    "summed = coefs.iloc[0:14,2].sum()\n",
    "plt.plot(lin, lin*summed, label=\"LASSO\")\n",
    "\n",
    "plt.legend()\n",
    "plt.show();"
   ]
  },
  {
   "cell_type": "markdown",
   "metadata": {},
   "source": [
    "Trying to decide between a Ridge and LASSO?\n",
    "\n",
    "It's up to you, however, LASSO models are usually easier to explain over Ridge!\n",
    "\n",
    "Don't want to decide? Use Stacking to weight the models we made together into one! (Check out last NB in the regression series. However, we usually use a Ridge to weight the models!)"
   ]
  },
  {
   "cell_type": "code",
   "execution_count": null,
   "metadata": {},
   "outputs": [],
   "source": []
  }
 ],
 "metadata": {
  "kernelspec": {
   "display_name": "Python 3 (Spyder)",
   "language": "python3",
   "name": "python3"
  },
  "language_info": {
   "codemirror_mode": {
    "name": "ipython",
    "version": 3
   },
   "file_extension": ".py",
   "mimetype": "text/x-python",
   "name": "python",
   "nbconvert_exporter": "python",
   "pygments_lexer": "ipython3",
   "version": "3.8.3"
  }
 },
 "nbformat": 4,
 "nbformat_minor": 4
}
