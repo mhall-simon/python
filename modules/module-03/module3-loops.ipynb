{
 "cells": [
  {
   "cell_type": "markdown",
   "metadata": {},
   "source": [
    "# Module 3.5 Loops, Summarized\n",
    "\n",
    "Created By: Matthew Hall from http://learningdata.io\n",
    "\n",
    "Each code block is designed to be an independent program for ease of use!\n",
    "\n",
    "---\n",
    "\n",
    "***Disclaimer***\n",
    "\n",
    "> Copyright (c) 2020 Matthew Hall\n",
    "\n",
    "> Permission is hereby granted, free of charge, to any person obtaining a copy of this software and associated documentation files (the \"Software\"), to deal in the Software without restriction, including without limitation the rights to use, copy, modify, merge, publish, distribute, sublicense, and/or sell copies of the Software, and to permit persons to whom the Software is furnished to do so, subject to the following conditions:\n",
    "\n",
    "> The above copyright notice and this permission notice shall be included in all copies or substantial portions of the Software.\n",
    "\n",
    "> THE SOFTWARE IS PROVIDED \"AS IS\", WITHOUT WARRANTY OF ANY KIND, EXPRESS OR IMPLIED, INCLUDING BUT NOT LIMITED TO THE WARRANTIES OF MERCHANTABILITY, FITNESS FOR A PARTICULAR PURPOSE AND NONINFRINGEMENT. IN NO EVENT SHALL THE AUTHORS OR COPYRIGHT HOLDERS BE LIABLE FOR ANY CLAIM, DAMAGES OR OTHER LIABILITY, WHETHER IN AN ACTION OF CONTRACT, TORT OR OTHERWISE, ARISING FROM, OUT OF OR IN CONNECTION WITH THE SOFTWARE OR THE USE OR OTHER DEALINGS IN THE SOFTWARE."
   ]
  },
  {
   "cell_type": "markdown",
   "metadata": {},
   "source": [
    "## Part 1: For Loops\n",
    "\n",
    "For loops in Python allow us to run an iterative chunk of code across an array of items. This could be in a list, set, dictionary, or even just characters in a string.\n",
    "\n",
    "```python\n",
    "my_list = [1,2,3]\n",
    "\n",
    "for item in my_list:\n",
    "    # ###\n",
    "    # This code is executed on each item in my list\n",
    "    # ###\n",
    "```\n",
    "\n",
    "The placeholder `item` can be replaed with anything. For numbers, we often use `i` or `n` to denote significance.\n",
    "\n",
    "The for loop creates a local variable `item` that is able to be used during the execution of the single loop."
   ]
  },
  {
   "cell_type": "markdown",
   "metadata": {},
   "source": [
    "### Print Out All Values in a List"
   ]
  },
  {
   "cell_type": "code",
   "execution_count": 1,
   "metadata": {},
   "outputs": [
    {
     "name": "stdout",
     "output_type": "stream",
     "text": [
      "Apples\n",
      "Grapes\n",
      "Avocados\n",
      "Cucumbers\n"
     ]
    }
   ],
   "source": [
    "items = [\"Apples\", \"Grapes\", \"Avocados\", \"Cucumbers\"]\n",
    "\n",
    "for item in items:\n",
    "    print(item)"
   ]
  },
  {
   "cell_type": "markdown",
   "metadata": {},
   "source": [
    "### For Loops with Conditional Logic"
   ]
  },
  {
   "cell_type": "code",
   "execution_count": 2,
   "metadata": {},
   "outputs": [
    {
     "name": "stdout",
     "output_type": "stream",
     "text": [
      "0\n",
      "2\n",
      "4\n",
      "6\n",
      "8\n"
     ]
    }
   ],
   "source": [
    "numbers = [0,1,2,3,4,5,6,7,8,9]\n",
    "\n",
    "for n in numbers:\n",
    "    if (n%2==0):\n",
    "        print(n)"
   ]
  },
  {
   "cell_type": "markdown",
   "metadata": {},
   "source": [
    "## Part 2: While Loops\n",
    "\n",
    "While loops execute a block of code repeatedly until a conditional statement evaluates `False`\n",
    "\n",
    "Be careful to note code an infinite loop! There needs to be a stopping condition.\n",
    "\n",
    "```python\n",
    "while (True):\n",
    "    # ###\n",
    "    # This Block of Code Iterates\n",
    "    # ###\n",
    "    # And part of the code needs to progress towards or trigger a stopping condition\n",
    "    # ###\n",
    "else:\n",
    "    # ###\n",
    "    # Optional code block that evaluates upon stopping the loop\n",
    "    # ###\n",
    "```"
   ]
  },
  {
   "cell_type": "markdown",
   "metadata": {},
   "source": [
    "### Simple Countdown"
   ]
  },
  {
   "cell_type": "code",
   "execution_count": 4,
   "metadata": {},
   "outputs": [
    {
     "name": "stdout",
     "output_type": "stream",
     "text": [
      "10\n",
      "9\n",
      "8\n",
      "7\n",
      "6\n",
      "5\n",
      "4\n",
      "3\n",
      "2\n",
      "1\n",
      "Blast Off!\n"
     ]
    }
   ],
   "source": [
    "i = 10\n",
    "\n",
    "while (i > 0):\n",
    "    print(i)\n",
    "    i -= 1\n",
    "else:\n",
    "    print(\"Blast Off!\")"
   ]
  },
  {
   "cell_type": "markdown",
   "metadata": {},
   "source": [
    "### Process & Remove Elements from List\n",
    "\n",
    "Tip: If a list contains elements, it evaluates `True`"
   ]
  },
  {
   "cell_type": "code",
   "execution_count": 2,
   "metadata": {},
   "outputs": [
    {
     "name": "stdout",
     "output_type": "stream",
     "text": [
      "Adding Paper Towels to your Amazon Cart.\n",
      "Adding Black Beans to your Amazon Cart.\n",
      "Adding Avocados to your Amazon Cart.\n",
      "Adding Tortillas to your Amazon Cart.\n",
      "Adding Green Onion to your Amazon Cart.\n",
      "Ready to Checkout!\n"
     ]
    }
   ],
   "source": [
    "shopping_list = [\"Green Onion\", \"Tortillas\", \"Avocados\", \"Black Beans\", \"Paper Towels\"]\n",
    "\n",
    "while (shopping_list):\n",
    "    item = shopping_list.pop()\n",
    "    print(\"Adding {} to your Amazon Cart.\".format(item))\n",
    "else:\n",
    "    print(\"Ready to Checkout!\")"
   ]
  },
  {
   "cell_type": "markdown",
   "metadata": {},
   "source": [
    "## There is a lot more to loops!\n",
    "\n",
    "We can also integrate these within our functions to process an input, or call a function within our loop for each element!"
   ]
  },
  {
   "cell_type": "code",
   "execution_count": null,
   "metadata": {},
   "outputs": [],
   "source": []
  }
 ],
 "metadata": {
  "kernelspec": {
   "display_name": "Python 3 (Spyder)",
   "language": "python3",
   "name": "python3"
  },
  "language_info": {
   "codemirror_mode": {
    "name": "ipython",
    "version": 3
   },
   "file_extension": ".py",
   "mimetype": "text/x-python",
   "name": "python",
   "nbconvert_exporter": "python",
   "pygments_lexer": "ipython3",
   "version": "3.8.3"
  }
 },
 "nbformat": 4,
 "nbformat_minor": 4
}
