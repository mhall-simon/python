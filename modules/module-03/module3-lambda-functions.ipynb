{
 "cells": [
  {
   "cell_type": "markdown",
   "metadata": {},
   "source": [
    "# Module 3.6 Lambda Functions, Summarized\n",
    "\n",
    "Created By: Matthew Hall from http://learningdata.io\n",
    "\n",
    "Each code block is designed to be an independent program for ease of use!\n",
    "\n",
    "---\n",
    "\n",
    "***Disclaimer***\n",
    "\n",
    "> Copyright (c) 2020 Matthew Hall\n",
    "\n",
    "> Permission is hereby granted, free of charge, to any person obtaining a copy of this software and associated documentation files (the \"Software\"), to deal in the Software without restriction, including without limitation the rights to use, copy, modify, merge, publish, distribute, sublicense, and/or sell copies of the Software, and to permit persons to whom the Software is furnished to do so, subject to the following conditions:\n",
    "\n",
    "> The above copyright notice and this permission notice shall be included in all copies or substantial portions of the Software.\n",
    "\n",
    "> THE SOFTWARE IS PROVIDED \"AS IS\", WITHOUT WARRANTY OF ANY KIND, EXPRESS OR IMPLIED, INCLUDING BUT NOT LIMITED TO THE WARRANTIES OF MERCHANTABILITY, FITNESS FOR A PARTICULAR PURPOSE AND NONINFRINGEMENT. IN NO EVENT SHALL THE AUTHORS OR COPYRIGHT HOLDERS BE LIABLE FOR ANY CLAIM, DAMAGES OR OTHER LIABILITY, WHETHER IN AN ACTION OF CONTRACT, TORT OR OTHERWISE, ARISING FROM, OUT OF OR IN CONNECTION WITH THE SOFTWARE OR THE USE OR OTHER DEALINGS IN THE SOFTWARE."
   ]
  },
  {
   "cell_type": "markdown",
   "metadata": {},
   "source": [
    "## Part 1: Lambda Functions Described\n",
    "\n",
    "Lambda functions are a way to write functions in Python in one line, which will become very useful in our later data science uses and packages!\n",
    "\n",
    "Lambda functions have a few unique rules:\n",
    "\n",
    "* Return Single Value\n",
    "* Take any Number of Arguments\n",
    "\n",
    "### Here's an example lambda function:\n",
    "\n",
    "```python\n",
    "sq_rt = lambda x: x**0.5\n",
    "```\n",
    "\n",
    "`sq_rt` is the variable we're storing it in\n",
    "\n",
    "`lambda` is the lambda function declaration\n",
    "\n",
    "`x:` after `lambda` is the input argument\n",
    "\n",
    "`x**0.5` is the application of the lambda function. Calculate and return square root of input `x`\n",
    "\n",
    "\n",
    "### And this is what it would look like as a usual function:\n",
    "\n",
    "```python\n",
    "def sq_rt(x):\n",
    "    return x**0.5\n",
    "```"
   ]
  },
  {
   "cell_type": "markdown",
   "metadata": {},
   "source": [
    "## Part 2: Example Lambda Functions\n",
    "\n",
    "### Lambda Function by Itself - Single Argument"
   ]
  },
  {
   "cell_type": "code",
   "execution_count": 1,
   "metadata": {},
   "outputs": [
    {
     "name": "stdout",
     "output_type": "stream",
     "text": [
      "25\n"
     ]
    }
   ],
   "source": [
    "area_square = lambda l: l*l\n",
    "\n",
    "print(area_square(5))"
   ]
  },
  {
   "cell_type": "markdown",
   "metadata": {},
   "source": [
    "### Lambda Function by Itself - Multiple Arguments"
   ]
  },
  {
   "cell_type": "code",
   "execution_count": 2,
   "metadata": {},
   "outputs": [
    {
     "name": "stdout",
     "output_type": "stream",
     "text": [
      "120\n"
     ]
    }
   ],
   "source": [
    "vol_rectangular_prism = lambda l, w, h: l*w*h\n",
    "\n",
    "print(vol_rectangular_prism(3,5,8))"
   ]
  },
  {
   "cell_type": "markdown",
   "metadata": {},
   "source": [
    "### Lambda Function within Function\n",
    "\n",
    "Normalization: Process of Setting Dataset Between 0 and 1 without changing distribution skewness or features. Popular machine learning preprocessing function."
   ]
  },
  {
   "cell_type": "code",
   "execution_count": 6,
   "metadata": {},
   "outputs": [
    {
     "name": "stdout",
     "output_type": "stream",
     "text": [
      "[0.2508695652173913, 0.5991304347826087, 0.8986956521739131, 0.0, 0.13043478260869565, 0.6086956521739131, 0.6956521739130435, 1.0]\n"
     ]
    }
   ],
   "source": [
    "def normalization(data):\n",
    "    max_val = max(data)\n",
    "    min_val = min(data)\n",
    "    norm = []\n",
    "    for i in data:\n",
    "        normalizer = lambda i: (i - min_val) / (max_val - min_val)\n",
    "        norm.append(normalizer(i))\n",
    "    return norm\n",
    "\n",
    "\n",
    "sample_data = [-2.23, 5.78, 12.67, -8, -5, 6, 8, 15]\n",
    "\n",
    "sample_normalized = normalization(sample_data)\n",
    "\n",
    "print(sample_normalized)"
   ]
  },
  {
   "cell_type": "markdown",
   "metadata": {},
   "source": [
    "### Lambda Function with Boolean Logic in List Comprehension\n",
    "\n",
    "This functions sets the minimum score to 78. If there is a score below"
   ]
  },
  {
   "cell_type": "code",
   "execution_count": 4,
   "metadata": {},
   "outputs": [
    {
     "name": "stdout",
     "output_type": "stream",
     "text": [
      "[98, 97, 95, 80, 82, 89, 99, 78, 78, 88]\n"
     ]
    }
   ],
   "source": [
    "floor = lambda x: 78 if x < 78 else x\n",
    "\n",
    "scores = [98,97,95,80,82,89,99,68,75,88]\n",
    "\n",
    "new_scores = [floor(i) for i in scores]\n",
    "\n",
    "print(new_scores)"
   ]
  },
  {
   "cell_type": "markdown",
   "metadata": {},
   "source": [
    "### List Comprehension with Nested Lists & Lambda Function"
   ]
  },
  {
   "cell_type": "code",
   "execution_count": 1,
   "metadata": {},
   "outputs": [
    {
     "name": "stdout",
     "output_type": "stream",
     "text": [
      "[96, 18, 960, 45]\n"
     ]
    }
   ],
   "source": [
    "dimensions = [[3,8,4],[2,9,1],[8,10,12],[1,5,9]]\n",
    "\n",
    "vol = lambda l: l[0] * l[1] * l[2]\n",
    "\n",
    "volumes = [vol(sublist) for sublist in dimensions]\n",
    "\n",
    "print(volumes)"
   ]
  },
  {
   "cell_type": "code",
   "execution_count": null,
   "metadata": {},
   "outputs": [],
   "source": []
  }
 ],
 "metadata": {
  "kernelspec": {
   "display_name": "Python 3 (Spyder)",
   "language": "python3",
   "name": "python3"
  },
  "language_info": {
   "codemirror_mode": {
    "name": "ipython",
    "version": 3
   },
   "file_extension": ".py",
   "mimetype": "text/x-python",
   "name": "python",
   "nbconvert_exporter": "python",
   "pygments_lexer": "ipython3",
   "version": "3.8.3"
  }
 },
 "nbformat": 4,
 "nbformat_minor": 4
}
