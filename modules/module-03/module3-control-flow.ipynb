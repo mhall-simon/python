{
 "cells": [
  {
   "cell_type": "markdown",
   "metadata": {},
   "source": [
    "# Module 3.3 Control Flow, Summarized\n",
    "\n",
    "Created By: Matthew Hall from http://learningdata.io\n",
    "\n",
    "Each code block is designed to be an independent program for ease of use!\n",
    "\n",
    "---\n",
    "\n",
    "***Disclaimer***\n",
    "\n",
    "> Copyright (c) 2020 Matthew Hall\n",
    "\n",
    "> Permission is hereby granted, free of charge, to any person obtaining a copy of this software and associated documentation files (the \"Software\"), to deal in the Software without restriction, including without limitation the rights to use, copy, modify, merge, publish, distribute, sublicense, and/or sell copies of the Software, and to permit persons to whom the Software is furnished to do so, subject to the following conditions:\n",
    "\n",
    "> The above copyright notice and this permission notice shall be included in all copies or substantial portions of the Software.\n",
    "\n",
    "> THE SOFTWARE IS PROVIDED \"AS IS\", WITHOUT WARRANTY OF ANY KIND, EXPRESS OR IMPLIED, INCLUDING BUT NOT LIMITED TO THE WARRANTIES OF MERCHANTABILITY, FITNESS FOR A PARTICULAR PURPOSE AND NONINFRINGEMENT. IN NO EVENT SHALL THE AUTHORS OR COPYRIGHT HOLDERS BE LIABLE FOR ANY CLAIM, DAMAGES OR OTHER LIABILITY, WHETHER IN AN ACTION OF CONTRACT, TORT OR OTHERWISE, ARISING FROM, OUT OF OR IN CONNECTION WITH THE SOFTWARE OR THE USE OR OTHER DEALINGS IN THE SOFTWARE."
   ]
  },
  {
   "cell_type": "markdown",
   "metadata": {},
   "source": [
    "## Part 1: Control Flow Overview\n",
    "\n",
    "Control flow allows us to bring logic fully into our programs, by allowing us to perform different operations—dependent upon the evaluation of logical statements.\n",
    "\n",
    "These will also make our functions much, much more powerful!\n",
    "\n",
    "### If Statement Overview & Example\n",
    "\n",
    "```python\n",
    "if (True):\n",
    "    # ###\n",
    "    # The indented code executes\n",
    "    # ###\n",
    "```"
   ]
  },
  {
   "cell_type": "code",
   "execution_count": 1,
   "metadata": {},
   "outputs": [
    {
     "name": "stdout",
     "output_type": "stream",
     "text": [
      "Statement Evaluates to True\n",
      "[1, 2]\n"
     ]
    }
   ],
   "source": [
    "my_list = [1,2,3]\n",
    "\n",
    "if (5 < 10):\n",
    "    print(\"Statement Evaluates to True\")\n",
    "    my_list.pop()\n",
    "\n",
    "print(my_list)"
   ]
  },
  {
   "cell_type": "markdown",
   "metadata": {},
   "source": [
    "### If - Else Statement Overview\n",
    "\n",
    "```python\n",
    "if (True):\n",
    "    # ###\n",
    "    # If argument above is True, this code evaluates\n",
    "    # ###\n",
    "else:\n",
    "    # ###\n",
    "    # If argument above is False, this code evaluates\n",
    "    # ###\n",
    "```"
   ]
  },
  {
   "cell_type": "code",
   "execution_count": 4,
   "metadata": {},
   "outputs": [
    {
     "name": "stdout",
     "output_type": "stream",
     "text": [
      "Argument 1 was False\n"
     ]
    }
   ],
   "source": [
    "if (5 == 4):\n",
    "    print(\"Argument 1 is True\")\n",
    "else:\n",
    "    print(\"Argument 1 was False\")"
   ]
  },
  {
   "cell_type": "markdown",
   "metadata": {},
   "source": [
    "### If - Elif Statement Overview\n",
    "\n",
    "```python\n",
    "if (True):\n",
    "    # ###\n",
    "    # If argument above is True, this code evaluates\n",
    "    # ###\n",
    "elif (True):\n",
    "    # ###\n",
    "    # If first argument is not True, and second argument True, this code evaluates\n",
    "    # ###\n",
    "else:\n",
    "    # ###\n",
    "    # If all arguments above False, this code block evaluates\n",
    "    # ###\n",
    "```"
   ]
  },
  {
   "cell_type": "code",
   "execution_count": 5,
   "metadata": {},
   "outputs": [
    {
     "name": "stdout",
     "output_type": "stream",
     "text": [
      "Argument 2 is True\n"
     ]
    }
   ],
   "source": [
    "if (5 == 4):\n",
    "    print(\"Argument 1 is True\")\n",
    "elif (5 == 5):\n",
    "    print(\"Argument 2 is True\")\n",
    "else:\n",
    "    print(\"Neither 1 or 2 were True\")"
   ]
  },
  {
   "cell_type": "markdown",
   "metadata": {},
   "source": [
    "### Try - Except Statement Overview\n",
    "\n",
    "Remember to be specific with the error you want to raise! You don't want to suppress error messages for anything that goes wrong in your program!\n",
    "\n",
    "```python\n",
    "try:\n",
    "    # ###\n",
    "    # Try to run this code\n",
    "    # ###\n",
    "except Error:\n",
    "    # ###\n",
    "    # How an error is handled if raised\n",
    "    # ###\n",
    "```"
   ]
  },
  {
   "cell_type": "code",
   "execution_count": 7,
   "metadata": {},
   "outputs": [
    {
     "name": "stdout",
     "output_type": "stream",
     "text": [
      "ZeroDivisionError Occured\n",
      "None\n"
     ]
    }
   ],
   "source": [
    "try:\n",
    "    x = 1/0\n",
    "except ZeroDivisionError:\n",
    "    print(\"ZeroDivisionError Occured\")\n",
    "    x = None\n",
    "\n",
    "print(x)"
   ]
  },
  {
   "cell_type": "markdown",
   "metadata": {},
   "source": [
    "## Part 2: Control Flow in Functions"
   ]
  },
  {
   "cell_type": "markdown",
   "metadata": {},
   "source": [
    "### Example of Branching Functions"
   ]
  },
  {
   "cell_type": "code",
   "execution_count": 11,
   "metadata": {},
   "outputs": [
    {
     "name": "stdout",
     "output_type": "stream",
     "text": [
      "Input is Odd\n"
     ]
    }
   ],
   "source": [
    "def even_odd(i):\n",
    "    if (i % 2 == 0):\n",
    "        print(\"Input is Even\")\n",
    "    elif (i % 2 == 1):\n",
    "        print(\"Input is Odd\")\n",
    "\n",
    "\n",
    "x = 15\n",
    "\n",
    "even_odd(x)"
   ]
  },
  {
   "cell_type": "markdown",
   "metadata": {},
   "source": [
    "## There is a lot more to control flow and functions!\n",
    "\n",
    "But now your programs can be much more powerful!"
   ]
  },
  {
   "cell_type": "code",
   "execution_count": null,
   "metadata": {},
   "outputs": [],
   "source": []
  }
 ],
 "metadata": {
  "kernelspec": {
   "display_name": "Python 3 (Spyder)",
   "language": "python3",
   "name": "python3"
  },
  "language_info": {
   "codemirror_mode": {
    "name": "ipython",
    "version": 3
   },
   "file_extension": ".py",
   "mimetype": "text/x-python",
   "name": "python",
   "nbconvert_exporter": "python",
   "pygments_lexer": "ipython3",
   "version": "3.8.3"
  }
 },
 "nbformat": 4,
 "nbformat_minor": 4
}
