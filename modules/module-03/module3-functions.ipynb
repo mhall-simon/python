{
 "cells": [
  {
   "cell_type": "markdown",
   "metadata": {},
   "source": [
    "# Module 3.1 Functions, Summarized\n",
    "\n",
    "Created By: Matthew Hall from http://learningdata.io\n",
    "\n",
    "Each code block is designed to be an independent program for ease of use!\n",
    "\n",
    "---\n",
    "\n",
    "***Disclaimer***\n",
    "\n",
    "> Copyright (c) 2020 Matthew Hall\n",
    "\n",
    "> Permission is hereby granted, free of charge, to any person obtaining a copy of this software and associated documentation files (the \"Software\"), to deal in the Software without restriction, including without limitation the rights to use, copy, modify, merge, publish, distribute, sublicense, and/or sell copies of the Software, and to permit persons to whom the Software is furnished to do so, subject to the following conditions:\n",
    "\n",
    "> The above copyright notice and this permission notice shall be included in all copies or substantial portions of the Software.\n",
    "\n",
    "> THE SOFTWARE IS PROVIDED \"AS IS\", WITHOUT WARRANTY OF ANY KIND, EXPRESS OR IMPLIED, INCLUDING BUT NOT LIMITED TO THE WARRANTIES OF MERCHANTABILITY, FITNESS FOR A PARTICULAR PURPOSE AND NONINFRINGEMENT. IN NO EVENT SHALL THE AUTHORS OR COPYRIGHT HOLDERS BE LIABLE FOR ANY CLAIM, DAMAGES OR OTHER LIABILITY, WHETHER IN AN ACTION OF CONTRACT, TORT OR OTHERWISE, ARISING FROM, OUT OF OR IN CONNECTION WITH THE SOFTWARE OR THE USE OR OTHER DEALINGS IN THE SOFTWARE."
   ]
  },
  {
   "cell_type": "markdown",
   "metadata": {},
   "source": [
    "## Part 1: Functions Explained\n",
    "\n",
    "Functions are a key part of programming! They allow us to reuse code without rewriting it!!!\n",
    "\n",
    "### Declaring Functions\n",
    "\n",
    "**Here's a generic function, this one takes an input value and raises it to the power of itself.**\n",
    "\n",
    "```python\n",
    "def my_function(input):\n",
    "    result = input ** input\n",
    "    return result\n",
    "```\n",
    "\n",
    "Let's break down the syntax part by part:\n",
    "\n",
    "`def` declares to Python that a function declaration follows\n",
    "\n",
    "`my_function():` is the name of the function with the standard syntax of `():` following\n",
    "\n",
    "`input` and any other names are placeholders for arguments / inputs for our function!\n",
    "\n",
    "`result = input ** input` is the logic inside the program. `result` is a local variable, it is NOT accessible outside the function.\n",
    "\n",
    "`return` tells Python that we want to return a value when executing. This needs to be captured in the main program. *(Returning a value is optional when building a function)*\n",
    "\n",
    "`return result` tells Python we're returning the value stored in the local variable `result`\n",
    "\n",
    "### Calling Functions & Storing Result\n",
    "\n",
    "In Python, we call functions with the syntax `function()`, and include any required inputs in `()`\n",
    "\n",
    "Since our function returns a value, we're going to store it in the variable `res`\n",
    "\n",
    "```python\n",
    "res = my_function(10)\n",
    "```"
   ]
  },
  {
   "cell_type": "markdown",
   "metadata": {},
   "source": [
    "### Our First Function in Action\n",
    "\n",
    "Here's our first function in action! Try changing the value being inputted to see it in action."
   ]
  },
  {
   "cell_type": "code",
   "execution_count": 4,
   "metadata": {},
   "outputs": [
    {
     "name": "stdout",
     "output_type": "stream",
     "text": [
      "16777216\n"
     ]
    }
   ],
   "source": [
    "def my_function(input):\n",
    "    result = input ** input\n",
    "    return result\n",
    "\n",
    "\n",
    "res = my_function(8)\n",
    "print(res)"
   ]
  },
  {
   "cell_type": "markdown",
   "metadata": {},
   "source": [
    "### Calculating & Storing Multiple Values with the Function\n",
    "\n",
    "We can set the value of multiple variables in one line!"
   ]
  },
  {
   "cell_type": "code",
   "execution_count": 5,
   "metadata": {},
   "outputs": [
    {
     "name": "stdout",
     "output_type": "stream",
     "text": [
      "27 3125 823543\n"
     ]
    }
   ],
   "source": [
    "def my_function(input):\n",
    "    result = input ** input\n",
    "    return result\n",
    "\n",
    "\n",
    "res1, res2, res3 = my_function(3), my_function(5), my_function(7)\n",
    "\n",
    "print(res1, res2, res3)"
   ]
  },
  {
   "cell_type": "markdown",
   "metadata": {},
   "source": [
    "## Part 2: Examples of Functions\n",
    "\n",
    "Remember to keep the names of functions helpful!\n",
    "\n",
    "### Calculate Percent Change"
   ]
  },
  {
   "cell_type": "code",
   "execution_count": 7,
   "metadata": {},
   "outputs": [
    {
     "name": "stdout",
     "output_type": "stream",
     "text": [
      "0.2 -0.1\n"
     ]
    }
   ],
   "source": [
    "def pct_change(beginning, ending):\n",
    "    return (ending - beginning) / beginning\n",
    "\n",
    "p1 = pct_change(10,12)\n",
    "p2 = pct_change(10, 9)\n",
    "\n",
    "print(p1, p2)"
   ]
  },
  {
   "cell_type": "markdown",
   "metadata": {},
   "source": [
    "### Calculate Simple Interest Accrued\n",
    "\n",
    "Notice how we can also pass variables into a function!\n",
    "\n",
    "`p` is principal\n",
    "\n",
    "`r` is effective interest rate for period, expressed as decimal (2% = .02)"
   ]
  },
  {
   "cell_type": "code",
   "execution_count": 11,
   "metadata": {},
   "outputs": [
    {
     "name": "stdout",
     "output_type": "stream",
     "text": [
      "Saving $500 for one year at a rate of 0.03 earns $15.0 in interest with an ending balance of $515.0\n"
     ]
    }
   ],
   "source": [
    "def simple_interest(p, r):\n",
    "    return p * r\n",
    "\n",
    "\n",
    "principal = 500\n",
    "rate = 0.03\n",
    "\n",
    "interest = simple_interest(principal, rate)\n",
    "\n",
    "ending_balance = principal + interest\n",
    "\n",
    "output = \"Saving ${} for one year at a rate of {} earns ${} in interest with an ending balance of ${}\"\n",
    "\n",
    "print(output.format(principal,rate,interest,ending_balance))"
   ]
  },
  {
   "cell_type": "markdown",
   "metadata": {},
   "source": [
    "## There is a lot more to functions!\n",
    "\n",
    "Almost everything we cover in module 3 will expand what we can do with functions, or implement similar functionality in a shortcut."
   ]
  },
  {
   "cell_type": "code",
   "execution_count": null,
   "metadata": {},
   "outputs": [],
   "source": []
  }
 ],
 "metadata": {
  "kernelspec": {
   "display_name": "Python 3 (Spyder)",
   "language": "python3",
   "name": "python3"
  },
  "language_info": {
   "codemirror_mode": {
    "name": "ipython",
    "version": 3
   },
   "file_extension": ".py",
   "mimetype": "text/x-python",
   "name": "python",
   "nbconvert_exporter": "python",
   "pygments_lexer": "ipython3",
   "version": "3.8.3"
  }
 },
 "nbformat": 4,
 "nbformat_minor": 4
}
