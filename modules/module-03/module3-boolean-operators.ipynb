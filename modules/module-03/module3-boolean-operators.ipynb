{
 "cells": [
  {
   "cell_type": "markdown",
   "metadata": {},
   "source": [
    "# Module 3.2 Boolean Operators, Summarized\n",
    "\n",
    "Created By: Matthew Hall from http://learningdata.io\n",
    "\n",
    "Each code block is designed to be an independent program for ease of use!\n",
    "\n",
    "---\n",
    "\n",
    "***Disclaimer***\n",
    "\n",
    "> Copyright (c) 2020 Matthew Hall\n",
    "\n",
    "> Permission is hereby granted, free of charge, to any person obtaining a copy of this software and associated documentation files (the \"Software\"), to deal in the Software without restriction, including without limitation the rights to use, copy, modify, merge, publish, distribute, sublicense, and/or sell copies of the Software, and to permit persons to whom the Software is furnished to do so, subject to the following conditions:\n",
    "\n",
    "> The above copyright notice and this permission notice shall be included in all copies or substantial portions of the Software.\n",
    "\n",
    "> THE SOFTWARE IS PROVIDED \"AS IS\", WITHOUT WARRANTY OF ANY KIND, EXPRESS OR IMPLIED, INCLUDING BUT NOT LIMITED TO THE WARRANTIES OF MERCHANTABILITY, FITNESS FOR A PARTICULAR PURPOSE AND NONINFRINGEMENT. IN NO EVENT SHALL THE AUTHORS OR COPYRIGHT HOLDERS BE LIABLE FOR ANY CLAIM, DAMAGES OR OTHER LIABILITY, WHETHER IN AN ACTION OF CONTRACT, TORT OR OTHERWISE, ARISING FROM, OUT OF OR IN CONNECTION WITH THE SOFTWARE OR THE USE OR OTHER DEALINGS IN THE SOFTWARE."
   ]
  },
  {
   "cell_type": "markdown",
   "metadata": {},
   "source": [
    "## Part 1: Boolean Operators Overview\n",
    "\n",
    "In Python, boolean operations either evaluate to `True` or `False`.\n",
    "\n",
    "### Standard Boolean Operators\n",
    "\n",
    "We have the standard ones that you'd expect from math:\n",
    "\n",
    "| Operator | Description |\n",
    "| --- | ------ |\n",
    "| `==` | Equal to |\n",
    "| `!=` | Not equal to |\n",
    "| `>` | Greater than |\n",
    "| `>=` | Greater than or equal to |\n",
    "| `<` | Less than |\n",
    "| `<=` | Less than or equal to |\n",
    "\n",
    "### Complex Boolean Operations\n",
    "\n",
    "And there's operators for stringing multiple conditional statements together:\n",
    "\n",
    "| Operator | Description |\n",
    "| --- | --- |\n",
    "| `and` | Evaluates true if and only if both statements evaluate true |\n",
    "| `or` | Evaluates true if at least one statement evaluates true |\n",
    "\n",
    "Conditional table for `and` / `or`. `0` is `False` and `1` is `True`\n",
    "\n",
    "| a | b | `and` | `or` |\n",
    "| --- | --- | --- | --- |\n",
    "| 0 | 0 | 0 | 0 |\n",
    "| 1 | 0 | 0 | 1 |\n",
    "| 0 | 1 | 0 | 1 |\n",
    "| 1 | 1 | 1 | 1 |\n",
    "\n",
    "### Belonging Operators\n",
    "\n",
    "In Python, we can easily check if an item belongs in a list or another structure with the `in` operator:\n",
    "\n",
    "| Operator | Description |\n",
    "| --- | --- |\n",
    "| `in` | Evaluates true if the item is in the data structure |\n",
    "| `not in` | Reverse of the above |"
   ]
  },
  {
   "cell_type": "markdown",
   "metadata": {},
   "source": [
    "## Part 2: Boolean Operator Examples\n",
    "\n",
    "### Standard Operators"
   ]
  },
  {
   "cell_type": "code",
   "execution_count": 2,
   "metadata": {},
   "outputs": [
    {
     "name": "stdout",
     "output_type": "stream",
     "text": [
      "False\n",
      "True\n",
      "False\n",
      "True\n"
     ]
    }
   ],
   "source": [
    "x = 5\n",
    "y = 7\n",
    "\n",
    "print(x > y)\n",
    "print(x < y)\n",
    "\n",
    "print(x == y)\n",
    "print(x != y)"
   ]
  },
  {
   "cell_type": "markdown",
   "metadata": {},
   "source": [
    "### Complex Operations"
   ]
  },
  {
   "cell_type": "code",
   "execution_count": 4,
   "metadata": {},
   "outputs": [
    {
     "name": "stdout",
     "output_type": "stream",
     "text": [
      "False True True\n"
     ]
    }
   ],
   "source": [
    "x = 4\n",
    "y = 9\n",
    "z = 7\n",
    "\n",
    "eval_1 = (x > y) and (z == x)\n",
    "\n",
    "eval_2 = (x == z) or (y > z)\n",
    "\n",
    "eval_3 = (x*3 > y-3) and (x == 4)\n",
    "\n",
    "print(eval_1, eval_2, eval_3)"
   ]
  },
  {
   "cell_type": "markdown",
   "metadata": {},
   "source": [
    "### Belonging Operators"
   ]
  },
  {
   "cell_type": "code",
   "execution_count": 6,
   "metadata": {},
   "outputs": [
    {
     "name": "stdout",
     "output_type": "stream",
     "text": [
      "True\n",
      "False\n"
     ]
    }
   ],
   "source": [
    "a = 3\n",
    "\n",
    "my_list = [1,2,3,4,5]\n",
    "\n",
    "print(a in my_list)\n",
    "print(a not in my_list)"
   ]
  },
  {
   "cell_type": "markdown",
   "metadata": {},
   "source": [
    "### Reversal Operator `not`\n",
    "\n",
    "We can also use the keyword `not` in front of a boolean expression to reverse the result easily.\n",
    "\n",
    "Try to not get confused!"
   ]
  },
  {
   "cell_type": "code",
   "execution_count": 7,
   "metadata": {},
   "outputs": [
    {
     "name": "stdout",
     "output_type": "stream",
     "text": [
      "True\n"
     ]
    }
   ],
   "source": [
    "d = 5\n",
    "e = 8\n",
    "\n",
    "print(not d == e)"
   ]
  },
  {
   "cell_type": "markdown",
   "metadata": {},
   "source": [
    "## There is a lot more to boolean operators!\n",
    "\n",
    "We can combine these with functions in the next module, which starts control flow!"
   ]
  },
  {
   "cell_type": "code",
   "execution_count": null,
   "metadata": {},
   "outputs": [],
   "source": []
  }
 ],
 "metadata": {
  "kernelspec": {
   "display_name": "Python 3 (Spyder)",
   "language": "python3",
   "name": "python3"
  },
  "language_info": {
   "codemirror_mode": {
    "name": "ipython",
    "version": 3
   },
   "file_extension": ".py",
   "mimetype": "text/x-python",
   "name": "python",
   "nbconvert_exporter": "python",
   "pygments_lexer": "ipython3",
   "version": "3.8.3"
  }
 },
 "nbformat": 4,
 "nbformat_minor": 4
}
