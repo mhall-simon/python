{
  "nbformat": 4,
  "nbformat_minor": 0,
  "metadata": {
    "colab": {
      "name": "mod9_top1_ptB_linear_regression_sm_single.ipynb",
      "provenance": [],
      "collapsed_sections": []
    },
    "kernelspec": {
      "name": "python3",
      "display_name": "Python 3"
    },
    "language_info": {
      "name": "python"
    }
  },
  "cells": [
    {
      "cell_type": "markdown",
      "metadata": {
        "id": "hmaqzqXk3NN1"
      },
      "source": [
        "# **Runtime Dependencies: Must Run First!**"
      ]
    },
    {
      "cell_type": "code",
      "metadata": {
        "id": "5TJ_ffrO3IY4"
      },
      "source": [
        "import pandas as pd\n",
        "from pandas.tseries.offsets import MonthEnd\n",
        "from datetime import datetime\n",
        "from matplotlib import pyplot as plt\n",
        "\n",
        "# Statsmodels API - Standard\n",
        "import statsmodels.api as sm\n",
        "\n",
        "# Statsmodels API - Formulaic\n",
        "import statsmodels.formula.api as smf\n",
        "\n",
        "# ### Bonus: Multiple Outputs Per Cell\n",
        "from IPython.core.interactiveshell import InteractiveShell\n",
        "InteractiveShell.ast_node_interactivity = \"all\""
      ],
      "execution_count": null,
      "outputs": []
    },
    {
      "cell_type": "markdown",
      "metadata": {
        "id": "KWqDZaz73Sf4"
      },
      "source": [
        "# **Module 9 - Topic 1: Linear Regression with Statsmodels, Part 2**\n"
      ]
    },
    {
      "cell_type": "markdown",
      "metadata": {
        "id": "o9ryFbwt3VLN"
      },
      "source": [
        "## **Module 9.1.5: Multivariate Linear Regression**"
      ]
    },
    {
      "cell_type": "markdown",
      "metadata": {
        "id": "hwZzkaxz3c4w"
      },
      "source": [
        "In the last notebook, I introduced the CAPM theory and regression with the market to calculate the alpha (y intercept) and beta (slope coefficient) of a stock when plotting excess stock returns vs excess market returns.\n",
        "\n",
        "In this notebook, I'm going to cover running a Fama French 3 Factor regression with extra x's!\n",
        "\n",
        "I'm starting below with importing the data sets from the first notebook:"
      ]
    },
    {
      "cell_type": "code",
      "metadata": {
        "id": "8-fMErvf3UM3"
      },
      "source": [
        "loc = \"https://github.com/mhall-simon/python/blob/main/data/misc/stocks-factors-capm.xlsx?raw=true\"\n",
        "aapl = pd.read_excel(loc, sheet_name=\"AAPL\", index_col=0, parse_dates=True)\n",
        "aapl['Return'] = (aapl.Close - aapl.Close.shift(1)) / aapl.Close.shift(1)\n",
        "aapl.dropna(inplace=True)\n",
        "aapl.index = aapl.index + MonthEnd(1)\n",
        "R = pd.DataFrame(aapl.Return)\n",
        "R = R.rename(columns={\"Return\":\"AAPL\"})\n",
        "amzn = pd.read_excel(loc, sheet_name=\"AMZN\", index_col=0, parse_dates=True)\n",
        "tsla = pd.read_excel(loc, sheet_name=\"TSLA\", index_col=0, parse_dates=True)\n",
        "amzn['Return'] = (amzn.Close - amzn.Close.shift(1)) / amzn.Close.shift(1)\n",
        "tsla['Return'] = (tsla.Close - tsla.Close.shift(1)) / tsla.Close.shift(1)\n",
        "amzn.dropna(inplace=True)\n",
        "tsla.dropna(inplace=True)\n",
        "amzn.index = amzn.index + MonthEnd(1)\n",
        "tsla.index = tsla.index + MonthEnd(1)\n",
        "R = pd.merge(R, tsla.Return, left_index=True, right_index=True)\n",
        "R = pd.merge(R, amzn.Return, left_index=True, right_index=True)\n",
        "R = R.rename(columns={\"Return_x\":\"TSLA\",\"Return_y\":\"AMZN\"})\n",
        "\n",
        "dp = lambda x: datetime.strptime(x, \"%Y%m\")\n",
        "ff = amzn = pd.read_excel(loc, sheet_name=\"MktRf\", index_col=0, parse_dates=True, date_parser=dp, header=3)\n",
        "ff.index = ff.index + MonthEnd(1)\n",
        "\n",
        "R = pd.merge(R, ff, left_index=True, right_index=True)\n",
        "\n",
        "R.AAPL = R.AAPL - R.RF/12\n",
        "R.TSLA = R.TSLA - R.RF/12\n",
        "R.AMZN = R.AMZN - R.RF/12\n",
        "\n",
        "R = R.rename(columns={'Mkt-RF':'MRP'})\n",
        "\n",
        "R.head()"
      ],
      "execution_count": null,
      "outputs": []
    },
    {
      "cell_type": "markdown",
      "metadata": {
        "id": "yA1rKv6_6yTE"
      },
      "source": [
        "When we run a multivariate linear regression, we will get a result that looks like this:\n",
        "\n",
        "$$y =m_1x_1 + m_2x_2 + ... + m_nx_n$$\n",
        "\n",
        "And here's how we can easily run the regression using statsmodels:"
      ]
    },
    {
      "cell_type": "code",
      "metadata": {
        "id": "xUxeAB1-5pnW"
      },
      "source": [
        "Y = R.AAPL\n",
        "\n",
        "X = R[['MRP','SMB','HML']]\n",
        "X = sm.add_constant(X)\n",
        "\n",
        "model = sm.OLS(Y,X)\n",
        "res = model.fit()\n",
        "\n",
        "print(res.summary())"
      ],
      "execution_count": null,
      "outputs": []
    },
    {
      "cell_type": "markdown",
      "metadata": {
        "id": "sTfBL-eD8rxz"
      },
      "source": [
        "Very easy!\n",
        "\n",
        "By including these additional factors, our R squared value increased from 0.365 to 0.495!\n",
        "\n",
        "Another interesting factor to keep in mind is that the y intercept dropped from -0.0792 to 0.0040, becoming much closer to zero! In the 5 years of observable data, by including the additional factors, there is very little alpha for Apple!\n",
        "\n",
        "*Tip: If you don't understand the coefficient of determination, Google search it to learn more about OLS and linear regression!*"
      ]
    },
    {
      "cell_type": "markdown",
      "metadata": {
        "id": "Jqwo2chY9z2V"
      },
      "source": [
        "## **Module 9.1.6: Multivariate Linear Regression, Formulaic Method**"
      ]
    },
    {
      "cell_type": "markdown",
      "metadata": {
        "id": "ZbzDU7Ll97ry"
      },
      "source": [
        "We can also use the formulaic API for statsmodels!\n",
        "\n",
        "This is exactly the same regression, the only difference being syntax!"
      ]
    },
    {
      "cell_type": "code",
      "metadata": {
        "id": "26JRh6B68AzC"
      },
      "source": [
        "resf = smf.ols(formula='AMZN ~ MRP + SMB + HML', data=R).fit()\n",
        "\n",
        "print(resf.summary())"
      ],
      "execution_count": null,
      "outputs": []
    },
    {
      "cell_type": "markdown",
      "metadata": {
        "id": "fux89RfF-e4T"
      },
      "source": [
        "## **Statsmodels Linear Regression Summarized**"
      ]
    },
    {
      "cell_type": "markdown",
      "metadata": {
        "id": "xK1QVu3G-mhq"
      },
      "source": [
        "Using statsmodels, if our data is in a DataFrame, it's really easy to run a lienar regression!\n",
        "\n",
        "Using the standard API it looks like this:\n",
        "\n",
        "```python\n",
        "Y = ___ # The Response Variable\n",
        "\n",
        "X = ___ # Predictor(s) Variable\n",
        "X = sm.add_constant(X)\n",
        "\n",
        "model = sm.OLS(Y,X)\n",
        "res = model.fit()\n",
        "\n",
        "print(res.summary())\n",
        "```\n",
        "\n",
        "Or we can use the formulaic method:\n",
        "\n",
        "```python\n",
        "resf = smf.ols(formula='response ~ predictors', data=df).fit()\n",
        "\n",
        "print(resf.summary())\n",
        "```\n",
        "\n",
        "And we can pull out our coefficients via the following:\n",
        "\n",
        "```python\n",
        "res.params['name']\n",
        "```"
      ]
    },
    {
      "cell_type": "code",
      "metadata": {
        "id": "2SDFSfuQ-XcK"
      },
      "source": [
        ""
      ],
      "execution_count": null,
      "outputs": []
    }
  ]
}