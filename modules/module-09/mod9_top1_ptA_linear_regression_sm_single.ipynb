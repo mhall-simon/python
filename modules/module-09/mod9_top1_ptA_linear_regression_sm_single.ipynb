{
  "nbformat": 4,
  "nbformat_minor": 0,
  "metadata": {
    "colab": {
      "name": "mod9_top1_ptA_linear_regression_sm_single.ipynb",
      "provenance": [],
      "collapsed_sections": []
    },
    "kernelspec": {
      "name": "python3",
      "display_name": "Python 3"
    }
  },
  "cells": [
    {
      "cell_type": "markdown",
      "metadata": {
        "id": "pY6HMAZYsFwj"
      },
      "source": [
        "# **Runtime Dependencies: Must Run First!**\n",
        "\n"
      ]
    },
    {
      "cell_type": "code",
      "metadata": {
        "id": "mRDOsFXCsAH3"
      },
      "source": [
        "import pandas as pd\n",
        "from matplotlib import pyplot as plt\n",
        "\n",
        "# Statsmodels API - Standard\n",
        "import statsmodels.api as sm\n",
        "\n",
        "# Statsmodels API - Formulaic\n",
        "import statsmodels.formula.api as smf\n",
        "\n",
        "# ### Bonus: Multiple Outputs Per Cell\n",
        "from IPython.core.interactiveshell import InteractiveShell\n",
        "InteractiveShell.ast_node_interactivity = \"all\""
      ],
      "execution_count": null,
      "outputs": []
    },
    {
      "cell_type": "markdown",
      "metadata": {
        "id": "h8XY94rruHpn"
      },
      "source": [
        "# **Module 9 - Topic 1: Linear Regression with Statsmodels**\n"
      ]
    },
    {
      "cell_type": "markdown",
      "metadata": {
        "id": "XajRFHUotNGj"
      },
      "source": [
        "\n",
        "This notebook serves as an introduction to the Statsmodels API package for running a linear regression in Python.\n",
        "\n",
        "This won't go too in depth into the statistical background of linear regression using Ordinary Least Squares (OLS) and covers more of the syntax in Python.\n",
        "\n",
        "You should also know how to import datasets into Python with Pandas for this tutorial.\n",
        "\n",
        "Modules 9.1 and 9.2 review preprocessing financial data and a little bit of CAPM. If you're just interested in the linear regression syntax, jump to Module 9.3!"
      ]
    },
    {
      "cell_type": "markdown",
      "metadata": {
        "id": "c1xhJNiAt8q6"
      },
      "source": [
        "## **Module 9.1.1: CAPM Regression (Single Variable Linear Regression)**"
      ]
    },
    {
      "cell_type": "markdown",
      "metadata": {
        "id": "P5rTHzA9uPpQ"
      },
      "source": [
        "In finance, the Capital Asset Pricing Model (CAPM) describes the relationship between returns on assets (usually stocks) and the underlying market risk.\n",
        "\n",
        "The equation relating the returns is as follows:\n",
        "\n",
        "$$E[R_i] = R_f + \\beta_i(E[R_m] - R_f)$$\n",
        "\n",
        "Where...\n",
        "\n",
        "- $E[R_i]$ is the expected return on the asset\n",
        "- $E[R_m]$ is the expected return on the market\n",
        "- $R_f$ is the riskfree rate\n",
        "- $\\beta$ is the linear coefficient relating excess asset & market returns\n",
        "\n",
        "\n",
        "*And as a note, according to the CAPM theory, $\\alpha$ should be zero! However, we'll probably see that this is not true for all assets.*\n",
        "\n",
        "In this notebook, we're going to walk through the process of calculating the alpha and beta for some stocks!\n",
        "\n",
        "Want to know more? Here's an article: https://www.investopedia.com/terms/c/capm.asp"
      ]
    },
    {
      "cell_type": "markdown",
      "metadata": {
        "id": "SON5XS1sw9R4"
      },
      "source": [
        "## **Module 9.1.2: Setting Up Regression**"
      ]
    },
    {
      "cell_type": "markdown",
      "metadata": {
        "id": "UVx8sJO8xBO9"
      },
      "source": [
        "To run this regression, we just need to setup our independent and dependent variables into a dataframe!\n",
        "\n",
        "For our CAPM regression, the dependent variable, expected excess return on an asset $E[R_i] - R_f$, is going to be the Y input for our observed data.\n",
        "\n",
        "For our X, the independent variable, we're going to have the expected excess return on the market, $E[R_m] - R_f$.\n",
        "\n",
        "When we run this OLS regression, we'll have the $\\alpha$ and $\\beta$ for our equity!\n",
        "\n",
        "Let's import our data and work through it! We're going to start with Apple!\n",
        "\n",
        "(Stock return info from Yahoo finance!)"
      ]
    },
    {
      "cell_type": "code",
      "metadata": {
        "id": "euIg6HNdtzPr"
      },
      "source": [
        "loc = \"https://github.com/mhall-simon/python/blob/main/data/misc/stocks-factors-capm.xlsx?raw=true\"\n",
        "\n",
        "aapl = pd.read_excel(loc, sheet_name=\"AAPL\", index_col=0, parse_dates=True)\n",
        "aapl.head()"
      ],
      "execution_count": null,
      "outputs": []
    },
    {
      "cell_type": "markdown",
      "metadata": {
        "id": "cyRRc4FS3b8h"
      },
      "source": [
        "To calculate returns, we're going to assume that someone purchased the stock at the end of the previous period, and sells it at the end of the current period.\n",
        "\n",
        "This means that the only important column is Close!"
      ]
    },
    {
      "cell_type": "code",
      "metadata": {
        "id": "HxG07ehv3Ykj"
      },
      "source": [
        "aapl['Return'] = (aapl.Close - aapl.Close.shift(1)) / aapl.Close.shift(1)\n",
        "aapl.head()"
      ],
      "execution_count": null,
      "outputs": []
    },
    {
      "cell_type": "markdown",
      "metadata": {
        "id": "pz9Ylzw64G19"
      },
      "source": [
        "Nice!\n",
        "\n",
        "Now, we don't have the return info for the first period because we can't reference an unknown time period!\n",
        "\n",
        "Let's drop the NaN value!"
      ]
    },
    {
      "cell_type": "code",
      "metadata": {
        "id": "Sz1Ka2uM39kE"
      },
      "source": [
        "aapl.dropna(inplace=True)\n",
        "aapl.head()"
      ],
      "execution_count": null,
      "outputs": []
    },
    {
      "cell_type": "markdown",
      "metadata": {
        "id": "njHxtyR74d4F"
      },
      "source": [
        "Bonus Box: Since we're realizing the return at the end of the month, we should use an offset to make sure everything lines up! This isn't necessary for the regression, but is a quick and cool feature!"
      ]
    },
    {
      "cell_type": "code",
      "metadata": {
        "id": "NR7Qf4it4XsX"
      },
      "source": [
        "from pandas.tseries.offsets import MonthEnd\n",
        "aapl.index = aapl.index + MonthEnd(1)\n",
        "aapl.head()"
      ],
      "execution_count": null,
      "outputs": []
    },
    {
      "cell_type": "markdown",
      "metadata": {
        "id": "nC1oXWf46qT8"
      },
      "source": [
        "Now, let's isolate just the Return information for each stock and set them nicely into a DataFrame together!"
      ]
    },
    {
      "cell_type": "code",
      "metadata": {
        "id": "Dq_6IDco6To8"
      },
      "source": [
        "R = pd.DataFrame(aapl.Return)\n",
        "\n",
        "# Rename column for Apple\n",
        "R = R.rename(columns={\"Return\":\"AAPL\"})\n",
        "R.head()"
      ],
      "execution_count": null,
      "outputs": []
    },
    {
      "cell_type": "markdown",
      "metadata": {
        "id": "rcRCNX-J9BXW"
      },
      "source": [
        "Now let's do this again and add Amazon and Tesla!"
      ]
    },
    {
      "cell_type": "code",
      "metadata": {
        "id": "MgmqpuaB67Za"
      },
      "source": [
        "# Import Sheets\n",
        "amzn = pd.read_excel(loc, sheet_name=\"AMZN\", index_col=0, parse_dates=True)\n",
        "tsla = pd.read_excel(loc, sheet_name=\"TSLA\", index_col=0, parse_dates=True)\n",
        "\n",
        "# Calculate Returns\n",
        "amzn['Return'] = (amzn.Close - amzn.Close.shift(1)) / amzn.Close.shift(1)\n",
        "tsla['Return'] = (tsla.Close - tsla.Close.shift(1)) / tsla.Close.shift(1)\n",
        "\n",
        "# Drop Nulls\n",
        "amzn.dropna(inplace=True)\n",
        "tsla.dropna(inplace=True)\n",
        "\n",
        "# Month-End Offset\n",
        "amzn.index = amzn.index + MonthEnd(1)\n",
        "tsla.index = tsla.index + MonthEnd(1)\n",
        "\n",
        "# Merge Everything Together!\n",
        "R = pd.merge(R, tsla.Return, left_index=True, right_index=True)\n",
        "R = pd.merge(R, amzn.Return, left_index=True, right_index=True)\n",
        "\n",
        "# Rename Columns\n",
        "R = R.rename(columns={\"Return_x\":\"TSLA\",\"Return_y\":\"AMZN\"})\n",
        "\n",
        "R.head()"
      ],
      "execution_count": null,
      "outputs": []
    },
    {
      "cell_type": "markdown",
      "metadata": {
        "id": "uvBbBsD8-l4m"
      },
      "source": [
        "Now, we just need to make these right for the CAPM regression by making them excess returns! To do this we need the risk free rate information.\n",
        "\n",
        "Below is how we can import the data from the Kenneth French library:\n"
      ]
    },
    {
      "cell_type": "code",
      "metadata": {
        "id": "T1cXLvnc-Ofi"
      },
      "source": [
        "from datetime import datetime\n",
        "dp = lambda x: datetime.strptime(x, \"%Y%m\")\n",
        "\n",
        "ff = amzn = pd.read_excel(loc, sheet_name=\"MktRf\", index_col=0, parse_dates=True, date_parser=dp, header=3)\n",
        "ff.head()"
      ],
      "execution_count": null,
      "outputs": []
    },
    {
      "cell_type": "markdown",
      "metadata": {
        "id": "qqq3R1DGAOGt"
      },
      "source": [
        "Now we just need to run our offset again so it all matches! (This doesn't change our calculation, just makes merging work perfectly, every time!)"
      ]
    },
    {
      "cell_type": "code",
      "metadata": {
        "id": "hRIOOo_M_BPo"
      },
      "source": [
        "ff.index = ff.index + MonthEnd(1)\n",
        "ff.head()"
      ],
      "execution_count": null,
      "outputs": []
    },
    {
      "cell_type": "markdown",
      "metadata": {
        "id": "hhaGfhXDAn9G"
      },
      "source": [
        "Let's merge this all together into a single DataFrame!\n",
        "\n",
        "By default, we only get matches with the inner merge!"
      ]
    },
    {
      "cell_type": "code",
      "metadata": {
        "id": "kTjEZl8QAd1V"
      },
      "source": [
        "R = pd.merge(R, ff.RF, left_index=True, right_index=True)\n",
        "R.head()"
      ],
      "execution_count": null,
      "outputs": []
    },
    {
      "cell_type": "markdown",
      "metadata": {
        "id": "J76X58BQA_a1"
      },
      "source": [
        "Now, we can easily use broadcasting to subtract out the RF Rate!"
      ]
    },
    {
      "cell_type": "code",
      "metadata": {
        "id": "HrvLOHl8DHUi"
      },
      "source": [
        "R.AAPL = R.AAPL - R.RF\n",
        "R.TSLA = R.TSLA - R.RF\n",
        "R.AMZN = R.AMZN - R.RF\n",
        "\n",
        "R.head()"
      ],
      "execution_count": null,
      "outputs": []
    },
    {
      "cell_type": "markdown",
      "metadata": {
        "id": "DpzeKr7QDf0n"
      },
      "source": [
        "Now we can just isolate our stock data!"
      ]
    },
    {
      "cell_type": "code",
      "metadata": {
        "id": "6mAWm954DXSW"
      },
      "source": [
        "Re = R.iloc[:,0:3]\n",
        "Re.head()"
      ],
      "execution_count": null,
      "outputs": []
    },
    {
      "cell_type": "markdown",
      "metadata": {
        "id": "X1IHutFdDpWM"
      },
      "source": [
        "To finish setting up, we just need our excess return on the market! Which is provided to us in the FF dataset!\n",
        "\n",
        "We need to divide this number by 100 to keep everything consistent too!"
      ]
    },
    {
      "cell_type": "code",
      "metadata": {
        "id": "qNwKxvDpDmlQ"
      },
      "source": [
        "Re = Re.merge(ff['Mkt-RF'], left_index=True, right_index=True)\n",
        "Re['Mkt-RF'] = Re['Mkt-RF'] / 100\n",
        "Re.head()"
      ],
      "execution_count": null,
      "outputs": []
    },
    {
      "cell_type": "markdown",
      "metadata": {
        "id": "hUPAvE9gD7ya"
      },
      "source": [
        "Now, we have all of the data needed to run our regression setup and ready to go!"
      ]
    },
    {
      "cell_type": "markdown",
      "metadata": {
        "id": "-YCbIEFfEHxv"
      },
      "source": [
        "## **Module 9.1.3: Linear Regression Default Method**\n",
        "\n",
        "Using statsmodels, it's really easy to get our linear regression running!\n",
        "\n",
        "Let's do it for Tesla first!\n",
        "\n",
        "Why do we need to add a constant to our independent variable? They way the package was setup, without this constant, you'll only get the slope coefficient returned! So we add an extra constant to get both the y-intercept and slope!"
      ]
    },
    {
      "cell_type": "code",
      "metadata": {
        "id": "jX1tQ-24D_wq"
      },
      "source": [
        "Y = Re.TSLA\n",
        "\n",
        "X = Re['Mkt-RF']\n",
        "X = sm.add_constant(X)\n",
        "\n",
        "model = sm.OLS(Y,X)\n",
        "res = model.fit()\n",
        "\n",
        "print(res.summary())"
      ],
      "execution_count": null,
      "outputs": []
    },
    {
      "cell_type": "markdown",
      "metadata": {
        "id": "sxWaPfTUHzGN"
      },
      "source": [
        "Based upon our results, we can see that Tesla has a beta of 2.38 and an alpha (residual) of -0.0583!\n",
        "\n",
        "Note: Keep in mind that the index you use for both the RF rate and Market returns will change your calculations!"
      ]
    },
    {
      "cell_type": "code",
      "metadata": {
        "id": "tXXgKYb3IujC"
      },
      "source": [
        "alpha = res.params['const']\n",
        "beta = res.params['Mkt-RF']\n",
        "\n",
        "alpha, beta"
      ],
      "execution_count": null,
      "outputs": []
    },
    {
      "cell_type": "markdown",
      "metadata": {
        "id": "ZYghVu5VItvF"
      },
      "source": [
        "Now, let's visualize this really quickly!"
      ]
    },
    {
      "cell_type": "code",
      "metadata": {
        "id": "7-cdO9EpFNhV"
      },
      "source": [
        "plt.scatter(Re['Mkt-RF'],Re['TSLA'])\n",
        "plt.plot(Re['Mkt-RF'], Re['Mkt-RF']*beta + alpha)\n",
        "\n",
        "plt.title(\"CAPM Regression Results\")\n",
        "plt.ylabel(\"Excess Returns on Asset\")\n",
        "plt.xlabel(\"Excess Returns on Market\")\n",
        "\n",
        "plt.show();"
      ],
      "execution_count": null,
      "outputs": []
    },
    {
      "cell_type": "markdown",
      "metadata": {
        "id": "TsVPtDcaKEu0"
      },
      "source": [
        "## **Module 9.1.4: Linear Regression Formulaic Method**"
      ]
    },
    {
      "cell_type": "markdown",
      "metadata": {
        "id": "uVNdy2QMKKva"
      },
      "source": [
        "In statsmodels, you can also use the formulaic method for running a regression!\n",
        "\n",
        "This yields the exact same results. We just need to rename a column.\n",
        "\n",
        "I feel that this method is easier when we get into multi variable linear regression!\n",
        "\n",
        "We're going to use this to get the alpha and beta for Apple!"
      ]
    },
    {
      "cell_type": "code",
      "metadata": {
        "id": "JR2dmEdLIjQu"
      },
      "source": [
        "data = Re.rename(columns={'Mkt-RF':'MktEx'})\n",
        "\n",
        "resf = smf.ols(formula='AAPL ~ MktEx', data=data).fit()\n",
        "print(resf.summary())"
      ],
      "execution_count": null,
      "outputs": []
    },
    {
      "cell_type": "code",
      "metadata": {
        "id": "bObtfVXzKqrb"
      },
      "source": [
        ""
      ],
      "execution_count": null,
      "outputs": []
    }
  ]
}